{
 "cells": [
  {
   "cell_type": "markdown",
   "id": "5670480f",
   "metadata": {},
   "source": [
    "# Basics of Python (Hands-on Practice)\n",
    "## How to use Jupyter NoteBook (benefits: vast range of installed libraries)\n",
    "### **01. My first program**"
   ]
  },
  {
   "cell_type": "code",
   "execution_count": 1,
   "id": "b175a471",
   "metadata": {},
   "outputs": [
    {
     "name": "stdout",
     "output_type": "stream",
     "text": [
      "5\n",
      "Hello World\n",
      "Learning Pythom with Ammar\n"
     ]
    }
   ],
   "source": [
    "print(2+3)\n",
    "print('Hello World')\n",
    "print('Learning Pythom with Ammar')"
   ]
  },
  {
   "cell_type": "markdown",
   "id": "9756d278",
   "metadata": {},
   "source": [
    "### **02. Operators**"
   ]
  },
  {
   "cell_type": "code",
   "execution_count": 2,
   "id": "7880f9e2",
   "metadata": {},
   "outputs": [
    {
     "name": "stdout",
     "output_type": "stream",
     "text": [
      "10\n",
      "4\n",
      "2.0\n",
      "2\n",
      "28\n",
      "1\n",
      "64\n",
      "14.666666666666664\n"
     ]
    }
   ],
   "source": [
    "print(5+5)\n",
    "print(9-5)\n",
    "print(8/4) # gives you float type result\n",
    "print(8//4) # gives you a whole number\n",
    "print(4*7)\n",
    "print(9%2)\n",
    "print(8**2) #  raise a number by given , it is a complex operation and there are methods to do it. \n",
    "\n",
    "print(9+2**4/6*4-5)\n"
   ]
  },
  {
   "cell_type": "markdown",
   "id": "2dd9200c",
   "metadata": {},
   "source": [
    "*PEMDAS Parenthesis Exponents Multiply Divide Addition Substraction*\n",
    "\n",
    "*Left to Right sequence for M D A S*"
   ]
  },
  {
   "cell_type": "markdown",
   "id": "78d8bba5",
   "metadata": {},
   "source": [
    "### **03. Strings**"
   ]
  },
  {
   "cell_type": "code",
   "execution_count": 3,
   "id": "8ed847dd",
   "metadata": {},
   "outputs": [
    {
     "name": "stdout",
     "output_type": "stream",
     "text": [
      "Hello World\n",
      "Learning Pythom with Ammar\n",
      "single quote\n",
      "double quote\n",
      "tripple quote\n",
      "What's quote\n",
      "What's quote\n"
     ]
    }
   ],
   "source": [
    "print('Hello World')\n",
    "print('Learning Pythom with Ammar')\n",
    "print('single quote')\n",
    "print(\"double quote\")\n",
    "print('''tripple quote''')\n",
    "\n",
    "# print('What's quote') #gives error\n",
    "print(\"What's quote\")\n",
    "print('''What's quote''')"
   ]
  },
  {
   "cell_type": "markdown",
   "id": "d2933bb2",
   "metadata": {},
   "source": [
    "### **04. Comments**"
   ]
  },
  {
   "cell_type": "markdown",
   "id": "9bf9fe79",
   "metadata": {},
   "source": [
    "*Press Ctrl+K+C to comment and Ctrl+K+U to uncomment, since in my PC Ctrl+/ doesn't work might be because of spanish keyboard, operating system keyboard shortcut is overriding the vscode shortcut*\n",
    "\n",
    "*Resolved: Ctrl+Numpad/ it was due to the spanish keyboard layout*\n"
   ]
  },
  {
   "cell_type": "markdown",
   "id": "7558165d",
   "metadata": {},
   "source": [
    "### **05. Variables**\n",
    "*Variables: objects containing specific values*"
   ]
  },
  {
   "cell_type": "code",
   "execution_count": 4,
   "id": "1ae85a91",
   "metadata": {},
   "outputs": [
    {
     "name": "stdout",
     "output_type": "stream",
     "text": [
      "5\n",
      "learning python with Ammar\n",
      "8\n",
      "<class 'int'> <class 'str'>\n",
      "Mangoes <class 'str'>\n"
     ]
    }
   ],
   "source": [
    "x= 5 #numeric or integer variable\n",
    "print(x)\n",
    "\n",
    "y=\"learning python with Ammar\" #string variables\n",
    "print(y)\n",
    "\n",
    "x=x+3\n",
    "print(x)\n",
    "\n",
    "# class/types of variables\n",
    "print(type(x), type(y))\n",
    "\n",
    "\n",
    "fruit_baskets=\"Mangoes\"\n",
    "# del fruit_baskets # delete variable\n",
    "print(fruit_baskets,type(fruit_baskets))\n"
   ]
  },
  {
   "cell_type": "markdown",
   "id": "d677caf8",
   "metadata": {},
   "source": [
    "*Rules to assign a variable*\n",
    "\n",
    "*1. The variable should contain letters, numbers or underscores*\n",
    "\n",
    "*2. Do not start with numbers*\n",
    "\n",
    "*3. Spaces are not allowed*\n",
    "\n",
    "*4. Do not use keywords used in functions (break, mean, media, test etc.)*\n",
    "\n",
    "*5. Short and descriptive*\n",
    "\n",
    "*6. Case sensitivity (Lowercaose, Uppercase letters lower case letters should be used)*\n"
   ]
  },
  {
   "cell_type": "markdown",
   "id": "6498c63e",
   "metadata": {},
   "source": [
    "### **06. Input variables**"
   ]
  },
  {
   "cell_type": "code",
   "execution_count": 5,
   "id": "69367425",
   "metadata": {},
   "outputs": [
    {
     "name": "stdout",
     "output_type": "stream",
     "text": [
      "Mangoes\n",
      "What is your favourite fruit? apple\n",
      "apple\n",
      "What is your name?kom\n",
      "Hello! kom\n",
      "What is your name?kom\n",
      "Hello! kom\n",
      "What is your name?kom\n",
      "What is your age?9\n",
      "What is your height?9\n",
      "Hello! kom You are still young!\n"
     ]
    }
   ],
   "source": [
    "fruit_basket=\"Mangoes\"\n",
    "print(fruit_basket)\n",
    "\n",
    "# input function \n",
    "# Ask the user to enter values\n",
    "fruit_basket=input(\"What is your favourite fruit? \")\n",
    "print(fruit_basket)\n",
    "\n",
    "# input function of 2nd stage \n",
    "name= input(\"What is your name?\")\n",
    "greetings= \"Hello!\"\n",
    "print(greetings, name)\n",
    "\n",
    "# Another way\n",
    "name= input(\"What is your name?\")\n",
    "print(\"Hello!\", name)\n",
    "\n",
    "#input function of 3rd stage\n",
    "name= input(\"What is your name?\")\n",
    "age= input(\"What is your age?\")\n",
    "height=input(\"What is your height?\")\n",
    "greetings= \"Hello!\"\n",
    "print(greetings, name, \"You are still young!\") # just by mentioning one input function all rest of inpput functions run automatically"
   ]
  },
  {
   "cell_type": "markdown",
   "id": "cbf7c837",
   "metadata": {},
   "source": [
    "### **07. Conditional logics**\n",
    "*equal to                     ==*\n",
    " \n",
    "*not equal to                 !=*\n",
    " \n",
    "*greater than                 >*\n",
    " \n",
    "*less than                    <*\n",
    " \n",
    "*less than and equal to       <=*\n",
    " \n",
    "*greater than and equal to    >=*"
   ]
  },
  {
   "cell_type": "code",
   "execution_count": 6,
   "id": "ed1b74b5",
   "metadata": {},
   "outputs": [
    {
     "name": "stdout",
     "output_type": "stream",
     "text": [
      "True\n",
      "True\n",
      "True\n",
      "False\n",
      "How old is samad?9\n",
      "9\n",
      "<class 'str'>\n",
      "<class 'int'>\n",
      "False\n"
     ]
    }
   ],
   "source": [
    "print(4==4)\n",
    "print(4<9)\n",
    "print(4!=5)\n",
    "\n",
    "# applications of logical operators\n",
    "samad_age=8\n",
    "age_at_school=5\n",
    "print(samad_age==age_at_school)\n",
    "\n",
    "# input function and logical ooerators\n",
    "age_at_school=5\n",
    "samad_age=input(\"How old is samad?\")\n",
    "print(samad_age)\n",
    "print(type(samad_age))\n",
    "samad_age=int(samad_age)\n",
    "print(type(samad_age))\n",
    "print(samad_age==age_at_school)"
   ]
  },
  {
   "cell_type": "markdown",
   "id": "43e91570",
   "metadata": {},
   "source": [
    "### **08. Type conversion**"
   ]
  },
  {
   "cell_type": "code",
   "execution_count": 7,
   "id": "79679d93",
   "metadata": {},
   "outputs": [
    {
     "name": "stdout",
     "output_type": "stream",
     "text": [
      "<class 'float'>\n",
      "68.4 Type of x is:  <class 'float'>\n",
      "What is your age? 9\n",
      "9 <class 'int'>\n",
      "18.5\n",
      "18\n",
      "18.5\n"
     ]
    }
   ],
   "source": [
    "x= 1        #integer\n",
    "y= 34.2     #float\n",
    "z=\"Hello!\"  #string\n",
    "\n",
    "x=x*y # results in float if one is float\n",
    "\n",
    "print(type(x))\n",
    "\n",
    "#implicit type conversion\n",
    "\n",
    "x=x+y # results in float if one is float\n",
    "print(x,\"Type of x is: \",type(x))\n",
    "\n",
    "#explicit type conversion\n",
    "\n",
    "age=input(\"What is your age? \") # results in float if one is float\n",
    "print(age,type(int(age)))\n",
    "\n",
    "print((\"18.5\")) # can't change a decimal number in a string into float\n",
    "print(int(18.5)) #BUT can change a decimal number into integer\n",
    "print(str(18.5)) #change any number to string\n"
   ]
  },
  {
   "cell_type": "markdown",
   "id": "4a6a9cbd",
   "metadata": {},
   "source": [
    "### **09. if else elif**"
   ]
  },
  {
   "cell_type": "code",
   "execution_count": 8,
   "id": "5ed7f815",
   "metadata": {},
   "outputs": [
    {
     "name": "stdout",
     "output_type": "stream",
     "text": [
      "samad can not go to school\n"
     ]
    }
   ],
   "source": [
    "required_age_at_school= 5\n",
    "samad_age= 4\n",
    "\n",
    "# question: can samad go to school\n",
    "\n",
    "if samad_age==required_age_at_school:\n",
    "    print(\"samad can join the school\")\n",
    "elif samad_age>=required_age_at_school:\n",
    "    print(\"samad should join higher seondary school\")\n",
    "elif samad_age<=2:\n",
    "    print(\"you should take care of samad, he is still a baby!\")\n",
    "else:\n",
    "    print(\"samad can not go to school\")"
   ]
  },
  {
   "cell_type": "markdown",
   "id": "703a226b",
   "metadata": {},
   "source": [
    "### **10. Functions**"
   ]
  },
  {
   "cell_type": "code",
   "execution_count": 9,
   "id": "8bb54d08",
   "metadata": {},
   "outputs": [
    {
     "name": "stdout",
     "output_type": "stream",
     "text": [
      "Learning with Aammar\n",
      "Learning with Aammar\n",
      "Learning with Aammar\n",
      "Learning with Aammar\n",
      "Learning with Aammar\n",
      "Learning with Aammar\n",
      "Learning with Aammar\n",
      "Learning with Aammar\n",
      "Learning with Aammar\n",
      "Learning with Aammar\n",
      "Learning with Aammar\n",
      "Learning with Aammar\n",
      "Learning with Aammar\n",
      "Learning with Aammar\n",
      "Learning with Aammar\n",
      "you should take care of samad, he is still a baby!\n",
      "38\n"
     ]
    }
   ],
   "source": [
    "print(\"Learning with Aammar\")\n",
    "print(\"Learning with Aammar\")\n",
    "print(\"Learning with Aammar\")\n",
    "print(\"Learning with Aammar\")\n",
    "print(\"Learning with Aammar\")\n",
    "print(\"Learning with Aammar\")\n",
    "\n",
    "#defining functions \n",
    "#1\n",
    "def print_codanics():\n",
    "    print(\"Learning with Aammar\")\n",
    "    print(\"Learning with Aammar\")\n",
    "    print(\"Learning with Aammar\")\n",
    "print_codanics()\n",
    "\n",
    "#2 \n",
    "def print_codanics():\n",
    "    text = \"Learning with Aammar\"\n",
    "    print(text)\n",
    "    print(text)\n",
    "    print(text)\n",
    "print_codanics()\n",
    "\n",
    "#3\n",
    "def print_codanics(text):\n",
    "    print(text)\n",
    "    print(text)\n",
    "    print(text)\n",
    "\n",
    "print_codanics(\"Learning with Aammar\")\n",
    "\n",
    "# defining a function with if, elif and else statements\n",
    "\n",
    "def school_calculator(age, text):\n",
    "    if age==5:\n",
    "        print(\"samad can join the school\")\n",
    "    elif age > 5:\n",
    "        print(\"samad should join higher seondary school\")\n",
    "    else:\n",
    "        print(\"you should take care of samad, he is still a baby!\")\n",
    "\n",
    "school_calculator(2,\"SAMAD\")\n",
    "\n",
    "# defining a function of future\n",
    "\n",
    "def future_age(age):\n",
    "    new_age=age+20\n",
    "    return new_age\n",
    "    print(new_age)\n",
    "future_predicted_age= future_age(18)\n",
    "print(future_predicted_age)"
   ]
  },
  {
   "cell_type": "markdown",
   "id": "0f5cd58d",
   "metadata": {},
   "source": [
    "### **11. Loops**\n",
    "*While and for Loops*\n",
    "**while loop** "
   ]
  },
  {
   "cell_type": "code",
   "execution_count": 10,
   "id": "6c6bd710",
   "metadata": {},
   "outputs": [
    {
     "name": "stdout",
     "output_type": "stream",
     "text": [
      "0\n",
      "1\n",
      "2\n",
      "3\n",
      "4\n",
      "5\n"
     ]
    }
   ],
   "source": [
    "x=0\n",
    "while(x<=5):\n",
    "    print(x)\n",
    "    x=x+1"
   ]
  },
  {
   "cell_type": "markdown",
   "id": "65d5b793",
   "metadata": {},
   "source": [
    "**for loop** "
   ]
  },
  {
   "cell_type": "code",
   "execution_count": 11,
   "id": "54d6c3a4",
   "metadata": {},
   "outputs": [
    {
     "name": "stdout",
     "output_type": "stream",
     "text": [
      "4\n",
      "5\n",
      "6\n",
      "7\n",
      "Mon\n",
      "Tue\n",
      "Wed\n",
      "Thu\n"
     ]
    }
   ],
   "source": [
    "for x in range(4,8):\n",
    "    print(x)\n",
    "\n",
    "\n",
    "# array\n",
    "days = [\"Mon\", \"Tue\", \"Wed\", \"Thu\", \"Fri\", \"Sat\",\"Sun\"]\n",
    "\n",
    "for d in days:\n",
    "    if(d==\"Fri\"):break #loop stops\n",
    "    if(d==\"Fri\"):continue # skip d\n",
    "    print(d)"
   ]
  },
  {
   "cell_type": "markdown",
   "id": "41fc02a8",
   "metadata": {},
   "source": [
    "### **12. Import_libraries**\n",
    "*to use already built-in functions from open source libraries*\n"
   ]
  },
  {
   "cell_type": "code",
   "execution_count": 12,
   "id": "2d10c98a",
   "metadata": {},
   "outputs": [
    {
     "name": "stdout",
     "output_type": "stream",
     "text": [
      "The value of pi is  3.141592653589793\n",
      "300\n"
     ]
    }
   ],
   "source": [
    "\n",
    "import math\n",
    "print(\"The value of pi is \", math.pi)\n",
    "\n",
    "import statistics \n",
    "x=[150,250,350,450]\n",
    "print(statistics.mean(x))\n",
    "\n",
    "\n"
   ]
  },
  {
   "cell_type": "markdown",
   "id": "1e8bb273",
   "metadata": {},
   "source": [
    "*numpy, pandas, ...  for statistical analysis , data visualization*"
   ]
  },
  {
   "cell_type": "markdown",
   "id": "3cd4aa38",
   "metadata": {},
   "source": [
    "### **13. Troubleshooting**"
   ]
  },
  {
   "cell_type": "code",
   "execution_count": 13,
   "id": "c9cb5411",
   "metadata": {},
   "outputs": [
    {
     "name": "stdout",
     "output_type": "stream",
     "text": [
      "Hello name\n",
      "Hello suboor\n"
     ]
    }
   ],
   "source": [
    "# print(learning python with Aammar) # syntax error i.e. python language is not used correctly\n",
    "\n",
    "# print(25/0) # run time error is mathematical mistake\n",
    "\n",
    "name= \"suboor\"\n",
    "\n",
    "print(\"Hello name\") #semantic error human error in writing, dfficult to troubleshoot\n",
    "print(\"Hello \"+ name) # you don't need , if you use +"
   ]
  },
  {
   "cell_type": "markdown",
   "id": "39144c97",
   "metadata": {},
   "source": [
    "### **14. BMI**"
   ]
  },
  {
   "cell_type": "code",
   "execution_count": 16,
   "id": "0cbcbae3",
   "metadata": {},
   "outputs": [
    {
     "name": "stdout",
     "output_type": "stream",
     "text": [
      "What is your name? kom\n",
      "What is your weight? 65\n",
      "What is your height? 163\n",
      "My Name is kom and my BMI is 0.002446460160337235\n"
     ]
    }
   ],
   "source": [
    "name= input(\"What is your name? \")\n",
    "weight= input(\"What is your weight? \")\n",
    "height= input(\"What is your height? \")\n",
    "\n",
    "BMI=float(weight)/(float(height)**2) #input returns a string; ** requires numbers.\n",
    "print(\"My Name is\", name ,\"and my BMI is\", BMI)"
   ]
  },
  {
   "cell_type": "markdown",
   "id": "06d12e81",
   "metadata": {},
   "source": [
    "### **15. Plots**"
   ]
  },
  {
   "cell_type": "markdown",
   "id": "1c01aaed",
   "metadata": {},
   "source": [
    "*Steps involved in visualization\n",
    "BARPLOTS*"
   ]
  },
  {
   "cell_type": "code",
   "execution_count": 17,
   "id": "4f677e96",
   "metadata": {},
   "outputs": [
    {
     "data": {
      "image/png": "[encoded data removed]",
      "text/plain": [
       "<Figure size 436.975x360 with 1 Axes>"
      ]
     },
     "metadata": {},
     "output_type": "display_data"
    }
   ],
   "source": [
    "# Step-1 import libraries \n",
    "import seaborn as sns\n",
    "import matplotlib.pyplot as plt\n",
    "\n",
    "# Step-2 set a theme\n",
    "sns.set_theme(style=\"ticks\", color_codes=True)\n",
    "\n",
    "# Step-3 import dataset (you can also import your own dataset)\n",
    "titanic = sns.load_dataset(\"titanic\")\n",
    "# sns.get_datasets_names() # this command is to know which datasets are available in seaborn \n",
    "\n",
    "# Step-4 plot basic graph\n",
    "sns.catplot(x='sex', y='survived', hue='class',kind='bar', data=titanic)\n",
    "plt.show()"
   ]
  },
  {
   "cell_type": "markdown",
   "id": "300f3f2e",
   "metadata": {},
   "source": [
    "*COUNTPLOTS*"
   ]
  },
  {
   "cell_type": "code",
   "execution_count": 18,
   "id": "2d3957b0",
   "metadata": {},
   "outputs": [
    {
     "data": {
      "image/png": "[encoded data removed]",
      "text/plain": [
       "<Figure size 432x288 with 1 Axes>"
      ]
     },
     "metadata": {},
     "output_type": "display_data"
    }
   ],
   "source": [
    "import seaborn as sns\n",
    "import matplotlib.pyplot as plt\n",
    "sns.set_theme(style=\"ticks\", color_codes=True)\n",
    "\n",
    "titanic = sns.load_dataset(\"titanic\")\n",
    "p1=sns.countplot(x='sex', data=titanic, hue='class')\n",
    "p1.set_title(\"plot for counting\")\n",
    "plt.show()"
   ]
  },
  {
   "cell_type": "markdown",
   "id": "a9635218",
   "metadata": {},
   "source": [
    "*SCATTERPLOTS*"
   ]
  },
  {
   "cell_type": "code",
   "execution_count": 19,
   "id": "96ddd999",
   "metadata": {},
   "outputs": [
    {
     "data": {
      "image/png": "[encoded data removed]",
      "text/plain": [
       "<Figure size 282.35x432 with 2 Axes>"
      ]
     },
     "metadata": {},
     "output_type": "display_data"
    }
   ],
   "source": [
    "import seaborn as sns\n",
    "import matplotlib.pyplot as plt\n",
    "sns.set_theme(style=\"ticks\", color_codes=True)\n",
    "titanic = sns.load_dataset(\"titanic\")\n",
    "#print(titanic) # to know which catogeries are there in data which you may plot\n",
    "g=sns.FacetGrid(titanic, row='sex', hue='alone')\n",
    "g=(g.map(plt.scatter,'age','fare').add_legend())\n",
    "plt.show()"
   ]
  },
  {
   "cell_type": "markdown",
   "id": "7a2ed6ec",
   "metadata": {},
   "source": [
    "### **15. Data Visualisation of own data**"
   ]
  },
  {
   "cell_type": "code",
   "execution_count": 20,
   "id": "4f4394c1",
   "metadata": {},
   "outputs": [
    {
     "name": "stdout",
     "output_type": "stream",
     "text": [
      "             Timestamp  Gender    Age  Location Time of class (pm)  \\\n",
      "0    1/3/2022 19:09:29    Male  16-30  Pakistan              10:30   \n",
      "1    1/3/2022 19:09:33    Male  16-30  Pakistan              10:00   \n",
      "2    1/3/2022 19:09:33    Male  16-30  Pakistan              10:00   \n",
      "3    1/3/2022 19:09:33    Male  30-40  Pakistan              09:30   \n",
      "4    1/3/2022 19:09:34    Male  16-30      East              09:30   \n",
      "..                 ...     ...    ...       ...                ...   \n",
      "301  1/3/2022 19:11:51    Male  16-30  Pakistan              09:30   \n",
      "302  1/3/2022 19:11:52    Male  16-30  Pakistan              10:30   \n",
      "303  1/3/2022 19:11:53    Male  16-30  Pakistan              10:00   \n",
      "304  1/3/2022 19:11:54  Female  16-30  Pakistan              10:30   \n",
      "305  1/3/2022 19:11:55    Male  16-30  Pakistan              10:30   \n",
      "\n",
      "     Duration (min)  \n",
      "0                60  \n",
      "1                60  \n",
      "2                30  \n",
      "3                30  \n",
      "4                60  \n",
      "..              ...  \n",
      "301              30  \n",
      "302              45  \n",
      "303              60  \n",
      "304              60  \n",
      "305              45  \n",
      "\n",
      "[306 rows x 6 columns]\n"
     ]
    },
    {
     "data": {
      "image/png": "[encoded data removed]",
      "text/plain": [
       "<Figure size 432x288 with 1 Axes>"
      ]
     },
     "metadata": {},
     "output_type": "display_data"
    }
   ],
   "source": [
    "# Steps involved in visualization  \n",
    "# Step-1 import libraries \n",
    "import pandas as pd # to use your own data-set and to decribe the qualities of the data \n",
    "import seaborn as sns\n",
    "import matplotlib.pyplot as plt\n",
    "\n",
    "# Step-2 set a theme\n",
    "sns.set_theme(style=\"ticks\", color_codes=True)\n",
    "\n",
    "# Step-3 import dataset (you can also import your own dataset)\n",
    "dataviz=pd.read_csv('data_viz.csv')\n",
    "print(dataviz) \n",
    "\n",
    "# Step-4 plot basic graph\n",
    "# p1=sns.countplot(x='Gender', data=dataviz, hue='Age')\n",
    "p1=sns.countplot(x='Gender', data=dataviz, hue='Time of class (pm)')\n",
    "p1.set_title(\"Voting for Time of Class\")\n",
    "plt.show()"
   ]
  }
 ],
 "metadata": {
  "kernelspec": {
   "display_name": "Python 3 (ipykernel)",
   "language": "python",
   "name": "python3"
  },
  "language_info": {
   "codemirror_mode": {
    "name": "ipython",
    "version": 3
   },
   "file_extension": ".py",
   "mimetype": "text/x-python",
   "name": "python",
   "nbconvert_exporter": "python",
   "pygments_lexer": "ipython3",
   "version": "3.9.7"
  }
 },
 "nbformat": 4,
 "nbformat_minor": 5
}
