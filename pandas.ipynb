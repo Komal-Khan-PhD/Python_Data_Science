{
 "cells": [
  {
   "cell_type": "markdown",
   "metadata": {},
   "source": [
    "# Pandas Tutorial\n",
    "This notebooks explains the use of python library PANDAS.\n",
    "## Install Libraries"
   ]
  },
  {
   "cell_type": "code",
   "execution_count": 1,
   "metadata": {},
   "outputs": [],
   "source": [
    "# pip install pandas\n",
    "# pip install numpy"
   ]
  },
  {
   "cell_type": "markdown",
   "metadata": {},
   "source": [
    "## Import Libraries"
   ]
  },
  {
   "cell_type": "code",
   "execution_count": 2,
   "metadata": {},
   "outputs": [],
   "source": [
    "import numpy as np\n",
    "import pandas as pd"
   ]
  },
  {
   "cell_type": "markdown",
   "metadata": {},
   "source": [
    "## Object creation"
   ]
  },
  {
   "cell_type": "markdown",
   "metadata": {},
   "source": [
    "Creating a Series by passing a list of integer values"
   ]
  },
  {
   "cell_type": "code",
   "execution_count": 3,
   "metadata": {},
   "outputs": [
    {
     "data": {
      "text/plain": [
       "0    1.0\n",
       "1    3.0\n",
       "2    5.0\n",
       "3    NaN\n",
       "4    7.0\n",
       "5    6.0\n",
       "6    8.0\n",
       "dtype: float64"
      ]
     },
     "execution_count": 3,
     "metadata": {},
     "output_type": "execute_result"
    }
   ],
   "source": [
    "s = pd.Series([1, 3, 5, np.nan,7, 6, 8])\n",
    "s"
   ]
  },
  {
   "cell_type": "markdown",
   "metadata": {},
   "source": [
    "Creating a DataFrame by passing a NumPy array, with a datetime index and labeled columns"
   ]
  },
  {
   "cell_type": "code",
   "execution_count": 4,
   "metadata": {},
   "outputs": [
    {
     "data": {
      "text/plain": [
       "DatetimeIndex(['2021-01-01', '2021-01-02', '2021-01-03', '2021-01-04',\n",
       "               '2021-01-05', '2021-01-06', '2021-01-07', '2021-01-08',\n",
       "               '2021-01-09', '2021-01-10', '2021-01-11', '2021-01-12',\n",
       "               '2021-01-13', '2021-01-14', '2021-01-15', '2021-01-16',\n",
       "               '2021-01-17', '2021-01-18', '2021-01-19', '2021-01-20'],\n",
       "              dtype='datetime64[ns]', freq='D')"
      ]
     },
     "execution_count": 4,
     "metadata": {},
     "output_type": "execute_result"
    }
   ],
   "source": [
    "dates = pd.date_range(\"20210101\", periods=20)\n",
    "dates"
   ]
  },
  {
   "cell_type": "code",
   "execution_count": 5,
   "metadata": {},
   "outputs": [
    {
     "data": {
      "text/html": [
       "<div>\n",
       "<style scoped>\n",
       "    .dataframe tbody tr th:only-of-type {\n",
       "        vertical-align: middle;\n",
       "    }\n",
       "\n",
       "    .dataframe tbody tr th {\n",
       "        vertical-align: top;\n",
       "    }\n",
       "\n",
       "    .dataframe thead th {\n",
       "        text-align: right;\n",
       "    }\n",
       "</style>\n",
       "<table border=\"1\" class=\"dataframe\">\n",
       "  <thead>\n",
       "    <tr style=\"text-align: right;\">\n",
       "      <th></th>\n",
       "      <th>A</th>\n",
       "      <th>B</th>\n",
       "      <th>C</th>\n",
       "      <th>D</th>\n",
       "    </tr>\n",
       "  </thead>\n",
       "  <tbody>\n",
       "    <tr>\n",
       "      <th>2021-01-01</th>\n",
       "      <td>0.008654</td>\n",
       "      <td>-0.126477</td>\n",
       "      <td>0.539719</td>\n",
       "      <td>1.105822</td>\n",
       "    </tr>\n",
       "    <tr>\n",
       "      <th>2021-01-02</th>\n",
       "      <td>-1.227898</td>\n",
       "      <td>0.579727</td>\n",
       "      <td>0.175053</td>\n",
       "      <td>0.185574</td>\n",
       "    </tr>\n",
       "    <tr>\n",
       "      <th>2021-01-03</th>\n",
       "      <td>-0.946407</td>\n",
       "      <td>-1.118558</td>\n",
       "      <td>-1.435824</td>\n",
       "      <td>0.554559</td>\n",
       "    </tr>\n",
       "    <tr>\n",
       "      <th>2021-01-04</th>\n",
       "      <td>0.657420</td>\n",
       "      <td>-0.554898</td>\n",
       "      <td>-0.512110</td>\n",
       "      <td>-1.599138</td>\n",
       "    </tr>\n",
       "    <tr>\n",
       "      <th>2021-01-05</th>\n",
       "      <td>1.162640</td>\n",
       "      <td>0.515293</td>\n",
       "      <td>0.453209</td>\n",
       "      <td>1.454471</td>\n",
       "    </tr>\n",
       "    <tr>\n",
       "      <th>2021-01-06</th>\n",
       "      <td>-0.052724</td>\n",
       "      <td>-0.681884</td>\n",
       "      <td>1.182558</td>\n",
       "      <td>-0.672382</td>\n",
       "    </tr>\n",
       "    <tr>\n",
       "      <th>2021-01-07</th>\n",
       "      <td>0.593081</td>\n",
       "      <td>0.043416</td>\n",
       "      <td>-0.277710</td>\n",
       "      <td>-0.070971</td>\n",
       "    </tr>\n",
       "    <tr>\n",
       "      <th>2021-01-08</th>\n",
       "      <td>0.033507</td>\n",
       "      <td>0.740535</td>\n",
       "      <td>1.709354</td>\n",
       "      <td>0.786476</td>\n",
       "    </tr>\n",
       "    <tr>\n",
       "      <th>2021-01-09</th>\n",
       "      <td>-2.264824</td>\n",
       "      <td>-0.300875</td>\n",
       "      <td>-0.325400</td>\n",
       "      <td>0.534196</td>\n",
       "    </tr>\n",
       "    <tr>\n",
       "      <th>2021-01-10</th>\n",
       "      <td>-0.193594</td>\n",
       "      <td>-0.217825</td>\n",
       "      <td>-0.056438</td>\n",
       "      <td>-1.047139</td>\n",
       "    </tr>\n",
       "    <tr>\n",
       "      <th>2021-01-11</th>\n",
       "      <td>0.779426</td>\n",
       "      <td>0.599466</td>\n",
       "      <td>-0.335718</td>\n",
       "      <td>0.547992</td>\n",
       "    </tr>\n",
       "    <tr>\n",
       "      <th>2021-01-12</th>\n",
       "      <td>1.324442</td>\n",
       "      <td>0.939933</td>\n",
       "      <td>0.274368</td>\n",
       "      <td>1.463821</td>\n",
       "    </tr>\n",
       "    <tr>\n",
       "      <th>2021-01-13</th>\n",
       "      <td>0.580095</td>\n",
       "      <td>-0.370571</td>\n",
       "      <td>-0.179992</td>\n",
       "      <td>-1.142861</td>\n",
       "    </tr>\n",
       "    <tr>\n",
       "      <th>2021-01-14</th>\n",
       "      <td>-0.144554</td>\n",
       "      <td>1.730484</td>\n",
       "      <td>-0.749591</td>\n",
       "      <td>-1.221470</td>\n",
       "    </tr>\n",
       "    <tr>\n",
       "      <th>2021-01-15</th>\n",
       "      <td>1.233195</td>\n",
       "      <td>-0.101237</td>\n",
       "      <td>0.540558</td>\n",
       "      <td>-0.999549</td>\n",
       "    </tr>\n",
       "    <tr>\n",
       "      <th>2021-01-16</th>\n",
       "      <td>-1.813061</td>\n",
       "      <td>-0.952302</td>\n",
       "      <td>1.751119</td>\n",
       "      <td>0.930238</td>\n",
       "    </tr>\n",
       "    <tr>\n",
       "      <th>2021-01-17</th>\n",
       "      <td>-0.368305</td>\n",
       "      <td>-1.509361</td>\n",
       "      <td>-0.252288</td>\n",
       "      <td>0.875926</td>\n",
       "    </tr>\n",
       "    <tr>\n",
       "      <th>2021-01-18</th>\n",
       "      <td>0.544170</td>\n",
       "      <td>-1.456745</td>\n",
       "      <td>-2.187101</td>\n",
       "      <td>0.921900</td>\n",
       "    </tr>\n",
       "    <tr>\n",
       "      <th>2021-01-19</th>\n",
       "      <td>-0.453111</td>\n",
       "      <td>-0.645028</td>\n",
       "      <td>2.185281</td>\n",
       "      <td>0.041818</td>\n",
       "    </tr>\n",
       "    <tr>\n",
       "      <th>2021-01-20</th>\n",
       "      <td>-0.560898</td>\n",
       "      <td>-1.242427</td>\n",
       "      <td>-0.574084</td>\n",
       "      <td>-0.488877</td>\n",
       "    </tr>\n",
       "  </tbody>\n",
       "</table>\n",
       "</div>"
      ],
      "text/plain": [
       "                   A         B         C         D\n",
       "2021-01-01  0.008654 -0.126477  0.539719  1.105822\n",
       "2021-01-02 -1.227898  0.579727  0.175053  0.185574\n",
       "2021-01-03 -0.946407 -1.118558 -1.435824  0.554559\n",
       "2021-01-04  0.657420 -0.554898 -0.512110 -1.599138\n",
       "2021-01-05  1.162640  0.515293  0.453209  1.454471\n",
       "2021-01-06 -0.052724 -0.681884  1.182558 -0.672382\n",
       "2021-01-07  0.593081  0.043416 -0.277710 -0.070971\n",
       "2021-01-08  0.033507  0.740535  1.709354  0.786476\n",
       "2021-01-09 -2.264824 -0.300875 -0.325400  0.534196\n",
       "2021-01-10 -0.193594 -0.217825 -0.056438 -1.047139\n",
       "2021-01-11  0.779426  0.599466 -0.335718  0.547992\n",
       "2021-01-12  1.324442  0.939933  0.274368  1.463821\n",
       "2021-01-13  0.580095 -0.370571 -0.179992 -1.142861\n",
       "2021-01-14 -0.144554  1.730484 -0.749591 -1.221470\n",
       "2021-01-15  1.233195 -0.101237  0.540558 -0.999549\n",
       "2021-01-16 -1.813061 -0.952302  1.751119  0.930238\n",
       "2021-01-17 -0.368305 -1.509361 -0.252288  0.875926\n",
       "2021-01-18  0.544170 -1.456745 -2.187101  0.921900\n",
       "2021-01-19 -0.453111 -0.645028  2.185281  0.041818\n",
       "2021-01-20 -0.560898 -1.242427 -0.574084 -0.488877"
      ]
     },
     "execution_count": 5,
     "metadata": {},
     "output_type": "execute_result"
    }
   ],
   "source": [
    "df = pd.DataFrame(np.random.randn(20, 4), index=dates, columns=list(\"ABCD\"))\n",
    "df "
   ]
  },
  {
   "cell_type": "markdown",
   "metadata": {},
   "source": [
    "Creating a DataFrame by passing a dict of objects that can be converted to series-like"
   ]
  },
  {
   "cell_type": "code",
   "execution_count": 6,
   "metadata": {},
   "outputs": [
    {
     "data": {
      "text/plain": [
       "A           float64\n",
       "B    datetime64[ns]\n",
       "C           float32\n",
       "D             int32\n",
       "E          category\n",
       "F            object\n",
       "dtype: object"
      ]
     },
     "execution_count": 6,
     "metadata": {},
     "output_type": "execute_result"
    }
   ],
   "source": [
    "df2 = pd.DataFrame(\n",
    "    {\n",
    "        \"A\": 1.0,\n",
    "        \"B\": pd.Timestamp(\"20220111\"),\n",
    "        \"C\": pd.Series(1, index=list(range(4)), dtype=\"float32\"),\n",
    "        \"D\": np.array([3] * 4, dtype=\"int32\"),\n",
    "        \"E\": pd.Categorical([\"girl\", \"woman\", \"girl\", \"woman\"]),\n",
    "        \"F\": \"females\",\n",
    "    }\n",
    ")\n",
    "df2\n",
    "df2.dtypes #The columns of the resulting DataFrame have different dtypes"
   ]
  },
  {
   "cell_type": "markdown",
   "metadata": {},
   "source": [
    "## Viewing data\n",
    "view the top and bottom rows of the frame"
   ]
  },
  {
   "cell_type": "code",
   "execution_count": 7,
   "metadata": {},
   "outputs": [
    {
     "data": {
      "text/html": [
       "<div>\n",
       "<style scoped>\n",
       "    .dataframe tbody tr th:only-of-type {\n",
       "        vertical-align: middle;\n",
       "    }\n",
       "\n",
       "    .dataframe tbody tr th {\n",
       "        vertical-align: top;\n",
       "    }\n",
       "\n",
       "    .dataframe thead th {\n",
       "        text-align: right;\n",
       "    }\n",
       "</style>\n",
       "<table border=\"1\" class=\"dataframe\">\n",
       "  <thead>\n",
       "    <tr style=\"text-align: right;\">\n",
       "      <th></th>\n",
       "      <th>A</th>\n",
       "      <th>B</th>\n",
       "      <th>C</th>\n",
       "      <th>D</th>\n",
       "    </tr>\n",
       "  </thead>\n",
       "  <tbody>\n",
       "    <tr>\n",
       "      <th>2021-01-01</th>\n",
       "      <td>0.008654</td>\n",
       "      <td>-0.126477</td>\n",
       "      <td>0.539719</td>\n",
       "      <td>1.105822</td>\n",
       "    </tr>\n",
       "  </tbody>\n",
       "</table>\n",
       "</div>"
      ],
      "text/plain": [
       "                   A         B         C         D\n",
       "2021-01-01  0.008654 -0.126477  0.539719  1.105822"
      ]
     },
     "execution_count": 7,
     "metadata": {},
     "output_type": "execute_result"
    }
   ],
   "source": [
    "df.head(1)"
   ]
  },
  {
   "cell_type": "code",
   "execution_count": 8,
   "metadata": {},
   "outputs": [
    {
     "data": {
      "text/html": [
       "<div>\n",
       "<style scoped>\n",
       "    .dataframe tbody tr th:only-of-type {\n",
       "        vertical-align: middle;\n",
       "    }\n",
       "\n",
       "    .dataframe tbody tr th {\n",
       "        vertical-align: top;\n",
       "    }\n",
       "\n",
       "    .dataframe thead th {\n",
       "        text-align: right;\n",
       "    }\n",
       "</style>\n",
       "<table border=\"1\" class=\"dataframe\">\n",
       "  <thead>\n",
       "    <tr style=\"text-align: right;\">\n",
       "      <th></th>\n",
       "      <th>A</th>\n",
       "      <th>B</th>\n",
       "      <th>C</th>\n",
       "      <th>D</th>\n",
       "    </tr>\n",
       "  </thead>\n",
       "  <tbody>\n",
       "    <tr>\n",
       "      <th>2021-01-18</th>\n",
       "      <td>0.544170</td>\n",
       "      <td>-1.456745</td>\n",
       "      <td>-2.187101</td>\n",
       "      <td>0.921900</td>\n",
       "    </tr>\n",
       "    <tr>\n",
       "      <th>2021-01-19</th>\n",
       "      <td>-0.453111</td>\n",
       "      <td>-0.645028</td>\n",
       "      <td>2.185281</td>\n",
       "      <td>0.041818</td>\n",
       "    </tr>\n",
       "    <tr>\n",
       "      <th>2021-01-20</th>\n",
       "      <td>-0.560898</td>\n",
       "      <td>-1.242427</td>\n",
       "      <td>-0.574084</td>\n",
       "      <td>-0.488877</td>\n",
       "    </tr>\n",
       "  </tbody>\n",
       "</table>\n",
       "</div>"
      ],
      "text/plain": [
       "                   A         B         C         D\n",
       "2021-01-18  0.544170 -1.456745 -2.187101  0.921900\n",
       "2021-01-19 -0.453111 -0.645028  2.185281  0.041818\n",
       "2021-01-20 -0.560898 -1.242427 -0.574084 -0.488877"
      ]
     },
     "execution_count": 8,
     "metadata": {},
     "output_type": "execute_result"
    }
   ],
   "source": [
    "df.tail(3) # number defines how many data rows"
   ]
  },
  {
   "cell_type": "markdown",
   "metadata": {},
   "source": [
    "Display the index"
   ]
  },
  {
   "cell_type": "code",
   "execution_count": 9,
   "metadata": {},
   "outputs": [
    {
     "data": {
      "text/plain": [
       "DatetimeIndex(['2021-01-01', '2021-01-02', '2021-01-03', '2021-01-04',\n",
       "               '2021-01-05', '2021-01-06', '2021-01-07', '2021-01-08',\n",
       "               '2021-01-09', '2021-01-10', '2021-01-11', '2021-01-12',\n",
       "               '2021-01-13', '2021-01-14', '2021-01-15', '2021-01-16',\n",
       "               '2021-01-17', '2021-01-18', '2021-01-19', '2021-01-20'],\n",
       "              dtype='datetime64[ns]', freq='D')"
      ]
     },
     "execution_count": 9,
     "metadata": {},
     "output_type": "execute_result"
    }
   ],
   "source": [
    "df.index"
   ]
  },
  {
   "cell_type": "markdown",
   "metadata": {},
   "source": [
    "DataFrame.to_numpy() gives a NumPy representation of the underlying data.  When you call DataFrame.to_numpy(), pandas will find the NumPy dtype that can hold all of the dtypes in the DataFrame. This may end up being object, which requires casting every value to a Python object."
   ]
  },
  {
   "cell_type": "code",
   "execution_count": 10,
   "metadata": {},
   "outputs": [
    {
     "data": {
      "text/plain": [
       "array([[ 0.00865439, -0.12647739,  0.53971875,  1.10582239],\n",
       "       [-1.22789804,  0.57972699,  0.17505269,  0.18557446],\n",
       "       [-0.94640689, -1.1185584 , -1.43582362,  0.55455913],\n",
       "       [ 0.65742019, -0.55489803, -0.51210964, -1.59913763],\n",
       "       [ 1.1626399 ,  0.51529269,  0.45320869,  1.45447129],\n",
       "       [-0.05272386, -0.68188364,  1.18255781, -0.67238172],\n",
       "       [ 0.59308096,  0.04341616, -0.27770973, -0.07097116],\n",
       "       [ 0.03350683,  0.74053457,  1.70935432,  0.786476  ],\n",
       "       [-2.26482372, -0.30087523, -0.32540002,  0.5341962 ],\n",
       "       [-0.19359381, -0.21782531, -0.05643755, -1.0471391 ],\n",
       "       [ 0.77942596,  0.59946566, -0.33571777,  0.54799218],\n",
       "       [ 1.32444179,  0.93993339,  0.27436779,  1.46382077],\n",
       "       [ 0.58009458, -0.37057057, -0.17999158, -1.14286147],\n",
       "       [-0.1445542 ,  1.73048425, -0.74959064, -1.22146951],\n",
       "       [ 1.2331945 , -0.10123727,  0.54055832, -0.99954909],\n",
       "       [-1.81306107, -0.95230174,  1.75111913,  0.93023769],\n",
       "       [-0.36830459, -1.50936091, -0.2522881 ,  0.87592645],\n",
       "       [ 0.54417043, -1.45674516, -2.18710128,  0.92190002],\n",
       "       [-0.45311116, -0.64502841,  2.18528117,  0.04181784],\n",
       "       [-0.56089783, -1.24242699, -0.57408372, -0.48887749]])"
      ]
     },
     "execution_count": 10,
     "metadata": {},
     "output_type": "execute_result"
    }
   ],
   "source": [
    "df.to_numpy() #does not include the index or column labels in the output."
   ]
  },
  {
   "cell_type": "markdown",
   "metadata": {},
   "source": [
    "Note that this can be an expensive operation when your DataFrame has columns with different data types, which comes down to a fundamental difference between pandas and NumPy: NumPy arrays have one dtype for the entire array, while pandas DataFrames have one dtype per column."
   ]
  },
  {
   "cell_type": "code",
   "execution_count": 11,
   "metadata": {},
   "outputs": [
    {
     "data": {
      "text/plain": [
       "array([[1.0, Timestamp('2022-01-11 00:00:00'), 1.0, 3, 'girl', 'females'],\n",
       "       [1.0, Timestamp('2022-01-11 00:00:00'), 1.0, 3, 'woman',\n",
       "        'females'],\n",
       "       [1.0, Timestamp('2022-01-11 00:00:00'), 1.0, 3, 'girl', 'females'],\n",
       "       [1.0, Timestamp('2022-01-11 00:00:00'), 1.0, 3, 'woman',\n",
       "        'females']], dtype=object)"
      ]
     },
     "execution_count": 11,
     "metadata": {},
     "output_type": "execute_result"
    }
   ],
   "source": [
    "df2.to_numpy()"
   ]
  },
  {
   "cell_type": "markdown",
   "metadata": {},
   "source": [
    "describe() shows a quick statistic summary"
   ]
  },
  {
   "cell_type": "code",
   "execution_count": 12,
   "metadata": {},
   "outputs": [
    {
     "data": {
      "text/html": [
       "<div>\n",
       "<style scoped>\n",
       "    .dataframe tbody tr th:only-of-type {\n",
       "        vertical-align: middle;\n",
       "    }\n",
       "\n",
       "    .dataframe tbody tr th {\n",
       "        vertical-align: top;\n",
       "    }\n",
       "\n",
       "    .dataframe thead th {\n",
       "        text-align: right;\n",
       "    }\n",
       "</style>\n",
       "<table border=\"1\" class=\"dataframe\">\n",
       "  <thead>\n",
       "    <tr style=\"text-align: right;\">\n",
       "      <th></th>\n",
       "      <th>A</th>\n",
       "      <th>B</th>\n",
       "      <th>C</th>\n",
       "      <th>D</th>\n",
       "    </tr>\n",
       "  </thead>\n",
       "  <tbody>\n",
       "    <tr>\n",
       "      <th>count</th>\n",
       "      <td>20.000000</td>\n",
       "      <td>20.000000</td>\n",
       "      <td>20.000000</td>\n",
       "      <td>20.000000</td>\n",
       "    </tr>\n",
       "    <tr>\n",
       "      <th>mean</th>\n",
       "      <td>-0.055437</td>\n",
       "      <td>-0.206467</td>\n",
       "      <td>0.096248</td>\n",
       "      <td>0.108020</td>\n",
       "    </tr>\n",
       "    <tr>\n",
       "      <th>std</th>\n",
       "      <td>0.976762</td>\n",
       "      <td>0.862346</td>\n",
       "      <td>1.057938</td>\n",
       "      <td>0.957663</td>\n",
       "    </tr>\n",
       "    <tr>\n",
       "      <th>min</th>\n",
       "      <td>-2.264824</td>\n",
       "      <td>-1.509361</td>\n",
       "      <td>-2.187101</td>\n",
       "      <td>-1.599138</td>\n",
       "    </tr>\n",
       "    <tr>\n",
       "      <th>25%</th>\n",
       "      <td>-0.480058</td>\n",
       "      <td>-0.749488</td>\n",
       "      <td>-0.379816</td>\n",
       "      <td>-0.754174</td>\n",
       "    </tr>\n",
       "    <tr>\n",
       "      <th>50%</th>\n",
       "      <td>-0.022035</td>\n",
       "      <td>-0.259350</td>\n",
       "      <td>-0.118215</td>\n",
       "      <td>0.359885</td>\n",
       "    </tr>\n",
       "    <tr>\n",
       "      <th>75%</th>\n",
       "      <td>0.609166</td>\n",
       "      <td>0.531401</td>\n",
       "      <td>0.539929</td>\n",
       "      <td>0.887420</td>\n",
       "    </tr>\n",
       "    <tr>\n",
       "      <th>max</th>\n",
       "      <td>1.324442</td>\n",
       "      <td>1.730484</td>\n",
       "      <td>2.185281</td>\n",
       "      <td>1.463821</td>\n",
       "    </tr>\n",
       "  </tbody>\n",
       "</table>\n",
       "</div>"
      ],
      "text/plain": [
       "               A          B          C          D\n",
       "count  20.000000  20.000000  20.000000  20.000000\n",
       "mean   -0.055437  -0.206467   0.096248   0.108020\n",
       "std     0.976762   0.862346   1.057938   0.957663\n",
       "min    -2.264824  -1.509361  -2.187101  -1.599138\n",
       "25%    -0.480058  -0.749488  -0.379816  -0.754174\n",
       "50%    -0.022035  -0.259350  -0.118215   0.359885\n",
       "75%     0.609166   0.531401   0.539929   0.887420\n",
       "max     1.324442   1.730484   2.185281   1.463821"
      ]
     },
     "execution_count": 12,
     "metadata": {},
     "output_type": "execute_result"
    }
   ],
   "source": [
    "df.describe()"
   ]
  },
  {
   "cell_type": "markdown",
   "metadata": {},
   "source": [
    "Transposing data"
   ]
  },
  {
   "cell_type": "code",
   "execution_count": 13,
   "metadata": {},
   "outputs": [
    {
     "data": {
      "text/html": [
       "<div>\n",
       "<style scoped>\n",
       "    .dataframe tbody tr th:only-of-type {\n",
       "        vertical-align: middle;\n",
       "    }\n",
       "\n",
       "    .dataframe tbody tr th {\n",
       "        vertical-align: top;\n",
       "    }\n",
       "\n",
       "    .dataframe thead th {\n",
       "        text-align: right;\n",
       "    }\n",
       "</style>\n",
       "<table border=\"1\" class=\"dataframe\">\n",
       "  <thead>\n",
       "    <tr style=\"text-align: right;\">\n",
       "      <th></th>\n",
       "      <th>0</th>\n",
       "      <th>1</th>\n",
       "      <th>2</th>\n",
       "      <th>3</th>\n",
       "    </tr>\n",
       "  </thead>\n",
       "  <tbody>\n",
       "    <tr>\n",
       "      <th>A</th>\n",
       "      <td>1.0</td>\n",
       "      <td>1.0</td>\n",
       "      <td>1.0</td>\n",
       "      <td>1.0</td>\n",
       "    </tr>\n",
       "    <tr>\n",
       "      <th>B</th>\n",
       "      <td>2022-01-11 00:00:00</td>\n",
       "      <td>2022-01-11 00:00:00</td>\n",
       "      <td>2022-01-11 00:00:00</td>\n",
       "      <td>2022-01-11 00:00:00</td>\n",
       "    </tr>\n",
       "    <tr>\n",
       "      <th>C</th>\n",
       "      <td>1.0</td>\n",
       "      <td>1.0</td>\n",
       "      <td>1.0</td>\n",
       "      <td>1.0</td>\n",
       "    </tr>\n",
       "    <tr>\n",
       "      <th>D</th>\n",
       "      <td>3</td>\n",
       "      <td>3</td>\n",
       "      <td>3</td>\n",
       "      <td>3</td>\n",
       "    </tr>\n",
       "    <tr>\n",
       "      <th>E</th>\n",
       "      <td>girl</td>\n",
       "      <td>woman</td>\n",
       "      <td>girl</td>\n",
       "      <td>woman</td>\n",
       "    </tr>\n",
       "    <tr>\n",
       "      <th>F</th>\n",
       "      <td>females</td>\n",
       "      <td>females</td>\n",
       "      <td>females</td>\n",
       "      <td>females</td>\n",
       "    </tr>\n",
       "  </tbody>\n",
       "</table>\n",
       "</div>"
      ],
      "text/plain": [
       "                     0                    1                    2  \\\n",
       "A                  1.0                  1.0                  1.0   \n",
       "B  2022-01-11 00:00:00  2022-01-11 00:00:00  2022-01-11 00:00:00   \n",
       "C                  1.0                  1.0                  1.0   \n",
       "D                    3                    3                    3   \n",
       "E                 girl                woman                 girl   \n",
       "F              females              females              females   \n",
       "\n",
       "                     3  \n",
       "A                  1.0  \n",
       "B  2022-01-11 00:00:00  \n",
       "C                  1.0  \n",
       "D                    3  \n",
       "E                woman  \n",
       "F              females  "
      ]
     },
     "execution_count": 13,
     "metadata": {},
     "output_type": "execute_result"
    }
   ],
   "source": [
    "df2.T"
   ]
  },
  {
   "cell_type": "markdown",
   "metadata": {},
   "source": [
    "Sorting by an axis , descending order"
   ]
  },
  {
   "cell_type": "code",
   "execution_count": 14,
   "metadata": {},
   "outputs": [
    {
     "data": {
      "text/html": [
       "<div>\n",
       "<style scoped>\n",
       "    .dataframe tbody tr th:only-of-type {\n",
       "        vertical-align: middle;\n",
       "    }\n",
       "\n",
       "    .dataframe tbody tr th {\n",
       "        vertical-align: top;\n",
       "    }\n",
       "\n",
       "    .dataframe thead th {\n",
       "        text-align: right;\n",
       "    }\n",
       "</style>\n",
       "<table border=\"1\" class=\"dataframe\">\n",
       "  <thead>\n",
       "    <tr style=\"text-align: right;\">\n",
       "      <th></th>\n",
       "      <th>D</th>\n",
       "      <th>C</th>\n",
       "      <th>B</th>\n",
       "      <th>A</th>\n",
       "    </tr>\n",
       "  </thead>\n",
       "  <tbody>\n",
       "    <tr>\n",
       "      <th>2021-01-01</th>\n",
       "      <td>1.105822</td>\n",
       "      <td>0.539719</td>\n",
       "      <td>-0.126477</td>\n",
       "      <td>0.008654</td>\n",
       "    </tr>\n",
       "    <tr>\n",
       "      <th>2021-01-02</th>\n",
       "      <td>0.185574</td>\n",
       "      <td>0.175053</td>\n",
       "      <td>0.579727</td>\n",
       "      <td>-1.227898</td>\n",
       "    </tr>\n",
       "    <tr>\n",
       "      <th>2021-01-03</th>\n",
       "      <td>0.554559</td>\n",
       "      <td>-1.435824</td>\n",
       "      <td>-1.118558</td>\n",
       "      <td>-0.946407</td>\n",
       "    </tr>\n",
       "    <tr>\n",
       "      <th>2021-01-04</th>\n",
       "      <td>-1.599138</td>\n",
       "      <td>-0.512110</td>\n",
       "      <td>-0.554898</td>\n",
       "      <td>0.657420</td>\n",
       "    </tr>\n",
       "    <tr>\n",
       "      <th>2021-01-05</th>\n",
       "      <td>1.454471</td>\n",
       "      <td>0.453209</td>\n",
       "      <td>0.515293</td>\n",
       "      <td>1.162640</td>\n",
       "    </tr>\n",
       "    <tr>\n",
       "      <th>2021-01-06</th>\n",
       "      <td>-0.672382</td>\n",
       "      <td>1.182558</td>\n",
       "      <td>-0.681884</td>\n",
       "      <td>-0.052724</td>\n",
       "    </tr>\n",
       "    <tr>\n",
       "      <th>2021-01-07</th>\n",
       "      <td>-0.070971</td>\n",
       "      <td>-0.277710</td>\n",
       "      <td>0.043416</td>\n",
       "      <td>0.593081</td>\n",
       "    </tr>\n",
       "    <tr>\n",
       "      <th>2021-01-08</th>\n",
       "      <td>0.786476</td>\n",
       "      <td>1.709354</td>\n",
       "      <td>0.740535</td>\n",
       "      <td>0.033507</td>\n",
       "    </tr>\n",
       "    <tr>\n",
       "      <th>2021-01-09</th>\n",
       "      <td>0.534196</td>\n",
       "      <td>-0.325400</td>\n",
       "      <td>-0.300875</td>\n",
       "      <td>-2.264824</td>\n",
       "    </tr>\n",
       "    <tr>\n",
       "      <th>2021-01-10</th>\n",
       "      <td>-1.047139</td>\n",
       "      <td>-0.056438</td>\n",
       "      <td>-0.217825</td>\n",
       "      <td>-0.193594</td>\n",
       "    </tr>\n",
       "    <tr>\n",
       "      <th>2021-01-11</th>\n",
       "      <td>0.547992</td>\n",
       "      <td>-0.335718</td>\n",
       "      <td>0.599466</td>\n",
       "      <td>0.779426</td>\n",
       "    </tr>\n",
       "    <tr>\n",
       "      <th>2021-01-12</th>\n",
       "      <td>1.463821</td>\n",
       "      <td>0.274368</td>\n",
       "      <td>0.939933</td>\n",
       "      <td>1.324442</td>\n",
       "    </tr>\n",
       "    <tr>\n",
       "      <th>2021-01-13</th>\n",
       "      <td>-1.142861</td>\n",
       "      <td>-0.179992</td>\n",
       "      <td>-0.370571</td>\n",
       "      <td>0.580095</td>\n",
       "    </tr>\n",
       "    <tr>\n",
       "      <th>2021-01-14</th>\n",
       "      <td>-1.221470</td>\n",
       "      <td>-0.749591</td>\n",
       "      <td>1.730484</td>\n",
       "      <td>-0.144554</td>\n",
       "    </tr>\n",
       "    <tr>\n",
       "      <th>2021-01-15</th>\n",
       "      <td>-0.999549</td>\n",
       "      <td>0.540558</td>\n",
       "      <td>-0.101237</td>\n",
       "      <td>1.233195</td>\n",
       "    </tr>\n",
       "    <tr>\n",
       "      <th>2021-01-16</th>\n",
       "      <td>0.930238</td>\n",
       "      <td>1.751119</td>\n",
       "      <td>-0.952302</td>\n",
       "      <td>-1.813061</td>\n",
       "    </tr>\n",
       "    <tr>\n",
       "      <th>2021-01-17</th>\n",
       "      <td>0.875926</td>\n",
       "      <td>-0.252288</td>\n",
       "      <td>-1.509361</td>\n",
       "      <td>-0.368305</td>\n",
       "    </tr>\n",
       "    <tr>\n",
       "      <th>2021-01-18</th>\n",
       "      <td>0.921900</td>\n",
       "      <td>-2.187101</td>\n",
       "      <td>-1.456745</td>\n",
       "      <td>0.544170</td>\n",
       "    </tr>\n",
       "    <tr>\n",
       "      <th>2021-01-19</th>\n",
       "      <td>0.041818</td>\n",
       "      <td>2.185281</td>\n",
       "      <td>-0.645028</td>\n",
       "      <td>-0.453111</td>\n",
       "    </tr>\n",
       "    <tr>\n",
       "      <th>2021-01-20</th>\n",
       "      <td>-0.488877</td>\n",
       "      <td>-0.574084</td>\n",
       "      <td>-1.242427</td>\n",
       "      <td>-0.560898</td>\n",
       "    </tr>\n",
       "  </tbody>\n",
       "</table>\n",
       "</div>"
      ],
      "text/plain": [
       "                   D         C         B         A\n",
       "2021-01-01  1.105822  0.539719 -0.126477  0.008654\n",
       "2021-01-02  0.185574  0.175053  0.579727 -1.227898\n",
       "2021-01-03  0.554559 -1.435824 -1.118558 -0.946407\n",
       "2021-01-04 -1.599138 -0.512110 -0.554898  0.657420\n",
       "2021-01-05  1.454471  0.453209  0.515293  1.162640\n",
       "2021-01-06 -0.672382  1.182558 -0.681884 -0.052724\n",
       "2021-01-07 -0.070971 -0.277710  0.043416  0.593081\n",
       "2021-01-08  0.786476  1.709354  0.740535  0.033507\n",
       "2021-01-09  0.534196 -0.325400 -0.300875 -2.264824\n",
       "2021-01-10 -1.047139 -0.056438 -0.217825 -0.193594\n",
       "2021-01-11  0.547992 -0.335718  0.599466  0.779426\n",
       "2021-01-12  1.463821  0.274368  0.939933  1.324442\n",
       "2021-01-13 -1.142861 -0.179992 -0.370571  0.580095\n",
       "2021-01-14 -1.221470 -0.749591  1.730484 -0.144554\n",
       "2021-01-15 -0.999549  0.540558 -0.101237  1.233195\n",
       "2021-01-16  0.930238  1.751119 -0.952302 -1.813061\n",
       "2021-01-17  0.875926 -0.252288 -1.509361 -0.368305\n",
       "2021-01-18  0.921900 -2.187101 -1.456745  0.544170\n",
       "2021-01-19  0.041818  2.185281 -0.645028 -0.453111\n",
       "2021-01-20 -0.488877 -0.574084 -1.242427 -0.560898"
      ]
     },
     "execution_count": 14,
     "metadata": {},
     "output_type": "execute_result"
    }
   ],
   "source": [
    "df.sort_index(axis=1, ascending=False) \n"
   ]
  },
  {
   "cell_type": "markdown",
   "metadata": {},
   "source": [
    "Sorting by an values , ascending by default"
   ]
  },
  {
   "cell_type": "code",
   "execution_count": 15,
   "metadata": {},
   "outputs": [
    {
     "data": {
      "text/html": [
       "<div>\n",
       "<style scoped>\n",
       "    .dataframe tbody tr th:only-of-type {\n",
       "        vertical-align: middle;\n",
       "    }\n",
       "\n",
       "    .dataframe tbody tr th {\n",
       "        vertical-align: top;\n",
       "    }\n",
       "\n",
       "    .dataframe thead th {\n",
       "        text-align: right;\n",
       "    }\n",
       "</style>\n",
       "<table border=\"1\" class=\"dataframe\">\n",
       "  <thead>\n",
       "    <tr style=\"text-align: right;\">\n",
       "      <th></th>\n",
       "      <th>A</th>\n",
       "      <th>B</th>\n",
       "      <th>C</th>\n",
       "      <th>D</th>\n",
       "    </tr>\n",
       "  </thead>\n",
       "  <tbody>\n",
       "    <tr>\n",
       "      <th>2021-01-17</th>\n",
       "      <td>-0.368305</td>\n",
       "      <td>-1.509361</td>\n",
       "      <td>-0.252288</td>\n",
       "      <td>0.875926</td>\n",
       "    </tr>\n",
       "    <tr>\n",
       "      <th>2021-01-18</th>\n",
       "      <td>0.544170</td>\n",
       "      <td>-1.456745</td>\n",
       "      <td>-2.187101</td>\n",
       "      <td>0.921900</td>\n",
       "    </tr>\n",
       "    <tr>\n",
       "      <th>2021-01-20</th>\n",
       "      <td>-0.560898</td>\n",
       "      <td>-1.242427</td>\n",
       "      <td>-0.574084</td>\n",
       "      <td>-0.488877</td>\n",
       "    </tr>\n",
       "    <tr>\n",
       "      <th>2021-01-03</th>\n",
       "      <td>-0.946407</td>\n",
       "      <td>-1.118558</td>\n",
       "      <td>-1.435824</td>\n",
       "      <td>0.554559</td>\n",
       "    </tr>\n",
       "    <tr>\n",
       "      <th>2021-01-16</th>\n",
       "      <td>-1.813061</td>\n",
       "      <td>-0.952302</td>\n",
       "      <td>1.751119</td>\n",
       "      <td>0.930238</td>\n",
       "    </tr>\n",
       "    <tr>\n",
       "      <th>2021-01-06</th>\n",
       "      <td>-0.052724</td>\n",
       "      <td>-0.681884</td>\n",
       "      <td>1.182558</td>\n",
       "      <td>-0.672382</td>\n",
       "    </tr>\n",
       "    <tr>\n",
       "      <th>2021-01-19</th>\n",
       "      <td>-0.453111</td>\n",
       "      <td>-0.645028</td>\n",
       "      <td>2.185281</td>\n",
       "      <td>0.041818</td>\n",
       "    </tr>\n",
       "    <tr>\n",
       "      <th>2021-01-04</th>\n",
       "      <td>0.657420</td>\n",
       "      <td>-0.554898</td>\n",
       "      <td>-0.512110</td>\n",
       "      <td>-1.599138</td>\n",
       "    </tr>\n",
       "    <tr>\n",
       "      <th>2021-01-13</th>\n",
       "      <td>0.580095</td>\n",
       "      <td>-0.370571</td>\n",
       "      <td>-0.179992</td>\n",
       "      <td>-1.142861</td>\n",
       "    </tr>\n",
       "    <tr>\n",
       "      <th>2021-01-09</th>\n",
       "      <td>-2.264824</td>\n",
       "      <td>-0.300875</td>\n",
       "      <td>-0.325400</td>\n",
       "      <td>0.534196</td>\n",
       "    </tr>\n",
       "    <tr>\n",
       "      <th>2021-01-10</th>\n",
       "      <td>-0.193594</td>\n",
       "      <td>-0.217825</td>\n",
       "      <td>-0.056438</td>\n",
       "      <td>-1.047139</td>\n",
       "    </tr>\n",
       "    <tr>\n",
       "      <th>2021-01-01</th>\n",
       "      <td>0.008654</td>\n",
       "      <td>-0.126477</td>\n",
       "      <td>0.539719</td>\n",
       "      <td>1.105822</td>\n",
       "    </tr>\n",
       "    <tr>\n",
       "      <th>2021-01-15</th>\n",
       "      <td>1.233195</td>\n",
       "      <td>-0.101237</td>\n",
       "      <td>0.540558</td>\n",
       "      <td>-0.999549</td>\n",
       "    </tr>\n",
       "    <tr>\n",
       "      <th>2021-01-07</th>\n",
       "      <td>0.593081</td>\n",
       "      <td>0.043416</td>\n",
       "      <td>-0.277710</td>\n",
       "      <td>-0.070971</td>\n",
       "    </tr>\n",
       "    <tr>\n",
       "      <th>2021-01-05</th>\n",
       "      <td>1.162640</td>\n",
       "      <td>0.515293</td>\n",
       "      <td>0.453209</td>\n",
       "      <td>1.454471</td>\n",
       "    </tr>\n",
       "    <tr>\n",
       "      <th>2021-01-02</th>\n",
       "      <td>-1.227898</td>\n",
       "      <td>0.579727</td>\n",
       "      <td>0.175053</td>\n",
       "      <td>0.185574</td>\n",
       "    </tr>\n",
       "    <tr>\n",
       "      <th>2021-01-11</th>\n",
       "      <td>0.779426</td>\n",
       "      <td>0.599466</td>\n",
       "      <td>-0.335718</td>\n",
       "      <td>0.547992</td>\n",
       "    </tr>\n",
       "    <tr>\n",
       "      <th>2021-01-08</th>\n",
       "      <td>0.033507</td>\n",
       "      <td>0.740535</td>\n",
       "      <td>1.709354</td>\n",
       "      <td>0.786476</td>\n",
       "    </tr>\n",
       "    <tr>\n",
       "      <th>2021-01-12</th>\n",
       "      <td>1.324442</td>\n",
       "      <td>0.939933</td>\n",
       "      <td>0.274368</td>\n",
       "      <td>1.463821</td>\n",
       "    </tr>\n",
       "    <tr>\n",
       "      <th>2021-01-14</th>\n",
       "      <td>-0.144554</td>\n",
       "      <td>1.730484</td>\n",
       "      <td>-0.749591</td>\n",
       "      <td>-1.221470</td>\n",
       "    </tr>\n",
       "  </tbody>\n",
       "</table>\n",
       "</div>"
      ],
      "text/plain": [
       "                   A         B         C         D\n",
       "2021-01-17 -0.368305 -1.509361 -0.252288  0.875926\n",
       "2021-01-18  0.544170 -1.456745 -2.187101  0.921900\n",
       "2021-01-20 -0.560898 -1.242427 -0.574084 -0.488877\n",
       "2021-01-03 -0.946407 -1.118558 -1.435824  0.554559\n",
       "2021-01-16 -1.813061 -0.952302  1.751119  0.930238\n",
       "2021-01-06 -0.052724 -0.681884  1.182558 -0.672382\n",
       "2021-01-19 -0.453111 -0.645028  2.185281  0.041818\n",
       "2021-01-04  0.657420 -0.554898 -0.512110 -1.599138\n",
       "2021-01-13  0.580095 -0.370571 -0.179992 -1.142861\n",
       "2021-01-09 -2.264824 -0.300875 -0.325400  0.534196\n",
       "2021-01-10 -0.193594 -0.217825 -0.056438 -1.047139\n",
       "2021-01-01  0.008654 -0.126477  0.539719  1.105822\n",
       "2021-01-15  1.233195 -0.101237  0.540558 -0.999549\n",
       "2021-01-07  0.593081  0.043416 -0.277710 -0.070971\n",
       "2021-01-05  1.162640  0.515293  0.453209  1.454471\n",
       "2021-01-02 -1.227898  0.579727  0.175053  0.185574\n",
       "2021-01-11  0.779426  0.599466 -0.335718  0.547992\n",
       "2021-01-08  0.033507  0.740535  1.709354  0.786476\n",
       "2021-01-12  1.324442  0.939933  0.274368  1.463821\n",
       "2021-01-14 -0.144554  1.730484 -0.749591 -1.221470"
      ]
     },
     "execution_count": 15,
     "metadata": {},
     "output_type": "execute_result"
    }
   ],
   "source": [
    "df.sort_values(by=\"B\")"
   ]
  },
  {
   "cell_type": "markdown",
   "metadata": {},
   "source": [
    "## Selection\n",
    "Selecting a single column, which yields a Series, equivalent to df.A"
   ]
  },
  {
   "cell_type": "code",
   "execution_count": 16,
   "metadata": {},
   "outputs": [
    {
     "data": {
      "text/plain": [
       "2021-01-01    0.008654\n",
       "2021-01-02   -1.227898\n",
       "2021-01-03   -0.946407\n",
       "2021-01-04    0.657420\n",
       "2021-01-05    1.162640\n",
       "2021-01-06   -0.052724\n",
       "2021-01-07    0.593081\n",
       "2021-01-08    0.033507\n",
       "2021-01-09   -2.264824\n",
       "2021-01-10   -0.193594\n",
       "2021-01-11    0.779426\n",
       "2021-01-12    1.324442\n",
       "2021-01-13    0.580095\n",
       "2021-01-14   -0.144554\n",
       "2021-01-15    1.233195\n",
       "2021-01-16   -1.813061\n",
       "2021-01-17   -0.368305\n",
       "2021-01-18    0.544170\n",
       "2021-01-19   -0.453111\n",
       "2021-01-20   -0.560898\n",
       "Freq: D, Name: A, dtype: float64"
      ]
     },
     "execution_count": 16,
     "metadata": {},
     "output_type": "execute_result"
    }
   ],
   "source": [
    "df[\"A\"]"
   ]
  },
  {
   "cell_type": "markdown",
   "metadata": {},
   "source": [
    "Selecting via [], which slices the rows"
   ]
  },
  {
   "cell_type": "code",
   "execution_count": 17,
   "metadata": {},
   "outputs": [
    {
     "data": {
      "text/html": [
       "<div>\n",
       "<style scoped>\n",
       "    .dataframe tbody tr th:only-of-type {\n",
       "        vertical-align: middle;\n",
       "    }\n",
       "\n",
       "    .dataframe tbody tr th {\n",
       "        vertical-align: top;\n",
       "    }\n",
       "\n",
       "    .dataframe thead th {\n",
       "        text-align: right;\n",
       "    }\n",
       "</style>\n",
       "<table border=\"1\" class=\"dataframe\">\n",
       "  <thead>\n",
       "    <tr style=\"text-align: right;\">\n",
       "      <th></th>\n",
       "      <th>A</th>\n",
       "      <th>B</th>\n",
       "      <th>C</th>\n",
       "      <th>D</th>\n",
       "    </tr>\n",
       "  </thead>\n",
       "  <tbody>\n",
       "    <tr>\n",
       "      <th>2021-01-01</th>\n",
       "      <td>0.008654</td>\n",
       "      <td>-0.126477</td>\n",
       "      <td>0.539719</td>\n",
       "      <td>1.105822</td>\n",
       "    </tr>\n",
       "    <tr>\n",
       "      <th>2021-01-02</th>\n",
       "      <td>-1.227898</td>\n",
       "      <td>0.579727</td>\n",
       "      <td>0.175053</td>\n",
       "      <td>0.185574</td>\n",
       "    </tr>\n",
       "    <tr>\n",
       "      <th>2021-01-03</th>\n",
       "      <td>-0.946407</td>\n",
       "      <td>-1.118558</td>\n",
       "      <td>-1.435824</td>\n",
       "      <td>0.554559</td>\n",
       "    </tr>\n",
       "  </tbody>\n",
       "</table>\n",
       "</div>"
      ],
      "text/plain": [
       "                   A         B         C         D\n",
       "2021-01-01  0.008654 -0.126477  0.539719  1.105822\n",
       "2021-01-02 -1.227898  0.579727  0.175053  0.185574\n",
       "2021-01-03 -0.946407 -1.118558 -1.435824  0.554559"
      ]
     },
     "execution_count": 17,
     "metadata": {},
     "output_type": "execute_result"
    }
   ],
   "source": [
    "#row wise selection\n",
    "df[0:3]"
   ]
  },
  {
   "cell_type": "code",
   "execution_count": 18,
   "metadata": {},
   "outputs": [
    {
     "data": {
      "text/html": [
       "<div>\n",
       "<style scoped>\n",
       "    .dataframe tbody tr th:only-of-type {\n",
       "        vertical-align: middle;\n",
       "    }\n",
       "\n",
       "    .dataframe tbody tr th {\n",
       "        vertical-align: top;\n",
       "    }\n",
       "\n",
       "    .dataframe thead th {\n",
       "        text-align: right;\n",
       "    }\n",
       "</style>\n",
       "<table border=\"1\" class=\"dataframe\">\n",
       "  <thead>\n",
       "    <tr style=\"text-align: right;\">\n",
       "      <th></th>\n",
       "      <th>A</th>\n",
       "      <th>B</th>\n",
       "      <th>C</th>\n",
       "      <th>D</th>\n",
       "    </tr>\n",
       "  </thead>\n",
       "  <tbody>\n",
       "    <tr>\n",
       "      <th>2021-01-02</th>\n",
       "      <td>-1.227898</td>\n",
       "      <td>0.579727</td>\n",
       "      <td>0.175053</td>\n",
       "      <td>0.185574</td>\n",
       "    </tr>\n",
       "    <tr>\n",
       "      <th>2021-01-03</th>\n",
       "      <td>-0.946407</td>\n",
       "      <td>-1.118558</td>\n",
       "      <td>-1.435824</td>\n",
       "      <td>0.554559</td>\n",
       "    </tr>\n",
       "    <tr>\n",
       "      <th>2021-01-04</th>\n",
       "      <td>0.657420</td>\n",
       "      <td>-0.554898</td>\n",
       "      <td>-0.512110</td>\n",
       "      <td>-1.599138</td>\n",
       "    </tr>\n",
       "  </tbody>\n",
       "</table>\n",
       "</div>"
      ],
      "text/plain": [
       "                   A         B         C         D\n",
       "2021-01-02 -1.227898  0.579727  0.175053  0.185574\n",
       "2021-01-03 -0.946407 -1.118558 -1.435824  0.554559\n",
       "2021-01-04  0.657420 -0.554898 -0.512110 -1.599138"
      ]
     },
     "execution_count": 18,
     "metadata": {},
     "output_type": "execute_result"
    }
   ],
   "source": [
    "df[\"20210102\":\"20210104\"]"
   ]
  },
  {
   "cell_type": "markdown",
   "metadata": {},
   "source": [
    "For getting a cross section using a label"
   ]
  },
  {
   "cell_type": "code",
   "execution_count": 19,
   "metadata": {},
   "outputs": [
    {
     "data": {
      "text/plain": [
       "A    0.008654\n",
       "B   -0.126477\n",
       "C    0.539719\n",
       "D    1.105822\n",
       "Name: 2021-01-01 00:00:00, dtype: float64"
      ]
     },
     "execution_count": 19,
     "metadata": {},
     "output_type": "execute_result"
    }
   ],
   "source": [
    "df.loc[dates[0]]\n"
   ]
  },
  {
   "cell_type": "markdown",
   "metadata": {},
   "source": [
    "Selecting on a multi-axis by label"
   ]
  },
  {
   "cell_type": "code",
   "execution_count": 20,
   "metadata": {},
   "outputs": [
    {
     "data": {
      "text/html": [
       "<div>\n",
       "<style scoped>\n",
       "    .dataframe tbody tr th:only-of-type {\n",
       "        vertical-align: middle;\n",
       "    }\n",
       "\n",
       "    .dataframe tbody tr th {\n",
       "        vertical-align: top;\n",
       "    }\n",
       "\n",
       "    .dataframe thead th {\n",
       "        text-align: right;\n",
       "    }\n",
       "</style>\n",
       "<table border=\"1\" class=\"dataframe\">\n",
       "  <thead>\n",
       "    <tr style=\"text-align: right;\">\n",
       "      <th></th>\n",
       "      <th>A</th>\n",
       "      <th>B</th>\n",
       "    </tr>\n",
       "  </thead>\n",
       "  <tbody>\n",
       "    <tr>\n",
       "      <th>2021-01-01</th>\n",
       "      <td>0.008654</td>\n",
       "      <td>-0.126477</td>\n",
       "    </tr>\n",
       "    <tr>\n",
       "      <th>2021-01-02</th>\n",
       "      <td>-1.227898</td>\n",
       "      <td>0.579727</td>\n",
       "    </tr>\n",
       "    <tr>\n",
       "      <th>2021-01-03</th>\n",
       "      <td>-0.946407</td>\n",
       "      <td>-1.118558</td>\n",
       "    </tr>\n",
       "    <tr>\n",
       "      <th>2021-01-04</th>\n",
       "      <td>0.657420</td>\n",
       "      <td>-0.554898</td>\n",
       "    </tr>\n",
       "    <tr>\n",
       "      <th>2021-01-05</th>\n",
       "      <td>1.162640</td>\n",
       "      <td>0.515293</td>\n",
       "    </tr>\n",
       "    <tr>\n",
       "      <th>2021-01-06</th>\n",
       "      <td>-0.052724</td>\n",
       "      <td>-0.681884</td>\n",
       "    </tr>\n",
       "    <tr>\n",
       "      <th>2021-01-07</th>\n",
       "      <td>0.593081</td>\n",
       "      <td>0.043416</td>\n",
       "    </tr>\n",
       "    <tr>\n",
       "      <th>2021-01-08</th>\n",
       "      <td>0.033507</td>\n",
       "      <td>0.740535</td>\n",
       "    </tr>\n",
       "    <tr>\n",
       "      <th>2021-01-09</th>\n",
       "      <td>-2.264824</td>\n",
       "      <td>-0.300875</td>\n",
       "    </tr>\n",
       "    <tr>\n",
       "      <th>2021-01-10</th>\n",
       "      <td>-0.193594</td>\n",
       "      <td>-0.217825</td>\n",
       "    </tr>\n",
       "    <tr>\n",
       "      <th>2021-01-11</th>\n",
       "      <td>0.779426</td>\n",
       "      <td>0.599466</td>\n",
       "    </tr>\n",
       "    <tr>\n",
       "      <th>2021-01-12</th>\n",
       "      <td>1.324442</td>\n",
       "      <td>0.939933</td>\n",
       "    </tr>\n",
       "    <tr>\n",
       "      <th>2021-01-13</th>\n",
       "      <td>0.580095</td>\n",
       "      <td>-0.370571</td>\n",
       "    </tr>\n",
       "    <tr>\n",
       "      <th>2021-01-14</th>\n",
       "      <td>-0.144554</td>\n",
       "      <td>1.730484</td>\n",
       "    </tr>\n",
       "    <tr>\n",
       "      <th>2021-01-15</th>\n",
       "      <td>1.233195</td>\n",
       "      <td>-0.101237</td>\n",
       "    </tr>\n",
       "    <tr>\n",
       "      <th>2021-01-16</th>\n",
       "      <td>-1.813061</td>\n",
       "      <td>-0.952302</td>\n",
       "    </tr>\n",
       "    <tr>\n",
       "      <th>2021-01-17</th>\n",
       "      <td>-0.368305</td>\n",
       "      <td>-1.509361</td>\n",
       "    </tr>\n",
       "    <tr>\n",
       "      <th>2021-01-18</th>\n",
       "      <td>0.544170</td>\n",
       "      <td>-1.456745</td>\n",
       "    </tr>\n",
       "    <tr>\n",
       "      <th>2021-01-19</th>\n",
       "      <td>-0.453111</td>\n",
       "      <td>-0.645028</td>\n",
       "    </tr>\n",
       "    <tr>\n",
       "      <th>2021-01-20</th>\n",
       "      <td>-0.560898</td>\n",
       "      <td>-1.242427</td>\n",
       "    </tr>\n",
       "  </tbody>\n",
       "</table>\n",
       "</div>"
      ],
      "text/plain": [
       "                   A         B\n",
       "2021-01-01  0.008654 -0.126477\n",
       "2021-01-02 -1.227898  0.579727\n",
       "2021-01-03 -0.946407 -1.118558\n",
       "2021-01-04  0.657420 -0.554898\n",
       "2021-01-05  1.162640  0.515293\n",
       "2021-01-06 -0.052724 -0.681884\n",
       "2021-01-07  0.593081  0.043416\n",
       "2021-01-08  0.033507  0.740535\n",
       "2021-01-09 -2.264824 -0.300875\n",
       "2021-01-10 -0.193594 -0.217825\n",
       "2021-01-11  0.779426  0.599466\n",
       "2021-01-12  1.324442  0.939933\n",
       "2021-01-13  0.580095 -0.370571\n",
       "2021-01-14 -0.144554  1.730484\n",
       "2021-01-15  1.233195 -0.101237\n",
       "2021-01-16 -1.813061 -0.952302\n",
       "2021-01-17 -0.368305 -1.509361\n",
       "2021-01-18  0.544170 -1.456745\n",
       "2021-01-19 -0.453111 -0.645028\n",
       "2021-01-20 -0.560898 -1.242427"
      ]
     },
     "execution_count": 20,
     "metadata": {},
     "output_type": "execute_result"
    }
   ],
   "source": [
    "df.loc[:, [\"A\", \"B\"]]\n"
   ]
  },
  {
   "cell_type": "markdown",
   "metadata": {},
   "source": [
    "Showing label slicing, both endpoints are included"
   ]
  },
  {
   "cell_type": "code",
   "execution_count": 21,
   "metadata": {},
   "outputs": [
    {
     "data": {
      "text/html": [
       "<div>\n",
       "<style scoped>\n",
       "    .dataframe tbody tr th:only-of-type {\n",
       "        vertical-align: middle;\n",
       "    }\n",
       "\n",
       "    .dataframe tbody tr th {\n",
       "        vertical-align: top;\n",
       "    }\n",
       "\n",
       "    .dataframe thead th {\n",
       "        text-align: right;\n",
       "    }\n",
       "</style>\n",
       "<table border=\"1\" class=\"dataframe\">\n",
       "  <thead>\n",
       "    <tr style=\"text-align: right;\">\n",
       "      <th></th>\n",
       "      <th>A</th>\n",
       "      <th>B</th>\n",
       "    </tr>\n",
       "  </thead>\n",
       "  <tbody>\n",
       "  </tbody>\n",
       "</table>\n",
       "</div>"
      ],
      "text/plain": [
       "Empty DataFrame\n",
       "Columns: [A, B]\n",
       "Index: []"
      ]
     },
     "execution_count": 21,
     "metadata": {},
     "output_type": "execute_result"
    }
   ],
   "source": [
    "df.loc[\"20130102\":\"20130104\", [\"A\", \"B\"]]\n"
   ]
  },
  {
   "cell_type": "markdown",
   "metadata": {},
   "source": [
    "Reduction in the dimensions of the returned object"
   ]
  },
  {
   "cell_type": "code",
   "execution_count": 22,
   "metadata": {},
   "outputs": [
    {
     "data": {
      "text/plain": [
       "A   -1.227898\n",
       "B    0.579727\n",
       "Name: 2021-01-02 00:00:00, dtype: float64"
      ]
     },
     "execution_count": 22,
     "metadata": {},
     "output_type": "execute_result"
    }
   ],
   "source": [
    "df.loc[\"20210102\", [\"A\", \"B\"]]\n"
   ]
  },
  {
   "cell_type": "markdown",
   "metadata": {},
   "source": [
    "For getting a scalar value:"
   ]
  },
  {
   "cell_type": "code",
   "execution_count": 23,
   "metadata": {},
   "outputs": [
    {
     "data": {
      "text/plain": [
       "0.008654390052754285"
      ]
     },
     "execution_count": 23,
     "metadata": {},
     "output_type": "execute_result"
    }
   ],
   "source": [
    "df.loc[dates[0], \"A\"]\n"
   ]
  },
  {
   "cell_type": "markdown",
   "metadata": {},
   "source": [
    "For getting fast access to a scalar (equivalent to the prior method)"
   ]
  },
  {
   "cell_type": "code",
   "execution_count": 24,
   "metadata": {},
   "outputs": [
    {
     "data": {
      "text/plain": [
       "0.008654390052754285"
      ]
     },
     "execution_count": 24,
     "metadata": {},
     "output_type": "execute_result"
    }
   ],
   "source": [
    "df.at[dates[0], \"A\"]"
   ]
  },
  {
   "cell_type": "markdown",
   "metadata": {},
   "source": [
    "Select via the position of the passed integers, By integer slices, acting similar to NumPy/Python"
   ]
  },
  {
   "cell_type": "code",
   "execution_count": 25,
   "metadata": {},
   "outputs": [
    {
     "data": {
      "text/html": [
       "<div>\n",
       "<style scoped>\n",
       "    .dataframe tbody tr th:only-of-type {\n",
       "        vertical-align: middle;\n",
       "    }\n",
       "\n",
       "    .dataframe tbody tr th {\n",
       "        vertical-align: top;\n",
       "    }\n",
       "\n",
       "    .dataframe thead th {\n",
       "        text-align: right;\n",
       "    }\n",
       "</style>\n",
       "<table border=\"1\" class=\"dataframe\">\n",
       "  <thead>\n",
       "    <tr style=\"text-align: right;\">\n",
       "      <th></th>\n",
       "      <th>A</th>\n",
       "      <th>B</th>\n",
       "    </tr>\n",
       "  </thead>\n",
       "  <tbody>\n",
       "    <tr>\n",
       "      <th>2021-01-04</th>\n",
       "      <td>0.65742</td>\n",
       "      <td>-0.554898</td>\n",
       "    </tr>\n",
       "    <tr>\n",
       "      <th>2021-01-05</th>\n",
       "      <td>1.16264</td>\n",
       "      <td>0.515293</td>\n",
       "    </tr>\n",
       "  </tbody>\n",
       "</table>\n",
       "</div>"
      ],
      "text/plain": [
       "                  A         B\n",
       "2021-01-04  0.65742 -0.554898\n",
       "2021-01-05  1.16264  0.515293"
      ]
     },
     "execution_count": 25,
     "metadata": {},
     "output_type": "execute_result"
    }
   ],
   "source": [
    "df.iloc[3:5, 0:2]"
   ]
  },
  {
   "cell_type": "code",
   "execution_count": 26,
   "metadata": {},
   "outputs": [
    {
     "data": {
      "text/plain": [
       "A    0.657420\n",
       "B   -0.554898\n",
       "C   -0.512110\n",
       "D   -1.599138\n",
       "Name: 2021-01-04 00:00:00, dtype: float64"
      ]
     },
     "execution_count": 26,
     "metadata": {},
     "output_type": "execute_result"
    }
   ],
   "source": [
    "df.iloc[3]"
   ]
  },
  {
   "cell_type": "markdown",
   "metadata": {},
   "source": []
  },
  {
   "cell_type": "code",
   "execution_count": 27,
   "metadata": {},
   "outputs": [
    {
     "data": {
      "text/html": [
       "<div>\n",
       "<style scoped>\n",
       "    .dataframe tbody tr th:only-of-type {\n",
       "        vertical-align: middle;\n",
       "    }\n",
       "\n",
       "    .dataframe tbody tr th {\n",
       "        vertical-align: top;\n",
       "    }\n",
       "\n",
       "    .dataframe thead th {\n",
       "        text-align: right;\n",
       "    }\n",
       "</style>\n",
       "<table border=\"1\" class=\"dataframe\">\n",
       "  <thead>\n",
       "    <tr style=\"text-align: right;\">\n",
       "      <th></th>\n",
       "      <th>A</th>\n",
       "      <th>C</th>\n",
       "    </tr>\n",
       "  </thead>\n",
       "  <tbody>\n",
       "    <tr>\n",
       "      <th>2021-01-02</th>\n",
       "      <td>-1.227898</td>\n",
       "      <td>0.175053</td>\n",
       "    </tr>\n",
       "    <tr>\n",
       "      <th>2021-01-03</th>\n",
       "      <td>-0.946407</td>\n",
       "      <td>-1.435824</td>\n",
       "    </tr>\n",
       "    <tr>\n",
       "      <th>2021-01-05</th>\n",
       "      <td>1.162640</td>\n",
       "      <td>0.453209</td>\n",
       "    </tr>\n",
       "  </tbody>\n",
       "</table>\n",
       "</div>"
      ],
      "text/plain": [
       "                   A         C\n",
       "2021-01-02 -1.227898  0.175053\n",
       "2021-01-03 -0.946407 -1.435824\n",
       "2021-01-05  1.162640  0.453209"
      ]
     },
     "execution_count": 27,
     "metadata": {},
     "output_type": "execute_result"
    }
   ],
   "source": [
    "df.iloc[[1, 2, 4], [0, 2]]\n"
   ]
  },
  {
   "cell_type": "markdown",
   "metadata": {},
   "source": [
    "For slicing rows explicitly:"
   ]
  },
  {
   "cell_type": "code",
   "execution_count": 28,
   "metadata": {},
   "outputs": [
    {
     "data": {
      "text/html": [
       "<div>\n",
       "<style scoped>\n",
       "    .dataframe tbody tr th:only-of-type {\n",
       "        vertical-align: middle;\n",
       "    }\n",
       "\n",
       "    .dataframe tbody tr th {\n",
       "        vertical-align: top;\n",
       "    }\n",
       "\n",
       "    .dataframe thead th {\n",
       "        text-align: right;\n",
       "    }\n",
       "</style>\n",
       "<table border=\"1\" class=\"dataframe\">\n",
       "  <thead>\n",
       "    <tr style=\"text-align: right;\">\n",
       "      <th></th>\n",
       "      <th>A</th>\n",
       "      <th>B</th>\n",
       "      <th>C</th>\n",
       "      <th>D</th>\n",
       "    </tr>\n",
       "  </thead>\n",
       "  <tbody>\n",
       "    <tr>\n",
       "      <th>2021-01-02</th>\n",
       "      <td>-1.227898</td>\n",
       "      <td>0.579727</td>\n",
       "      <td>0.175053</td>\n",
       "      <td>0.185574</td>\n",
       "    </tr>\n",
       "    <tr>\n",
       "      <th>2021-01-03</th>\n",
       "      <td>-0.946407</td>\n",
       "      <td>-1.118558</td>\n",
       "      <td>-1.435824</td>\n",
       "      <td>0.554559</td>\n",
       "    </tr>\n",
       "  </tbody>\n",
       "</table>\n",
       "</div>"
      ],
      "text/plain": [
       "                   A         B         C         D\n",
       "2021-01-02 -1.227898  0.579727  0.175053  0.185574\n",
       "2021-01-03 -0.946407 -1.118558 -1.435824  0.554559"
      ]
     },
     "execution_count": 28,
     "metadata": {},
     "output_type": "execute_result"
    }
   ],
   "source": [
    "df.iloc[1:3, :] # 1st row at 0 place and 3rd row excluded\n"
   ]
  },
  {
   "cell_type": "markdown",
   "metadata": {},
   "source": [
    "For slicing columns explicitly:"
   ]
  },
  {
   "cell_type": "code",
   "execution_count": 29,
   "metadata": {},
   "outputs": [
    {
     "data": {
      "text/html": [
       "<div>\n",
       "<style scoped>\n",
       "    .dataframe tbody tr th:only-of-type {\n",
       "        vertical-align: middle;\n",
       "    }\n",
       "\n",
       "    .dataframe tbody tr th {\n",
       "        vertical-align: top;\n",
       "    }\n",
       "\n",
       "    .dataframe thead th {\n",
       "        text-align: right;\n",
       "    }\n",
       "</style>\n",
       "<table border=\"1\" class=\"dataframe\">\n",
       "  <thead>\n",
       "    <tr style=\"text-align: right;\">\n",
       "      <th></th>\n",
       "      <th>B</th>\n",
       "      <th>C</th>\n",
       "    </tr>\n",
       "  </thead>\n",
       "  <tbody>\n",
       "    <tr>\n",
       "      <th>2021-01-01</th>\n",
       "      <td>-0.126477</td>\n",
       "      <td>0.539719</td>\n",
       "    </tr>\n",
       "    <tr>\n",
       "      <th>2021-01-02</th>\n",
       "      <td>0.579727</td>\n",
       "      <td>0.175053</td>\n",
       "    </tr>\n",
       "    <tr>\n",
       "      <th>2021-01-03</th>\n",
       "      <td>-1.118558</td>\n",
       "      <td>-1.435824</td>\n",
       "    </tr>\n",
       "    <tr>\n",
       "      <th>2021-01-04</th>\n",
       "      <td>-0.554898</td>\n",
       "      <td>-0.512110</td>\n",
       "    </tr>\n",
       "    <tr>\n",
       "      <th>2021-01-05</th>\n",
       "      <td>0.515293</td>\n",
       "      <td>0.453209</td>\n",
       "    </tr>\n",
       "    <tr>\n",
       "      <th>2021-01-06</th>\n",
       "      <td>-0.681884</td>\n",
       "      <td>1.182558</td>\n",
       "    </tr>\n",
       "    <tr>\n",
       "      <th>2021-01-07</th>\n",
       "      <td>0.043416</td>\n",
       "      <td>-0.277710</td>\n",
       "    </tr>\n",
       "    <tr>\n",
       "      <th>2021-01-08</th>\n",
       "      <td>0.740535</td>\n",
       "      <td>1.709354</td>\n",
       "    </tr>\n",
       "    <tr>\n",
       "      <th>2021-01-09</th>\n",
       "      <td>-0.300875</td>\n",
       "      <td>-0.325400</td>\n",
       "    </tr>\n",
       "    <tr>\n",
       "      <th>2021-01-10</th>\n",
       "      <td>-0.217825</td>\n",
       "      <td>-0.056438</td>\n",
       "    </tr>\n",
       "    <tr>\n",
       "      <th>2021-01-11</th>\n",
       "      <td>0.599466</td>\n",
       "      <td>-0.335718</td>\n",
       "    </tr>\n",
       "    <tr>\n",
       "      <th>2021-01-12</th>\n",
       "      <td>0.939933</td>\n",
       "      <td>0.274368</td>\n",
       "    </tr>\n",
       "    <tr>\n",
       "      <th>2021-01-13</th>\n",
       "      <td>-0.370571</td>\n",
       "      <td>-0.179992</td>\n",
       "    </tr>\n",
       "    <tr>\n",
       "      <th>2021-01-14</th>\n",
       "      <td>1.730484</td>\n",
       "      <td>-0.749591</td>\n",
       "    </tr>\n",
       "    <tr>\n",
       "      <th>2021-01-15</th>\n",
       "      <td>-0.101237</td>\n",
       "      <td>0.540558</td>\n",
       "    </tr>\n",
       "    <tr>\n",
       "      <th>2021-01-16</th>\n",
       "      <td>-0.952302</td>\n",
       "      <td>1.751119</td>\n",
       "    </tr>\n",
       "    <tr>\n",
       "      <th>2021-01-17</th>\n",
       "      <td>-1.509361</td>\n",
       "      <td>-0.252288</td>\n",
       "    </tr>\n",
       "    <tr>\n",
       "      <th>2021-01-18</th>\n",
       "      <td>-1.456745</td>\n",
       "      <td>-2.187101</td>\n",
       "    </tr>\n",
       "    <tr>\n",
       "      <th>2021-01-19</th>\n",
       "      <td>-0.645028</td>\n",
       "      <td>2.185281</td>\n",
       "    </tr>\n",
       "    <tr>\n",
       "      <th>2021-01-20</th>\n",
       "      <td>-1.242427</td>\n",
       "      <td>-0.574084</td>\n",
       "    </tr>\n",
       "  </tbody>\n",
       "</table>\n",
       "</div>"
      ],
      "text/plain": [
       "                   B         C\n",
       "2021-01-01 -0.126477  0.539719\n",
       "2021-01-02  0.579727  0.175053\n",
       "2021-01-03 -1.118558 -1.435824\n",
       "2021-01-04 -0.554898 -0.512110\n",
       "2021-01-05  0.515293  0.453209\n",
       "2021-01-06 -0.681884  1.182558\n",
       "2021-01-07  0.043416 -0.277710\n",
       "2021-01-08  0.740535  1.709354\n",
       "2021-01-09 -0.300875 -0.325400\n",
       "2021-01-10 -0.217825 -0.056438\n",
       "2021-01-11  0.599466 -0.335718\n",
       "2021-01-12  0.939933  0.274368\n",
       "2021-01-13 -0.370571 -0.179992\n",
       "2021-01-14  1.730484 -0.749591\n",
       "2021-01-15 -0.101237  0.540558\n",
       "2021-01-16 -0.952302  1.751119\n",
       "2021-01-17 -1.509361 -0.252288\n",
       "2021-01-18 -1.456745 -2.187101\n",
       "2021-01-19 -0.645028  2.185281\n",
       "2021-01-20 -1.242427 -0.574084"
      ]
     },
     "execution_count": 29,
     "metadata": {},
     "output_type": "execute_result"
    }
   ],
   "source": [
    "df.iloc[:, 1:3] # 1st column at 0 place and 3rd column excluded\n"
   ]
  },
  {
   "cell_type": "markdown",
   "metadata": {},
   "source": [
    "For getting a value explicitly:"
   ]
  },
  {
   "cell_type": "code",
   "execution_count": 30,
   "metadata": {},
   "outputs": [
    {
     "data": {
      "text/plain": [
       "0.5797269868237717"
      ]
     },
     "execution_count": 30,
     "metadata": {},
     "output_type": "execute_result"
    }
   ],
   "source": [
    "df.iloc[1, 1]   \n"
   ]
  },
  {
   "cell_type": "markdown",
   "metadata": {},
   "source": [
    "For getting fast access to a scalar (equivalent to the prior method)"
   ]
  },
  {
   "cell_type": "code",
   "execution_count": 31,
   "metadata": {},
   "outputs": [
    {
     "data": {
      "text/plain": [
       "0.5797269868237717"
      ]
     },
     "execution_count": 31,
     "metadata": {},
     "output_type": "execute_result"
    }
   ],
   "source": [
    "df.iat[1, 1]\n"
   ]
  },
  {
   "cell_type": "markdown",
   "metadata": {},
   "source": [
    "## Boolean indexing\n",
    "Using a single column’s values to select data"
   ]
  },
  {
   "cell_type": "code",
   "execution_count": 32,
   "metadata": {},
   "outputs": [
    {
     "data": {
      "text/html": [
       "<div>\n",
       "<style scoped>\n",
       "    .dataframe tbody tr th:only-of-type {\n",
       "        vertical-align: middle;\n",
       "    }\n",
       "\n",
       "    .dataframe tbody tr th {\n",
       "        vertical-align: top;\n",
       "    }\n",
       "\n",
       "    .dataframe thead th {\n",
       "        text-align: right;\n",
       "    }\n",
       "</style>\n",
       "<table border=\"1\" class=\"dataframe\">\n",
       "  <thead>\n",
       "    <tr style=\"text-align: right;\">\n",
       "      <th></th>\n",
       "      <th>A</th>\n",
       "      <th>B</th>\n",
       "      <th>C</th>\n",
       "      <th>D</th>\n",
       "    </tr>\n",
       "  </thead>\n",
       "  <tbody>\n",
       "    <tr>\n",
       "      <th>2021-01-01</th>\n",
       "      <td>0.008654</td>\n",
       "      <td>-0.126477</td>\n",
       "      <td>0.539719</td>\n",
       "      <td>1.105822</td>\n",
       "    </tr>\n",
       "    <tr>\n",
       "      <th>2021-01-04</th>\n",
       "      <td>0.657420</td>\n",
       "      <td>-0.554898</td>\n",
       "      <td>-0.512110</td>\n",
       "      <td>-1.599138</td>\n",
       "    </tr>\n",
       "    <tr>\n",
       "      <th>2021-01-05</th>\n",
       "      <td>1.162640</td>\n",
       "      <td>0.515293</td>\n",
       "      <td>0.453209</td>\n",
       "      <td>1.454471</td>\n",
       "    </tr>\n",
       "    <tr>\n",
       "      <th>2021-01-07</th>\n",
       "      <td>0.593081</td>\n",
       "      <td>0.043416</td>\n",
       "      <td>-0.277710</td>\n",
       "      <td>-0.070971</td>\n",
       "    </tr>\n",
       "    <tr>\n",
       "      <th>2021-01-08</th>\n",
       "      <td>0.033507</td>\n",
       "      <td>0.740535</td>\n",
       "      <td>1.709354</td>\n",
       "      <td>0.786476</td>\n",
       "    </tr>\n",
       "    <tr>\n",
       "      <th>2021-01-11</th>\n",
       "      <td>0.779426</td>\n",
       "      <td>0.599466</td>\n",
       "      <td>-0.335718</td>\n",
       "      <td>0.547992</td>\n",
       "    </tr>\n",
       "    <tr>\n",
       "      <th>2021-01-12</th>\n",
       "      <td>1.324442</td>\n",
       "      <td>0.939933</td>\n",
       "      <td>0.274368</td>\n",
       "      <td>1.463821</td>\n",
       "    </tr>\n",
       "    <tr>\n",
       "      <th>2021-01-13</th>\n",
       "      <td>0.580095</td>\n",
       "      <td>-0.370571</td>\n",
       "      <td>-0.179992</td>\n",
       "      <td>-1.142861</td>\n",
       "    </tr>\n",
       "    <tr>\n",
       "      <th>2021-01-15</th>\n",
       "      <td>1.233195</td>\n",
       "      <td>-0.101237</td>\n",
       "      <td>0.540558</td>\n",
       "      <td>-0.999549</td>\n",
       "    </tr>\n",
       "    <tr>\n",
       "      <th>2021-01-18</th>\n",
       "      <td>0.544170</td>\n",
       "      <td>-1.456745</td>\n",
       "      <td>-2.187101</td>\n",
       "      <td>0.921900</td>\n",
       "    </tr>\n",
       "  </tbody>\n",
       "</table>\n",
       "</div>"
      ],
      "text/plain": [
       "                   A         B         C         D\n",
       "2021-01-01  0.008654 -0.126477  0.539719  1.105822\n",
       "2021-01-04  0.657420 -0.554898 -0.512110 -1.599138\n",
       "2021-01-05  1.162640  0.515293  0.453209  1.454471\n",
       "2021-01-07  0.593081  0.043416 -0.277710 -0.070971\n",
       "2021-01-08  0.033507  0.740535  1.709354  0.786476\n",
       "2021-01-11  0.779426  0.599466 -0.335718  0.547992\n",
       "2021-01-12  1.324442  0.939933  0.274368  1.463821\n",
       "2021-01-13  0.580095 -0.370571 -0.179992 -1.142861\n",
       "2021-01-15  1.233195 -0.101237  0.540558 -0.999549\n",
       "2021-01-18  0.544170 -1.456745 -2.187101  0.921900"
      ]
     },
     "execution_count": 32,
     "metadata": {},
     "output_type": "execute_result"
    }
   ],
   "source": [
    "df[df[\"A\"] > 0]\n"
   ]
  },
  {
   "cell_type": "markdown",
   "metadata": {},
   "source": [
    "#Assignment\n",
    "Using a multiple column’s values to select data"
   ]
  },
  {
   "cell_type": "code",
   "execution_count": 33,
   "metadata": {},
   "outputs": [
    {
     "data": {
      "text/html": [
       "<div>\n",
       "<style scoped>\n",
       "    .dataframe tbody tr th:only-of-type {\n",
       "        vertical-align: middle;\n",
       "    }\n",
       "\n",
       "    .dataframe tbody tr th {\n",
       "        vertical-align: top;\n",
       "    }\n",
       "\n",
       "    .dataframe thead th {\n",
       "        text-align: right;\n",
       "    }\n",
       "</style>\n",
       "<table border=\"1\" class=\"dataframe\">\n",
       "  <thead>\n",
       "    <tr style=\"text-align: right;\">\n",
       "      <th></th>\n",
       "      <th>A</th>\n",
       "      <th>B</th>\n",
       "      <th>C</th>\n",
       "      <th>D</th>\n",
       "    </tr>\n",
       "  </thead>\n",
       "  <tbody>\n",
       "    <tr>\n",
       "      <th>2021-01-05</th>\n",
       "      <td>1.162640</td>\n",
       "      <td>0.515293</td>\n",
       "      <td>0.453209</td>\n",
       "      <td>1.454471</td>\n",
       "    </tr>\n",
       "    <tr>\n",
       "      <th>2021-01-07</th>\n",
       "      <td>0.593081</td>\n",
       "      <td>0.043416</td>\n",
       "      <td>-0.277710</td>\n",
       "      <td>-0.070971</td>\n",
       "    </tr>\n",
       "    <tr>\n",
       "      <th>2021-01-08</th>\n",
       "      <td>0.033507</td>\n",
       "      <td>0.740535</td>\n",
       "      <td>1.709354</td>\n",
       "      <td>0.786476</td>\n",
       "    </tr>\n",
       "    <tr>\n",
       "      <th>2021-01-11</th>\n",
       "      <td>0.779426</td>\n",
       "      <td>0.599466</td>\n",
       "      <td>-0.335718</td>\n",
       "      <td>0.547992</td>\n",
       "    </tr>\n",
       "    <tr>\n",
       "      <th>2021-01-12</th>\n",
       "      <td>1.324442</td>\n",
       "      <td>0.939933</td>\n",
       "      <td>0.274368</td>\n",
       "      <td>1.463821</td>\n",
       "    </tr>\n",
       "  </tbody>\n",
       "</table>\n",
       "</div>"
      ],
      "text/plain": [
       "                   A         B         C         D\n",
       "2021-01-05  1.162640  0.515293  0.453209  1.454471\n",
       "2021-01-07  0.593081  0.043416 -0.277710 -0.070971\n",
       "2021-01-08  0.033507  0.740535  1.709354  0.786476\n",
       "2021-01-11  0.779426  0.599466 -0.335718  0.547992\n",
       "2021-01-12  1.324442  0.939933  0.274368  1.463821"
      ]
     },
     "execution_count": 33,
     "metadata": {},
     "output_type": "execute_result"
    }
   ],
   "source": [
    "df[(df[\"A\"] > 0) & (df[\"B\"] > 0)] # () parenthesis to be used for & AND and | OR operator"
   ]
  },
  {
   "cell_type": "markdown",
   "metadata": {},
   "source": [
    "Selecting values from a DataFrame where a boolean condition is met"
   ]
  },
  {
   "cell_type": "code",
   "execution_count": 34,
   "metadata": {},
   "outputs": [
    {
     "data": {
      "text/html": [
       "<div>\n",
       "<style scoped>\n",
       "    .dataframe tbody tr th:only-of-type {\n",
       "        vertical-align: middle;\n",
       "    }\n",
       "\n",
       "    .dataframe tbody tr th {\n",
       "        vertical-align: top;\n",
       "    }\n",
       "\n",
       "    .dataframe thead th {\n",
       "        text-align: right;\n",
       "    }\n",
       "</style>\n",
       "<table border=\"1\" class=\"dataframe\">\n",
       "  <thead>\n",
       "    <tr style=\"text-align: right;\">\n",
       "      <th></th>\n",
       "      <th>A</th>\n",
       "      <th>B</th>\n",
       "      <th>C</th>\n",
       "      <th>D</th>\n",
       "    </tr>\n",
       "  </thead>\n",
       "  <tbody>\n",
       "    <tr>\n",
       "      <th>2021-01-01</th>\n",
       "      <td>0.008654</td>\n",
       "      <td>NaN</td>\n",
       "      <td>0.539719</td>\n",
       "      <td>1.105822</td>\n",
       "    </tr>\n",
       "    <tr>\n",
       "      <th>2021-01-02</th>\n",
       "      <td>NaN</td>\n",
       "      <td>0.579727</td>\n",
       "      <td>0.175053</td>\n",
       "      <td>0.185574</td>\n",
       "    </tr>\n",
       "    <tr>\n",
       "      <th>2021-01-03</th>\n",
       "      <td>NaN</td>\n",
       "      <td>NaN</td>\n",
       "      <td>NaN</td>\n",
       "      <td>0.554559</td>\n",
       "    </tr>\n",
       "    <tr>\n",
       "      <th>2021-01-04</th>\n",
       "      <td>0.657420</td>\n",
       "      <td>NaN</td>\n",
       "      <td>NaN</td>\n",
       "      <td>NaN</td>\n",
       "    </tr>\n",
       "    <tr>\n",
       "      <th>2021-01-05</th>\n",
       "      <td>1.162640</td>\n",
       "      <td>0.515293</td>\n",
       "      <td>0.453209</td>\n",
       "      <td>1.454471</td>\n",
       "    </tr>\n",
       "    <tr>\n",
       "      <th>2021-01-06</th>\n",
       "      <td>NaN</td>\n",
       "      <td>NaN</td>\n",
       "      <td>1.182558</td>\n",
       "      <td>NaN</td>\n",
       "    </tr>\n",
       "    <tr>\n",
       "      <th>2021-01-07</th>\n",
       "      <td>0.593081</td>\n",
       "      <td>0.043416</td>\n",
       "      <td>NaN</td>\n",
       "      <td>NaN</td>\n",
       "    </tr>\n",
       "    <tr>\n",
       "      <th>2021-01-08</th>\n",
       "      <td>0.033507</td>\n",
       "      <td>0.740535</td>\n",
       "      <td>1.709354</td>\n",
       "      <td>0.786476</td>\n",
       "    </tr>\n",
       "    <tr>\n",
       "      <th>2021-01-09</th>\n",
       "      <td>NaN</td>\n",
       "      <td>NaN</td>\n",
       "      <td>NaN</td>\n",
       "      <td>0.534196</td>\n",
       "    </tr>\n",
       "    <tr>\n",
       "      <th>2021-01-10</th>\n",
       "      <td>NaN</td>\n",
       "      <td>NaN</td>\n",
       "      <td>NaN</td>\n",
       "      <td>NaN</td>\n",
       "    </tr>\n",
       "    <tr>\n",
       "      <th>2021-01-11</th>\n",
       "      <td>0.779426</td>\n",
       "      <td>0.599466</td>\n",
       "      <td>NaN</td>\n",
       "      <td>0.547992</td>\n",
       "    </tr>\n",
       "    <tr>\n",
       "      <th>2021-01-12</th>\n",
       "      <td>1.324442</td>\n",
       "      <td>0.939933</td>\n",
       "      <td>0.274368</td>\n",
       "      <td>1.463821</td>\n",
       "    </tr>\n",
       "    <tr>\n",
       "      <th>2021-01-13</th>\n",
       "      <td>0.580095</td>\n",
       "      <td>NaN</td>\n",
       "      <td>NaN</td>\n",
       "      <td>NaN</td>\n",
       "    </tr>\n",
       "    <tr>\n",
       "      <th>2021-01-14</th>\n",
       "      <td>NaN</td>\n",
       "      <td>1.730484</td>\n",
       "      <td>NaN</td>\n",
       "      <td>NaN</td>\n",
       "    </tr>\n",
       "    <tr>\n",
       "      <th>2021-01-15</th>\n",
       "      <td>1.233195</td>\n",
       "      <td>NaN</td>\n",
       "      <td>0.540558</td>\n",
       "      <td>NaN</td>\n",
       "    </tr>\n",
       "    <tr>\n",
       "      <th>2021-01-16</th>\n",
       "      <td>NaN</td>\n",
       "      <td>NaN</td>\n",
       "      <td>1.751119</td>\n",
       "      <td>0.930238</td>\n",
       "    </tr>\n",
       "    <tr>\n",
       "      <th>2021-01-17</th>\n",
       "      <td>NaN</td>\n",
       "      <td>NaN</td>\n",
       "      <td>NaN</td>\n",
       "      <td>0.875926</td>\n",
       "    </tr>\n",
       "    <tr>\n",
       "      <th>2021-01-18</th>\n",
       "      <td>0.544170</td>\n",
       "      <td>NaN</td>\n",
       "      <td>NaN</td>\n",
       "      <td>0.921900</td>\n",
       "    </tr>\n",
       "    <tr>\n",
       "      <th>2021-01-19</th>\n",
       "      <td>NaN</td>\n",
       "      <td>NaN</td>\n",
       "      <td>2.185281</td>\n",
       "      <td>0.041818</td>\n",
       "    </tr>\n",
       "    <tr>\n",
       "      <th>2021-01-20</th>\n",
       "      <td>NaN</td>\n",
       "      <td>NaN</td>\n",
       "      <td>NaN</td>\n",
       "      <td>NaN</td>\n",
       "    </tr>\n",
       "  </tbody>\n",
       "</table>\n",
       "</div>"
      ],
      "text/plain": [
       "                   A         B         C         D\n",
       "2021-01-01  0.008654       NaN  0.539719  1.105822\n",
       "2021-01-02       NaN  0.579727  0.175053  0.185574\n",
       "2021-01-03       NaN       NaN       NaN  0.554559\n",
       "2021-01-04  0.657420       NaN       NaN       NaN\n",
       "2021-01-05  1.162640  0.515293  0.453209  1.454471\n",
       "2021-01-06       NaN       NaN  1.182558       NaN\n",
       "2021-01-07  0.593081  0.043416       NaN       NaN\n",
       "2021-01-08  0.033507  0.740535  1.709354  0.786476\n",
       "2021-01-09       NaN       NaN       NaN  0.534196\n",
       "2021-01-10       NaN       NaN       NaN       NaN\n",
       "2021-01-11  0.779426  0.599466       NaN  0.547992\n",
       "2021-01-12  1.324442  0.939933  0.274368  1.463821\n",
       "2021-01-13  0.580095       NaN       NaN       NaN\n",
       "2021-01-14       NaN  1.730484       NaN       NaN\n",
       "2021-01-15  1.233195       NaN  0.540558       NaN\n",
       "2021-01-16       NaN       NaN  1.751119  0.930238\n",
       "2021-01-17       NaN       NaN       NaN  0.875926\n",
       "2021-01-18  0.544170       NaN       NaN  0.921900\n",
       "2021-01-19       NaN       NaN  2.185281  0.041818\n",
       "2021-01-20       NaN       NaN       NaN       NaN"
      ]
     },
     "execution_count": 34,
     "metadata": {},
     "output_type": "execute_result"
    }
   ],
   "source": [
    "df[df > 0]\n"
   ]
  },
  {
   "cell_type": "markdown",
   "metadata": {},
   "source": [
    "Using the isin() method for filtering"
   ]
  },
  {
   "cell_type": "code",
   "execution_count": 35,
   "metadata": {},
   "outputs": [],
   "source": [
    "df2 = df.copy()\n"
   ]
  },
  {
   "cell_type": "code",
   "execution_count": 36,
   "metadata": {},
   "outputs": [],
   "source": [
    "df2[\"g\"] = [ \"one\", \"two\", \"three\", \"four\", \"three\",\"one\", \"two\", \"three\", \"four\", \"three\", \"one\", \"two\", \"three\", \"four\", \"three\", \"one\", \"two\", \"three\", \"four\", \"three\"]"
   ]
  },
  {
   "cell_type": "markdown",
   "metadata": {},
   "source": [
    "take row wise mean of A,B,C,D"
   ]
  },
  {
   "cell_type": "code",
   "execution_count": 37,
   "metadata": {},
   "outputs": [],
   "source": [
    "df2[\"mean\"] = df[[\"A\",\"B\",\"C\",\"D\"]].mean(1) "
   ]
  },
  {
   "cell_type": "code",
   "execution_count": 38,
   "metadata": {},
   "outputs": [
    {
     "data": {
      "text/plain": [
       "-0.4364845"
      ]
     },
     "execution_count": 38,
     "metadata": {},
     "output_type": "execute_result"
    }
   ],
   "source": [
    "np.mean([-1.087499,1.664167,-2.160685,-0.161921])"
   ]
  },
  {
   "cell_type": "code",
   "execution_count": 39,
   "metadata": {},
   "outputs": [],
   "source": [
    "df2=df2[[\"A\",\"B\",\"C\",\"D\",\"mean\"]] # To udate "
   ]
  }
 ],
 "metadata": {
  "interpreter": {
   "hash": "5c0f63f8d85341b9844318c0f50c2d88d5a3002c1cf10952ef83f9b0f990ca8d"
  },
  "kernelspec": {
   "display_name": "Python 3.10.1 64-bit",
   "language": "python",
   "name": "python3"
  },
  "language_info": {
   "codemirror_mode": {
    "name": "ipython",
    "version": 3
   },
   "file_extension": ".py",
   "mimetype": "text/x-python",
   "name": "python",
   "nbconvert_exporter": "python",
   "pygments_lexer": "ipython3",
   "version": "3.10.1"
  },
  "orig_nbformat": 4
 },
 "nbformat": 4,
 "nbformat_minor": 2
}
