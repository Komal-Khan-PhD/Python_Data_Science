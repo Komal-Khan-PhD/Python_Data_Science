{
 "cells": [
  {
   "cell_type": "markdown",
   "id": "1bdb71a3",
   "metadata": {},
   "source": [
    "# Numpy Practice Session\n",
    "## 1-D Array"
   ]
  },
  {
   "cell_type": "code",
   "execution_count": null,
   "id": "ed727bef",
   "metadata": {},
   "outputs": [],
   "source": [
    "# pip install numpy # already install in jupyter"
   ]
  },
  {
   "cell_type": "markdown",
   "id": "c5c9e7db",
   "metadata": {},
   "source": [
    "### Creating an array"
   ]
  },
  {
   "cell_type": "code",
   "execution_count": 1,
   "id": "04e22b1f",
   "metadata": {},
   "outputs": [
    {
     "data": {
      "text/plain": [
       "array([2, 3, 7, 8, 0])"
      ]
     },
     "execution_count": 1,
     "metadata": {},
     "output_type": "execute_result"
    }
   ],
   "source": [
    "import numpy as np\n",
    "a= np.array([2,3,7,8,0])\n",
    "a"
   ]
  },
  {
   "cell_type": "code",
   "execution_count": 2,
   "id": "8798a946",
   "metadata": {},
   "outputs": [
    {
     "data": {
      "text/plain": [
       "numpy.ndarray"
      ]
     },
     "execution_count": 2,
     "metadata": {},
     "output_type": "execute_result"
    }
   ],
   "source": [
    "# ndarray is a class of Numpy library which represents matrices and vectors. \n",
    "# vectors are sigle dimentional arrays while matrices refers to two dimensional arrays.\n",
    "# Dimensions are called axis.\n",
    "type(a) "
   ]
  },
  {
   "cell_type": "code",
   "execution_count": 3,
   "id": "9822848a",
   "metadata": {},
   "outputs": [
    {
     "data": {
      "text/plain": [
       "5"
      ]
     },
     "execution_count": 3,
     "metadata": {},
     "output_type": "execute_result"
    }
   ],
   "source": [
    "# Length of the array\n",
    "len(a)"
   ]
  },
  {
   "cell_type": "code",
   "execution_count": 4,
   "id": "af0131c4",
   "metadata": {
    "scrolled": true
   },
   "outputs": [
    {
     "data": {
      "text/plain": [
       "3"
      ]
     },
     "execution_count": 4,
     "metadata": {},
     "output_type": "execute_result"
    }
   ],
   "source": [
    "# indexing in the the array\n",
    "a[1] "
   ]
  },
  {
   "cell_type": "code",
   "execution_count": 5,
   "id": "ed23607a",
   "metadata": {},
   "outputs": [
    {
     "data": {
      "text/plain": [
       "array([2, 3, 7, 8, 0])"
      ]
     },
     "execution_count": 5,
     "metadata": {},
     "output_type": "execute_result"
    }
   ],
   "source": [
    "# indexing all in the the array\n",
    "a[0:] "
   ]
  },
  {
   "cell_type": "code",
   "execution_count": 6,
   "id": "ea5e772f",
   "metadata": {},
   "outputs": [
    {
     "data": {
      "text/plain": [
       "array([0, 2, 3, 7, 8])"
      ]
     },
     "execution_count": 6,
     "metadata": {},
     "output_type": "execute_result"
    }
   ],
   "source": [
    "#sorting array\n",
    "np.sort(a)"
   ]
  },
  {
   "cell_type": "code",
   "execution_count": 7,
   "id": "e468b002",
   "metadata": {
    "scrolled": true
   },
   "outputs": [
    {
     "data": {
      "text/plain": [
       "1"
      ]
     },
     "execution_count": 7,
     "metadata": {},
     "output_type": "execute_result"
    }
   ],
   "source": [
    "# dimension of the  array\n",
    "np.ndim(a)"
   ]
  },
  {
   "cell_type": "code",
   "execution_count": 121,
   "id": "c3554da5",
   "metadata": {},
   "outputs": [
    {
     "data": {
      "text/plain": [
       "array([ 2,  3,  6,  7, 45])"
      ]
     },
     "execution_count": 121,
     "metadata": {},
     "output_type": "execute_result"
    }
   ],
   "source": [
    "# to find unique elements in the array\n",
    "np.unique(a)"
   ]
  },
  {
   "cell_type": "code",
   "execution_count": 9,
   "id": "e36e4f6e",
   "metadata": {},
   "outputs": [
    {
     "data": {
      "text/plain": [
       "array([1., 1., 1.])"
      ]
     },
     "execution_count": 9,
     "metadata": {},
     "output_type": "execute_result"
    }
   ],
   "source": [
    "np.ones(3)"
   ]
  },
  {
   "cell_type": "code",
   "execution_count": 19,
   "id": "517b3486",
   "metadata": {},
   "outputs": [
    {
     "data": {
      "text/plain": [
       "array([1, 1, 1], dtype=int64)"
      ]
     },
     "execution_count": 19,
     "metadata": {},
     "output_type": "execute_result"
    }
   ],
   "source": [
    "# default data type is floating point (np.float64), you can explicitly specify\n",
    "np.ones(3, dtype=np.int64)"
   ]
  },
  {
   "cell_type": "code",
   "execution_count": 119,
   "id": "a7c9c4ea",
   "metadata": {
    "scrolled": true
   },
   "outputs": [
    {
     "data": {
      "text/plain": [
       "array([0., 0., 0., 0.])"
      ]
     },
     "execution_count": 119,
     "metadata": {},
     "output_type": "execute_result"
    }
   ],
   "source": [
    "# generate arrays of zeros \n",
    "np.zeros(4)"
   ]
  },
  {
   "cell_type": "code",
   "execution_count": 118,
   "id": "dbdb4663",
   "metadata": {},
   "outputs": [
    {
     "data": {
      "text/plain": [
       "array([0.22812557, 0.63642781, 0.29747132])"
      ]
     },
     "execution_count": 118,
     "metadata": {},
     "output_type": "execute_result"
    }
   ],
   "source": [
    "# generate arrays of random numbers\n",
    "rng = np.random.default_rng()\n",
    "rng.random(3)"
   ]
  },
  {
   "cell_type": "code",
   "execution_count": 11,
   "id": "35753199",
   "metadata": {},
   "outputs": [
    {
     "data": {
      "text/plain": [
       "array([0, 1, 2, 3, 4])"
      ]
     },
     "execution_count": 11,
     "metadata": {},
     "output_type": "execute_result"
    }
   ],
   "source": [
    "# array with a range of elements\n",
    "np.arange(5)"
   ]
  },
  {
   "cell_type": "code",
   "execution_count": 12,
   "id": "50508c57",
   "metadata": {
    "scrolled": true
   },
   "outputs": [
    {
     "data": {
      "text/plain": [
       "array([5, 6, 7, 8, 9])"
      ]
     },
     "execution_count": 12,
     "metadata": {},
     "output_type": "execute_result"
    }
   ],
   "source": [
    "# defined range of elements where last element is exclusive. reason will be \n",
    "np.arange(5,10) "
   ]
  },
  {
   "cell_type": "code",
   "execution_count": 13,
   "id": "a9440faf",
   "metadata": {},
   "outputs": [
    {
     "data": {
      "text/plain": [
       "array([1. , 3.5, 6. ])"
      ]
     },
     "execution_count": 13,
     "metadata": {},
     "output_type": "execute_result"
    }
   ],
   "source": [
    "# values that are spaced linearly in a specified interval\n",
    "np.linspace(1,6, num=3)"
   ]
  },
  {
   "cell_type": "code",
   "execution_count": 28,
   "id": "3dd4a61e",
   "metadata": {},
   "outputs": [
    {
     "data": {
      "text/plain": [
       "array([1. , 3.5, 6. ])"
      ]
     },
     "execution_count": 28,
     "metadata": {},
     "output_type": "execute_result"
    }
   ],
   "source": [
    "# function empty creates an array whose initial content is random and depends on the state of the memory\n",
    "b=np.empty(3)\n",
    "b"
   ]
  },
  {
   "cell_type": "code",
   "execution_count": 32,
   "id": "b21a85d4",
   "metadata": {},
   "outputs": [
    {
     "data": {
      "text/plain": [
       "array(['mango', 'bananna', 'apple'], dtype='<U7')"
      ]
     },
     "execution_count": 32,
     "metadata": {},
     "output_type": "execute_result"
    }
   ],
   "source": [
    "fruit=np.array([\"mango\",\"bananna\",\"apple\"])\n",
    "fruit"
   ]
  },
  {
   "cell_type": "code",
   "execution_count": 35,
   "id": "d8302ac1",
   "metadata": {},
   "outputs": [
    {
     "data": {
      "text/plain": [
       "array([50, 35, 45])"
      ]
     },
     "execution_count": 35,
     "metadata": {},
     "output_type": "execute_result"
    }
   ],
   "source": [
    "price=np.array([50,35,45])\n",
    "price"
   ]
  },
  {
   "cell_type": "markdown",
   "id": "56927c35",
   "metadata": {},
   "source": [
    "### Array Functions"
   ]
  },
  {
   "cell_type": "code",
   "execution_count": 38,
   "id": "9e0f728e",
   "metadata": {},
   "outputs": [
    {
     "data": {
      "text/plain": [
       "43.333333333333336"
      ]
     },
     "execution_count": 38,
     "metadata": {},
     "output_type": "execute_result"
    }
   ],
   "source": [
    "price.mean()"
   ]
  },
  {
   "cell_type": "code",
   "execution_count": 39,
   "id": "198de0d5",
   "metadata": {},
   "outputs": [
    {
     "data": {
      "text/plain": [
       "(array([34,  5, 68, 30,  6]), array([ 5,  7,  8,  9, 34,  5,  4]))"
      ]
     },
     "execution_count": 39,
     "metadata": {},
     "output_type": "execute_result"
    }
   ],
   "source": [
    "x=np.array([34,5,68,30,6])\n",
    "y=np.array([5,7,8,9,34,5,4])\n",
    "x,y"
   ]
  },
  {
   "cell_type": "code",
   "execution_count": 44,
   "id": "aae8284e",
   "metadata": {},
   "outputs": [
    {
     "data": {
      "text/plain": [
       "array([34,  5, 68, 30,  6,  5,  7,  8,  9, 34,  5,  4])"
      ]
     },
     "execution_count": 44,
     "metadata": {},
     "output_type": "execute_result"
    }
   ],
   "source": [
    "z=np.concatenate((x,y))\n",
    "z"
   ]
  },
  {
   "cell_type": "code",
   "execution_count": 43,
   "id": "65047d7a",
   "metadata": {},
   "outputs": [
    {
     "data": {
      "text/plain": [
       "array([ 4,  5,  5,  5,  6,  7,  8,  9, 30, 34, 34, 68])"
      ]
     },
     "execution_count": 43,
     "metadata": {},
     "output_type": "execute_result"
    }
   ],
   "source": [
    "np.sort(z)"
   ]
  },
  {
   "cell_type": "markdown",
   "id": "b335e786",
   "metadata": {},
   "source": [
    "## 2-D Array"
   ]
  },
  {
   "cell_type": "code",
   "execution_count": 8,
   "id": "9e06d6eb",
   "metadata": {},
   "outputs": [
    {
     "data": {
      "text/plain": [
       "array([[ 2,  3,  7,  8,  0],\n",
       "       [ 3, 45,  6,  7,  8]])"
      ]
     },
     "execution_count": 8,
     "metadata": {},
     "output_type": "execute_result"
    }
   ],
   "source": [
    "a= np.array([[2,3,7,8,0], [3,45,6,7,8,]])\n",
    "a"
   ]
  },
  {
   "cell_type": "code",
   "execution_count": 21,
   "id": "51968276",
   "metadata": {},
   "outputs": [
    {
     "data": {
      "text/plain": [
       "array([[1., 1., 1., 1.],\n",
       "       [1., 1., 1., 1.],\n",
       "       [1., 1., 1., 1.]])"
      ]
     },
     "execution_count": 21,
     "metadata": {},
     "output_type": "execute_result"
    }
   ],
   "source": [
    "np.ones((3,4))"
   ]
  },
  {
   "cell_type": "code",
   "execution_count": 22,
   "id": "237a64f2",
   "metadata": {},
   "outputs": [
    {
     "data": {
      "text/plain": [
       "array([[1, 1, 1, 1],\n",
       "       [1, 1, 1, 1],\n",
       "       [1, 1, 1, 1]], dtype=int64)"
      ]
     },
     "execution_count": 22,
     "metadata": {},
     "output_type": "execute_result"
    }
   ],
   "source": [
    "# default data type is floating point (np.float64), you can explicitly specify\n",
    "np.ones((3,4), dtype=np.int64)"
   ]
  },
  {
   "cell_type": "code",
   "execution_count": 23,
   "id": "64812023",
   "metadata": {},
   "outputs": [
    {
     "data": {
      "text/plain": [
       "array([[0., 0., 0., 0.],\n",
       "       [0., 0., 0., 0.],\n",
       "       [0., 0., 0., 0.]])"
      ]
     },
     "execution_count": 23,
     "metadata": {},
     "output_type": "execute_result"
    }
   ],
   "source": [
    "# Creat Array of zeros\n",
    "np.zeros((3,4))"
   ]
  },
  {
   "cell_type": "code",
   "execution_count": 25,
   "id": "d53c439c",
   "metadata": {},
   "outputs": [
    {
     "data": {
      "text/plain": [
       "array([[0., 0., 0., 0.],\n",
       "       [0., 0., 0., 0.],\n",
       "       [0., 0., 0., 0.]])"
      ]
     },
     "execution_count": 25,
     "metadata": {},
     "output_type": "execute_result"
    }
   ],
   "source": [
    "# Creat empty 2 -D Array \n",
    "b=np.empty((3,4))\n",
    "b"
   ]
  },
  {
   "cell_type": "code",
   "execution_count": 15,
   "id": "59138938",
   "metadata": {},
   "outputs": [
    {
     "data": {
      "text/plain": [
       "array([5, 5])"
      ]
     },
     "execution_count": 15,
     "metadata": {},
     "output_type": "execute_result"
    }
   ],
   "source": [
    "import numpy as np\n",
    "a= np.array([5,5,])\n",
    "a"
   ]
  },
  {
   "cell_type": "code",
   "execution_count": 16,
   "id": "b7f57d00",
   "metadata": {
    "scrolled": true
   },
   "outputs": [
    {
     "data": {
      "text/plain": [
       "numpy.ndarray"
      ]
     },
     "execution_count": 16,
     "metadata": {},
     "output_type": "execute_result"
    }
   ],
   "source": [
    "type(a)"
   ]
  },
  {
   "cell_type": "code",
   "execution_count": 17,
   "id": "2245d770",
   "metadata": {
    "scrolled": false
   },
   "outputs": [
    {
     "data": {
      "text/plain": [
       "array([[5, 5, 5],\n",
       "       [5, 5, 5],\n",
       "       [5, 5, 5]])"
      ]
     },
     "execution_count": 17,
     "metadata": {},
     "output_type": "execute_result"
    }
   ],
   "source": [
    "#list of lists\n",
    "b= np.array([[5,5,5],[5,5,5],[5,5,5]])\n",
    "b"
   ]
  },
  {
   "cell_type": "code",
   "execution_count": 49,
   "id": "9c124e38",
   "metadata": {
    "scrolled": true
   },
   "outputs": [
    {
     "data": {
      "text/plain": [
       "array([[1, 2],\n",
       "       [3, 4],\n",
       "       [5, 6]])"
      ]
     },
     "execution_count": 49,
     "metadata": {},
     "output_type": "execute_result"
    }
   ],
   "source": [
    "# concatenate 2-D arrays \n",
    "x = np.array([[1, 2], [3, 4]])\n",
    "y = np.array([[5, 6]])\n",
    "x,y\n",
    "z=np.concatenate((x,y))\n",
    "z"
   ]
  },
  {
   "cell_type": "code",
   "execution_count": 112,
   "id": "6a3ee1e7",
   "metadata": {},
   "outputs": [
    {
     "data": {
      "text/plain": [
       "(array([[ 2,  3,  7],\n",
       "        [ 3, 45,  6]]),\n",
       " array([[ 5,  6,  7],\n",
       "        [ 3, 45,  8]]))"
      ]
     },
     "execution_count": 112,
     "metadata": {},
     "output_type": "execute_result"
    }
   ],
   "source": [
    "a= np.array([[2,3,7], [3,45,6,]])\n",
    "b= np.array([[5,6,7,], [3,45,8,]])\n",
    "a,b"
   ]
  },
  {
   "cell_type": "code",
   "execution_count": 57,
   "id": "917eacc8",
   "metadata": {
    "scrolled": true
   },
   "outputs": [
    {
     "data": {
      "text/plain": [
       "array([[ 2,  3,  7],\n",
       "       [ 3, 45,  6],\n",
       "       [ 5,  6,  7],\n",
       "       [ 3, 45,  8]])"
      ]
     },
     "execution_count": 57,
     "metadata": {},
     "output_type": "execute_result"
    }
   ],
   "source": [
    "# Concatenate 2 arrays along axis 0 , size must be matching of both array\n",
    "c=np.concatenate((a,b), axis=0)\n",
    "c"
   ]
  },
  {
   "cell_type": "code",
   "execution_count": 58,
   "id": "63d58ea5",
   "metadata": {},
   "outputs": [
    {
     "data": {
      "text/plain": [
       "array([[ 2,  3,  7,  5,  6,  7],\n",
       "       [ 3, 45,  6,  3, 45,  8]])"
      ]
     },
     "execution_count": 58,
     "metadata": {},
     "output_type": "execute_result"
    }
   ],
   "source": [
    "# Concatenate along axis 0 \n",
    "c=np.concatenate((a,b), axis=1)\n",
    "c"
   ]
  },
  {
   "cell_type": "code",
   "execution_count": 113,
   "id": "f92600b4",
   "metadata": {},
   "outputs": [
    {
     "data": {
      "text/plain": [
       "(array([[ 2,  3,  7],\n",
       "        [ 3, 45,  6],\n",
       "        [ 5,  6,  7],\n",
       "        [ 3, 45,  8]]),\n",
       " array([[ 2,  3,  7,  5,  6,  7],\n",
       "        [ 3, 45,  6,  3, 45,  8]]))"
      ]
     },
     "execution_count": 113,
     "metadata": {},
     "output_type": "execute_result"
    }
   ],
   "source": [
    "# Vertical and horizontal stacking (all the input arrays must have same number of dimensions)\n",
    "np.vstack((a, b)), np.hstack((a, b)) "
   ]
  },
  {
   "cell_type": "markdown",
   "id": "e460e5f1",
   "metadata": {},
   "source": [
    "## 3-D Array"
   ]
  },
  {
   "cell_type": "code",
   "execution_count": 123,
   "id": "871beb38",
   "metadata": {
    "scrolled": false
   },
   "outputs": [
    {
     "data": {
      "text/plain": [
       "array([[[ 2,  3,  7],\n",
       "        [ 3, 45,  8]],\n",
       "\n",
       "       [[ 3, 45,  6],\n",
       "        [ 5,  6,  7]],\n",
       "\n",
       "       [[ 5,  5,  5],\n",
       "        [ 5,  5,  5]]])"
      ]
     },
     "execution_count": 123,
     "metadata": {},
     "output_type": "execute_result"
    }
   ],
   "source": [
    "a=np.array([[[ 2,  3,  7],\n",
    "           [ 3, 45,  8]],\n",
    "           \n",
    "           [[ 3, 45,  6],\n",
    "            [5,  6,  7]],\n",
    "           \n",
    "             [[5, 5, 5],\n",
    "             [5, 5, 5]]])\n",
    "a,a.ndim"
   ]
  },
  {
   "cell_type": "code",
   "execution_count": 124,
   "id": "5e6d5990",
   "metadata": {},
   "outputs": [
    {
     "data": {
      "text/plain": [
       "array([[[ 2,  3,  5],\n",
       "        [ 3,  5,  5]],\n",
       "\n",
       "       [[ 3, 45,  5],\n",
       "        [45,  6,  5]],\n",
       "\n",
       "       [[ 7,  6,  5],\n",
       "        [ 8,  7,  5]]])"
      ]
     },
     "execution_count": 124,
     "metadata": {},
     "output_type": "execute_result"
    }
   ],
   "source": [
    "# to transpose arrays rows to column\n",
    "a.T"
   ]
  },
  {
   "cell_type": "code",
   "execution_count": 65,
   "id": "76dbbbd7",
   "metadata": {},
   "outputs": [
    {
     "data": {
      "text/plain": [
       "array([[[ 7,  3, 89],\n",
       "        [34,  4, 18]],\n",
       "\n",
       "       [[23,  5,  0],\n",
       "        [ 5,  6,  7]],\n",
       "\n",
       "       [[ 4,  4,  5],\n",
       "        [ 5,  5,  6]]])"
      ]
     },
     "execution_count": 65,
     "metadata": {},
     "output_type": "execute_result"
    }
   ],
   "source": [
    "b=np.array([[[ 7,  3,  89],\n",
    "        [ 34, 4,  18]],\n",
    "\n",
    "       [[ 23, 5,  0],\n",
    "        [ 5,  6,  7]],\n",
    "\n",
    "       [[ 4,  4,  5],\n",
    "        [ 5,  5,  6]]])\n",
    "b"
   ]
  },
  {
   "cell_type": "code",
   "execution_count": 66,
   "id": "c2c29f55",
   "metadata": {
    "scrolled": true
   },
   "outputs": [
    {
     "data": {
      "text/plain": [
       "array([[[ 0,  1,  2,  3],\n",
       "        [ 4,  5,  6,  7],\n",
       "        [ 8,  9, 10, 11]],\n",
       "\n",
       "       [[12, 13, 14, 15],\n",
       "        [16, 17, 18, 19],\n",
       "        [20, 21, 22, 23]]])"
      ]
     },
     "execution_count": 66,
     "metadata": {},
     "output_type": "execute_result"
    }
   ],
   "source": [
    "#making and reshaping array\n",
    "np.arange(24).reshape(2,3,4) # size defined in reshape should be equal to size of array"
   ]
  },
  {
   "cell_type": "code",
   "execution_count": 114,
   "id": "56bf3034",
   "metadata": {
    "scrolled": true
   },
   "outputs": [
    {
     "data": {
      "text/plain": [
       "(6, (2, 3))"
      ]
     },
     "execution_count": 114,
     "metadata": {},
     "output_type": "execute_result"
    }
   ],
   "source": [
    "a.size, a.shape"
   ]
  },
  {
   "cell_type": "markdown",
   "id": "e5f4a653",
   "metadata": {},
   "source": [
    "### Different methods in Arrays"
   ]
  },
  {
   "cell_type": "code",
   "execution_count": 79,
   "id": "9bafcd67",
   "metadata": {},
   "outputs": [
    {
     "data": {
      "text/plain": [
       "array([0, 1, 2, 3, 4, 5, 6, 7, 8])"
      ]
     },
     "execution_count": 79,
     "metadata": {},
     "output_type": "execute_result"
    }
   ],
   "source": [
    "a=np.arange(9)\n",
    "a"
   ]
  },
  {
   "cell_type": "code",
   "execution_count": 83,
   "id": "bf113faf",
   "metadata": {},
   "outputs": [
    {
     "data": {
      "text/plain": [
       "array([[0, 1, 2],\n",
       "       [3, 4, 5],\n",
       "       [6, 7, 8]])"
      ]
     },
     "execution_count": 83,
     "metadata": {},
     "output_type": "execute_result"
    }
   ],
   "source": [
    "# a is the array to be reshaped with the newshape which is the new shape you want. The shape should be compatible with the original shape.\n",
    "np.reshape(a, newshape=(3,3) , order=\"C\")"
   ]
  },
  {
   "cell_type": "code",
   "execution_count": 96,
   "id": "77349de9",
   "metadata": {},
   "outputs": [
    {
     "data": {
      "text/plain": [
       "(array([0, 1, 2, 3, 4, 5, 6, 7, 8]), (9,), 1)"
      ]
     },
     "execution_count": 96,
     "metadata": {},
     "output_type": "execute_result"
    }
   ],
   "source": [
    "# Using np.newaxis will increase the dimensions of your array by one dimension when used once.\n",
    "a=np.arange(9)\n",
    "a,a.shape,a.ndim"
   ]
  },
  {
   "cell_type": "code",
   "execution_count": 88,
   "id": "9a57c7ce",
   "metadata": {},
   "outputs": [
    {
     "data": {
      "text/plain": [
       "(1, 9)"
      ]
     },
     "execution_count": 88,
     "metadata": {},
     "output_type": "execute_result"
    }
   ],
   "source": [
    "# 1-D to 2-D array conversion\n",
    "a1 = a[np.newaxis, :]\n",
    "a1,a1.shape,a1.ndim"
   ]
  },
  {
   "cell_type": "code",
   "execution_count": 95,
   "id": "d8ed1ed5",
   "metadata": {},
   "outputs": [
    {
     "data": {
      "text/plain": [
       "(array([[[0, 1, 2, 3, 4, 5, 6, 7, 8]]]), (1, 1, 9), 3)"
      ]
     },
     "execution_count": 95,
     "metadata": {},
     "output_type": "execute_result"
    }
   ],
   "source": [
    "# 2-D to 3-D array conversion\n",
    "a2 = a1[np.newaxis, :]\n",
    "a2, a2.shape,a2.ndim"
   ]
  },
  {
   "cell_type": "code",
   "execution_count": 125,
   "id": "fc5c3302",
   "metadata": {},
   "outputs": [
    {
     "data": {
      "text/plain": [
       "(array([[ 1,  2,  3,  4],\n",
       "        [ 5,  6,  7,  8],\n",
       "        [ 9, 10, 11, 12]]),\n",
       " array([ 1,  2,  3,  4,  5,  6,  7,  8,  9, 10, 11, 12]),\n",
       " array([ 1,  2,  3,  4,  5,  6,  7,  8,  9, 10, 11, 12]))"
      ]
     },
     "execution_count": 125,
     "metadata": {},
     "output_type": "execute_result"
    }
   ],
   "source": [
    "# conversion of array to 1 D \n",
    "x = np.array([[1 , 2, 3, 4], [5, 6, 7, 8], [9, 10, 11, 12]])\n",
    "x,x.flatten(), x.ravel() \n",
    "# difference of ravel() is that any changes after 1D conversion effects the original/parent array"
   ]
  },
  {
   "cell_type": "code",
   "execution_count": 108,
   "id": "d64d7156",
   "metadata": {
    "scrolled": true
   },
   "outputs": [
    {
     "data": {
      "text/plain": [
       "(array([3, 4, 5]), array([7, 8]))"
      ]
     },
     "execution_count": 108,
     "metadata": {},
     "output_type": "execute_result"
    }
   ],
   "source": [
    "# Indexing and slicing with arrays\n",
    "a[3:6], a[-2:] # forward and reverse slicing "
   ]
  },
  {
   "cell_type": "code",
   "execution_count": 109,
   "id": "05c6555f",
   "metadata": {},
   "outputs": [
    {
     "data": {
      "text/plain": [
       "array([3, 4, 5, 6, 7, 8])"
      ]
     },
     "execution_count": 109,
     "metadata": {},
     "output_type": "execute_result"
    }
   ],
   "source": [
    "#conditional indexing\n",
    "a[a[(a > 2) & (a < 11)]] "
   ]
  },
  {
   "cell_type": "code",
   "execution_count": 101,
   "id": "0312004f",
   "metadata": {},
   "outputs": [
    {
     "data": {
      "text/plain": [
       "(36, 4.0, 0, 8)"
      ]
     },
     "execution_count": 101,
     "metadata": {},
     "output_type": "execute_result"
    }
   ],
   "source": [
    "# math functions with arrays\n",
    "a.sum(), a.mean(), a.min(),a.max()"
   ]
  },
  {
   "cell_type": "code",
   "execution_count": null,
   "id": "0e8fe02d",
   "metadata": {},
   "outputs": [],
   "source": [
    "# convert a 1D array with either a row vector or a column vector\n",
    "row_vector = a[np.newaxis, :]\n",
    "col_vector = a[:, np.newaxis]\n",
    "row_vector, col_vector"
   ]
  },
  {
   "cell_type": "code",
   "execution_count": 110,
   "id": "5ae5f8c0",
   "metadata": {
    "scrolled": true
   },
   "outputs": [
    {
     "data": {
      "text/plain": [
       "(array([[0],\n",
       "        [1],\n",
       "        [2],\n",
       "        [3],\n",
       "        [4],\n",
       "        [5],\n",
       "        [6],\n",
       "        [7],\n",
       "        [8]]),\n",
       " array([[0, 1, 2, 3, 4, 5, 6, 7, 8]]))"
      ]
     },
     "execution_count": 110,
     "metadata": {},
     "output_type": "execute_result"
    }
   ],
   "source": [
    "# inserting a new axis \n",
    "np.expand_dims(a, axis=1), np.expand_dims(a, axis=0)"
   ]
  }
 ],
 "metadata": {
  "kernelspec": {
   "display_name": "Python 3 (ipykernel)",
   "language": "python",
   "name": "python3"
  },
  "language_info": {
   "codemirror_mode": {
    "name": "ipython",
    "version": 3
   },
   "file_extension": ".py",
   "mimetype": "text/x-python",
   "name": "python",
   "nbconvert_exporter": "python",
   "pygments_lexer": "ipython3",
   "version": "3.9.7"
  }
 },
 "nbformat": 4,
 "nbformat_minor": 5
}
