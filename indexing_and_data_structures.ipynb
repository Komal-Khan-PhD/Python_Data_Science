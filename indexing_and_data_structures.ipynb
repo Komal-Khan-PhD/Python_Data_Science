{
 "cells": [
  {
   "cell_type": "markdown",
   "id": "eb55c8de",
   "metadata": {},
   "source": [
    "# Indexing and Data Structures"
   ]
  },
  {
   "cell_type": "code",
   "execution_count": 142,
   "id": "d616e04d",
   "metadata": {},
   "outputs": [],
   "source": [
    "#make a string\n",
    "a=\"samosa pakora\""
   ]
  },
  {
   "cell_type": "code",
   "execution_count": 143,
   "id": "757ff2b1",
   "metadata": {},
   "outputs": [
    {
     "data": {
      "text/plain": [
       "'samosa pakora'"
      ]
     },
     "execution_count": 143,
     "metadata": {},
     "output_type": "execute_result"
    }
   ],
   "source": [
    "a"
   ]
  },
  {
   "cell_type": "code",
   "execution_count": 144,
   "id": "14e7113f",
   "metadata": {
    "scrolled": true
   },
   "outputs": [
    {
     "data": {
      "text/plain": [
       "13"
      ]
     },
     "execution_count": 144,
     "metadata": {},
     "output_type": "execute_result"
    }
   ],
   "source": [
    "#length of indices\n",
    "len(a)"
   ]
  },
  {
   "cell_type": "code",
   "execution_count": 145,
   "id": "75fd68a8",
   "metadata": {},
   "outputs": [
    {
     "data": {
      "text/plain": [
       "'s'"
      ]
     },
     "execution_count": 145,
     "metadata": {},
     "output_type": "execute_result"
    }
   ],
   "source": [
    "a[0]"
   ]
  },
  {
   "cell_type": "code",
   "execution_count": 146,
   "id": "b1b09a5a",
   "metadata": {},
   "outputs": [
    {
     "data": {
      "text/plain": [
       "'a'"
      ]
     },
     "execution_count": 146,
     "metadata": {},
     "output_type": "execute_result"
    }
   ],
   "source": [
    "a[1]"
   ]
  },
  {
   "cell_type": "code",
   "execution_count": 147,
   "id": "b7724e97",
   "metadata": {},
   "outputs": [
    {
     "data": {
      "text/plain": [
       "'m'"
      ]
     },
     "execution_count": 147,
     "metadata": {},
     "output_type": "execute_result"
    }
   ],
   "source": [
    "a[2]"
   ]
  },
  {
   "cell_type": "code",
   "execution_count": 148,
   "id": "22a27675",
   "metadata": {},
   "outputs": [
    {
     "data": {
      "text/plain": [
       "'samosa'"
      ]
     },
     "execution_count": 148,
     "metadata": {},
     "output_type": "execute_result"
    }
   ],
   "source": [
    "# last index is an exclusive element \n",
    "a[0:6]"
   ]
  },
  {
   "cell_type": "code",
   "execution_count": 149,
   "id": "b6d8d700",
   "metadata": {},
   "outputs": [
    {
     "data": {
      "text/plain": [
       "'r'"
      ]
     },
     "execution_count": 149,
     "metadata": {},
     "output_type": "execute_result"
    }
   ],
   "source": [
    "# reverse indexing\n",
    "a[-2]"
   ]
  },
  {
   "cell_type": "code",
   "execution_count": 150,
   "id": "d59c6a4b",
   "metadata": {},
   "outputs": [
    {
     "data": {
      "text/plain": [
       "''"
      ]
     },
     "execution_count": 150,
     "metadata": {},
     "output_type": "execute_result"
    }
   ],
   "source": [
    "a[-1:6] # not ethical in programming terms"
   ]
  },
  {
   "cell_type": "code",
   "execution_count": 151,
   "id": "f9e62071",
   "metadata": {},
   "outputs": [
    {
     "data": {
      "text/plain": [
       "'pakora'"
      ]
     },
     "execution_count": 151,
     "metadata": {},
     "output_type": "execute_result"
    }
   ],
   "source": [
    "a[-6:13] #to get the string till the end, using length of string"
   ]
  },
  {
   "cell_type": "code",
   "execution_count": 152,
   "id": "96581c4e",
   "metadata": {},
   "outputs": [
    {
     "data": {
      "text/plain": [
       "'pakor'"
      ]
     },
     "execution_count": 152,
     "metadata": {},
     "output_type": "execute_result"
    }
   ],
   "source": [
    "a[-6:-1]"
   ]
  },
  {
   "cell_type": "markdown",
   "id": "2b65ddcb",
   "metadata": {},
   "source": [
    "## String methods"
   ]
  },
  {
   "cell_type": "code",
   "execution_count": 153,
   "id": "a8d3c4d8",
   "metadata": {},
   "outputs": [
    {
     "data": {
      "text/plain": [
       "7"
      ]
     },
     "execution_count": 153,
     "metadata": {},
     "output_type": "execute_result"
    }
   ],
   "source": [
    "food='biryani'\n",
    "len(food)"
   ]
  },
  {
   "cell_type": "code",
   "execution_count": 154,
   "id": "20ee6725",
   "metadata": {},
   "outputs": [
    {
     "data": {
      "text/plain": [
       "'Biryani'"
      ]
     },
     "execution_count": 154,
     "metadata": {},
     "output_type": "execute_result"
    }
   ],
   "source": [
    "# capitalise every element\n",
    "food.capitalize()"
   ]
  },
  {
   "cell_type": "code",
   "execution_count": 155,
   "id": "b03bfe00",
   "metadata": {},
   "outputs": [
    {
     "data": {
      "text/plain": [
       "'biryani'"
      ]
     },
     "execution_count": 155,
     "metadata": {},
     "output_type": "execute_result"
    }
   ],
   "source": [
    "#lowercase letters\n",
    "food.lower()"
   ]
  },
  {
   "cell_type": "code",
   "execution_count": 156,
   "id": "1d17f117",
   "metadata": {},
   "outputs": [
    {
     "data": {
      "text/plain": [
       "'shiryani'"
      ]
     },
     "execution_count": 156,
     "metadata": {},
     "output_type": "execute_result"
    }
   ],
   "source": [
    "# replace\n",
    "food.replace('b','sh')"
   ]
  },
  {
   "cell_type": "code",
   "execution_count": 157,
   "id": "e20ca51b",
   "metadata": {},
   "outputs": [
    {
     "data": {
      "text/plain": [
       "2"
      ]
     },
     "execution_count": 157,
     "metadata": {},
     "output_type": "execute_result"
    }
   ],
   "source": [
    "#counting a specific letter in a string\n",
    "name=\"Komal Khan\"\n",
    "name.count('a') #case sensative"
   ]
  },
  {
   "cell_type": "code",
   "execution_count": 158,
   "id": "8c6cd62d",
   "metadata": {},
   "outputs": [
    {
     "data": {
      "text/plain": [
       "9"
      ]
     },
     "execution_count": 158,
     "metadata": {},
     "output_type": "execute_result"
    }
   ],
   "source": [
    "# finding an index number in string\n",
    "name.find('n')"
   ]
  },
  {
   "cell_type": "code",
   "execution_count": 159,
   "id": "d3357e88",
   "metadata": {},
   "outputs": [
    {
     "data": {
      "text/plain": [
       "'I love biryani,haleem, chinese rice and nihari'"
      ]
     },
     "execution_count": 159,
     "metadata": {},
     "output_type": "execute_result"
    }
   ],
   "source": [
    "# how to split a string\n",
    "food= \"I love biryani,haleem, chinese rice and nihari\" \n",
    "food"
   ]
  },
  {
   "cell_type": "code",
   "execution_count": 160,
   "id": "d1a2a557",
   "metadata": {
    "scrolled": true
   },
   "outputs": [
    {
     "data": {
      "text/plain": [
       "['I love biryani', 'haleem', ' chinese rice and nihari']"
      ]
     },
     "execution_count": 160,
     "metadata": {},
     "output_type": "execute_result"
    }
   ],
   "source": [
    "food.split(\",\")"
   ]
  },
  {
   "cell_type": "markdown",
   "id": "e8e28c25",
   "metadata": {},
   "source": [
    "## Basic Data Structures in Python\n",
    "**1. Tuple\n",
    "2. List\n",
    "3. Dictionaries\n",
    "4. Set**"
   ]
  },
  {
   "cell_type": "markdown",
   "id": "5a49c405",
   "metadata": {},
   "source": [
    "## 1- Tuple\n",
    "- ordered collection of elements\n",
    "- enclosed in () round braces/paranthesis\n",
    "- Different kinds of elements can be stored\n",
    "- Once stored elements can not be changed (immutable)"
   ]
  },
  {
   "cell_type": "code",
   "execution_count": 161,
   "id": "3194272b",
   "metadata": {},
   "outputs": [
    {
     "data": {
      "text/plain": [
       "(3, 'python', True, 3.16)"
      ]
     },
     "execution_count": 161,
     "metadata": {},
     "output_type": "execute_result"
    }
   ],
   "source": [
    "tup1= (3, 'python', True, 3.16)\n",
    "tup1"
   ]
  },
  {
   "cell_type": "code",
   "execution_count": 162,
   "id": "08c50f51",
   "metadata": {},
   "outputs": [
    {
     "data": {
      "text/plain": [
       "(2, 'data', 9.45, False)"
      ]
     },
     "execution_count": 162,
     "metadata": {},
     "output_type": "execute_result"
    }
   ],
   "source": [
    "tup2= (2, 'data', 9.45, False)\n",
    "tup2"
   ]
  },
  {
   "cell_type": "code",
   "execution_count": 163,
   "id": "89eb20d9",
   "metadata": {},
   "outputs": [
    {
     "data": {
      "text/plain": [
       "(3, 'python', True, 3.16, 2, 'data', 9.45, False)"
      ]
     },
     "execution_count": 163,
     "metadata": {},
     "output_type": "execute_result"
    }
   ],
   "source": [
    "#addition of tuples\n",
    "tup3= tup1+tup2\n",
    "tup3"
   ]
  },
  {
   "cell_type": "code",
   "execution_count": 164,
   "id": "d897a2ad",
   "metadata": {},
   "outputs": [
    {
     "data": {
      "text/plain": [
       "(3, 'python', True, 3.16, 3, 'python', True, 3.16, 2, 'data', 9.45, False)"
      ]
     },
     "execution_count": 164,
     "metadata": {},
     "output_type": "execute_result"
    }
   ],
   "source": [
    "#multiplication of tuples\n",
    "tup3= tup1*2+tup2\n",
    "tup3"
   ]
  },
  {
   "cell_type": "code",
   "execution_count": 165,
   "id": "c62a669c",
   "metadata": {},
   "outputs": [
    {
     "data": {
      "text/plain": [
       "(20, 30, 5, 89, 63, 55, 4)"
      ]
     },
     "execution_count": 165,
     "metadata": {},
     "output_type": "execute_result"
    }
   ],
   "source": [
    "tup3=(20,30,5,89,63,55,4)\n",
    "tup3"
   ]
  },
  {
   "cell_type": "code",
   "execution_count": 166,
   "id": "ac4ecc2d",
   "metadata": {},
   "outputs": [
    {
     "data": {
      "text/plain": [
       "(20, 30, 5, 89, 63, 55, 4, 20, 30, 5, 89, 63, 55, 4)"
      ]
     },
     "execution_count": 166,
     "metadata": {},
     "output_type": "execute_result"
    }
   ],
   "source": [
    "tup3*2"
   ]
  },
  {
   "cell_type": "code",
   "execution_count": 167,
   "id": "ae3c9cf1",
   "metadata": {},
   "outputs": [
    {
     "data": {
      "text/plain": [
       "4"
      ]
     },
     "execution_count": 167,
     "metadata": {},
     "output_type": "execute_result"
    }
   ],
   "source": [
    "min(tup3)"
   ]
  },
  {
   "cell_type": "code",
   "execution_count": 168,
   "id": "dfde6c20",
   "metadata": {},
   "outputs": [
    {
     "data": {
      "text/plain": [
       "89"
      ]
     },
     "execution_count": 168,
     "metadata": {},
     "output_type": "execute_result"
    }
   ],
   "source": [
    "max(tup3)"
   ]
  },
  {
   "cell_type": "markdown",
   "id": "546c2d35",
   "metadata": {},
   "source": [
    "Python has two built-in methods that you can use on tuples."
   ]
  },
  {
   "cell_type": "code",
   "execution_count": 169,
   "id": "dcaa416c",
   "metadata": {},
   "outputs": [
    {
     "data": {
      "text/plain": [
       "1"
      ]
     },
     "execution_count": 169,
     "metadata": {},
     "output_type": "execute_result"
    }
   ],
   "source": [
    "tup1.count('python')"
   ]
  },
  {
   "cell_type": "code",
   "execution_count": 170,
   "id": "2cffabe6",
   "metadata": {},
   "outputs": [
    {
     "data": {
      "text/plain": [
       "3"
      ]
     },
     "execution_count": 170,
     "metadata": {},
     "output_type": "execute_result"
    }
   ],
   "source": [
    "tup1.index(3.16)"
   ]
  },
  {
   "cell_type": "markdown",
   "id": "9685d7b9",
   "metadata": {},
   "source": [
    "## 2- List\n",
    "- ordered collection of elements\n",
    "- enclosed in [] square brackets\n",
    "- mutable, elements can be changed after stored"
   ]
  },
  {
   "cell_type": "code",
   "execution_count": 171,
   "id": "30d20db4",
   "metadata": {},
   "outputs": [
    {
     "data": {
      "text/plain": [
       "[8, 'structures', True]"
      ]
     },
     "execution_count": 171,
     "metadata": {},
     "output_type": "execute_result"
    }
   ],
   "source": [
    "list1=[8,\"structures\", True]\n",
    "list1"
   ]
  },
  {
   "cell_type": "code",
   "execution_count": 172,
   "id": "06ec2a6f",
   "metadata": {},
   "outputs": [
    {
     "data": {
      "text/plain": [
       "list"
      ]
     },
     "execution_count": 172,
     "metadata": {},
     "output_type": "execute_result"
    }
   ],
   "source": [
    "type(list1)"
   ]
  },
  {
   "cell_type": "code",
   "execution_count": 173,
   "id": "bda12a9e",
   "metadata": {},
   "outputs": [
    {
     "data": {
      "text/plain": [
       "3"
      ]
     },
     "execution_count": 173,
     "metadata": {},
     "output_type": "execute_result"
    }
   ],
   "source": [
    "len(list1)"
   ]
  },
  {
   "cell_type": "code",
   "execution_count": 174,
   "id": "f42ca7f1",
   "metadata": {},
   "outputs": [
    {
     "data": {
      "text/plain": [
       "'structures'"
      ]
     },
     "execution_count": 174,
     "metadata": {},
     "output_type": "execute_result"
    }
   ],
   "source": [
    "list1[1]"
   ]
  },
  {
   "cell_type": "code",
   "execution_count": 175,
   "id": "5329eaea",
   "metadata": {},
   "outputs": [
    {
     "data": {
      "text/plain": [
       "[2, 4, 5, 'learning', 'python', 6.9, True]"
      ]
     },
     "execution_count": 175,
     "metadata": {},
     "output_type": "execute_result"
    }
   ],
   "source": [
    "list2=[2,4,5,\"learning\",\"python\",6.9,True]\n",
    "list2"
   ]
  },
  {
   "cell_type": "code",
   "execution_count": 176,
   "id": "a97680fd",
   "metadata": {},
   "outputs": [],
   "source": [
    "# Reverses the order of the list\n",
    "list1.reverse()"
   ]
  },
  {
   "cell_type": "code",
   "execution_count": 177,
   "id": "8c0b716f",
   "metadata": {},
   "outputs": [],
   "source": [
    "# Adds an element at the end of the list\n",
    "list1.append(\"with Aammar\")"
   ]
  },
  {
   "cell_type": "code",
   "execution_count": 178,
   "id": "712045ab",
   "metadata": {},
   "outputs": [
    {
     "data": {
      "text/plain": [
       "1"
      ]
     },
     "execution_count": 178,
     "metadata": {},
     "output_type": "execute_result"
    }
   ],
   "source": [
    "# list1.count() #syntax of the count() method is list1.count(element) where element is specified to be counted as appearing in the list,\n",
    "list1.count(\"structures\") # 1 and true are counted as same"
   ]
  },
  {
   "cell_type": "code",
   "execution_count": 179,
   "id": "c76b57ac",
   "metadata": {},
   "outputs": [
    {
     "data": {
      "text/plain": [
       "[20, 30, 5, 89, 63, 55, 4]"
      ]
     },
     "execution_count": 179,
     "metadata": {},
     "output_type": "execute_result"
    }
   ],
   "source": [
    "list3=[20,30,5,89,63,55,4]\n",
    "list3"
   ]
  },
  {
   "cell_type": "code",
   "execution_count": 180,
   "id": "d31d1559",
   "metadata": {},
   "outputs": [
    {
     "data": {
      "text/plain": [
       "7"
      ]
     },
     "execution_count": 180,
     "metadata": {},
     "output_type": "execute_result"
    }
   ],
   "source": [
    "len(list3)"
   ]
  },
  {
   "cell_type": "code",
   "execution_count": 181,
   "id": "2362b20d",
   "metadata": {},
   "outputs": [
    {
     "data": {
      "text/plain": [
       "[4, 5, 20, 30, 55, 63, 89]"
      ]
     },
     "execution_count": 181,
     "metadata": {},
     "output_type": "execute_result"
    }
   ],
   "source": [
    "#sorting a list\n",
    "list3.sort()\n",
    "list3"
   ]
  },
  {
   "cell_type": "code",
   "execution_count": 182,
   "id": "58ec8022",
   "metadata": {},
   "outputs": [
    {
     "data": {
      "text/plain": [
       "[4, 5, 20, 30, 55, 63, 89, 4, 5, 20, 30, 55, 63, 89]"
      ]
     },
     "execution_count": 182,
     "metadata": {},
     "output_type": "execute_result"
    }
   ],
   "source": [
    "list3*2"
   ]
  },
  {
   "cell_type": "code",
   "execution_count": 183,
   "id": "aef3f2da",
   "metadata": {
    "scrolled": true
   },
   "outputs": [
    {
     "data": {
      "text/plain": [
       "[True,\n",
       " 'structures',\n",
       " 8,\n",
       " 'with Aammar',\n",
       " 2,\n",
       " 4,\n",
       " 5,\n",
       " 'learning',\n",
       " 'python',\n",
       " 6.9,\n",
       " True]"
      ]
     },
     "execution_count": 183,
     "metadata": {},
     "output_type": "execute_result"
    }
   ],
   "source": [
    "list1+list2"
   ]
  },
  {
   "cell_type": "code",
   "execution_count": 184,
   "id": "121f3096",
   "metadata": {},
   "outputs": [
    {
     "data": {
      "text/plain": [
       "[]"
      ]
     },
     "execution_count": 184,
     "metadata": {},
     "output_type": "execute_result"
    }
   ],
   "source": [
    "# Removes all the elements from the list\n",
    "list3.clear()\n",
    "list3"
   ]
  },
  {
   "cell_type": "code",
   "execution_count": 185,
   "id": "0cba95b3",
   "metadata": {},
   "outputs": [
    {
     "data": {
      "text/plain": [
       "[True, 'structures', 8, 'with Aammar']"
      ]
     },
     "execution_count": 185,
     "metadata": {},
     "output_type": "execute_result"
    }
   ],
   "source": [
    "# Returns a copy of the list\n",
    "list3 =list1.copy()\n",
    "list3"
   ]
  },
  {
   "cell_type": "code",
   "execution_count": 186,
   "id": "5d529650",
   "metadata": {},
   "outputs": [
    {
     "data": {
      "text/plain": [
       "[True, 'structures', 8, 'with Aammar', 'BMW']"
      ]
     },
     "execution_count": 186,
     "metadata": {},
     "output_type": "execute_result"
    }
   ],
   "source": [
    "# Add the elements of a list (or any iterable), to the end of the current list\n",
    "list3.extend(['BMW'])\n",
    "list3"
   ]
  },
  {
   "cell_type": "code",
   "execution_count": 187,
   "id": "6b7c3aba",
   "metadata": {},
   "outputs": [
    {
     "data": {
      "text/plain": [
       "[True, 'structures', 8, 'with Aammar']"
      ]
     },
     "execution_count": 187,
     "metadata": {},
     "output_type": "execute_result"
    }
   ],
   "source": [
    "# Removes the first item with the specified value\n",
    "list3.remove('BMW')\n",
    "list3"
   ]
  },
  {
   "cell_type": "code",
   "execution_count": 188,
   "id": "042a8585",
   "metadata": {},
   "outputs": [
    {
     "data": {
      "text/plain": [
       "[True, 'structures', 'Volvo', 8, 'with Aammar']"
      ]
     },
     "execution_count": 188,
     "metadata": {},
     "output_type": "execute_result"
    }
   ],
   "source": [
    "# Adds an element at the specified position\n",
    "list3.insert(2,'Volvo')\n",
    "list3"
   ]
  },
  {
   "cell_type": "code",
   "execution_count": 189,
   "id": "57edee03",
   "metadata": {},
   "outputs": [
    {
     "data": {
      "text/plain": [
       "[True, 'structures', 8, 'with Aammar']"
      ]
     },
     "execution_count": 189,
     "metadata": {},
     "output_type": "execute_result"
    }
   ],
   "source": [
    "# Removes the element at the specified position\n",
    "list3.pop(2)\n",
    "list3"
   ]
  },
  {
   "cell_type": "markdown",
   "id": "b87f3c7a",
   "metadata": {},
   "source": [
    "## 3- Dictionaries\n",
    "- An unordered collection of elements\n",
    "- Key and Value\n",
    "- Curly brackets {}\n",
    "- Mutable Values"
   ]
  },
  {
   "cell_type": "code",
   "execution_count": 190,
   "id": "377a9a94",
   "metadata": {},
   "outputs": [
    {
     "data": {
      "text/plain": [
       "{'Apple': 12, 'Banana': 20, 'Pineapple': 40, 'Tomatoes': 23}"
      ]
     },
     "execution_count": 190,
     "metadata": {},
     "output_type": "execute_result"
    }
   ],
   "source": [
    "# fruits and their prices\n",
    "fruit1={\"Apple\":12, \"Banana\":20, \"Pineapple\":40, \"Tomatoes\":23}\n",
    "fruit1"
   ]
  },
  {
   "cell_type": "code",
   "execution_count": 191,
   "id": "a22e9e34",
   "metadata": {},
   "outputs": [
    {
     "data": {
      "text/plain": [
       "dict"
      ]
     },
     "execution_count": 191,
     "metadata": {},
     "output_type": "execute_result"
    }
   ],
   "source": [
    "type(fruit1)"
   ]
  },
  {
   "cell_type": "code",
   "execution_count": 192,
   "id": "bb648aa7",
   "metadata": {},
   "outputs": [
    {
     "data": {
      "text/plain": [
       "dict_keys(['Apple', 'Banana', 'Pineapple', 'Tomatoes'])"
      ]
     },
     "execution_count": 192,
     "metadata": {},
     "output_type": "execute_result"
    }
   ],
   "source": [
    "#extract data. Returns a list containing the dictionary's keys\n",
    "keys1=fruit1.keys()\n",
    "keys1"
   ]
  },
  {
   "cell_type": "code",
   "execution_count": 193,
   "id": "b0e5d82f",
   "metadata": {},
   "outputs": [
    {
     "data": {
      "text/plain": [
       "dict_values([12, 20, 40, 23])"
      ]
     },
     "execution_count": 193,
     "metadata": {},
     "output_type": "execute_result"
    }
   ],
   "source": [
    "# Returns a list of all the values in the dictionary\n",
    "values1=fruit1.values()\n",
    "values1"
   ]
  },
  {
   "cell_type": "code",
   "execution_count": 194,
   "id": "e4dae575",
   "metadata": {},
   "outputs": [
    {
     "data": {
      "text/plain": [
       "{'Apple': 12, 'Banana': 20, 'Pineapple': 40, 'Tomatoes': 23, 'Mangoes': 10}"
      ]
     },
     "execution_count": 194,
     "metadata": {},
     "output_type": "execute_result"
    }
   ],
   "source": [
    "# adding new element\n",
    "fruit1[\"Mangoes\"]=10\n",
    "fruit1"
   ]
  },
  {
   "cell_type": "code",
   "execution_count": 195,
   "id": "b12296ca",
   "metadata": {},
   "outputs": [
    {
     "data": {
      "text/plain": [
       "{'Apple': 12, 'Banana': 20, 'Pineapple': 40, 'Tomatoes': 23, 'Mangoes': 45}"
      ]
     },
     "execution_count": 195,
     "metadata": {},
     "output_type": "execute_result"
    }
   ],
   "source": [
    "#update new element\n",
    "fruit1[\"Mangoes\"]=45\n",
    "fruit1"
   ]
  },
  {
   "cell_type": "code",
   "execution_count": 196,
   "id": "782c00f4",
   "metadata": {},
   "outputs": [
    {
     "data": {
      "text/plain": [
       "{'Melon': 55, 'Apricot': 45, 'Guava': 40, 'Strawberry': 70}"
      ]
     },
     "execution_count": 196,
     "metadata": {},
     "output_type": "execute_result"
    }
   ],
   "source": [
    "fruit2={\"Melon\":55, \"Apricot\":45, \"Guava\":40, \"Strawberry\":70}\n",
    "fruit2"
   ]
  },
  {
   "cell_type": "code",
   "execution_count": 197,
   "id": "c4062047",
   "metadata": {},
   "outputs": [
    {
     "data": {
      "text/plain": [
       "{'Apple': 12,\n",
       " 'Banana': 20,\n",
       " 'Pineapple': 40,\n",
       " 'Tomatoes': 23,\n",
       " 'Mangoes': 45,\n",
       " 'Melon': 55,\n",
       " 'Apricot': 45,\n",
       " 'Guava': 40,\n",
       " 'Strawberry': 70}"
      ]
     },
     "execution_count": 197,
     "metadata": {},
     "output_type": "execute_result"
    }
   ],
   "source": [
    "#Concatinate\n",
    "#fruit1+ fruit2 # can't be done in dictonaries because its unordered collection. Updates the dictionary with the specified key-value pairs\n",
    "fruit1.update(fruit2)\n",
    "fruit1"
   ]
  },
  {
   "cell_type": "code",
   "execution_count": 198,
   "id": "5dbcda0f",
   "metadata": {},
   "outputs": [
    {
     "data": {
      "text/plain": [
       "{'Apple': 12,\n",
       " 'Banana': 20,\n",
       " 'Pineapple': 40,\n",
       " 'Tomatoes': 23,\n",
       " 'Mangoes': 45,\n",
       " 'Melon': 55,\n",
       " 'Apricot': 45,\n",
       " 'Guava': 40,\n",
       " 'Strawberry': 70}"
      ]
     },
     "execution_count": 198,
     "metadata": {},
     "output_type": "execute_result"
    }
   ],
   "source": [
    "# \tReturns a copy of the dictionary\n",
    "fruit3=fruit1.copy()\n",
    "fruit3"
   ]
  },
  {
   "cell_type": "code",
   "execution_count": 199,
   "id": "a6a2c667",
   "metadata": {},
   "outputs": [
    {
     "data": {
      "text/plain": [
       "{}"
      ]
     },
     "execution_count": 199,
     "metadata": {},
     "output_type": "execute_result"
    }
   ],
   "source": [
    "# \tRemoves all the elements from the dictionary\n",
    "fruit3.clear()\n",
    "fruit3"
   ]
  },
  {
   "cell_type": "code",
   "execution_count": 200,
   "id": "30804a58",
   "metadata": {},
   "outputs": [
    {
     "data": {
      "text/plain": [
       "{'key1': 0, 'key2': 0, 'key3': 0}"
      ]
     },
     "execution_count": 200,
     "metadata": {},
     "output_type": "execute_result"
    }
   ],
   "source": [
    "# \tReturns a dictionary with the specified keys and value\n",
    "x = ('key1', 'key2', 'key3')\n",
    "y = 0\n",
    "new_dict=dict.fromkeys(x,y)\n",
    "new_dict"
   ]
  },
  {
   "cell_type": "code",
   "execution_count": 201,
   "id": "e20accf6",
   "metadata": {},
   "outputs": [
    {
     "data": {
      "text/plain": [
       "20"
      ]
     },
     "execution_count": 201,
     "metadata": {},
     "output_type": "execute_result"
    }
   ],
   "source": [
    "# \tReturns the value of the specified key\n",
    "fruit=fruit1.get('Banana')\n",
    "fruit"
   ]
  },
  {
   "cell_type": "code",
   "execution_count": 202,
   "id": "ab5412a5",
   "metadata": {},
   "outputs": [
    {
     "data": {
      "text/plain": [
       "dict_items([('Apple', 12), ('Banana', 20), ('Pineapple', 40), ('Tomatoes', 23), ('Mangoes', 45), ('Melon', 55), ('Apricot', 45), ('Guava', 40), ('Strawberry', 70)])"
      ]
     },
     "execution_count": 202,
     "metadata": {},
     "output_type": "execute_result"
    }
   ],
   "source": [
    "# \tReturns a list containing a tuple for each key value pair\n",
    "fruit=fruit1.items()\n",
    "fruit"
   ]
  },
  {
   "cell_type": "code",
   "execution_count": 203,
   "id": "a675ad7d",
   "metadata": {},
   "outputs": [
    {
     "data": {
      "text/plain": [
       "{'Apple': 12,\n",
       " 'Pineapple': 40,\n",
       " 'Tomatoes': 23,\n",
       " 'Mangoes': 45,\n",
       " 'Melon': 55,\n",
       " 'Apricot': 45,\n",
       " 'Guava': 40,\n",
       " 'Strawberry': 70}"
      ]
     },
     "execution_count": 203,
     "metadata": {},
     "output_type": "execute_result"
    }
   ],
   "source": [
    "# \tRemoves the element with the specified key\n",
    "fruit1.pop(\"Banana\")\n",
    "fruit1"
   ]
  },
  {
   "cell_type": "code",
   "execution_count": 204,
   "id": "eb83bc40",
   "metadata": {},
   "outputs": [
    {
     "data": {
      "text/plain": [
       "{'Apple': 12,\n",
       " 'Pineapple': 40,\n",
       " 'Tomatoes': 23,\n",
       " 'Mangoes': 45,\n",
       " 'Melon': 55,\n",
       " 'Apricot': 45,\n",
       " 'Guava': 40}"
      ]
     },
     "execution_count": 204,
     "metadata": {},
     "output_type": "execute_result"
    }
   ],
   "source": [
    "# \tRemoves the last inserted key-value pair\n",
    "fruit1.popitem()\n",
    "fruit1"
   ]
  },
  {
   "cell_type": "code",
   "execution_count": 205,
   "id": "2f2237ee",
   "metadata": {},
   "outputs": [
    {
     "data": {
      "text/plain": [
       "55"
      ]
     },
     "execution_count": 205,
     "metadata": {},
     "output_type": "execute_result"
    }
   ],
   "source": [
    "# \tReturns the value of the specified key. If the key does not exist: insert the key, with the specified value\n",
    "fruit=fruit1.setdefault('Melon',\"20\")\n",
    "fruit"
   ]
  },
  {
   "cell_type": "markdown",
   "id": "864fdbf8",
   "metadata": {},
   "source": [
    "## 4- Set\n",
    "- Unordered and unindexed\n",
    "- curly braces {}\n",
    "- No duplicates allowed"
   ]
  },
  {
   "cell_type": "code",
   "execution_count": 206,
   "id": "25326bbe",
   "metadata": {},
   "outputs": [
    {
     "data": {
      "text/plain": [
       "{1, 2, 'Codanics', 'python'}"
      ]
     },
     "execution_count": 206,
     "metadata": {},
     "output_type": "execute_result"
    }
   ],
   "source": [
    "s1={1,2,\"Codanics\",\"python\",True}\n",
    "s1"
   ]
  },
  {
   "cell_type": "code",
   "execution_count": 207,
   "id": "a0680629",
   "metadata": {},
   "outputs": [
    {
     "data": {
      "text/plain": [
       "{1, 2, 'Aammar1', 'Codanics', 'python'}"
      ]
     },
     "execution_count": 207,
     "metadata": {},
     "output_type": "execute_result"
    }
   ],
   "source": [
    "# Adds an element to the set\n",
    "s1.add(\"Aammar1\")\n",
    "s1"
   ]
  },
  {
   "cell_type": "code",
   "execution_count": 210,
   "id": "241cb5c2",
   "metadata": {},
   "outputs": [
    {
     "data": {
      "text/plain": [
       "{1, 2, 'Codanics', 'python'}"
      ]
     },
     "execution_count": 210,
     "metadata": {},
     "output_type": "execute_result"
    }
   ],
   "source": [
    "# Removes the specified element\n",
    "s1.remove(\"Aammar1\")\n",
    "s1"
   ]
  },
  {
   "cell_type": "code",
   "execution_count": 213,
   "id": "c242efa2",
   "metadata": {},
   "outputs": [
    {
     "data": {
      "text/plain": [
       "{'apple', 'banana', 'cherry'}"
      ]
     },
     "execution_count": 213,
     "metadata": {},
     "output_type": "execute_result"
    }
   ],
   "source": [
    "# \tReturns a copy of the set\n",
    "fruits = {\"apple\", \"banana\", \"cherry\"}\n",
    "x = fruits.copy()\n",
    "x"
   ]
  },
  {
   "cell_type": "code",
   "execution_count": 214,
   "id": "5d0d27c6",
   "metadata": {},
   "outputs": [
    {
     "data": {
      "text/plain": [
       "set()"
      ]
     },
     "execution_count": 214,
     "metadata": {},
     "output_type": "execute_result"
    }
   ],
   "source": [
    "# Removes all the elements from the set\n",
    "fruits.clear()\n",
    "fruits"
   ]
  },
  {
   "cell_type": "code",
   "execution_count": 219,
   "id": "dae83a43",
   "metadata": {},
   "outputs": [
    {
     "data": {
      "text/plain": [
       "{'banana', 'cherry'}"
      ]
     },
     "execution_count": 219,
     "metadata": {},
     "output_type": "execute_result"
    }
   ],
   "source": [
    "#\tReturns a set containing the difference between two or more sets\n",
    "x = {\"apple\", \"banana\", \"cherry\"}\n",
    "y = {\"google\", \"microsoft\", \"apple\"}\n",
    "z = x.difference(y)\n",
    "z"
   ]
  },
  {
   "cell_type": "code",
   "execution_count": 220,
   "id": "d90ac589",
   "metadata": {},
   "outputs": [
    {
     "data": {
      "text/plain": [
       "{'apple'}"
      ]
     },
     "execution_count": 220,
     "metadata": {},
     "output_type": "execute_result"
    }
   ],
   "source": [
    "# Returns a set, that is the intersection of two or more sets\n",
    "z = x.intersection(y)\n",
    "z"
   ]
  },
  {
   "cell_type": "code",
   "execution_count": 221,
   "id": "005144fa",
   "metadata": {},
   "outputs": [
    {
     "data": {
      "text/plain": [
       "{'banana', 'cherry'}"
      ]
     },
     "execution_count": 221,
     "metadata": {},
     "output_type": "execute_result"
    }
   ],
   "source": [
    "# \tRemoves the items in this set that are also included in another, specified set\n",
    "x.difference_update(y)\n",
    "x"
   ]
  },
  {
   "cell_type": "code",
   "execution_count": 217,
   "id": "b06d1be2",
   "metadata": {},
   "outputs": [
    {
     "data": {
      "text/plain": [
       "{'apple', 'microsoft'}"
      ]
     },
     "execution_count": 217,
     "metadata": {},
     "output_type": "execute_result"
    }
   ],
   "source": [
    "# \tRemove the specified item\n",
    "y.discard(\"google\")\n",
    "y"
   ]
  },
  {
   "cell_type": "code",
   "execution_count": 223,
   "id": "c00116b0",
   "metadata": {},
   "outputs": [
    {
     "data": {
      "text/plain": [
       "{'apple'}"
      ]
     },
     "execution_count": 223,
     "metadata": {},
     "output_type": "execute_result"
    }
   ],
   "source": [
    "# \tRemoves the items in this set that are not present in other, specified set(s)\n",
    "x = {\"apple\", \"banana\", \"cherry\"}\n",
    "y = {\"google\", \"microsoft\", \"apple\"}\n",
    "x.intersection_update(y)\n",
    "x"
   ]
  },
  {
   "cell_type": "code",
   "execution_count": 224,
   "id": "ce0a6f90",
   "metadata": {},
   "outputs": [
    {
     "data": {
      "text/plain": [
       "True"
      ]
     },
     "execution_count": 224,
     "metadata": {},
     "output_type": "execute_result"
    }
   ],
   "source": [
    "#\tReturns whether two sets have a intersection or not\n",
    "x = {\"apple\", \"banana\", \"cherry\"}\n",
    "y = {\"google\", \"microsoft\", \"facebook\"}\n",
    "\n",
    "z = x.isdisjoint(y)\n",
    "z"
   ]
  },
  {
   "cell_type": "code",
   "execution_count": 225,
   "id": "f1841417",
   "metadata": {},
   "outputs": [
    {
     "data": {
      "text/plain": [
       "True"
      ]
     },
     "execution_count": 225,
     "metadata": {},
     "output_type": "execute_result"
    }
   ],
   "source": [
    "# \tReturns whether another set contains this set or not\n",
    "x = {\"a\", \"b\", \"c\"}\n",
    "y = {\"f\", \"e\", \"d\", \"c\", \"b\", \"a\"}\n",
    "\n",
    "z = x.issubset(y)\n",
    "z"
   ]
  },
  {
   "cell_type": "code",
   "execution_count": 226,
   "id": "a848d92f",
   "metadata": {},
   "outputs": [
    {
     "data": {
      "text/plain": [
       "False"
      ]
     },
     "execution_count": 226,
     "metadata": {},
     "output_type": "execute_result"
    }
   ],
   "source": [
    "#\tReturns whether this set contains another set or not\n",
    "z = x.issuperset(y)\n",
    "z"
   ]
  },
  {
   "cell_type": "code",
   "execution_count": 227,
   "id": "ae0b861d",
   "metadata": {},
   "outputs": [
    {
     "data": {
      "text/plain": [
       "{'a', 'c', 'd', 'e', 'f'}"
      ]
     },
     "execution_count": 227,
     "metadata": {},
     "output_type": "execute_result"
    }
   ],
   "source": [
    "#\tRemoves an element from the set\n",
    "y.pop()\n",
    "y"
   ]
  },
  {
   "cell_type": "code",
   "execution_count": 228,
   "id": "cd320468",
   "metadata": {},
   "outputs": [
    {
     "data": {
      "text/plain": [
       "{'b', 'd', 'e', 'f'}"
      ]
     },
     "execution_count": 228,
     "metadata": {},
     "output_type": "execute_result"
    }
   ],
   "source": [
    "#\tReturns a set with the symmetric differences of two sets\n",
    "z = x.symmetric_difference(y)\n",
    "z"
   ]
  },
  {
   "cell_type": "code",
   "execution_count": 229,
   "id": "cf351aed",
   "metadata": {},
   "outputs": [
    {
     "data": {
      "text/plain": [
       "{'b', 'd', 'e', 'f'}"
      ]
     },
     "execution_count": 229,
     "metadata": {},
     "output_type": "execute_result"
    }
   ],
   "source": [
    "# inserts the symmetric differences from this set and another\n",
    "x.symmetric_difference_update(y)\n",
    "x"
   ]
  },
  {
   "cell_type": "code",
   "execution_count": 230,
   "id": "ea9270d3",
   "metadata": {},
   "outputs": [
    {
     "data": {
      "text/plain": [
       "{'apple', 'banana', 'cherry', 'google', 'microsoft'}"
      ]
     },
     "execution_count": 230,
     "metadata": {},
     "output_type": "execute_result"
    }
   ],
   "source": [
    "# Return a set containing the union of sets, duplicates are excluded\n",
    "x = {\"apple\", \"banana\", \"cherry\"}\n",
    "y = {\"google\", \"microsoft\", \"apple\"}\n",
    "z = x.union(y)\n",
    "z"
   ]
  },
  {
   "cell_type": "code",
   "execution_count": 231,
   "id": "6e84b7ba",
   "metadata": {},
   "outputs": [
    {
     "data": {
      "text/plain": [
       "{'apple', 'banana', 'cherry', 'google', 'microsoft'}"
      ]
     },
     "execution_count": 231,
     "metadata": {},
     "output_type": "execute_result"
    }
   ],
   "source": [
    "# update()\tUpdate the set with another set, or any other iterable\n",
    "x.update(y)\n",
    "x"
   ]
  }
 ],
 "metadata": {
  "kernelspec": {
   "display_name": "Python 3 (ipykernel)",
   "language": "python",
   "name": "python3"
  },
  "language_info": {
   "codemirror_mode": {
    "name": "ipython",
    "version": 3
   },
   "file_extension": ".py",
   "mimetype": "text/x-python",
   "name": "python",
   "nbconvert_exporter": "python",
   "pygments_lexer": "ipython3",
   "version": "3.9.10"
  }
 },
 "nbformat": 4,
 "nbformat_minor": 5
}
