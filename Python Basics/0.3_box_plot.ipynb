{
 "cells": [
  {
   "cell_type": "markdown",
   "id": "5bab2693",
   "metadata": {},
   "source": [
    "## BoxPlot Practice"
   ]
  },
  {
   "cell_type": "code",
   "execution_count": 6,
   "id": "5be7836b",
   "metadata": {
    "scrolled": true
   },
   "outputs": [
    {
     "data": {
      "text/plain": [
       "<AxesSubplot:xlabel='class', ylabel='fare'>"
      ]
     },
     "execution_count": 6,
     "metadata": {},
     "output_type": "execute_result"
    },
    {
     "data": {
      "image/png": "[encoded data removed]",
      "text/plain": [
       "<Figure size 432x288 with 1 Axes>"
      ]
     },
     "metadata": {},
     "output_type": "display_data"
    }
   ],
   "source": [
    "import seaborn\n",
    "\n",
    "seaborn.set_style(\"whitegrid\") # theme of canvas\n",
    "kashti=seaborn.load_dataset(\"titanic\")\n",
    "kashti\n",
    "\n",
    "seaborn.boxplot(x=\"class\", y=\"fare\", data=kashti)\n"
   ]
  },
  {
   "cell_type": "code",
   "execution_count": 10,
   "id": "e328449e",
   "metadata": {},
   "outputs": [
    {
     "data": {
      "text/html": [
       "<div>\n",
       "<style scoped>\n",
       "    .dataframe tbody tr th:only-of-type {\n",
       "        vertical-align: middle;\n",
       "    }\n",
       "\n",
       "    .dataframe tbody tr th {\n",
       "        vertical-align: top;\n",
       "    }\n",
       "\n",
       "    .dataframe thead th {\n",
       "        text-align: right;\n",
       "    }\n",
       "</style>\n",
       "<table border=\"1\" class=\"dataframe\">\n",
       "  <thead>\n",
       "    <tr style=\"text-align: right;\">\n",
       "      <th></th>\n",
       "      <th>total_bill</th>\n",
       "      <th>tip</th>\n",
       "      <th>sex</th>\n",
       "      <th>smoker</th>\n",
       "      <th>day</th>\n",
       "      <th>time</th>\n",
       "      <th>size</th>\n",
       "    </tr>\n",
       "  </thead>\n",
       "  <tbody>\n",
       "    <tr>\n",
       "      <th>0</th>\n",
       "      <td>16.99</td>\n",
       "      <td>1.01</td>\n",
       "      <td>Female</td>\n",
       "      <td>No</td>\n",
       "      <td>Sun</td>\n",
       "      <td>Dinner</td>\n",
       "      <td>2</td>\n",
       "    </tr>\n",
       "    <tr>\n",
       "      <th>1</th>\n",
       "      <td>10.34</td>\n",
       "      <td>1.66</td>\n",
       "      <td>Male</td>\n",
       "      <td>No</td>\n",
       "      <td>Sun</td>\n",
       "      <td>Dinner</td>\n",
       "      <td>3</td>\n",
       "    </tr>\n",
       "    <tr>\n",
       "      <th>2</th>\n",
       "      <td>21.01</td>\n",
       "      <td>3.50</td>\n",
       "      <td>Male</td>\n",
       "      <td>No</td>\n",
       "      <td>Sun</td>\n",
       "      <td>Dinner</td>\n",
       "      <td>3</td>\n",
       "    </tr>\n",
       "    <tr>\n",
       "      <th>3</th>\n",
       "      <td>23.68</td>\n",
       "      <td>3.31</td>\n",
       "      <td>Male</td>\n",
       "      <td>No</td>\n",
       "      <td>Sun</td>\n",
       "      <td>Dinner</td>\n",
       "      <td>2</td>\n",
       "    </tr>\n",
       "    <tr>\n",
       "      <th>4</th>\n",
       "      <td>24.59</td>\n",
       "      <td>3.61</td>\n",
       "      <td>Female</td>\n",
       "      <td>No</td>\n",
       "      <td>Sun</td>\n",
       "      <td>Dinner</td>\n",
       "      <td>4</td>\n",
       "    </tr>\n",
       "    <tr>\n",
       "      <th>...</th>\n",
       "      <td>...</td>\n",
       "      <td>...</td>\n",
       "      <td>...</td>\n",
       "      <td>...</td>\n",
       "      <td>...</td>\n",
       "      <td>...</td>\n",
       "      <td>...</td>\n",
       "    </tr>\n",
       "    <tr>\n",
       "      <th>239</th>\n",
       "      <td>29.03</td>\n",
       "      <td>5.92</td>\n",
       "      <td>Male</td>\n",
       "      <td>No</td>\n",
       "      <td>Sat</td>\n",
       "      <td>Dinner</td>\n",
       "      <td>3</td>\n",
       "    </tr>\n",
       "    <tr>\n",
       "      <th>240</th>\n",
       "      <td>27.18</td>\n",
       "      <td>2.00</td>\n",
       "      <td>Female</td>\n",
       "      <td>Yes</td>\n",
       "      <td>Sat</td>\n",
       "      <td>Dinner</td>\n",
       "      <td>2</td>\n",
       "    </tr>\n",
       "    <tr>\n",
       "      <th>241</th>\n",
       "      <td>22.67</td>\n",
       "      <td>2.00</td>\n",
       "      <td>Male</td>\n",
       "      <td>Yes</td>\n",
       "      <td>Sat</td>\n",
       "      <td>Dinner</td>\n",
       "      <td>2</td>\n",
       "    </tr>\n",
       "    <tr>\n",
       "      <th>242</th>\n",
       "      <td>17.82</td>\n",
       "      <td>1.75</td>\n",
       "      <td>Male</td>\n",
       "      <td>No</td>\n",
       "      <td>Sat</td>\n",
       "      <td>Dinner</td>\n",
       "      <td>2</td>\n",
       "    </tr>\n",
       "    <tr>\n",
       "      <th>243</th>\n",
       "      <td>18.78</td>\n",
       "      <td>3.00</td>\n",
       "      <td>Female</td>\n",
       "      <td>No</td>\n",
       "      <td>Thur</td>\n",
       "      <td>Dinner</td>\n",
       "      <td>2</td>\n",
       "    </tr>\n",
       "  </tbody>\n",
       "</table>\n",
       "<p>244 rows × 7 columns</p>\n",
       "</div>"
      ],
      "text/plain": [
       "     total_bill   tip     sex smoker   day    time  size\n",
       "0         16.99  1.01  Female     No   Sun  Dinner     2\n",
       "1         10.34  1.66    Male     No   Sun  Dinner     3\n",
       "2         21.01  3.50    Male     No   Sun  Dinner     3\n",
       "3         23.68  3.31    Male     No   Sun  Dinner     2\n",
       "4         24.59  3.61  Female     No   Sun  Dinner     4\n",
       "..          ...   ...     ...    ...   ...     ...   ...\n",
       "239       29.03  5.92    Male     No   Sat  Dinner     3\n",
       "240       27.18  2.00  Female    Yes   Sat  Dinner     2\n",
       "241       22.67  2.00    Male    Yes   Sat  Dinner     2\n",
       "242       17.82  1.75    Male     No   Sat  Dinner     2\n",
       "243       18.78  3.00  Female     No  Thur  Dinner     2\n",
       "\n",
       "[244 rows x 7 columns]"
      ]
     },
     "execution_count": 10,
     "metadata": {},
     "output_type": "execute_result"
    }
   ],
   "source": [
    "import seaborn\n",
    "\n",
    "seaborn.set_style(\"whitegrid\") # theme of canvas\n",
    "tip=seaborn.load_dataset(\"tips\")\n",
    "tip\n",
    "\n"
   ]
  },
  {
   "cell_type": "code",
   "execution_count": 12,
   "id": "2d933498",
   "metadata": {
    "scrolled": true
   },
   "outputs": [
    {
     "data": {
      "text/plain": [
       "<AxesSubplot:xlabel='day', ylabel='tip'>"
      ]
     },
     "execution_count": 12,
     "metadata": {},
     "output_type": "execute_result"
    },
    {
     "data": {
      "image/png": "[encoded data removed]",
      "text/plain": [
       "<Figure size 432x288 with 1 Axes>"
      ]
     },
     "metadata": {},
     "output_type": "display_data"
    }
   ],
   "source": [
    "seaborn.boxplot(x=\"day\", y=\"tip\", data=tip, saturation=0.1)\n"
   ]
  },
  {
   "cell_type": "code",
   "execution_count": 116,
   "id": "f61e084b",
   "metadata": {},
   "outputs": [
    {
     "data": {
      "text/plain": [
       "<AxesSubplot:xlabel='sex', ylabel='tip'>"
      ]
     },
     "execution_count": 116,
     "metadata": {},
     "output_type": "execute_result"
    },
    {
     "data": {
      "image/png": "[encoded data removed]",
      "text/plain": [
       "<Figure size 432x288 with 1 Axes>"
      ]
     },
     "metadata": {},
     "output_type": "display_data"
    }
   ],
   "source": [
    "# estimator\n",
    "import seaborn as sns\n",
    "\n",
    "seaborn.set_style(\"whitegrid\") # theme of canvas\n",
    "tip=seaborn.load_dataset(\"tips\")\n",
    "tip\n",
    "seaborn.boxplot(x=\"sex\", y=\"tip\", data=tip, saturation=0.5) # estimator=mean can't be used here because of the type of the plot\n",
    "\n"
   ]
  },
  {
   "cell_type": "code",
   "execution_count": 105,
   "id": "9a2c7572",
   "metadata": {
    "scrolled": true
   },
   "outputs": [],
   "source": [
    "# describing summary of numeric data  \n",
    "import seaborn as sns\n",
    "\n",
    "seaborn.set_style(\"whitegrid\") # theme of canvas\n",
    "\n",
    "tip=sns.load_dataset(\"tips\")\n",
    "tip.describe() # numeric data is mostly drawn on y-axis while categorical variables on x-axis and hue, \n",
    "# never put numeric data in hue. More details and reasons will be explained later\n"
   ]
  },
  {
   "cell_type": "code",
   "execution_count": 115,
   "id": "ad296d25",
   "metadata": {
    "scrolled": true
   },
   "outputs": [
    {
     "data": {
      "text/plain": [
       "<AxesSubplot:xlabel='total_bill'>"
      ]
     },
     "execution_count": 115,
     "metadata": {},
     "output_type": "execute_result"
    },
    {
     "data": {
      "image/png": "[encoded data removed]",
      "text/plain": [
       "<Figure size 432x288 with 1 Axes>"
      ]
     },
     "metadata": {},
     "output_type": "display_data"
    }
   ],
   "source": [
    "sns.boxplot(x=\"total_bill\",  data=tip) # Indexing is used to access the elements of  column \"total_bill\" in dataframe \"tip\"\n"
   ]
  },
  {
   "cell_type": "code",
   "execution_count": 100,
   "id": "41c6b6e5",
   "metadata": {},
   "outputs": [
    {
     "data": {
      "text/plain": [
       "<AxesSubplot:ylabel='total_bill'>"
      ]
     },
     "execution_count": 100,
     "metadata": {},
     "output_type": "execute_result"
    },
    {
     "data": {
      "image/png": "[encoded data removed]",
      "text/plain": [
       "<Figure size 432x288 with 1 Axes>"
      ]
     },
     "metadata": {},
     "output_type": "display_data"
    }
   ],
   "source": [
    "sns.boxplot(y=\"total_bill\",  data=tip)"
   ]
  },
  {
   "cell_type": "code",
   "execution_count": 62,
   "id": "8ea57c3a",
   "metadata": {},
   "outputs": [
    {
     "data": {
      "text/plain": [
       "<AxesSubplot:title={'center':'boxplot'}>"
      ]
     },
     "execution_count": 62,
     "metadata": {},
     "output_type": "execute_result"
    },
    {
     "data": {
      "image/png": "[encoded data removed]",
      "text/plain": [
       "<Figure size 432x288 with 1 Axes>"
      ]
     },
     "metadata": {},
     "output_type": "display_data"
    }
   ],
   "source": [
    "#tip[['total_bill', 'tip']].plot(kind='box', title='boxplot') "
   ]
  },
  {
   "cell_type": "code",
   "execution_count": null,
   "id": "2f9b870c",
   "metadata": {
    "scrolled": false
   },
   "outputs": [],
   "source": [
    "import seaborn as sns\n",
    "import pandas as pd\n",
    "sns.set_style(\"whitegrid\") # theme of canvas\n",
    "\n",
    "tip=sns.load_dataset(\"tips\")\n",
    "#sns.boxplot(x=tip[\"total_bill\",\"tip\"],   data=tip) # doesn't work \n",
    "# Trying this \n",
    "tip_long=pd.melt(tip) # to \"melt\" the sample dataframe into its \"long-form\" where each column is a variable and \n",
    "# each row is an observation\n",
    "tip_long\n",
    "# sns.boxplot(x=\"total_bill\", y=\"tip\",  data=tip_long) # doesn't work either\n"
   ]
  },
  {
   "cell_type": "code",
   "execution_count": 118,
   "id": "99f6aa15",
   "metadata": {
    "scrolled": true
   },
   "outputs": [
    {
     "data": {
      "text/html": [
       "<div>\n",
       "<style scoped>\n",
       "    .dataframe tbody tr th:only-of-type {\n",
       "        vertical-align: middle;\n",
       "    }\n",
       "\n",
       "    .dataframe tbody tr th {\n",
       "        vertical-align: top;\n",
       "    }\n",
       "\n",
       "    .dataframe thead th {\n",
       "        text-align: right;\n",
       "    }\n",
       "</style>\n",
       "<table border=\"1\" class=\"dataframe\">\n",
       "  <thead>\n",
       "    <tr style=\"text-align: right;\">\n",
       "      <th></th>\n",
       "      <th>total_bill</th>\n",
       "      <th>tip</th>\n",
       "      <th>sex</th>\n",
       "      <th>smoker</th>\n",
       "      <th>day</th>\n",
       "      <th>time</th>\n",
       "      <th>size</th>\n",
       "    </tr>\n",
       "  </thead>\n",
       "  <tbody>\n",
       "    <tr>\n",
       "      <th>0</th>\n",
       "      <td>16.99</td>\n",
       "      <td>1.01</td>\n",
       "      <td>Female</td>\n",
       "      <td>No</td>\n",
       "      <td>Sun</td>\n",
       "      <td>Dinner</td>\n",
       "      <td>2</td>\n",
       "    </tr>\n",
       "    <tr>\n",
       "      <th>1</th>\n",
       "      <td>10.34</td>\n",
       "      <td>1.66</td>\n",
       "      <td>Male</td>\n",
       "      <td>No</td>\n",
       "      <td>Sun</td>\n",
       "      <td>Dinner</td>\n",
       "      <td>3</td>\n",
       "    </tr>\n",
       "    <tr>\n",
       "      <th>2</th>\n",
       "      <td>21.01</td>\n",
       "      <td>3.50</td>\n",
       "      <td>Male</td>\n",
       "      <td>No</td>\n",
       "      <td>Sun</td>\n",
       "      <td>Dinner</td>\n",
       "      <td>3</td>\n",
       "    </tr>\n",
       "    <tr>\n",
       "      <th>3</th>\n",
       "      <td>23.68</td>\n",
       "      <td>3.31</td>\n",
       "      <td>Male</td>\n",
       "      <td>No</td>\n",
       "      <td>Sun</td>\n",
       "      <td>Dinner</td>\n",
       "      <td>2</td>\n",
       "    </tr>\n",
       "    <tr>\n",
       "      <th>4</th>\n",
       "      <td>24.59</td>\n",
       "      <td>3.61</td>\n",
       "      <td>Female</td>\n",
       "      <td>No</td>\n",
       "      <td>Sun</td>\n",
       "      <td>Dinner</td>\n",
       "      <td>4</td>\n",
       "    </tr>\n",
       "    <tr>\n",
       "      <th>...</th>\n",
       "      <td>...</td>\n",
       "      <td>...</td>\n",
       "      <td>...</td>\n",
       "      <td>...</td>\n",
       "      <td>...</td>\n",
       "      <td>...</td>\n",
       "      <td>...</td>\n",
       "    </tr>\n",
       "    <tr>\n",
       "      <th>239</th>\n",
       "      <td>29.03</td>\n",
       "      <td>5.92</td>\n",
       "      <td>Male</td>\n",
       "      <td>No</td>\n",
       "      <td>Sat</td>\n",
       "      <td>Dinner</td>\n",
       "      <td>3</td>\n",
       "    </tr>\n",
       "    <tr>\n",
       "      <th>240</th>\n",
       "      <td>27.18</td>\n",
       "      <td>2.00</td>\n",
       "      <td>Female</td>\n",
       "      <td>Yes</td>\n",
       "      <td>Sat</td>\n",
       "      <td>Dinner</td>\n",
       "      <td>2</td>\n",
       "    </tr>\n",
       "    <tr>\n",
       "      <th>241</th>\n",
       "      <td>22.67</td>\n",
       "      <td>2.00</td>\n",
       "      <td>Male</td>\n",
       "      <td>Yes</td>\n",
       "      <td>Sat</td>\n",
       "      <td>Dinner</td>\n",
       "      <td>2</td>\n",
       "    </tr>\n",
       "    <tr>\n",
       "      <th>242</th>\n",
       "      <td>17.82</td>\n",
       "      <td>1.75</td>\n",
       "      <td>Male</td>\n",
       "      <td>No</td>\n",
       "      <td>Sat</td>\n",
       "      <td>Dinner</td>\n",
       "      <td>2</td>\n",
       "    </tr>\n",
       "    <tr>\n",
       "      <th>243</th>\n",
       "      <td>18.78</td>\n",
       "      <td>3.00</td>\n",
       "      <td>Female</td>\n",
       "      <td>No</td>\n",
       "      <td>Thur</td>\n",
       "      <td>Dinner</td>\n",
       "      <td>2</td>\n",
       "    </tr>\n",
       "  </tbody>\n",
       "</table>\n",
       "<p>244 rows × 7 columns</p>\n",
       "</div>"
      ],
      "text/plain": [
       "     total_bill   tip     sex smoker   day    time  size\n",
       "0         16.99  1.01  Female     No   Sun  Dinner     2\n",
       "1         10.34  1.66    Male     No   Sun  Dinner     3\n",
       "2         21.01  3.50    Male     No   Sun  Dinner     3\n",
       "3         23.68  3.31    Male     No   Sun  Dinner     2\n",
       "4         24.59  3.61  Female     No   Sun  Dinner     4\n",
       "..          ...   ...     ...    ...   ...     ...   ...\n",
       "239       29.03  5.92    Male     No   Sat  Dinner     3\n",
       "240       27.18  2.00  Female    Yes   Sat  Dinner     2\n",
       "241       22.67  2.00    Male    Yes   Sat  Dinner     2\n",
       "242       17.82  1.75    Male     No   Sat  Dinner     2\n",
       "243       18.78  3.00  Female     No  Thur  Dinner     2\n",
       "\n",
       "[244 rows x 7 columns]"
      ]
     },
     "execution_count": 118,
     "metadata": {},
     "output_type": "execute_result"
    }
   ],
   "source": [
    "import seaborn as sns\n",
    "\n",
    "sns.set_style(\"whitegrid\") # theme of canvas\n",
    "\n",
    "tip=sns.load_dataset(\"tips\")\n",
    "tip"
   ]
  },
  {
   "cell_type": "code",
   "execution_count": 131,
   "id": "f9ce7a9e",
   "metadata": {
    "scrolled": true
   },
   "outputs": [
    {
     "data": {
      "text/plain": [
       "<AxesSubplot:xlabel='tip', ylabel='day'>"
      ]
     },
     "execution_count": 131,
     "metadata": {},
     "output_type": "execute_result"
    },
    {
     "data": {
      "image/png": "[encoded data removed]",
      "text/plain": [
       "<Figure size 432x288 with 1 Axes>"
      ]
     },
     "metadata": {},
     "output_type": "display_data"
    }
   ],
   "source": [
    "# checking hue, orient, dodge features of boxplot\n",
    "sns.boxplot(x=\"tip\", y=\"day\", hue=\"smoker\",data=tip, palette=\"Set2\", dodge=True ) # keeping arguments in order is very important"
   ]
  },
  {
   "cell_type": "code",
   "execution_count": 132,
   "id": "fc2d96d4",
   "metadata": {},
   "outputs": [
    {
     "data": {
      "text/plain": [
       "<AxesSubplot:xlabel='tip', ylabel='day'>"
      ]
     },
     "execution_count": 132,
     "metadata": {},
     "output_type": "execute_result"
    },
    {
     "data": {
      "image/png": "[encoded data removed]",
      "text/plain": [
       "<Figure size 432x288 with 1 Axes>"
      ]
     },
     "metadata": {},
     "output_type": "display_data"
    }
   ],
   "source": [
    "# Changing Color of own choice: to do this search in Google color picker and select your own color and copy HEX code\n",
    "sns.boxplot(x=\"tip\", y=\"day\", data=tip, color=\"#a742f5\")"
   ]
  },
  {
   "cell_type": "code",
   "execution_count": 133,
   "id": "0d87cb65",
   "metadata": {
    "scrolled": true
   },
   "outputs": [
    {
     "data": {
      "text/plain": [
       "<AxesSubplot:xlabel='tip', ylabel='day'>"
      ]
     },
     "execution_count": 133,
     "metadata": {},
     "output_type": "execute_result"
    },
    {
     "data": {
      "image/png": "[encoded data removed]",
      "text/plain": [
       "<Figure size 432x288 with 1 Axes>"
      ]
     },
     "metadata": {},
     "output_type": "display_data"
    }
   ],
   "source": [
    "# Assignment: how to manage individual color for each hue color?\n",
    "palette = ['tab:blue', 'tab:green']\n",
    "sns.boxplot(x=\"tip\", y=\"day\", saturation= 1, data=tip, orient=\"h\", hue=\"smoker\",\n",
    "            palette=palette)\n",
    "\n",
    "# The hue variable of seaborn.barplot() is mapped via palette: \n",
    "# palette: palette name, list, or dict\n",
    "\n",
    "# Colors to use for the different levels of the hue variable. Should be something \n",
    "# that can be interpreted by seaborn.color_palette(), or a dictionary mapping hue \n",
    "# levels to matplotlib colors.\n",
    "\n",
    "# So to customize your hue colors,\n",
    "\n",
    "# either define a color list:\n",
    "\n",
    "# palette = ['tab:blue', 'tab:green']\n",
    "\n",
    "# or a hue-color dictionary:\n",
    "\n",
    "# palette = {\n",
    "#     'Yes': 'tab:blue',\n",
    "#     'No': 'tab:green',\n",
    "# }\n",
    "# And pass that to palette:\n",
    "\n",
    "# sns.barplot(x=\"tip\", y=\"day\", saturation= 1, data=tip, orient=\"h\", hue=\"smoker\",\n",
    "#     palette=palette)"
   ]
  },
  {
   "cell_type": "code",
   "execution_count": 9,
   "id": "e28f70d3",
   "metadata": {},
   "outputs": [
    {
     "data": {
      "text/html": [
       "<div>\n",
       "<style scoped>\n",
       "    .dataframe tbody tr th:only-of-type {\n",
       "        vertical-align: middle;\n",
       "    }\n",
       "\n",
       "    .dataframe tbody tr th {\n",
       "        vertical-align: top;\n",
       "    }\n",
       "\n",
       "    .dataframe thead th {\n",
       "        text-align: right;\n",
       "    }\n",
       "</style>\n",
       "<table border=\"1\" class=\"dataframe\">\n",
       "  <thead>\n",
       "    <tr style=\"text-align: right;\">\n",
       "      <th></th>\n",
       "      <th>survived</th>\n",
       "      <th>pclass</th>\n",
       "      <th>sex</th>\n",
       "      <th>age</th>\n",
       "      <th>sibsp</th>\n",
       "      <th>parch</th>\n",
       "      <th>fare</th>\n",
       "      <th>embarked</th>\n",
       "      <th>class</th>\n",
       "      <th>who</th>\n",
       "      <th>adult_male</th>\n",
       "      <th>deck</th>\n",
       "      <th>embark_town</th>\n",
       "      <th>alive</th>\n",
       "      <th>alone</th>\n",
       "    </tr>\n",
       "  </thead>\n",
       "  <tbody>\n",
       "    <tr>\n",
       "      <th>0</th>\n",
       "      <td>0</td>\n",
       "      <td>3</td>\n",
       "      <td>male</td>\n",
       "      <td>22.0</td>\n",
       "      <td>1</td>\n",
       "      <td>0</td>\n",
       "      <td>7.2500</td>\n",
       "      <td>S</td>\n",
       "      <td>Third</td>\n",
       "      <td>man</td>\n",
       "      <td>True</td>\n",
       "      <td>NaN</td>\n",
       "      <td>Southampton</td>\n",
       "      <td>no</td>\n",
       "      <td>False</td>\n",
       "    </tr>\n",
       "    <tr>\n",
       "      <th>1</th>\n",
       "      <td>1</td>\n",
       "      <td>1</td>\n",
       "      <td>female</td>\n",
       "      <td>38.0</td>\n",
       "      <td>1</td>\n",
       "      <td>0</td>\n",
       "      <td>71.2833</td>\n",
       "      <td>C</td>\n",
       "      <td>First</td>\n",
       "      <td>woman</td>\n",
       "      <td>False</td>\n",
       "      <td>C</td>\n",
       "      <td>Cherbourg</td>\n",
       "      <td>yes</td>\n",
       "      <td>False</td>\n",
       "    </tr>\n",
       "    <tr>\n",
       "      <th>2</th>\n",
       "      <td>1</td>\n",
       "      <td>3</td>\n",
       "      <td>female</td>\n",
       "      <td>26.0</td>\n",
       "      <td>0</td>\n",
       "      <td>0</td>\n",
       "      <td>7.9250</td>\n",
       "      <td>S</td>\n",
       "      <td>Third</td>\n",
       "      <td>woman</td>\n",
       "      <td>False</td>\n",
       "      <td>NaN</td>\n",
       "      <td>Southampton</td>\n",
       "      <td>yes</td>\n",
       "      <td>True</td>\n",
       "    </tr>\n",
       "    <tr>\n",
       "      <th>3</th>\n",
       "      <td>1</td>\n",
       "      <td>1</td>\n",
       "      <td>female</td>\n",
       "      <td>35.0</td>\n",
       "      <td>1</td>\n",
       "      <td>0</td>\n",
       "      <td>53.1000</td>\n",
       "      <td>S</td>\n",
       "      <td>First</td>\n",
       "      <td>woman</td>\n",
       "      <td>False</td>\n",
       "      <td>C</td>\n",
       "      <td>Southampton</td>\n",
       "      <td>yes</td>\n",
       "      <td>False</td>\n",
       "    </tr>\n",
       "    <tr>\n",
       "      <th>4</th>\n",
       "      <td>0</td>\n",
       "      <td>3</td>\n",
       "      <td>male</td>\n",
       "      <td>35.0</td>\n",
       "      <td>0</td>\n",
       "      <td>0</td>\n",
       "      <td>8.0500</td>\n",
       "      <td>S</td>\n",
       "      <td>Third</td>\n",
       "      <td>man</td>\n",
       "      <td>True</td>\n",
       "      <td>NaN</td>\n",
       "      <td>Southampton</td>\n",
       "      <td>no</td>\n",
       "      <td>True</td>\n",
       "    </tr>\n",
       "  </tbody>\n",
       "</table>\n",
       "</div>"
      ],
      "text/plain": [
       "   survived  pclass     sex   age  sibsp  parch     fare embarked  class  \\\n",
       "0         0       3    male  22.0      1      0   7.2500        S  Third   \n",
       "1         1       1  female  38.0      1      0  71.2833        C  First   \n",
       "2         1       3  female  26.0      0      0   7.9250        S  Third   \n",
       "3         1       1  female  35.0      1      0  53.1000        S  First   \n",
       "4         0       3    male  35.0      0      0   8.0500        S  Third   \n",
       "\n",
       "     who  adult_male deck  embark_town alive  alone  \n",
       "0    man        True  NaN  Southampton    no  False  \n",
       "1  woman       False    C    Cherbourg   yes  False  \n",
       "2  woman       False  NaN  Southampton   yes   True  \n",
       "3  woman       False    C  Southampton   yes  False  \n",
       "4    man        True  NaN  Southampton    no   True  "
      ]
     },
     "execution_count": 9,
     "metadata": {},
     "output_type": "execute_result"
    }
   ],
   "source": [
    "import seaborn as sns\n",
    "import pandas as pd\n",
    "import numpy as np\n",
    "import matplotlib.pyplot as plt\n",
    "\n",
    "sns.set_style(\"whitegrid\") # theme of canvas\n",
    "kashti=sns.load_dataset(\"titanic\")\n",
    "kashti.head() # To get the headers of all data"
   ]
  },
  {
   "cell_type": "code",
   "execution_count": 11,
   "id": "79552fd6",
   "metadata": {},
   "outputs": [
    {
     "data": {
      "text/plain": [
       "<AxesSubplot:xlabel='survived', ylabel='age'>"
      ]
     },
     "execution_count": 11,
     "metadata": {},
     "output_type": "execute_result"
    },
    {
     "data": {
      "image/png": "[encoded data removed]",
      "text/plain": [
       "<Figure size 432x288 with 1 Axes>"
      ]
     },
     "metadata": {},
     "output_type": "display_data"
    }
   ],
   "source": [
    "# to show mean symbol \n",
    "sns.boxplot(x=\"survived\", y=\"age\", data=kashti, showmeans=True )"
   ]
  },
  {
   "cell_type": "code",
   "execution_count": 24,
   "id": "887c7b94",
   "metadata": {},
   "outputs": [
    {
     "data": {
      "image/png": "[encoded data removed]",
      "text/plain": [
       "<Figure size 432x288 with 1 Axes>"
      ]
     },
     "metadata": {},
     "output_type": "display_data"
    }
   ],
   "source": [
    "# to show and control labels symbols, markers \n",
    "sns.boxplot(x=\"survived\", y=\"age\", showmeans=True, \n",
    "            meanprops={\"marker\": \"*\",\n",
    "                       \"markersize\": \"12\",\n",
    "                       \"markeredgecolor\": \"yellow\"}, data=kashti)\n",
    "plt.xlabel(\"How many survived?\", size=10)\n",
    "plt.ylabel(\"Age (years)\",size=10)\n",
    "plt.title(\"Boxplot for Titanic Survivors\",size=10, weight=\"bold\")\n",
    "plt.show()"
   ]
  },
  {
   "cell_type": "markdown",
   "id": "f648b4cc",
   "metadata": {},
   "source": [
    "## -  Boxplot of our data\n",
    "- Assignment: Facet wrap and facet grid"
   ]
  },
  {
   "cell_type": "code",
   "execution_count": 49,
   "id": "f11782a3",
   "metadata": {},
   "outputs": [
    {
     "data": {
      "text/html": [
       "<div>\n",
       "<style scoped>\n",
       "    .dataframe tbody tr th:only-of-type {\n",
       "        vertical-align: middle;\n",
       "    }\n",
       "\n",
       "    .dataframe tbody tr th {\n",
       "        vertical-align: top;\n",
       "    }\n",
       "\n",
       "    .dataframe thead th {\n",
       "        text-align: right;\n",
       "    }\n",
       "</style>\n",
       "<table border=\"1\" class=\"dataframe\">\n",
       "  <thead>\n",
       "    <tr style=\"text-align: right;\">\n",
       "      <th></th>\n",
       "      <th>Gender</th>\n",
       "      <th>Location</th>\n",
       "      <th>Age</th>\n",
       "      <th>Qualification_completed</th>\n",
       "      <th>field_of_study</th>\n",
       "      <th>Purpose_for_chilla</th>\n",
       "      <th>What are you?</th>\n",
       "      <th>Blood group</th>\n",
       "      <th>Which mobile sim do you use</th>\n",
       "      <th>Prepaid or Postpaid</th>\n",
       "      <th>...</th>\n",
       "      <th>Your favorite programming language?</th>\n",
       "      <th>Marital Status?</th>\n",
       "      <th>Are you Vaccinated?</th>\n",
       "      <th>Where do you live?</th>\n",
       "      <th>Research-Working experience_years</th>\n",
       "      <th>Age_years</th>\n",
       "      <th>Weight_kg</th>\n",
       "      <th>Height_cm</th>\n",
       "      <th>Coding Hours</th>\n",
       "      <th>Load_Shedding</th>\n",
       "    </tr>\n",
       "  </thead>\n",
       "  <tbody>\n",
       "    <tr>\n",
       "      <th>0</th>\n",
       "      <td>Male</td>\n",
       "      <td>Pakistan</td>\n",
       "      <td>36-40</td>\n",
       "      <td>Masters</td>\n",
       "      <td>Natural Sciences</td>\n",
       "      <td>to boost my skill set</td>\n",
       "      <td>Unemplyed</td>\n",
       "      <td>B+</td>\n",
       "      <td>U-fone</td>\n",
       "      <td>Prepaid</td>\n",
       "      <td>...</td>\n",
       "      <td>Python</td>\n",
       "      <td>Yes</td>\n",
       "      <td>Yes</td>\n",
       "      <td>Urbun</td>\n",
       "      <td>5.0</td>\n",
       "      <td>38.00</td>\n",
       "      <td>77.0</td>\n",
       "      <td>179.000</td>\n",
       "      <td>3.0</td>\n",
       "      <td>2</td>\n",
       "    </tr>\n",
       "    <tr>\n",
       "      <th>1</th>\n",
       "      <td>Male</td>\n",
       "      <td>Pakistan</td>\n",
       "      <td>26-30</td>\n",
       "      <td>Bachelors</td>\n",
       "      <td>CS/IT</td>\n",
       "      <td>to boost my skill set</td>\n",
       "      <td>Student</td>\n",
       "      <td>B+</td>\n",
       "      <td>U-fone</td>\n",
       "      <td>Prepaid</td>\n",
       "      <td>...</td>\n",
       "      <td>Python</td>\n",
       "      <td>No</td>\n",
       "      <td>Yes</td>\n",
       "      <td>Urbun</td>\n",
       "      <td>1.0</td>\n",
       "      <td>25.00</td>\n",
       "      <td>53.6</td>\n",
       "      <td>178.000</td>\n",
       "      <td>2.0</td>\n",
       "      <td>6</td>\n",
       "    </tr>\n",
       "    <tr>\n",
       "      <th>2</th>\n",
       "      <td>Male</td>\n",
       "      <td>Pakistan</td>\n",
       "      <td>31-35</td>\n",
       "      <td>Masters</td>\n",
       "      <td>Enginnering</td>\n",
       "      <td>Switch my field of study</td>\n",
       "      <td>Employed</td>\n",
       "      <td>B+</td>\n",
       "      <td>Zong</td>\n",
       "      <td>Prepaid</td>\n",
       "      <td>...</td>\n",
       "      <td>Python</td>\n",
       "      <td>Yes</td>\n",
       "      <td>Yes</td>\n",
       "      <td>Urbun</td>\n",
       "      <td>5.5</td>\n",
       "      <td>31.34</td>\n",
       "      <td>93.0</td>\n",
       "      <td>173.000</td>\n",
       "      <td>2.0</td>\n",
       "      <td>0</td>\n",
       "    </tr>\n",
       "    <tr>\n",
       "      <th>3</th>\n",
       "      <td>Female</td>\n",
       "      <td>Pakistan</td>\n",
       "      <td>31-35</td>\n",
       "      <td>Masters</td>\n",
       "      <td>CS/IT</td>\n",
       "      <td>to boost my skill set</td>\n",
       "      <td>Employed</td>\n",
       "      <td>O+</td>\n",
       "      <td>U-fone</td>\n",
       "      <td>Postpaid</td>\n",
       "      <td>...</td>\n",
       "      <td>Python</td>\n",
       "      <td>Yes</td>\n",
       "      <td>Yes</td>\n",
       "      <td>Urbun</td>\n",
       "      <td>5.0</td>\n",
       "      <td>33.00</td>\n",
       "      <td>60.0</td>\n",
       "      <td>157.000</td>\n",
       "      <td>3.0</td>\n",
       "      <td>24</td>\n",
       "    </tr>\n",
       "    <tr>\n",
       "      <th>4</th>\n",
       "      <td>Female</td>\n",
       "      <td>Pakistan</td>\n",
       "      <td>26-30</td>\n",
       "      <td>Masters</td>\n",
       "      <td>Enginnering</td>\n",
       "      <td>to boost my skill set</td>\n",
       "      <td>Student</td>\n",
       "      <td>A-</td>\n",
       "      <td>Mobilink</td>\n",
       "      <td>Prepaid</td>\n",
       "      <td>...</td>\n",
       "      <td>Javascript</td>\n",
       "      <td>No</td>\n",
       "      <td>Yes</td>\n",
       "      <td>Rural</td>\n",
       "      <td>3.5</td>\n",
       "      <td>27.00</td>\n",
       "      <td>59.9</td>\n",
       "      <td>164.544</td>\n",
       "      <td>6.0</td>\n",
       "      <td>12</td>\n",
       "    </tr>\n",
       "  </tbody>\n",
       "</table>\n",
       "<p>5 rows × 23 columns</p>\n",
       "</div>"
      ],
      "text/plain": [
       "   Gender  Location    Age Qualification_completed    field_of_study  \\\n",
       "0    Male  Pakistan  36-40                 Masters  Natural Sciences   \n",
       "1    Male  Pakistan  26-30               Bachelors             CS/IT   \n",
       "2    Male  Pakistan  31-35                 Masters       Enginnering   \n",
       "3  Female  Pakistan  31-35                 Masters             CS/IT   \n",
       "4  Female  Pakistan  26-30                 Masters       Enginnering   \n",
       "\n",
       "         Purpose_for_chilla What are you? Blood group   \\\n",
       "0     to boost my skill set     Unemplyed           B+   \n",
       "1     to boost my skill set       Student           B+   \n",
       "2  Switch my field of study      Employed           B+   \n",
       "3     to boost my skill set      Employed           O+   \n",
       "4     to boost my skill set       Student           A-   \n",
       "\n",
       "  Which mobile sim do you use Prepaid or Postpaid  ...  \\\n",
       "0                      U-fone             Prepaid  ...   \n",
       "1                      U-fone             Prepaid  ...   \n",
       "2                        Zong             Prepaid  ...   \n",
       "3                      U-fone            Postpaid  ...   \n",
       "4                    Mobilink             Prepaid  ...   \n",
       "\n",
       "  Your favorite programming language? Marital Status? Are you Vaccinated?  \\\n",
       "0                              Python             Yes                 Yes   \n",
       "1                              Python              No                 Yes   \n",
       "2                              Python             Yes                 Yes   \n",
       "3                              Python             Yes                 Yes   \n",
       "4                          Javascript              No                 Yes   \n",
       "\n",
       "  Where do you live? Research-Working experience_years Age_years Weight_kg  \\\n",
       "0              Urbun                               5.0     38.00      77.0   \n",
       "1              Urbun                               1.0     25.00      53.6   \n",
       "2              Urbun                               5.5     31.34      93.0   \n",
       "3              Urbun                               5.0     33.00      60.0   \n",
       "4              Rural                               3.5     27.00      59.9   \n",
       "\n",
       "   Height_cm  Coding Hours  Load_Shedding  \n",
       "0    179.000           3.0              2  \n",
       "1    178.000           2.0              6  \n",
       "2    173.000           2.0              0  \n",
       "3    157.000           3.0             24  \n",
       "4    164.544           6.0             12  \n",
       "\n",
       "[5 rows x 23 columns]"
      ]
     },
     "execution_count": 49,
     "metadata": {},
     "output_type": "execute_result"
    }
   ],
   "source": [
    "import seaborn as sns\n",
    "import pandas as pd\n",
    "import numpy as np\n",
    "import matplotlib.pyplot as plt\n",
    "\n",
    "# Step-2 set a theme\n",
    "sns.set_theme(style=\"ticks\", color_codes=True)\n",
    "\n",
    "\n",
    "chilla_data=pd.read_csv(\"Chilla_data2_for_plots.csv\")\n",
    "chilla_data.head() # To get the headers of all data"
   ]
  },
  {
   "cell_type": "code",
   "execution_count": 48,
   "id": "267409b9",
   "metadata": {},
   "outputs": [
    {
     "data": {
      "image/png": "[encoded data removed]",
      "text/plain": [
       "<Figure size 432x288 with 1 Axes>"
      ]
     },
     "metadata": {},
     "output_type": "display_data"
    }
   ],
   "source": [
    "sns.boxplot(x=\"Coding Hours\", y=\"field_of_study\",hue=\"Location\",data=chilla_data,\n",
    "            palette=\"Set2\", saturation= 1, dodge= True)\n",
    "plt.title(\"Boxplot for Chilla Students\",size=10, weight=\"bold\")\n",
    "plt.show()"
   ]
  },
  {
   "cell_type": "code",
   "execution_count": 58,
   "id": "d116b832",
   "metadata": {},
   "outputs": [
    {
     "name": "stderr",
     "output_type": "stream",
     "text": [
      "C:\\Users\\Komal Khan\\anaconda3\\lib\\site-packages\\seaborn\\axisgrid.py:670: UserWarning: Using the boxplot function without specifying `order` is likely to produce an incorrect plot.\n",
      "  warnings.warn(warning)\n"
     ]
    },
    {
     "data": {
      "text/plain": [
       "<seaborn.axisgrid.FacetGrid at 0x1dd7edb7430>"
      ]
     },
     "execution_count": 58,
     "metadata": {},
     "output_type": "execute_result"
    },
    {
     "data": {
      "image/png": "[encoded data removed]",
      "text/plain": [
       "<Figure size 432x864 with 8 Axes>"
      ]
     },
     "metadata": {},
     "output_type": "display_data"
    }
   ],
   "source": [
    "# Facet Grid, not have them all in a column or a row, but formatted in a grid (e.g. 2x4)\n",
    "\n",
    "# tips = sns.load_dataset('chilla_data')\n",
    "# ordered_days = sorted(tips['day'].unique())\n",
    "# g = sns.FacetGrid(tips,col='day',col_order=ordered_days,col_wrap=2) \n",
    "# #                                               change this to 4 ^\n",
    "# g.map(sns.boxplot,'sex','total_bill',palette='muted')\n",
    "# for ax in g.axes.flatten(): \n",
    "#     ax.tick_params(labelbottom=True)\n",
    "# plt.tight_layout()\n",
    "# plt.show()\n",
    "\n",
    "g = sns.FacetGrid(chilla_data,col='Gender',row=\"Location\") \n",
    "#                                               change this to 4 ^\n",
    "g.map(sns.boxplot,\"Coding Hours\", \"field_of_study\",palette='muted')"
   ]
  }
 ],
 "metadata": {
  "kernelspec": {
   "display_name": "Python 3 (ipykernel)",
   "language": "python",
   "name": "python3"
  },
  "language_info": {
   "codemirror_mode": {
    "name": "ipython",
    "version": 3
   },
   "file_extension": ".py",
   "mimetype": "text/x-python",
   "name": "python",
   "nbconvert_exporter": "python",
   "pygments_lexer": "ipython3",
   "version": "3.10.1"
  }
 },
 "nbformat": 4,
 "nbformat_minor": 5
}
