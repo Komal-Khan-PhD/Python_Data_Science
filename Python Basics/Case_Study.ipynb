{
 "cells": [
  {
   "cell_type": "markdown",
   "id": "fa8f7840",
   "metadata": {},
   "source": [
    "# Data Visualisation - Case Studies \n",
    "**1a. Worldwide Decline of Female employment in agriculture, forestry and fishing Sector (STACKED LINE PLOT)**"
   ]
  },
  {
   "cell_type": "code",
   "execution_count": 14,
   "id": "45521cf5",
   "metadata": {},
   "outputs": [
    {
     "data": {
      "application/vnd.plotly.v1+json": {
       "config": {
        "plotlyServerURL": "https://plot.ly"
       },
       "data": [
        {
         "hovertemplate": "Continent=Africa<br>Year=%{x}<br>Female employment in agriculture, forestry and fishing (%)=%{y}<extra></extra>",
         "legendgroup": "Africa",
         "line": {
          "color": "#636efa"
         },
         "marker": {
          "symbol": "circle"
         },
         "mode": "lines",
         "name": "Africa",
         "orientation": "v",
         "showlegend": true,
         "stackgroup": "1",
         "type": "scatter",
         "x": [
          1991,
          1992,
          1993,
          1994,
          1995,
          1996,
          1997,
          1998,
          1999,
          2000,
          2001,
          2002,
          2003,
          2004,
          2005,
          2006,
          2007,
          2008,
          2009,
          2010,
          2011,
          2012,
          2013,
          2014,
          2015,
          2016,
          2017,
          2018,
          2019
         ],
         "xaxis": "x",
         "y": [
          65.008589,
          64.858595,
          64.500725,
          64.329416,
          63.988239,
          63.656636,
          63.330185,
          62.963123,
          62.570386,
          62.92908,
          62.533287,
          62.472316,
          62.51356,
          62.415833,
          62.129915,
          61.296521,
          60.610893,
          59.61454,
          58.882211,
          58.117077,
          57.250712,
          56.049488,
          55.459343,
          54.640602,
          53.702568,
          53.222634,
          52.555574,
          51.689759,
          51.057297
         ],
         "yaxis": "y"
        },
        {
         "hovertemplate": "Continent=Americas<br>Year=%{x}<br>Female employment in agriculture, forestry and fishing (%)=%{y}<extra></extra>",
         "legendgroup": "Americas",
         "line": {
          "color": "#EF553B"
         },
         "marker": {
          "symbol": "circle"
         },
         "mode": "lines",
         "name": "Americas",
         "orientation": "v",
         "showlegend": true,
         "stackgroup": "1",
         "type": "scatter",
         "x": [
          1991,
          1992,
          1993,
          1994,
          1995,
          1996,
          1997,
          1998,
          1999,
          2000,
          2001,
          2002,
          2003,
          2004,
          2005,
          2006,
          2007,
          2008,
          2009,
          2010,
          2011,
          2012,
          2013,
          2014,
          2015,
          2016,
          2017,
          2018,
          2019
         ],
         "xaxis": "x",
         "y": [
          5.727739,
          5.881106,
          5.904558,
          5.783455,
          5.859195,
          5.62406,
          5.622112,
          5.587903,
          5.654067,
          5.706431,
          6.019699,
          6.151151,
          6.112278,
          6.186476,
          6.202338,
          5.949825,
          5.533599,
          5.270645,
          5.124669,
          5.071421,
          4.972492,
          4.871672,
          4.669311,
          4.613953,
          4.539875,
          4.553743,
          4.543651,
          4.572075,
          4.47175
         ],
         "yaxis": "y"
        },
        {
         "hovertemplate": "Continent=Oceania<br>Year=%{x}<br>Female employment in agriculture, forestry and fishing (%)=%{y}<extra></extra>",
         "legendgroup": "Oceania",
         "line": {
          "color": "#00cc96"
         },
         "marker": {
          "symbol": "circle"
         },
         "mode": "lines",
         "name": "Oceania",
         "orientation": "v",
         "showlegend": true,
         "stackgroup": "1",
         "type": "scatter",
         "x": [
          1991,
          1992,
          1993,
          1994,
          1995,
          1996,
          1997,
          1998,
          1999,
          2000,
          2001,
          2002,
          2003,
          2004,
          2005,
          2006,
          2007,
          2008,
          2009,
          2010,
          2011,
          2012,
          2013,
          2014,
          2015,
          2016,
          2017,
          2018,
          2019
         ],
         "xaxis": "x",
         "y": [
          19.778745,
          19.736886,
          19.764308,
          19.484184,
          19.223284,
          19.058903,
          19.253734,
          19.307158,
          19.551131,
          19.434774,
          18.984144,
          18.30302,
          17.489293,
          17.04966,
          16.176042,
          15.547198,
          14.828548,
          14.215862,
          13.685208,
          13.254997,
          12.840884,
          12.683628,
          12.386281,
          12.389286,
          12.166905,
          11.970524,
          11.810086,
          11.598301,
          11.44069
         ],
         "yaxis": "y"
        },
        {
         "hovertemplate": "Continent=Europe<br>Year=%{x}<br>Female employment in agriculture, forestry and fishing (%)=%{y}<extra></extra>",
         "legendgroup": "Europe",
         "line": {
          "color": "#ab63fa"
         },
         "marker": {
          "symbol": "circle"
         },
         "mode": "lines",
         "name": "Europe",
         "orientation": "v",
         "showlegend": true,
         "stackgroup": "1",
         "type": "scatter",
         "x": [
          1991,
          1992,
          1993,
          1994,
          1995,
          1996,
          1997,
          1998,
          1999,
          2000,
          2001,
          2002,
          2003,
          2004,
          2005,
          2006,
          2007,
          2008,
          2009,
          2010,
          2011,
          2012,
          2013,
          2014,
          2015,
          2016,
          2017,
          2018,
          2019
         ],
         "xaxis": "x",
         "y": [
          11.79573,
          12.185077,
          12.101672,
          12.169471,
          11.847993,
          11.162934,
          10.422647,
          10.035184,
          10.839011,
          10.433423,
          9.637343,
          8.948899,
          8.418556,
          7.912549,
          7.688432,
          7.248971,
          6.859133,
          6.579121,
          6.335603,
          6.03662,
          5.921175,
          5.713603,
          5.572043,
          4.964757,
          4.801227,
          4.593334,
          4.288855,
          4.085921,
          3.94583
         ],
         "yaxis": "y"
        },
        {
         "hovertemplate": "Continent=Asia<br>Year=%{x}<br>Female employment in agriculture, forestry and fishing (%)=%{y}<extra></extra>",
         "legendgroup": "Asia",
         "line": {
          "color": "#FFA15A"
         },
         "marker": {
          "symbol": "circle"
         },
         "mode": "lines",
         "name": "Asia",
         "orientation": "v",
         "showlegend": true,
         "stackgroup": "1",
         "type": "scatter",
         "x": [
          1991,
          1992,
          1993,
          1994,
          1995,
          1996,
          1997,
          1998,
          1999,
          2000,
          2001,
          2002,
          2003,
          2004,
          2005,
          2006,
          2007,
          2008,
          2009,
          2010,
          2011,
          2012,
          2013,
          2014,
          2015,
          2016,
          2017,
          2018,
          2019
         ],
         "xaxis": "x",
         "y": [
          55.373934,
          54.765862,
          53.319472,
          51.786227,
          50.014166,
          48.898729,
          48.578288,
          48.734683,
          49.025059,
          49.171964,
          48.927186,
          48.948527,
          48.460358,
          46.675101,
          45.397942,
          43.728454,
          42.494898,
          41.618808,
          40.43047,
          39.436553,
          37.731011,
          36.279372,
          34.770928,
          33.285657,
          32.426857,
          31.44373,
          30.697735,
          29.792818,
          29.082982
         ],
         "yaxis": "y"
        }
       ],
       "layout": {
        "legend": {
         "title": {
          "text": "Continent"
         },
         "tracegroupgap": 0
        },
        "template": {
         "data": {
          "bar": [
           {
            "error_x": {
             "color": "#2a3f5f"
            },
            "error_y": {
             "color": "#2a3f5f"
            },
            "marker": {
             "line": {
              "color": "#E5ECF6",
              "width": 0.5
             },
             "pattern": {
              "fillmode": "overlay",
              "size": 10,
              "solidity": 0.2
             }
            },
            "type": "bar"
           }
          ],
          "barpolar": [
           {
            "marker": {
             "line": {
              "color": "#E5ECF6",
              "width": 0.5
             },
             "pattern": {
              "fillmode": "overlay",
              "size": 10,
              "solidity": 0.2
             }
            },
            "type": "barpolar"
           }
          ],
          "carpet": [
           {
            "aaxis": {
             "endlinecolor": "#2a3f5f",
             "gridcolor": "white",
             "linecolor": "white",
             "minorgridcolor": "white",
             "startlinecolor": "#2a3f5f"
            },
            "baxis": {
             "endlinecolor": "#2a3f5f",
             "gridcolor": "white",
             "linecolor": "white",
             "minorgridcolor": "white",
             "startlinecolor": "#2a3f5f"
            },
            "type": "carpet"
           }
          ],
          "choropleth": [
           {
            "colorbar": {
             "outlinewidth": 0,
             "ticks": ""
            },
            "type": "choropleth"
           }
          ],
          "contour": [
           {
            "colorbar": {
             "outlinewidth": 0,
             "ticks": ""
            },
            "colorscale": [
             [
              0,
              "#0d0887"
             ],
             [
              0.1111111111111111,
              "#46039f"
             ],
             [
              0.2222222222222222,
              "#7201a8"
             ],
             [
              0.3333333333333333,
              "#9c179e"
             ],
             [
              0.4444444444444444,
              "#bd3786"
             ],
             [
              0.5555555555555556,
              "#d8576b"
             ],
             [
              0.6666666666666666,
              "#ed7953"
             ],
             [
              0.7777777777777778,
              "#fb9f3a"
             ],
             [
              0.8888888888888888,
              "#fdca26"
             ],
             [
              1,
              "#f0f921"
             ]
            ],
            "type": "contour"
           }
          ],
          "contourcarpet": [
           {
            "colorbar": {
             "outlinewidth": 0,
             "ticks": ""
            },
            "type": "contourcarpet"
           }
          ],
          "heatmap": [
           {
            "colorbar": {
             "outlinewidth": 0,
             "ticks": ""
            },
            "colorscale": [
             [
              0,
              "#0d0887"
             ],
             [
              0.1111111111111111,
              "#46039f"
             ],
             [
              0.2222222222222222,
              "#7201a8"
             ],
             [
              0.3333333333333333,
              "#9c179e"
             ],
             [
              0.4444444444444444,
              "#bd3786"
             ],
             [
              0.5555555555555556,
              "#d8576b"
             ],
             [
              0.6666666666666666,
              "#ed7953"
             ],
             [
              0.7777777777777778,
              "#fb9f3a"
             ],
             [
              0.8888888888888888,
              "#fdca26"
             ],
             [
              1,
              "#f0f921"
             ]
            ],
            "type": "heatmap"
           }
          ],
          "heatmapgl": [
           {
            "colorbar": {
             "outlinewidth": 0,
             "ticks": ""
            },
            "colorscale": [
             [
              0,
              "#0d0887"
             ],
             [
              0.1111111111111111,
              "#46039f"
             ],
             [
              0.2222222222222222,
              "#7201a8"
             ],
             [
              0.3333333333333333,
              "#9c179e"
             ],
             [
              0.4444444444444444,
              "#bd3786"
             ],
             [
              0.5555555555555556,
              "#d8576b"
             ],
             [
              0.6666666666666666,
              "#ed7953"
             ],
             [
              0.7777777777777778,
              "#fb9f3a"
             ],
             [
              0.8888888888888888,
              "#fdca26"
             ],
             [
              1,
              "#f0f921"
             ]
            ],
            "type": "heatmapgl"
           }
          ],
          "histogram": [
           {
            "marker": {
             "pattern": {
              "fillmode": "overlay",
              "size": 10,
              "solidity": 0.2
             }
            },
            "type": "histogram"
           }
          ],
          "histogram2d": [
           {
            "colorbar": {
             "outlinewidth": 0,
             "ticks": ""
            },
            "colorscale": [
             [
              0,
              "#0d0887"
             ],
             [
              0.1111111111111111,
              "#46039f"
             ],
             [
              0.2222222222222222,
              "#7201a8"
             ],
             [
              0.3333333333333333,
              "#9c179e"
             ],
             [
              0.4444444444444444,
              "#bd3786"
             ],
             [
              0.5555555555555556,
              "#d8576b"
             ],
             [
              0.6666666666666666,
              "#ed7953"
             ],
             [
              0.7777777777777778,
              "#fb9f3a"
             ],
             [
              0.8888888888888888,
              "#fdca26"
             ],
             [
              1,
              "#f0f921"
             ]
            ],
            "type": "histogram2d"
           }
          ],
          "histogram2dcontour": [
           {
            "colorbar": {
             "outlinewidth": 0,
             "ticks": ""
            },
            "colorscale": [
             [
              0,
              "#0d0887"
             ],
             [
              0.1111111111111111,
              "#46039f"
             ],
             [
              0.2222222222222222,
              "#7201a8"
             ],
             [
              0.3333333333333333,
              "#9c179e"
             ],
             [
              0.4444444444444444,
              "#bd3786"
             ],
             [
              0.5555555555555556,
              "#d8576b"
             ],
             [
              0.6666666666666666,
              "#ed7953"
             ],
             [
              0.7777777777777778,
              "#fb9f3a"
             ],
             [
              0.8888888888888888,
              "#fdca26"
             ],
             [
              1,
              "#f0f921"
             ]
            ],
            "type": "histogram2dcontour"
           }
          ],
          "mesh3d": [
           {
            "colorbar": {
             "outlinewidth": 0,
             "ticks": ""
            },
            "type": "mesh3d"
           }
          ],
          "parcoords": [
           {
            "line": {
             "colorbar": {
              "outlinewidth": 0,
              "ticks": ""
             }
            },
            "type": "parcoords"
           }
          ],
          "pie": [
           {
            "automargin": true,
            "type": "pie"
           }
          ],
          "scatter": [
           {
            "marker": {
             "colorbar": {
              "outlinewidth": 0,
              "ticks": ""
             }
            },
            "type": "scatter"
           }
          ],
          "scatter3d": [
           {
            "line": {
             "colorbar": {
              "outlinewidth": 0,
              "ticks": ""
             }
            },
            "marker": {
             "colorbar": {
              "outlinewidth": 0,
              "ticks": ""
             }
            },
            "type": "scatter3d"
           }
          ],
          "scattercarpet": [
           {
            "marker": {
             "colorbar": {
              "outlinewidth": 0,
              "ticks": ""
             }
            },
            "type": "scattercarpet"
           }
          ],
          "scattergeo": [
           {
            "marker": {
             "colorbar": {
              "outlinewidth": 0,
              "ticks": ""
             }
            },
            "type": "scattergeo"
           }
          ],
          "scattergl": [
           {
            "marker": {
             "colorbar": {
              "outlinewidth": 0,
              "ticks": ""
             }
            },
            "type": "scattergl"
           }
          ],
          "scattermapbox": [
           {
            "marker": {
             "colorbar": {
              "outlinewidth": 0,
              "ticks": ""
             }
            },
            "type": "scattermapbox"
           }
          ],
          "scatterpolar": [
           {
            "marker": {
             "colorbar": {
              "outlinewidth": 0,
              "ticks": ""
             }
            },
            "type": "scatterpolar"
           }
          ],
          "scatterpolargl": [
           {
            "marker": {
             "colorbar": {
              "outlinewidth": 0,
              "ticks": ""
             }
            },
            "type": "scatterpolargl"
           }
          ],
          "scatterternary": [
           {
            "marker": {
             "colorbar": {
              "outlinewidth": 0,
              "ticks": ""
             }
            },
            "type": "scatterternary"
           }
          ],
          "surface": [
           {
            "colorbar": {
             "outlinewidth": 0,
             "ticks": ""
            },
            "colorscale": [
             [
              0,
              "#0d0887"
             ],
             [
              0.1111111111111111,
              "#46039f"
             ],
             [
              0.2222222222222222,
              "#7201a8"
             ],
             [
              0.3333333333333333,
              "#9c179e"
             ],
             [
              0.4444444444444444,
              "#bd3786"
             ],
             [
              0.5555555555555556,
              "#d8576b"
             ],
             [
              0.6666666666666666,
              "#ed7953"
             ],
             [
              0.7777777777777778,
              "#fb9f3a"
             ],
             [
              0.8888888888888888,
              "#fdca26"
             ],
             [
              1,
              "#f0f921"
             ]
            ],
            "type": "surface"
           }
          ],
          "table": [
           {
            "cells": {
             "fill": {
              "color": "#EBF0F8"
             },
             "line": {
              "color": "white"
             }
            },
            "header": {
             "fill": {
              "color": "#C8D4E3"
             },
             "line": {
              "color": "white"
             }
            },
            "type": "table"
           }
          ]
         },
         "layout": {
          "annotationdefaults": {
           "arrowcolor": "#2a3f5f",
           "arrowhead": 0,
           "arrowwidth": 1
          },
          "autotypenumbers": "strict",
          "coloraxis": {
           "colorbar": {
            "outlinewidth": 0,
            "ticks": ""
           }
          },
          "colorscale": {
           "diverging": [
            [
             0,
             "#8e0152"
            ],
            [
             0.1,
             "#c51b7d"
            ],
            [
             0.2,
             "#de77ae"
            ],
            [
             0.3,
             "#f1b6da"
            ],
            [
             0.4,
             "#fde0ef"
            ],
            [
             0.5,
             "#f7f7f7"
            ],
            [
             0.6,
             "#e6f5d0"
            ],
            [
             0.7,
             "#b8e186"
            ],
            [
             0.8,
             "#7fbc41"
            ],
            [
             0.9,
             "#4d9221"
            ],
            [
             1,
             "#276419"
            ]
           ],
           "sequential": [
            [
             0,
             "#0d0887"
            ],
            [
             0.1111111111111111,
             "#46039f"
            ],
            [
             0.2222222222222222,
             "#7201a8"
            ],
            [
             0.3333333333333333,
             "#9c179e"
            ],
            [
             0.4444444444444444,
             "#bd3786"
            ],
            [
             0.5555555555555556,
             "#d8576b"
            ],
            [
             0.6666666666666666,
             "#ed7953"
            ],
            [
             0.7777777777777778,
             "#fb9f3a"
            ],
            [
             0.8888888888888888,
             "#fdca26"
            ],
            [
             1,
             "#f0f921"
            ]
           ],
           "sequentialminus": [
            [
             0,
             "#0d0887"
            ],
            [
             0.1111111111111111,
             "#46039f"
            ],
            [
             0.2222222222222222,
             "#7201a8"
            ],
            [
             0.3333333333333333,
             "#9c179e"
            ],
            [
             0.4444444444444444,
             "#bd3786"
            ],
            [
             0.5555555555555556,
             "#d8576b"
            ],
            [
             0.6666666666666666,
             "#ed7953"
            ],
            [
             0.7777777777777778,
             "#fb9f3a"
            ],
            [
             0.8888888888888888,
             "#fdca26"
            ],
            [
             1,
             "#f0f921"
            ]
           ]
          },
          "colorway": [
           "#636efa",
           "#EF553B",
           "#00cc96",
           "#ab63fa",
           "#FFA15A",
           "#19d3f3",
           "#FF6692",
           "#B6E880",
           "#FF97FF",
           "#FECB52"
          ],
          "font": {
           "color": "#2a3f5f"
          },
          "geo": {
           "bgcolor": "white",
           "lakecolor": "white",
           "landcolor": "#E5ECF6",
           "showlakes": true,
           "showland": true,
           "subunitcolor": "white"
          },
          "hoverlabel": {
           "align": "left"
          },
          "hovermode": "closest",
          "mapbox": {
           "style": "light"
          },
          "paper_bgcolor": "white",
          "plot_bgcolor": "#E5ECF6",
          "polar": {
           "angularaxis": {
            "gridcolor": "white",
            "linecolor": "white",
            "ticks": ""
           },
           "bgcolor": "#E5ECF6",
           "radialaxis": {
            "gridcolor": "white",
            "linecolor": "white",
            "ticks": ""
           }
          },
          "scene": {
           "xaxis": {
            "backgroundcolor": "#E5ECF6",
            "gridcolor": "white",
            "gridwidth": 2,
            "linecolor": "white",
            "showbackground": true,
            "ticks": "",
            "zerolinecolor": "white"
           },
           "yaxis": {
            "backgroundcolor": "#E5ECF6",
            "gridcolor": "white",
            "gridwidth": 2,
            "linecolor": "white",
            "showbackground": true,
            "ticks": "",
            "zerolinecolor": "white"
           },
           "zaxis": {
            "backgroundcolor": "#E5ECF6",
            "gridcolor": "white",
            "gridwidth": 2,
            "linecolor": "white",
            "showbackground": true,
            "ticks": "",
            "zerolinecolor": "white"
           }
          },
          "shapedefaults": {
           "line": {
            "color": "#2a3f5f"
           }
          },
          "ternary": {
           "aaxis": {
            "gridcolor": "white",
            "linecolor": "white",
            "ticks": ""
           },
           "baxis": {
            "gridcolor": "white",
            "linecolor": "white",
            "ticks": ""
           },
           "bgcolor": "#E5ECF6",
           "caxis": {
            "gridcolor": "white",
            "linecolor": "white",
            "ticks": ""
           }
          },
          "title": {
           "x": 0.05
          },
          "xaxis": {
           "automargin": true,
           "gridcolor": "white",
           "linecolor": "white",
           "ticks": "",
           "title": {
            "standoff": 15
           },
           "zerolinecolor": "white",
           "zerolinewidth": 2
          },
          "yaxis": {
           "automargin": true,
           "gridcolor": "white",
           "linecolor": "white",
           "ticks": "",
           "title": {
            "standoff": 15
           },
           "zerolinecolor": "white",
           "zerolinewidth": 2
          }
         }
        },
        "title": {
         "font": {
          "size": 20
         },
         "text": "Worldwide Decline of Female employment in agriculture, forestry and fishing Sector"
        },
        "xaxis": {
         "anchor": "y",
         "domain": [
          0,
          1
         ],
         "title": {
          "text": "Year"
         }
        },
        "yaxis": {
         "anchor": "x",
         "domain": [
          0,
          1
         ],
         "title": {
          "text": "Female employment in agriculture, forestry and fishing (%)"
         }
        }
       }
      }
     },
     "metadata": {},
     "output_type": "display_data"
    }
   ],
   "source": [
    "import pandas as pd\n",
    "import plotly.express as px\n",
    "\n",
    "wew_data=pd.read_csv(\"wew_percent_data_1-13-2022.csv\")\n",
    "wew_data=wew_data.sort_values(by=\"Year\")\n",
    "# wew = wew_data.pivot(\"Year\", \"Area\", \"Value\")\n",
    "# sns.lineplot(data=wew_data, x=\"Year\", y=\"Value\", hue=\"Area\")\n",
    "\n",
    "\n",
    "fig=px.area(wew_data, x=\"Year\", y=\"Value\", color=\"Area\",\n",
    "\t      line_group=\"Area\",title=\"Worldwide Decline of Female employment in agriculture, forestry and fishing Sector\", \n",
    "        labels={ \"Value\": \"Female employment in agriculture, forestry and fishing (%)\",\n",
    "                     \"Area\": \"Continent\"\n",
    "               })\n",
    "fig.update_layout(title={'font': {'size': 20}})\n"
   ]
  },
  {
   "cell_type": "markdown",
   "id": "82b6b160",
   "metadata": {},
   "source": [
    "**1b. Worldwide Decline of Female employment in agriculture, forestry and fishing Sector (LINE PLOT)**"
   ]
  },
  {
   "cell_type": "code",
   "execution_count": 13,
   "id": "aeed93e6",
   "metadata": {
    "collapsed": true
   },
   "outputs": [
    {
     "data": {
      "application/vnd.plotly.v1+json": {
       "config": {
        "plotlyServerURL": "https://plot.ly"
       },
       "data": [
        {
         "hovertemplate": "Continent=Africa<br>Year=%{x}<br>Female employment in agriculture, forestry and fishing (%)=%{y}<extra></extra>",
         "legendgroup": "Africa",
         "line": {
          "color": "#636efa",
          "dash": "solid",
          "shape": "spline",
          "width": 4
         },
         "marker": {
          "symbol": "circle"
         },
         "mode": "lines",
         "name": "Africa",
         "orientation": "v",
         "showlegend": true,
         "type": "scatter",
         "x": [
          1991,
          1992,
          1993,
          1994,
          1995,
          1996,
          1997,
          1998,
          1999,
          2000,
          2001,
          2002,
          2003,
          2004,
          2005,
          2006,
          2007,
          2008,
          2009,
          2010,
          2011,
          2012,
          2013,
          2014,
          2015,
          2016,
          2017,
          2018,
          2019
         ],
         "xaxis": "x",
         "y": [
          65.008589,
          64.858595,
          64.500725,
          64.329416,
          63.988239,
          63.656636,
          63.330185,
          62.963123,
          62.570386,
          62.92908,
          62.533287,
          62.472316,
          62.51356,
          62.415833,
          62.129915,
          61.296521,
          60.610893,
          59.61454,
          58.882211,
          58.117077,
          57.250712,
          56.049488,
          55.459343,
          54.640602,
          53.702568,
          53.222634,
          52.555574,
          51.689759,
          51.057297
         ],
         "yaxis": "y"
        },
        {
         "hovertemplate": "Continent=Americas<br>Year=%{x}<br>Female employment in agriculture, forestry and fishing (%)=%{y}<extra></extra>",
         "legendgroup": "Americas",
         "line": {
          "color": "#EF553B",
          "dash": "solid",
          "shape": "spline",
          "width": 4
         },
         "marker": {
          "symbol": "circle"
         },
         "mode": "lines",
         "name": "Americas",
         "orientation": "v",
         "showlegend": true,
         "type": "scatter",
         "x": [
          1991,
          1992,
          1993,
          1994,
          1995,
          1996,
          1997,
          1998,
          1999,
          2000,
          2001,
          2002,
          2003,
          2004,
          2005,
          2006,
          2007,
          2008,
          2009,
          2010,
          2011,
          2012,
          2013,
          2014,
          2015,
          2016,
          2017,
          2018,
          2019
         ],
         "xaxis": "x",
         "y": [
          5.727739,
          5.881106,
          5.904558,
          5.783455,
          5.859195,
          5.62406,
          5.622112,
          5.587903,
          5.654067,
          5.706431,
          6.019699,
          6.151151,
          6.112278,
          6.186476,
          6.202338,
          5.949825,
          5.533599,
          5.270645,
          5.124669,
          5.071421,
          4.972492,
          4.871672,
          4.669311,
          4.613953,
          4.539875,
          4.553743,
          4.543651,
          4.572075,
          4.47175
         ],
         "yaxis": "y"
        },
        {
         "hovertemplate": "Continent=Oceania<br>Year=%{x}<br>Female employment in agriculture, forestry and fishing (%)=%{y}<extra></extra>",
         "legendgroup": "Oceania",
         "line": {
          "color": "#00cc96",
          "dash": "solid",
          "shape": "spline",
          "width": 4
         },
         "marker": {
          "symbol": "circle"
         },
         "mode": "lines",
         "name": "Oceania",
         "orientation": "v",
         "showlegend": true,
         "type": "scatter",
         "x": [
          1991,
          1992,
          1993,
          1994,
          1995,
          1996,
          1997,
          1998,
          1999,
          2000,
          2001,
          2002,
          2003,
          2004,
          2005,
          2006,
          2007,
          2008,
          2009,
          2010,
          2011,
          2012,
          2013,
          2014,
          2015,
          2016,
          2017,
          2018,
          2019
         ],
         "xaxis": "x",
         "y": [
          19.778745,
          19.736886,
          19.764308,
          19.484184,
          19.223284,
          19.058903,
          19.253734,
          19.307158,
          19.551131,
          19.434774,
          18.984144,
          18.30302,
          17.489293,
          17.04966,
          16.176042,
          15.547198,
          14.828548,
          14.215862,
          13.685208,
          13.254997,
          12.840884,
          12.683628,
          12.386281,
          12.389286,
          12.166905,
          11.970524,
          11.810086,
          11.598301,
          11.44069
         ],
         "yaxis": "y"
        },
        {
         "hovertemplate": "Continent=Europe<br>Year=%{x}<br>Female employment in agriculture, forestry and fishing (%)=%{y}<extra></extra>",
         "legendgroup": "Europe",
         "line": {
          "color": "#ab63fa",
          "dash": "solid",
          "shape": "spline",
          "width": 4
         },
         "marker": {
          "symbol": "circle"
         },
         "mode": "lines",
         "name": "Europe",
         "orientation": "v",
         "showlegend": true,
         "type": "scatter",
         "x": [
          1991,
          1992,
          1993,
          1994,
          1995,
          1996,
          1997,
          1998,
          1999,
          2000,
          2001,
          2002,
          2003,
          2004,
          2005,
          2006,
          2007,
          2008,
          2009,
          2010,
          2011,
          2012,
          2013,
          2014,
          2015,
          2016,
          2017,
          2018,
          2019
         ],
         "xaxis": "x",
         "y": [
          11.79573,
          12.185077,
          12.101672,
          12.169471,
          11.847993,
          11.162934,
          10.422647,
          10.035184,
          10.839011,
          10.433423,
          9.637343,
          8.948899,
          8.418556,
          7.912549,
          7.688432,
          7.248971,
          6.859133,
          6.579121,
          6.335603,
          6.03662,
          5.921175,
          5.713603,
          5.572043,
          4.964757,
          4.801227,
          4.593334,
          4.288855,
          4.085921,
          3.94583
         ],
         "yaxis": "y"
        },
        {
         "hovertemplate": "Continent=Asia<br>Year=%{x}<br>Female employment in agriculture, forestry and fishing (%)=%{y}<extra></extra>",
         "legendgroup": "Asia",
         "line": {
          "color": "#FFA15A",
          "dash": "solid",
          "shape": "spline",
          "width": 4
         },
         "marker": {
          "symbol": "circle"
         },
         "mode": "lines",
         "name": "Asia",
         "orientation": "v",
         "showlegend": true,
         "type": "scatter",
         "x": [
          1991,
          1992,
          1993,
          1994,
          1995,
          1996,
          1997,
          1998,
          1999,
          2000,
          2001,
          2002,
          2003,
          2004,
          2005,
          2006,
          2007,
          2008,
          2009,
          2010,
          2011,
          2012,
          2013,
          2014,
          2015,
          2016,
          2017,
          2018,
          2019
         ],
         "xaxis": "x",
         "y": [
          55.373934,
          54.765862,
          53.319472,
          51.786227,
          50.014166,
          48.898729,
          48.578288,
          48.734683,
          49.025059,
          49.171964,
          48.927186,
          48.948527,
          48.460358,
          46.675101,
          45.397942,
          43.728454,
          42.494898,
          41.618808,
          40.43047,
          39.436553,
          37.731011,
          36.279372,
          34.770928,
          33.285657,
          32.426857,
          31.44373,
          30.697735,
          29.792818,
          29.082982
         ],
         "yaxis": "y"
        }
       ],
       "layout": {
        "legend": {
         "title": {
          "text": "Continent"
         },
         "tracegroupgap": 0
        },
        "margin": {
         "t": 60
        },
        "template": {
         "data": {
          "bar": [
           {
            "error_x": {
             "color": "#2a3f5f"
            },
            "error_y": {
             "color": "#2a3f5f"
            },
            "marker": {
             "line": {
              "color": "#E5ECF6",
              "width": 0.5
             },
             "pattern": {
              "fillmode": "overlay",
              "size": 10,
              "solidity": 0.2
             }
            },
            "type": "bar"
           }
          ],
          "barpolar": [
           {
            "marker": {
             "line": {
              "color": "#E5ECF6",
              "width": 0.5
             },
             "pattern": {
              "fillmode": "overlay",
              "size": 10,
              "solidity": 0.2
             }
            },
            "type": "barpolar"
           }
          ],
          "carpet": [
           {
            "aaxis": {
             "endlinecolor": "#2a3f5f",
             "gridcolor": "white",
             "linecolor": "white",
             "minorgridcolor": "white",
             "startlinecolor": "#2a3f5f"
            },
            "baxis": {
             "endlinecolor": "#2a3f5f",
             "gridcolor": "white",
             "linecolor": "white",
             "minorgridcolor": "white",
             "startlinecolor": "#2a3f5f"
            },
            "type": "carpet"
           }
          ],
          "choropleth": [
           {
            "colorbar": {
             "outlinewidth": 0,
             "ticks": ""
            },
            "type": "choropleth"
           }
          ],
          "contour": [
           {
            "colorbar": {
             "outlinewidth": 0,
             "ticks": ""
            },
            "colorscale": [
             [
              0,
              "#0d0887"
             ],
             [
              0.1111111111111111,
              "#46039f"
             ],
             [
              0.2222222222222222,
              "#7201a8"
             ],
             [
              0.3333333333333333,
              "#9c179e"
             ],
             [
              0.4444444444444444,
              "#bd3786"
             ],
             [
              0.5555555555555556,
              "#d8576b"
             ],
             [
              0.6666666666666666,
              "#ed7953"
             ],
             [
              0.7777777777777778,
              "#fb9f3a"
             ],
             [
              0.8888888888888888,
              "#fdca26"
             ],
             [
              1,
              "#f0f921"
             ]
            ],
            "type": "contour"
           }
          ],
          "contourcarpet": [
           {
            "colorbar": {
             "outlinewidth": 0,
             "ticks": ""
            },
            "type": "contourcarpet"
           }
          ],
          "heatmap": [
           {
            "colorbar": {
             "outlinewidth": 0,
             "ticks": ""
            },
            "colorscale": [
             [
              0,
              "#0d0887"
             ],
             [
              0.1111111111111111,
              "#46039f"
             ],
             [
              0.2222222222222222,
              "#7201a8"
             ],
             [
              0.3333333333333333,
              "#9c179e"
             ],
             [
              0.4444444444444444,
              "#bd3786"
             ],
             [
              0.5555555555555556,
              "#d8576b"
             ],
             [
              0.6666666666666666,
              "#ed7953"
             ],
             [
              0.7777777777777778,
              "#fb9f3a"
             ],
             [
              0.8888888888888888,
              "#fdca26"
             ],
             [
              1,
              "#f0f921"
             ]
            ],
            "type": "heatmap"
           }
          ],
          "heatmapgl": [
           {
            "colorbar": {
             "outlinewidth": 0,
             "ticks": ""
            },
            "colorscale": [
             [
              0,
              "#0d0887"
             ],
             [
              0.1111111111111111,
              "#46039f"
             ],
             [
              0.2222222222222222,
              "#7201a8"
             ],
             [
              0.3333333333333333,
              "#9c179e"
             ],
             [
              0.4444444444444444,
              "#bd3786"
             ],
             [
              0.5555555555555556,
              "#d8576b"
             ],
             [
              0.6666666666666666,
              "#ed7953"
             ],
             [
              0.7777777777777778,
              "#fb9f3a"
             ],
             [
              0.8888888888888888,
              "#fdca26"
             ],
             [
              1,
              "#f0f921"
             ]
            ],
            "type": "heatmapgl"
           }
          ],
          "histogram": [
           {
            "marker": {
             "pattern": {
              "fillmode": "overlay",
              "size": 10,
              "solidity": 0.2
             }
            },
            "type": "histogram"
           }
          ],
          "histogram2d": [
           {
            "colorbar": {
             "outlinewidth": 0,
             "ticks": ""
            },
            "colorscale": [
             [
              0,
              "#0d0887"
             ],
             [
              0.1111111111111111,
              "#46039f"
             ],
             [
              0.2222222222222222,
              "#7201a8"
             ],
             [
              0.3333333333333333,
              "#9c179e"
             ],
             [
              0.4444444444444444,
              "#bd3786"
             ],
             [
              0.5555555555555556,
              "#d8576b"
             ],
             [
              0.6666666666666666,
              "#ed7953"
             ],
             [
              0.7777777777777778,
              "#fb9f3a"
             ],
             [
              0.8888888888888888,
              "#fdca26"
             ],
             [
              1,
              "#f0f921"
             ]
            ],
            "type": "histogram2d"
           }
          ],
          "histogram2dcontour": [
           {
            "colorbar": {
             "outlinewidth": 0,
             "ticks": ""
            },
            "colorscale": [
             [
              0,
              "#0d0887"
             ],
             [
              0.1111111111111111,
              "#46039f"
             ],
             [
              0.2222222222222222,
              "#7201a8"
             ],
             [
              0.3333333333333333,
              "#9c179e"
             ],
             [
              0.4444444444444444,
              "#bd3786"
             ],
             [
              0.5555555555555556,
              "#d8576b"
             ],
             [
              0.6666666666666666,
              "#ed7953"
             ],
             [
              0.7777777777777778,
              "#fb9f3a"
             ],
             [
              0.8888888888888888,
              "#fdca26"
             ],
             [
              1,
              "#f0f921"
             ]
            ],
            "type": "histogram2dcontour"
           }
          ],
          "mesh3d": [
           {
            "colorbar": {
             "outlinewidth": 0,
             "ticks": ""
            },
            "type": "mesh3d"
           }
          ],
          "parcoords": [
           {
            "line": {
             "colorbar": {
              "outlinewidth": 0,
              "ticks": ""
             }
            },
            "type": "parcoords"
           }
          ],
          "pie": [
           {
            "automargin": true,
            "type": "pie"
           }
          ],
          "scatter": [
           {
            "marker": {
             "colorbar": {
              "outlinewidth": 0,
              "ticks": ""
             }
            },
            "type": "scatter"
           }
          ],
          "scatter3d": [
           {
            "line": {
             "colorbar": {
              "outlinewidth": 0,
              "ticks": ""
             }
            },
            "marker": {
             "colorbar": {
              "outlinewidth": 0,
              "ticks": ""
             }
            },
            "type": "scatter3d"
           }
          ],
          "scattercarpet": [
           {
            "marker": {
             "colorbar": {
              "outlinewidth": 0,
              "ticks": ""
             }
            },
            "type": "scattercarpet"
           }
          ],
          "scattergeo": [
           {
            "marker": {
             "colorbar": {
              "outlinewidth": 0,
              "ticks": ""
             }
            },
            "type": "scattergeo"
           }
          ],
          "scattergl": [
           {
            "marker": {
             "colorbar": {
              "outlinewidth": 0,
              "ticks": ""
             }
            },
            "type": "scattergl"
           }
          ],
          "scattermapbox": [
           {
            "marker": {
             "colorbar": {
              "outlinewidth": 0,
              "ticks": ""
             }
            },
            "type": "scattermapbox"
           }
          ],
          "scatterpolar": [
           {
            "marker": {
             "colorbar": {
              "outlinewidth": 0,
              "ticks": ""
             }
            },
            "type": "scatterpolar"
           }
          ],
          "scatterpolargl": [
           {
            "marker": {
             "colorbar": {
              "outlinewidth": 0,
              "ticks": ""
             }
            },
            "type": "scatterpolargl"
           }
          ],
          "scatterternary": [
           {
            "marker": {
             "colorbar": {
              "outlinewidth": 0,
              "ticks": ""
             }
            },
            "type": "scatterternary"
           }
          ],
          "surface": [
           {
            "colorbar": {
             "outlinewidth": 0,
             "ticks": ""
            },
            "colorscale": [
             [
              0,
              "#0d0887"
             ],
             [
              0.1111111111111111,
              "#46039f"
             ],
             [
              0.2222222222222222,
              "#7201a8"
             ],
             [
              0.3333333333333333,
              "#9c179e"
             ],
             [
              0.4444444444444444,
              "#bd3786"
             ],
             [
              0.5555555555555556,
              "#d8576b"
             ],
             [
              0.6666666666666666,
              "#ed7953"
             ],
             [
              0.7777777777777778,
              "#fb9f3a"
             ],
             [
              0.8888888888888888,
              "#fdca26"
             ],
             [
              1,
              "#f0f921"
             ]
            ],
            "type": "surface"
           }
          ],
          "table": [
           {
            "cells": {
             "fill": {
              "color": "#EBF0F8"
             },
             "line": {
              "color": "white"
             }
            },
            "header": {
             "fill": {
              "color": "#C8D4E3"
             },
             "line": {
              "color": "white"
             }
            },
            "type": "table"
           }
          ]
         },
         "layout": {
          "annotationdefaults": {
           "arrowcolor": "#2a3f5f",
           "arrowhead": 0,
           "arrowwidth": 1
          },
          "autotypenumbers": "strict",
          "coloraxis": {
           "colorbar": {
            "outlinewidth": 0,
            "ticks": ""
           }
          },
          "colorscale": {
           "diverging": [
            [
             0,
             "#8e0152"
            ],
            [
             0.1,
             "#c51b7d"
            ],
            [
             0.2,
             "#de77ae"
            ],
            [
             0.3,
             "#f1b6da"
            ],
            [
             0.4,
             "#fde0ef"
            ],
            [
             0.5,
             "#f7f7f7"
            ],
            [
             0.6,
             "#e6f5d0"
            ],
            [
             0.7,
             "#b8e186"
            ],
            [
             0.8,
             "#7fbc41"
            ],
            [
             0.9,
             "#4d9221"
            ],
            [
             1,
             "#276419"
            ]
           ],
           "sequential": [
            [
             0,
             "#0d0887"
            ],
            [
             0.1111111111111111,
             "#46039f"
            ],
            [
             0.2222222222222222,
             "#7201a8"
            ],
            [
             0.3333333333333333,
             "#9c179e"
            ],
            [
             0.4444444444444444,
             "#bd3786"
            ],
            [
             0.5555555555555556,
             "#d8576b"
            ],
            [
             0.6666666666666666,
             "#ed7953"
            ],
            [
             0.7777777777777778,
             "#fb9f3a"
            ],
            [
             0.8888888888888888,
             "#fdca26"
            ],
            [
             1,
             "#f0f921"
            ]
           ],
           "sequentialminus": [
            [
             0,
             "#0d0887"
            ],
            [
             0.1111111111111111,
             "#46039f"
            ],
            [
             0.2222222222222222,
             "#7201a8"
            ],
            [
             0.3333333333333333,
             "#9c179e"
            ],
            [
             0.4444444444444444,
             "#bd3786"
            ],
            [
             0.5555555555555556,
             "#d8576b"
            ],
            [
             0.6666666666666666,
             "#ed7953"
            ],
            [
             0.7777777777777778,
             "#fb9f3a"
            ],
            [
             0.8888888888888888,
             "#fdca26"
            ],
            [
             1,
             "#f0f921"
            ]
           ]
          },
          "colorway": [
           "#636efa",
           "#EF553B",
           "#00cc96",
           "#ab63fa",
           "#FFA15A",
           "#19d3f3",
           "#FF6692",
           "#B6E880",
           "#FF97FF",
           "#FECB52"
          ],
          "font": {
           "color": "#2a3f5f"
          },
          "geo": {
           "bgcolor": "white",
           "lakecolor": "white",
           "landcolor": "#E5ECF6",
           "showlakes": true,
           "showland": true,
           "subunitcolor": "white"
          },
          "hoverlabel": {
           "align": "left"
          },
          "hovermode": "closest",
          "mapbox": {
           "style": "light"
          },
          "paper_bgcolor": "white",
          "plot_bgcolor": "#E5ECF6",
          "polar": {
           "angularaxis": {
            "gridcolor": "white",
            "linecolor": "white",
            "ticks": ""
           },
           "bgcolor": "#E5ECF6",
           "radialaxis": {
            "gridcolor": "white",
            "linecolor": "white",
            "ticks": ""
           }
          },
          "scene": {
           "xaxis": {
            "backgroundcolor": "#E5ECF6",
            "gridcolor": "white",
            "gridwidth": 2,
            "linecolor": "white",
            "showbackground": true,
            "ticks": "",
            "zerolinecolor": "white"
           },
           "yaxis": {
            "backgroundcolor": "#E5ECF6",
            "gridcolor": "white",
            "gridwidth": 2,
            "linecolor": "white",
            "showbackground": true,
            "ticks": "",
            "zerolinecolor": "white"
           },
           "zaxis": {
            "backgroundcolor": "#E5ECF6",
            "gridcolor": "white",
            "gridwidth": 2,
            "linecolor": "white",
            "showbackground": true,
            "ticks": "",
            "zerolinecolor": "white"
           }
          },
          "shapedefaults": {
           "line": {
            "color": "#2a3f5f"
           }
          },
          "ternary": {
           "aaxis": {
            "gridcolor": "white",
            "linecolor": "white",
            "ticks": ""
           },
           "baxis": {
            "gridcolor": "white",
            "linecolor": "white",
            "ticks": ""
           },
           "bgcolor": "#E5ECF6",
           "caxis": {
            "gridcolor": "white",
            "linecolor": "white",
            "ticks": ""
           }
          },
          "title": {
           "x": 0.05
          },
          "xaxis": {
           "automargin": true,
           "gridcolor": "white",
           "linecolor": "white",
           "ticks": "",
           "title": {
            "standoff": 15
           },
           "zerolinecolor": "white",
           "zerolinewidth": 2
          },
          "yaxis": {
           "automargin": true,
           "gridcolor": "white",
           "linecolor": "white",
           "ticks": "",
           "title": {
            "standoff": 15
           },
           "zerolinecolor": "white",
           "zerolinewidth": 2
          }
         }
        },
        "title": {
         "font": {
          "size": 20
         },
         "text": "<b> Worldwide Decline of Female employment in agriculture, forestry and fishing Sector </b>"
        },
        "xaxis": {
         "anchor": "y",
         "domain": [
          0,
          1
         ],
         "title": {
          "text": "Year"
         }
        },
        "yaxis": {
         "anchor": "x",
         "domain": [
          0,
          1
         ],
         "range": [
          0,
          70
         ],
         "title": {
          "text": "Female employment in agriculture, forestry and fishing (%)"
         }
        }
       }
      }
     },
     "metadata": {},
     "output_type": "display_data"
    }
   ],
   "source": [
    "import pandas as pd\n",
    "import plotly.express as px\n",
    "\n",
    "wew_data=pd.read_csv(\"wew_percent_data_1-13-2022.csv\")\n",
    "wew_data=wew_data.sort_values(by=\"Year\")\n",
    "\n",
    "fig=px.line(wew_data, x=\"Year\", y=\"Value\", color=\"Area\", \n",
    "        labels={ \"Value\": \"Female employment in agriculture, forestry and fishing (%)\",\n",
    "                 \"Area\": \"Continent\"\n",
    "               }, line_shape='spline')\n",
    "fig.update_layout(title={'font': {'size': 20}})\n",
    "fig.update_yaxes(range = [0,70])\n",
    "fig.update_traces(line=dict(width=4))\n",
    "fig.update_layout(title={'text': '<b> Worldwide Decline of Female employment in agriculture, forestry and fishing Sector </b>'})\n"
   ]
  },
  {
   "cell_type": "markdown",
   "id": "1b21cc6d",
   "metadata": {},
   "source": [
    "**2. Population Growth Trend in Under War Countries of World (ANIMATED SCATTERED)**"
   ]
  },
  {
   "cell_type": "code",
   "execution_count": 20,
   "id": "af30dcb4",
   "metadata": {},
   "outputs": [
    {
     "data": {
      "application/vnd.plotly.v1+json": {
       "config": {
        "plotlyServerURL": "https://plot.ly"
       },
       "data": [
        {
         "hovertemplate": "<b>%{hovertext}</b><br><br>Year=1950<br>Under War Countries=%{x}<br>Population (1000 persons)=%{marker.size}<br>Area Code (FAO)=%{marker.color}<extra></extra>",
         "hovertext": [
          "Afghanistan",
          "Ghana",
          "Palestine",
          "Senegal",
          "Sudan (former)",
          "Syrian Arab Republic",
          "Yemen"
         ],
         "ids": [
          "Afghanistan",
          "Ghana",
          "Palestine",
          "Senegal",
          "Sudan (former)",
          "Syrian Arab Republic",
          "Yemen"
         ],
         "legendgroup": "",
         "marker": {
          "color": [
           2,
           81,
           299,
           195,
           206,
           212,
           249
          ],
          "coloraxis": "coloraxis",
          "size": [
           7752.118,
           5036.146,
           931.928,
           2486.635,
           8216.09,
           3413.331,
           4661.282
          ],
          "sizemode": "area",
          "sizeref": 14.935662809917355,
          "symbol": "circle"
         },
         "mode": "markers",
         "name": "",
         "orientation": "v",
         "showlegend": false,
         "type": "scatter",
         "x": [
          "Afghanistan",
          "Ghana",
          "Palestine",
          "Senegal",
          "Sudan (former)",
          "Syrian Arab Republic",
          "Yemen"
         ],
         "xaxis": "x",
         "y": [
          7752.118,
          5036.146,
          931.928,
          2486.635,
          8216.09,
          3413.331,
          4661.282
         ],
         "yaxis": "y"
        }
       ],
       "frames": [
        {
         "data": [
          {
           "hovertemplate": "<b>%{hovertext}</b><br><br>Year=1950<br>Under War Countries=%{x}<br>Population (1000 persons)=%{marker.size}<br>Area Code (FAO)=%{marker.color}<extra></extra>",
           "hovertext": [
            "Afghanistan",
            "Ghana",
            "Palestine",
            "Senegal",
            "Sudan (former)",
            "Syrian Arab Republic",
            "Yemen"
           ],
           "ids": [
            "Afghanistan",
            "Ghana",
            "Palestine",
            "Senegal",
            "Sudan (former)",
            "Syrian Arab Republic",
            "Yemen"
           ],
           "legendgroup": "",
           "marker": {
            "color": [
             2,
             81,
             299,
             195,
             206,
             212,
             249
            ],
            "coloraxis": "coloraxis",
            "size": [
             7752.118,
             5036.146,
             931.928,
             2486.635,
             8216.09,
             3413.331,
             4661.282
            ],
            "sizemode": "area",
            "sizeref": 14.935662809917355,
            "symbol": "circle"
           },
           "mode": "markers",
           "name": "",
           "orientation": "v",
           "showlegend": false,
           "type": "scatter",
           "x": [
            "Afghanistan",
            "Ghana",
            "Palestine",
            "Senegal",
            "Sudan (former)",
            "Syrian Arab Republic",
            "Yemen"
           ],
           "xaxis": "x",
           "y": [
            7752.118,
            5036.146,
            931.928,
            2486.635,
            8216.09,
            3413.331,
            4661.282
           ],
           "yaxis": "y"
          }
         ],
         "name": "1950"
        },
        {
         "data": [
          {
           "hovertemplate": "<b>%{hovertext}</b><br><br>Year=1951<br>Under War Countries=%{x}<br>Population (1000 persons)=%{marker.size}<br>Area Code (FAO)=%{marker.color}<extra></extra>",
           "hovertext": [
            "Afghanistan",
            "Ghana",
            "Palestine",
            "Senegal",
            "Sudan (former)",
            "Syrian Arab Republic",
            "Yemen"
           ],
           "ids": [
            "Afghanistan",
            "Ghana",
            "Palestine",
            "Senegal",
            "Sudan (former)",
            "Syrian Arab Republic",
            "Yemen"
           ],
           "legendgroup": "",
           "marker": {
            "color": [
             2,
             81,
             299,
             195,
             206,
             212,
             249
            ],
            "coloraxis": "coloraxis",
            "size": [
             7840.156,
             5140.313,
             923.893,
             2545.339,
             8386.242,
             3498.526,
             4717.152
            ],
            "sizemode": "area",
            "sizeref": 14.935662809917355,
            "symbol": "circle"
           },
           "mode": "markers",
           "name": "",
           "orientation": "v",
           "showlegend": false,
           "type": "scatter",
           "x": [
            "Afghanistan",
            "Ghana",
            "Palestine",
            "Senegal",
            "Sudan (former)",
            "Syrian Arab Republic",
            "Yemen"
           ],
           "xaxis": "x",
           "y": [
            7840.156,
            5140.313,
            923.893,
            2545.339,
            8386.242,
            3498.526,
            4717.152
           ],
           "yaxis": "y"
          }
         ],
         "name": "1951"
        },
        {
         "data": [
          {
           "hovertemplate": "<b>%{hovertext}</b><br><br>Year=1952<br>Under War Countries=%{x}<br>Population (1000 persons)=%{marker.size}<br>Area Code (FAO)=%{marker.color}<extra></extra>",
           "hovertext": [
            "Afghanistan",
            "Ghana",
            "Palestine",
            "Senegal",
            "Sudan (former)",
            "Syrian Arab Republic",
            "Yemen"
           ],
           "ids": [
            "Afghanistan",
            "Ghana",
            "Palestine",
            "Senegal",
            "Sudan (former)",
            "Syrian Arab Republic",
            "Yemen"
           ],
           "legendgroup": "",
           "marker": {
            "color": [
             2,
             81,
             299,
             195,
             206,
             212,
             249
            ],
            "coloraxis": "coloraxis",
            "size": [
             7935.997,
             5268.641,
             932.067,
             2606.624,
             8566.534,
             3591.006,
             4776.179
            ],
            "sizemode": "area",
            "sizeref": 14.935662809917355,
            "symbol": "circle"
           },
           "mode": "markers",
           "name": "",
           "orientation": "v",
           "showlegend": false,
           "type": "scatter",
           "x": [
            "Afghanistan",
            "Ghana",
            "Palestine",
            "Senegal",
            "Sudan (former)",
            "Syrian Arab Republic",
            "Yemen"
           ],
           "xaxis": "x",
           "y": [
            7935.997,
            5268.641,
            932.067,
            2606.624,
            8566.534,
            3591.006,
            4776.179
           ],
           "yaxis": "y"
          }
         ],
         "name": "1952"
        },
        {
         "data": [
          {
           "hovertemplate": "<b>%{hovertext}</b><br><br>Year=1953<br>Under War Countries=%{x}<br>Population (1000 persons)=%{marker.size}<br>Area Code (FAO)=%{marker.color}<extra></extra>",
           "hovertext": [
            "Afghanistan",
            "Ghana",
            "Palestine",
            "Senegal",
            "Sudan (former)",
            "Syrian Arab Republic",
            "Yemen"
           ],
           "ids": [
            "Afghanistan",
            "Ghana",
            "Palestine",
            "Senegal",
            "Sudan (former)",
            "Syrian Arab Republic",
            "Yemen"
           ],
           "legendgroup": "",
           "marker": {
            "color": [
             2,
             81,
             299,
             195,
             206,
             212,
             249
            ],
            "coloraxis": "coloraxis",
            "size": [
             8039.694,
             5413.372,
             948.886,
             2670.744,
             8757.036,
             3690.735,
             4837.601
            ],
            "sizemode": "area",
            "sizeref": 14.935662809917355,
            "symbol": "circle"
           },
           "mode": "markers",
           "name": "",
           "orientation": "v",
           "showlegend": false,
           "type": "scatter",
           "x": [
            "Afghanistan",
            "Ghana",
            "Palestine",
            "Senegal",
            "Sudan (former)",
            "Syrian Arab Republic",
            "Yemen"
           ],
           "xaxis": "x",
           "y": [
            8039.694,
            5413.372,
            948.886,
            2670.744,
            8757.036,
            3690.735,
            4837.601
           ],
           "yaxis": "y"
          }
         ],
         "name": "1953"
        },
        {
         "data": [
          {
           "hovertemplate": "<b>%{hovertext}</b><br><br>Year=1954<br>Under War Countries=%{x}<br>Population (1000 persons)=%{marker.size}<br>Area Code (FAO)=%{marker.color}<extra></extra>",
           "hovertext": [
            "Afghanistan",
            "Ghana",
            "Palestine",
            "Senegal",
            "Sudan (former)",
            "Syrian Arab Republic",
            "Yemen"
           ],
           "ids": [
            "Afghanistan",
            "Ghana",
            "Palestine",
            "Senegal",
            "Sudan (former)",
            "Syrian Arab Republic",
            "Yemen"
           ],
           "legendgroup": "",
           "marker": {
            "color": [
             2,
             81,
             299,
             195,
             206,
             212,
             249
            ],
            "coloraxis": "coloraxis",
            "size": [
             8151.317,
             5568.657,
             968.701,
             2737.905,
             8957.82,
             3797.624,
             4900.848
            ],
            "sizemode": "area",
            "sizeref": 14.935662809917355,
            "symbol": "circle"
           },
           "mode": "markers",
           "name": "",
           "orientation": "v",
           "showlegend": false,
           "type": "scatter",
           "x": [
            "Afghanistan",
            "Ghana",
            "Palestine",
            "Senegal",
            "Sudan (former)",
            "Syrian Arab Republic",
            "Yemen"
           ],
           "xaxis": "x",
           "y": [
            8151.317,
            5568.657,
            968.701,
            2737.905,
            8957.82,
            3797.624,
            4900.848
           ],
           "yaxis": "y"
          }
         ],
         "name": "1954"
        },
        {
         "data": [
          {
           "hovertemplate": "<b>%{hovertext}</b><br><br>Year=1955<br>Under War Countries=%{x}<br>Population (1000 persons)=%{marker.size}<br>Area Code (FAO)=%{marker.color}<extra></extra>",
           "hovertext": [
            "Afghanistan",
            "Ghana",
            "Palestine",
            "Senegal",
            "Sudan (former)",
            "Syrian Arab Republic",
            "Yemen"
           ],
           "ids": [
            "Afghanistan",
            "Ghana",
            "Palestine",
            "Senegal",
            "Sudan (former)",
            "Syrian Arab Republic",
            "Yemen"
           ],
           "legendgroup": "",
           "marker": {
            "color": [
             2,
             81,
             299,
             195,
             206,
             212,
             249
            ],
            "coloraxis": "coloraxis",
            "size": [
             8270.991,
             5730.594,
             987.755,
             2808.225,
             9169.01,
             3911.501,
             4965.574
            ],
            "sizemode": "area",
            "sizeref": 14.935662809917355,
            "symbol": "circle"
           },
           "mode": "markers",
           "name": "",
           "orientation": "v",
           "showlegend": false,
           "type": "scatter",
           "x": [
            "Afghanistan",
            "Ghana",
            "Palestine",
            "Senegal",
            "Sudan (former)",
            "Syrian Arab Republic",
            "Yemen"
           ],
           "xaxis": "x",
           "y": [
            8270.991,
            5730.594,
            987.755,
            2808.225,
            9169.01,
            3911.501,
            4965.574
           ],
           "yaxis": "y"
          }
         ],
         "name": "1955"
        },
        {
         "data": [
          {
           "hovertemplate": "<b>%{hovertext}</b><br><br>Year=1956<br>Under War Countries=%{x}<br>Population (1000 persons)=%{marker.size}<br>Area Code (FAO)=%{marker.color}<extra></extra>",
           "hovertext": [
            "Afghanistan",
            "Ghana",
            "Palestine",
            "Senegal",
            "Sudan (former)",
            "Syrian Arab Republic",
            "Yemen"
           ],
           "ids": [
            "Afghanistan",
            "Ghana",
            "Palestine",
            "Senegal",
            "Sudan (former)",
            "Syrian Arab Republic",
            "Yemen"
           ],
           "legendgroup": "",
           "marker": {
            "color": [
             2,
             81,
             299,
             195,
             206,
             212,
             249
            ],
            "coloraxis": "coloraxis",
            "size": [
             8398.875,
             5897.34,
             1004.285,
             2881.764,
             9390.739,
             4032.069,
             5031.698
            ],
            "sizemode": "area",
            "sizeref": 14.935662809917355,
            "symbol": "circle"
           },
           "mode": "markers",
           "name": "",
           "orientation": "v",
           "showlegend": false,
           "type": "scatter",
           "x": [
            "Afghanistan",
            "Ghana",
            "Palestine",
            "Senegal",
            "Sudan (former)",
            "Syrian Arab Republic",
            "Yemen"
           ],
           "xaxis": "x",
           "y": [
            8398.875,
            5897.34,
            1004.285,
            2881.764,
            9390.739,
            4032.069,
            5031.698
           ],
           "yaxis": "y"
          }
         ],
         "name": "1956"
        },
        {
         "data": [
          {
           "hovertemplate": "<b>%{hovertext}</b><br><br>Year=1957<br>Under War Countries=%{x}<br>Population (1000 persons)=%{marker.size}<br>Area Code (FAO)=%{marker.color}<extra></extra>",
           "hovertext": [
            "Afghanistan",
            "Ghana",
            "Palestine",
            "Senegal",
            "Sudan (former)",
            "Syrian Arab Republic",
            "Yemen"
           ],
           "ids": [
            "Afghanistan",
            "Ghana",
            "Palestine",
            "Senegal",
            "Sudan (former)",
            "Syrian Arab Republic",
            "Yemen"
           ],
           "legendgroup": "",
           "marker": {
            "color": [
             2,
             81,
             299,
             195,
             206,
             212,
             249
            ],
            "coloraxis": "coloraxis",
            "size": [
             8535.163,
             6068.995,
             1018.475,
             2958.485,
             9623.19,
             4158.976,
             5099.349
            ],
            "sizemode": "area",
            "sizeref": 14.935662809917355,
            "symbol": "circle"
           },
           "mode": "markers",
           "name": "",
           "orientation": "v",
           "showlegend": false,
           "type": "scatter",
           "x": [
            "Afghanistan",
            "Ghana",
            "Palestine",
            "Senegal",
            "Sudan (former)",
            "Syrian Arab Republic",
            "Yemen"
           ],
           "xaxis": "x",
           "y": [
            8535.163,
            6068.995,
            1018.475,
            2958.485,
            9623.19,
            4158.976,
            5099.349
           ],
           "yaxis": "y"
          }
         ],
         "name": "1957"
        },
        {
         "data": [
          {
           "hovertemplate": "<b>%{hovertext}</b><br><br>Year=1958<br>Under War Countries=%{x}<br>Population (1000 persons)=%{marker.size}<br>Area Code (FAO)=%{marker.color}<extra></extra>",
           "hovertext": [
            "Afghanistan",
            "Ghana",
            "Palestine",
            "Senegal",
            "Sudan (former)",
            "Syrian Arab Republic",
            "Yemen"
           ],
           "ids": [
            "Afghanistan",
            "Ghana",
            "Palestine",
            "Senegal",
            "Sudan (former)",
            "Syrian Arab Republic",
            "Yemen"
           ],
           "legendgroup": "",
           "marker": {
            "color": [
             2,
             81,
             299,
             195,
             206,
             212,
             249
            ],
            "coloraxis": "coloraxis",
            "size": [
             8680.101,
             6247.297,
             1032.108,
             3038.296,
             9866.58,
             4291.803,
             5168.87
            ],
            "sizemode": "area",
            "sizeref": 14.935662809917355,
            "symbol": "circle"
           },
           "mode": "markers",
           "name": "",
           "orientation": "v",
           "showlegend": false,
           "type": "scatter",
           "x": [
            "Afghanistan",
            "Ghana",
            "Palestine",
            "Senegal",
            "Sudan (former)",
            "Syrian Arab Republic",
            "Yemen"
           ],
           "xaxis": "x",
           "y": [
            8680.101,
            6247.297,
            1032.108,
            3038.296,
            9866.58,
            4291.803,
            5168.87
           ],
           "yaxis": "y"
          }
         ],
         "name": "1958"
        },
        {
         "data": [
          {
           "hovertemplate": "<b>%{hovertext}</b><br><br>Year=1959<br>Under War Countries=%{x}<br>Population (1000 persons)=%{marker.size}<br>Area Code (FAO)=%{marker.color}<extra></extra>",
           "hovertext": [
            "Afghanistan",
            "Ghana",
            "Palestine",
            "Senegal",
            "Sudan (former)",
            "Syrian Arab Republic",
            "Yemen"
           ],
           "ids": [
            "Afghanistan",
            "Ghana",
            "Palestine",
            "Senegal",
            "Sudan (former)",
            "Syrian Arab Republic",
            "Yemen"
           ],
           "legendgroup": "",
           "marker": {
            "color": [
             2,
             81,
             299,
             195,
             206,
             212,
             249
            ],
            "coloraxis": "coloraxis",
            "size": [
             8833.946,
             6435.173,
             1048.129,
             3121.085,
             10121.161,
             4430.101,
             5240.719
            ],
            "sizemode": "area",
            "sizeref": 14.935662809917355,
            "symbol": "circle"
           },
           "mode": "markers",
           "name": "",
           "orientation": "v",
           "showlegend": false,
           "type": "scatter",
           "x": [
            "Afghanistan",
            "Ghana",
            "Palestine",
            "Senegal",
            "Sudan (former)",
            "Syrian Arab Republic",
            "Yemen"
           ],
           "xaxis": "x",
           "y": [
            8833.946,
            6435.173,
            1048.129,
            3121.085,
            10121.161,
            4430.101,
            5240.719
           ],
           "yaxis": "y"
          }
         ],
         "name": "1959"
        },
        {
         "data": [
          {
           "hovertemplate": "<b>%{hovertext}</b><br><br>Year=1960<br>Under War Countries=%{x}<br>Population (1000 persons)=%{marker.size}<br>Area Code (FAO)=%{marker.color}<extra></extra>",
           "hovertext": [
            "Afghanistan",
            "Ghana",
            "Palestine",
            "Senegal",
            "Sudan (former)",
            "Syrian Arab Republic",
            "Yemen"
           ],
           "ids": [
            "Afghanistan",
            "Ghana",
            "Palestine",
            "Senegal",
            "Sudan (former)",
            "Syrian Arab Republic",
            "Yemen"
           ],
           "legendgroup": "",
           "marker": {
            "color": [
             2,
             81,
             299,
             195,
             206,
             212,
             249
            ],
            "coloraxis": "coloraxis",
            "size": [
             8996.973,
             6635.23,
             1069.32,
             3206.749,
             10387.215,
             4573.512,
             5315.355
            ],
            "sizemode": "area",
            "sizeref": 14.935662809917355,
            "symbol": "circle"
           },
           "mode": "markers",
           "name": "",
           "orientation": "v",
           "showlegend": false,
           "type": "scatter",
           "x": [
            "Afghanistan",
            "Ghana",
            "Palestine",
            "Senegal",
            "Sudan (former)",
            "Syrian Arab Republic",
            "Yemen"
           ],
           "xaxis": "x",
           "y": [
            8996.973,
            6635.23,
            1069.32,
            3206.749,
            10387.215,
            4573.512,
            5315.355
           ],
           "yaxis": "y"
          }
         ],
         "name": "1960"
        },
        {
         "data": [
          {
           "hovertemplate": "<b>%{hovertext}</b><br><br>Year=1961<br>Under War Countries=%{x}<br>Population (1000 persons)=%{marker.size}<br>Area Code (FAO)=%{marker.color}<extra></extra>",
           "hovertext": [
            "Afghanistan",
            "Ghana",
            "Palestine",
            "Senegal",
            "Sudan (former)",
            "Syrian Arab Republic",
            "Yemen"
           ],
           "ids": [
            "Afghanistan",
            "Ghana",
            "Palestine",
            "Senegal",
            "Sudan (former)",
            "Syrian Arab Republic",
            "Yemen"
           ],
           "legendgroup": "",
           "marker": {
            "color": [
             2,
             81,
             299,
             195,
             206,
             212,
             249
            ],
            "coloraxis": "coloraxis",
            "size": [
             9169.41,
             6848.295,
             1096.756,
             3295.278,
             10665.087,
             4721.896,
             5393.036
            ],
            "sizemode": "area",
            "sizeref": 14.935662809917355,
            "symbol": "circle"
           },
           "mode": "markers",
           "name": "",
           "orientation": "v",
           "showlegend": false,
           "type": "scatter",
           "x": [
            "Afghanistan",
            "Ghana",
            "Palestine",
            "Senegal",
            "Sudan (former)",
            "Syrian Arab Republic",
            "Yemen"
           ],
           "xaxis": "x",
           "y": [
            9169.41,
            6848.295,
            1096.756,
            3295.278,
            10665.087,
            4721.896,
            5393.036
           ],
           "yaxis": "y"
          }
         ],
         "name": "1961"
        },
        {
         "data": [
          {
           "hovertemplate": "<b>%{hovertext}</b><br><br>Year=1962<br>Under War Countries=%{x}<br>Population (1000 persons)=%{marker.size}<br>Area Code (FAO)=%{marker.color}<extra></extra>",
           "hovertext": [
            "Afghanistan",
            "Ghana",
            "Palestine",
            "Senegal",
            "Sudan (former)",
            "Syrian Arab Republic",
            "Yemen"
           ],
           "ids": [
            "Afghanistan",
            "Ghana",
            "Palestine",
            "Senegal",
            "Sudan (former)",
            "Syrian Arab Republic",
            "Yemen"
           ],
           "legendgroup": "",
           "marker": {
            "color": [
             2,
             81,
             299,
             195,
             206,
             212,
             249
            ],
            "coloraxis": "coloraxis",
            "size": [
             9351.441,
             7071.971,
             1128.576,
             3386.806,
             10955.164,
             4875.422,
             5473.671
            ],
            "sizemode": "area",
            "sizeref": 14.935662809917355,
            "symbol": "circle"
           },
           "mode": "markers",
           "name": "",
           "orientation": "v",
           "showlegend": false,
           "type": "scatter",
           "x": [
            "Afghanistan",
            "Ghana",
            "Palestine",
            "Senegal",
            "Sudan (former)",
            "Syrian Arab Republic",
            "Yemen"
           ],
           "xaxis": "x",
           "y": [
            9351.441,
            7071.971,
            1128.576,
            3386.806,
            10955.164,
            4875.422,
            5473.671
           ],
           "yaxis": "y"
          }
         ],
         "name": "1962"
        },
        {
         "data": [
          {
           "hovertemplate": "<b>%{hovertext}</b><br><br>Year=1963<br>Under War Countries=%{x}<br>Population (1000 persons)=%{marker.size}<br>Area Code (FAO)=%{marker.color}<extra></extra>",
           "hovertext": [
            "Afghanistan",
            "Ghana",
            "Palestine",
            "Senegal",
            "Sudan (former)",
            "Syrian Arab Republic",
            "Yemen"
           ],
           "ids": [
            "Afghanistan",
            "Ghana",
            "Palestine",
            "Senegal",
            "Sudan (former)",
            "Syrian Arab Republic",
            "Yemen"
           ],
           "legendgroup": "",
           "marker": {
            "color": [
             2,
             81,
             299,
             195,
             206,
             212,
             249
            ],
            "coloraxis": "coloraxis",
            "size": [
             9543.205,
             7300.116,
             1159.396,
             3481.654,
             11257.874,
             5034.646,
             5556.766
            ],
            "sizemode": "area",
            "sizeref": 14.935662809917355,
            "symbol": "circle"
           },
           "mode": "markers",
           "name": "",
           "orientation": "v",
           "showlegend": false,
           "type": "scatter",
           "x": [
            "Afghanistan",
            "Ghana",
            "Palestine",
            "Senegal",
            "Sudan (former)",
            "Syrian Arab Republic",
            "Yemen"
           ],
           "xaxis": "x",
           "y": [
            9543.205,
            7300.116,
            1159.396,
            3481.654,
            11257.874,
            5034.646,
            5556.766
           ],
           "yaxis": "y"
          }
         ],
         "name": "1963"
        },
        {
         "data": [
          {
           "hovertemplate": "<b>%{hovertext}</b><br><br>Year=1964<br>Under War Countries=%{x}<br>Population (1000 persons)=%{marker.size}<br>Area Code (FAO)=%{marker.color}<extra></extra>",
           "hovertext": [
            "Afghanistan",
            "Ghana",
            "Palestine",
            "Senegal",
            "Sudan (former)",
            "Syrian Arab Republic",
            "Yemen"
           ],
           "ids": [
            "Afghanistan",
            "Ghana",
            "Palestine",
            "Senegal",
            "Sudan (former)",
            "Syrian Arab Republic",
            "Yemen"
           ],
           "legendgroup": "",
           "marker": {
            "color": [
             2,
             81,
             299,
             195,
             206,
             212,
             249
            ],
            "coloraxis": "coloraxis",
            "size": [
             9744.781,
             7524.472,
             1181.893,
             3580.239,
             11573.733,
             5200.336,
             5641.597
            ],
            "sizemode": "area",
            "sizeref": 14.935662809917355,
            "symbol": "circle"
           },
           "mode": "markers",
           "name": "",
           "orientation": "v",
           "showlegend": false,
           "type": "scatter",
           "x": [
            "Afghanistan",
            "Ghana",
            "Palestine",
            "Senegal",
            "Sudan (former)",
            "Syrian Arab Republic",
            "Yemen"
           ],
           "xaxis": "x",
           "y": [
            9744.781,
            7524.472,
            1181.893,
            3580.239,
            11573.733,
            5200.336,
            5641.597
           ],
           "yaxis": "y"
          }
         ],
         "name": "1964"
        },
        {
         "data": [
          {
           "hovertemplate": "<b>%{hovertext}</b><br><br>Year=1965<br>Under War Countries=%{x}<br>Population (1000 persons)=%{marker.size}<br>Area Code (FAO)=%{marker.color}<extra></extra>",
           "hovertext": [
            "Afghanistan",
            "Ghana",
            "Palestine",
            "Senegal",
            "Sudan (former)",
            "Syrian Arab Republic",
            "Yemen"
           ],
           "ids": [
            "Afghanistan",
            "Ghana",
            "Palestine",
            "Senegal",
            "Sudan (former)",
            "Syrian Arab Republic",
            "Yemen"
           ],
           "legendgroup": "",
           "marker": {
            "color": [
             2,
             81,
             299,
             195,
             206,
             212,
             249
            ],
            "coloraxis": "coloraxis",
            "size": [
             9956.32,
             7739.473,
             1191.379,
             3682.876,
             11903.247,
             5373.137,
             5727.751
            ],
            "sizemode": "area",
            "sizeref": 14.935662809917355,
            "symbol": "circle"
           },
           "mode": "markers",
           "name": "",
           "orientation": "v",
           "showlegend": false,
           "type": "scatter",
           "x": [
            "Afghanistan",
            "Ghana",
            "Palestine",
            "Senegal",
            "Sudan (former)",
            "Syrian Arab Republic",
            "Yemen"
           ],
           "xaxis": "x",
           "y": [
            9956.32,
            7739.473,
            1191.379,
            3682.876,
            11903.247,
            5373.137,
            5727.751
           ],
           "yaxis": "y"
          }
         ],
         "name": "1965"
        },
        {
         "data": [
          {
           "hovertemplate": "<b>%{hovertext}</b><br><br>Year=1966<br>Under War Countries=%{x}<br>Population (1000 persons)=%{marker.size}<br>Area Code (FAO)=%{marker.color}<extra></extra>",
           "hovertext": [
            "Afghanistan",
            "Ghana",
            "Palestine",
            "Senegal",
            "Sudan (former)",
            "Syrian Arab Republic",
            "Yemen"
           ],
           "ids": [
            "Afghanistan",
            "Ghana",
            "Palestine",
            "Senegal",
            "Sudan (former)",
            "Syrian Arab Republic",
            "Yemen"
           ],
           "legendgroup": "",
           "marker": {
            "color": [
             2,
             81,
             299,
             195,
             206,
             212,
             249
            ],
            "coloraxis": "coloraxis",
            "size": [
             10174.836,
             7941.412,
             1184.973,
             3789.383,
             12247.141,
             5553.246,
             5816.247
            ],
            "sizemode": "area",
            "sizeref": 14.935662809917355,
            "symbol": "circle"
           },
           "mode": "markers",
           "name": "",
           "orientation": "v",
           "showlegend": false,
           "type": "scatter",
           "x": [
            "Afghanistan",
            "Ghana",
            "Palestine",
            "Senegal",
            "Sudan (former)",
            "Syrian Arab Republic",
            "Yemen"
           ],
           "xaxis": "x",
           "y": [
            10174.836,
            7941.412,
            1184.973,
            3789.383,
            12247.141,
            5553.246,
            5816.247
           ],
           "yaxis": "y"
          }
         ],
         "name": "1966"
        },
        {
         "data": [
          {
           "hovertemplate": "<b>%{hovertext}</b><br><br>Year=1967<br>Under War Countries=%{x}<br>Population (1000 persons)=%{marker.size}<br>Area Code (FAO)=%{marker.color}<extra></extra>",
           "hovertext": [
            "Afghanistan",
            "Ghana",
            "Palestine",
            "Senegal",
            "Sudan (former)",
            "Syrian Arab Republic",
            "Yemen"
           ],
           "ids": [
            "Afghanistan",
            "Ghana",
            "Palestine",
            "Senegal",
            "Sudan (former)",
            "Syrian Arab Republic",
            "Yemen"
           ],
           "legendgroup": "",
           "marker": {
            "color": [
             2,
             81,
             299,
             195,
             206,
             212,
             249
            ],
            "coloraxis": "coloraxis",
            "size": [
             10399.926,
             8132.803,
             1165.75,
             3899.644,
             12606.062,
             5740.71,
             5907.874
            ],
            "sizemode": "area",
            "sizeref": 14.935662809917355,
            "symbol": "circle"
           },
           "mode": "markers",
           "name": "",
           "orientation": "v",
           "showlegend": false,
           "type": "scatter",
           "x": [
            "Afghanistan",
            "Ghana",
            "Palestine",
            "Senegal",
            "Sudan (former)",
            "Syrian Arab Republic",
            "Yemen"
           ],
           "xaxis": "x",
           "y": [
            10399.926,
            8132.803,
            1165.75,
            3899.644,
            12606.062,
            5740.71,
            5907.874
           ],
           "yaxis": "y"
          }
         ],
         "name": "1967"
        },
        {
         "data": [
          {
           "hovertemplate": "<b>%{hovertext}</b><br><br>Year=1968<br>Under War Countries=%{x}<br>Population (1000 persons)=%{marker.size}<br>Area Code (FAO)=%{marker.color}<extra></extra>",
           "hovertext": [
            "Afghanistan",
            "Ghana",
            "Palestine",
            "Senegal",
            "Sudan (former)",
            "Syrian Arab Republic",
            "Yemen"
           ],
           "ids": [
            "Afghanistan",
            "Ghana",
            "Palestine",
            "Senegal",
            "Sudan (former)",
            "Syrian Arab Republic",
            "Yemen"
           ],
           "legendgroup": "",
           "marker": {
            "color": [
             2,
             81,
             299,
             195,
             206,
             212,
             249
            ],
            "coloraxis": "coloraxis",
            "size": [
             10637.063,
             8321.77,
             1142.229,
             4014.103,
             12980.262,
             5935.86,
             6001.852
            ],
            "sizemode": "area",
            "sizeref": 14.935662809917355,
            "symbol": "circle"
           },
           "mode": "markers",
           "name": "",
           "orientation": "v",
           "showlegend": false,
           "type": "scatter",
           "x": [
            "Afghanistan",
            "Ghana",
            "Palestine",
            "Senegal",
            "Sudan (former)",
            "Syrian Arab Republic",
            "Yemen"
           ],
           "xaxis": "x",
           "y": [
            10637.063,
            8321.77,
            1142.229,
            4014.103,
            12980.262,
            5935.86,
            6001.852
           ],
           "yaxis": "y"
          }
         ],
         "name": "1968"
        },
        {
         "data": [
          {
           "hovertemplate": "<b>%{hovertext}</b><br><br>Year=1969<br>Under War Countries=%{x}<br>Population (1000 persons)=%{marker.size}<br>Area Code (FAO)=%{marker.color}<extra></extra>",
           "hovertext": [
            "Afghanistan",
            "Ghana",
            "Palestine",
            "Senegal",
            "Sudan (former)",
            "Syrian Arab Republic",
            "Yemen"
           ],
           "ids": [
            "Afghanistan",
            "Ghana",
            "Palestine",
            "Senegal",
            "Sudan (former)",
            "Syrian Arab Republic",
            "Yemen"
           ],
           "legendgroup": "",
           "marker": {
            "color": [
             2,
             81,
             299,
             195,
             206,
             212,
             249
            ],
            "coloraxis": "coloraxis",
            "size": [
             10893.776,
             8520.015,
             1126.365,
             4133.322,
             13369.986,
             6139.048,
             6097.035
            ],
            "sizemode": "area",
            "sizeref": 14.935662809917355,
            "symbol": "circle"
           },
           "mode": "markers",
           "name": "",
           "orientation": "v",
           "showlegend": false,
           "type": "scatter",
           "x": [
            "Afghanistan",
            "Ghana",
            "Palestine",
            "Senegal",
            "Sudan (former)",
            "Syrian Arab Republic",
            "Yemen"
           ],
           "xaxis": "x",
           "y": [
            10893.776,
            8520.015,
            1126.365,
            4133.322,
            13369.986,
            6139.048,
            6097.035
           ],
           "yaxis": "y"
          }
         ],
         "name": "1969"
        },
        {
         "data": [
          {
           "hovertemplate": "<b>%{hovertext}</b><br><br>Year=1970<br>Under War Countries=%{x}<br>Population (1000 persons)=%{marker.size}<br>Area Code (FAO)=%{marker.color}<extra></extra>",
           "hovertext": [
            "Afghanistan",
            "Ghana",
            "Palestine",
            "Senegal",
            "Sudan (former)",
            "Syrian Arab Republic",
            "Yemen"
           ],
           "ids": [
            "Afghanistan",
            "Ghana",
            "Palestine",
            "Senegal",
            "Sudan (former)",
            "Syrian Arab Republic",
            "Yemen"
           ],
           "legendgroup": "",
           "marker": {
            "color": [
             2,
             81,
             299,
             195,
             206,
             212,
             249
            ],
            "coloraxis": "coloraxis",
            "size": [
             11173.642,
             8735.495,
             1126.629,
             4257.505,
             13775.704,
             6350.541,
             6193.384
            ],
            "sizemode": "area",
            "sizeref": 14.935662809917355,
            "symbol": "circle"
           },
           "mode": "markers",
           "name": "",
           "orientation": "v",
           "showlegend": false,
           "type": "scatter",
           "x": [
            "Afghanistan",
            "Ghana",
            "Palestine",
            "Senegal",
            "Sudan (former)",
            "Syrian Arab Republic",
            "Yemen"
           ],
           "xaxis": "x",
           "y": [
            11173.642,
            8735.495,
            1126.629,
            4257.505,
            13775.704,
            6350.541,
            6193.384
           ],
           "yaxis": "y"
          }
         ],
         "name": "1970"
        },
        {
         "data": [
          {
           "hovertemplate": "<b>%{hovertext}</b><br><br>Year=1971<br>Under War Countries=%{x}<br>Population (1000 persons)=%{marker.size}<br>Area Code (FAO)=%{marker.color}<extra></extra>",
           "hovertext": [
            "Afghanistan",
            "Ghana",
            "Palestine",
            "Senegal",
            "Sudan (former)",
            "Syrian Arab Republic",
            "Yemen"
           ],
           "ids": [
            "Afghanistan",
            "Ghana",
            "Palestine",
            "Senegal",
            "Sudan (former)",
            "Syrian Arab Republic",
            "Yemen"
           ],
           "legendgroup": "",
           "marker": {
            "color": [
             2,
             81,
             299,
             195,
             206,
             212,
             249
            ],
            "coloraxis": "coloraxis",
            "size": [
             11475.445,
             8973.244,
             1146.307,
             4387.54,
             14197.372,
             6570.857,
             6290.365
            ],
            "sizemode": "area",
            "sizeref": 14.935662809917355,
            "symbol": "circle"
           },
           "mode": "markers",
           "name": "",
           "orientation": "v",
           "showlegend": false,
           "type": "scatter",
           "x": [
            "Afghanistan",
            "Ghana",
            "Palestine",
            "Senegal",
            "Sudan (former)",
            "Syrian Arab Republic",
            "Yemen"
           ],
           "xaxis": "x",
           "y": [
            11475.445,
            8973.244,
            1146.307,
            4387.54,
            14197.372,
            6570.857,
            6290.365
           ],
           "yaxis": "y"
          }
         ],
         "name": "1971"
        },
        {
         "data": [
          {
           "hovertemplate": "<b>%{hovertext}</b><br><br>Year=1972<br>Under War Countries=%{x}<br>Population (1000 persons)=%{marker.size}<br>Area Code (FAO)=%{marker.color}<extra></extra>",
           "hovertext": [
            "Afghanistan",
            "Ghana",
            "Palestine",
            "Senegal",
            "Sudan (former)",
            "Syrian Arab Republic",
            "Yemen"
           ],
           "ids": [
            "Afghanistan",
            "Ghana",
            "Palestine",
            "Senegal",
            "Sudan (former)",
            "Syrian Arab Republic",
            "Yemen"
           ],
           "legendgroup": "",
           "marker": {
            "color": [
             2,
             81,
             299,
             195,
             206,
             212,
             249
            ],
            "coloraxis": "coloraxis",
            "size": [
             11791.215,
             9229.631,
             1182.425,
             4522.893,
             14636.062,
             6800.141,
             6390.574
            ],
            "sizemode": "area",
            "sizeref": 14.935662809917355,
            "symbol": "circle"
           },
           "mode": "markers",
           "name": "",
           "orientation": "v",
           "showlegend": false,
           "type": "scatter",
           "x": [
            "Afghanistan",
            "Ghana",
            "Palestine",
            "Senegal",
            "Sudan (former)",
            "Syrian Arab Republic",
            "Yemen"
           ],
           "xaxis": "x",
           "y": [
            11791.215,
            9229.631,
            1182.425,
            4522.893,
            14636.062,
            6800.141,
            6390.574
           ],
           "yaxis": "y"
          }
         ],
         "name": "1972"
        },
        {
         "data": [
          {
           "hovertemplate": "<b>%{hovertext}</b><br><br>Year=1973<br>Under War Countries=%{x}<br>Population (1000 persons)=%{marker.size}<br>Area Code (FAO)=%{marker.color}<extra></extra>",
           "hovertext": [
            "Afghanistan",
            "Ghana",
            "Palestine",
            "Senegal",
            "Sudan (former)",
            "Syrian Arab Republic",
            "Yemen"
           ],
           "ids": [
            "Afghanistan",
            "Ghana",
            "Palestine",
            "Senegal",
            "Sudan (former)",
            "Syrian Arab Republic",
            "Yemen"
           ],
           "legendgroup": "",
           "marker": {
            "color": [
             2,
             81,
             299,
             195,
             206,
             212,
             249
            ],
            "coloraxis": "coloraxis",
            "size": [
             12108.963,
             9493.556,
             1229.365,
             4660.725,
             15094.708,
             7037.851,
             6500.816
            ],
            "sizemode": "area",
            "sizeref": 14.935662809917355,
            "symbol": "circle"
           },
           "mode": "markers",
           "name": "",
           "orientation": "v",
           "showlegend": false,
           "type": "scatter",
           "x": [
            "Afghanistan",
            "Ghana",
            "Palestine",
            "Senegal",
            "Sudan (former)",
            "Syrian Arab Republic",
            "Yemen"
           ],
           "xaxis": "x",
           "y": [
            12108.963,
            9493.556,
            1229.365,
            4660.725,
            15094.708,
            7037.851,
            6500.816
           ],
           "yaxis": "y"
          }
         ],
         "name": "1973"
        },
        {
         "data": [
          {
           "hovertemplate": "<b>%{hovertext}</b><br><br>Year=1974<br>Under War Countries=%{x}<br>Population (1000 persons)=%{marker.size}<br>Area Code (FAO)=%{marker.color}<extra></extra>",
           "hovertext": [
            "Afghanistan",
            "Ghana",
            "Palestine",
            "Senegal",
            "Sudan (former)",
            "Syrian Arab Republic",
            "Yemen"
           ],
           "ids": [
            "Afghanistan",
            "Ghana",
            "Palestine",
            "Senegal",
            "Sudan (former)",
            "Syrian Arab Republic",
            "Yemen"
           ],
           "legendgroup": "",
           "marker": {
            "color": [
             2,
             81,
             299,
             195,
             206,
             212,
             249
            ],
            "coloraxis": "coloraxis",
            "size": [
             12412.95,
             9749.104,
             1278.565,
             4797.187,
             15577.062,
             7283.177,
             6629.999
            ],
            "sizemode": "area",
            "sizeref": 14.935662809917355,
            "symbol": "circle"
           },
           "mode": "markers",
           "name": "",
           "orientation": "v",
           "showlegend": false,
           "type": "scatter",
           "x": [
            "Afghanistan",
            "Ghana",
            "Palestine",
            "Senegal",
            "Sudan (former)",
            "Syrian Arab Republic",
            "Yemen"
           ],
           "xaxis": "x",
           "y": [
            12412.95,
            9749.104,
            1278.565,
            4797.187,
            15577.062,
            7283.177,
            6629.999
           ],
           "yaxis": "y"
          }
         ],
         "name": "1974"
        },
        {
         "data": [
          {
           "hovertemplate": "<b>%{hovertext}</b><br><br>Year=1975<br>Under War Countries=%{x}<br>Population (1000 persons)=%{marker.size}<br>Area Code (FAO)=%{marker.color}<extra></extra>",
           "hovertext": [
            "Afghanistan",
            "Ghana",
            "Palestine",
            "Senegal",
            "Sudan (former)",
            "Syrian Arab Republic",
            "Yemen"
           ],
           "ids": [
            "Afghanistan",
            "Ghana",
            "Palestine",
            "Senegal",
            "Sudan (former)",
            "Syrian Arab Republic",
            "Yemen"
           ],
           "legendgroup": "",
           "marker": {
            "color": [
             2,
             81,
             299,
             195,
             206,
             212,
             249
            ],
            "coloraxis": "coloraxis",
            "size": [
             12689.16,
             9985.946,
             1323.802,
             4929.846,
             16085.753,
             7535.714,
             6784.695
            ],
            "sizemode": "area",
            "sizeref": 14.935662809917355,
            "symbol": "circle"
           },
           "mode": "markers",
           "name": "",
           "orientation": "v",
           "showlegend": false,
           "type": "scatter",
           "x": [
            "Afghanistan",
            "Ghana",
            "Palestine",
            "Senegal",
            "Sudan (former)",
            "Syrian Arab Republic",
            "Yemen"
           ],
           "xaxis": "x",
           "y": [
            12689.16,
            9985.946,
            1323.802,
            4929.846,
            16085.753,
            7535.714,
            6784.695
           ],
           "yaxis": "y"
          }
         ],
         "name": "1975"
        },
        {
         "data": [
          {
           "hovertemplate": "<b>%{hovertext}</b><br><br>Year=1976<br>Under War Countries=%{x}<br>Population (1000 persons)=%{marker.size}<br>Area Code (FAO)=%{marker.color}<extra></extra>",
           "hovertext": [
            "Afghanistan",
            "Ghana",
            "Palestine",
            "Senegal",
            "Sudan (former)",
            "Syrian Arab Republic",
            "Yemen"
           ],
           "ids": [
            "Afghanistan",
            "Ghana",
            "Palestine",
            "Senegal",
            "Sudan (former)",
            "Syrian Arab Republic",
            "Yemen"
           ],
           "legendgroup": "",
           "marker": {
            "color": [
             2,
             81,
             299,
             195,
             206,
             212,
             249
            ],
            "coloraxis": "coloraxis",
            "size": [
             12943.093,
             10199.165,
             1363.618,
             5057.378,
             16620.198,
             7794.662,
             6967.941
            ],
            "sizemode": "area",
            "sizeref": 14.935662809917355,
            "symbol": "circle"
           },
           "mode": "markers",
           "name": "",
           "orientation": "v",
           "showlegend": false,
           "type": "scatter",
           "x": [
            "Afghanistan",
            "Ghana",
            "Palestine",
            "Senegal",
            "Sudan (former)",
            "Syrian Arab Republic",
            "Yemen"
           ],
           "xaxis": "x",
           "y": [
            12943.093,
            10199.165,
            1363.618,
            5057.378,
            16620.198,
            7794.662,
            6967.941
           ],
           "yaxis": "y"
          }
         ],
         "name": "1976"
        },
        {
         "data": [
          {
           "hovertemplate": "<b>%{hovertext}</b><br><br>Year=1977<br>Under War Countries=%{x}<br>Population (1000 persons)=%{marker.size}<br>Area Code (FAO)=%{marker.color}<extra></extra>",
           "hovertext": [
            "Afghanistan",
            "Ghana",
            "Palestine",
            "Senegal",
            "Sudan (former)",
            "Syrian Arab Republic",
            "Yemen"
           ],
           "ids": [
            "Afghanistan",
            "Ghana",
            "Palestine",
            "Senegal",
            "Sudan (former)",
            "Syrian Arab Republic",
            "Yemen"
           ],
           "legendgroup": "",
           "marker": {
            "color": [
             2,
             81,
             299,
             195,
             206,
             212,
             249
            ],
            "coloraxis": "coloraxis",
            "size": [
             13171.306,
             10395.452,
             1400.119,
             5181.514,
             17179.179,
             8060.649,
             7178.675
            ],
            "sizemode": "area",
            "sizeref": 14.935662809917355,
            "symbol": "circle"
           },
           "mode": "markers",
           "name": "",
           "orientation": "v",
           "showlegend": false,
           "type": "scatter",
           "x": [
            "Afghanistan",
            "Ghana",
            "Palestine",
            "Senegal",
            "Sudan (former)",
            "Syrian Arab Republic",
            "Yemen"
           ],
           "xaxis": "x",
           "y": [
            13171.306,
            10395.452,
            1400.119,
            5181.514,
            17179.179,
            8060.649,
            7178.675
           ],
           "yaxis": "y"
          }
         ],
         "name": "1977"
        },
        {
         "data": [
          {
           "hovertemplate": "<b>%{hovertext}</b><br><br>Year=1978<br>Under War Countries=%{x}<br>Population (1000 persons)=%{marker.size}<br>Area Code (FAO)=%{marker.color}<extra></extra>",
           "hovertext": [
            "Afghanistan",
            "Ghana",
            "Palestine",
            "Senegal",
            "Sudan (former)",
            "Syrian Arab Republic",
            "Yemen"
           ],
           "ids": [
            "Afghanistan",
            "Ghana",
            "Palestine",
            "Senegal",
            "Sudan (former)",
            "Syrian Arab Republic",
            "Yemen"
           ],
           "legendgroup": "",
           "marker": {
            "color": [
             2,
             81,
             299,
             195,
             206,
             212,
             249
            ],
            "coloraxis": "coloraxis",
            "size": [
             13341.198,
             10590.261,
             1434.995,
             5306.681,
             17763.504,
             8336.418,
             7414.158
            ],
            "sizemode": "area",
            "sizeref": 14.935662809917355,
            "symbol": "circle"
           },
           "mode": "markers",
           "name": "",
           "orientation": "v",
           "showlegend": false,
           "type": "scatter",
           "x": [
            "Afghanistan",
            "Ghana",
            "Palestine",
            "Senegal",
            "Sudan (former)",
            "Syrian Arab Republic",
            "Yemen"
           ],
           "xaxis": "x",
           "y": [
            13341.198,
            10590.261,
            1434.995,
            5306.681,
            17763.504,
            8336.418,
            7414.158
           ],
           "yaxis": "y"
          }
         ],
         "name": "1978"
        },
        {
         "data": [
          {
           "hovertemplate": "<b>%{hovertext}</b><br><br>Year=1979<br>Under War Countries=%{x}<br>Population (1000 persons)=%{marker.size}<br>Area Code (FAO)=%{marker.color}<extra></extra>",
           "hovertext": [
            "Afghanistan",
            "Ghana",
            "Palestine",
            "Senegal",
            "Sudan (former)",
            "Syrian Arab Republic",
            "Yemen"
           ],
           "ids": [
            "Afghanistan",
            "Ghana",
            "Palestine",
            "Senegal",
            "Sudan (former)",
            "Syrian Arab Republic",
            "Yemen"
           ],
           "legendgroup": "",
           "marker": {
            "color": [
             2,
             81,
             299,
             195,
             206,
             212,
             249
            ],
            "coloraxis": "coloraxis",
            "size": [
             13411.056,
             10805.314,
             1471.142,
             5439.066,
             18374.017,
             8625.69,
             7669.694
            ],
            "sizemode": "area",
            "sizeref": 14.935662809917355,
            "symbol": "circle"
           },
           "mode": "markers",
           "name": "",
           "orientation": "v",
           "showlegend": false,
           "type": "scatter",
           "x": [
            "Afghanistan",
            "Ghana",
            "Palestine",
            "Senegal",
            "Sudan (former)",
            "Syrian Arab Republic",
            "Yemen"
           ],
           "xaxis": "x",
           "y": [
            13411.056,
            10805.314,
            1471.142,
            5439.066,
            18374.017,
            8625.69,
            7669.694
           ],
           "yaxis": "y"
          }
         ],
         "name": "1979"
        },
        {
         "data": [
          {
           "hovertemplate": "<b>%{hovertext}</b><br><br>Year=1980<br>Under War Countries=%{x}<br>Population (1000 persons)=%{marker.size}<br>Area Code (FAO)=%{marker.color}<extra></extra>",
           "hovertext": [
            "Afghanistan",
            "Ghana",
            "Palestine",
            "Senegal",
            "Sudan (former)",
            "Syrian Arab Republic",
            "Yemen"
           ],
           "ids": [
            "Afghanistan",
            "Ghana",
            "Palestine",
            "Senegal",
            "Sudan (former)",
            "Syrian Arab Republic",
            "Yemen"
           ],
           "legendgroup": "",
           "marker": {
            "color": [
             2,
             81,
             299,
             195,
             206,
             212,
             249
            ],
            "coloraxis": "coloraxis",
            "size": [
             13356.511,
             11056.116,
             1510.713,
             5583.165,
             19010.072,
             8930.774,
             7941.898
            ],
            "sizemode": "area",
            "sizeref": 14.935662809917355,
            "symbol": "circle"
           },
           "mode": "markers",
           "name": "",
           "orientation": "v",
           "showlegend": false,
           "type": "scatter",
           "x": [
            "Afghanistan",
            "Ghana",
            "Palestine",
            "Senegal",
            "Sudan (former)",
            "Syrian Arab Republic",
            "Yemen"
           ],
           "xaxis": "x",
           "y": [
            13356.511,
            11056.116,
            1510.713,
            5583.165,
            19010.072,
            8930.774,
            7941.898
           ],
           "yaxis": "y"
          }
         ],
         "name": "1980"
        },
        {
         "data": [
          {
           "hovertemplate": "<b>%{hovertext}</b><br><br>Year=1981<br>Under War Countries=%{x}<br>Population (1000 persons)=%{marker.size}<br>Area Code (FAO)=%{marker.color}<extra></extra>",
           "hovertext": [
            "Afghanistan",
            "Ghana",
            "Palestine",
            "Senegal",
            "Sudan (former)",
            "Syrian Arab Republic",
            "Yemen"
           ],
           "ids": [
            "Afghanistan",
            "Ghana",
            "Palestine",
            "Senegal",
            "Sudan (former)",
            "Syrian Arab Republic",
            "Yemen"
           ],
           "legendgroup": "",
           "marker": {
            "color": [
             2,
             81,
             299,
             195,
             206,
             212,
             249
            ],
            "coloraxis": "coloraxis",
            "size": [
             13171.673,
             11348.289,
             1554.182,
             5740.444,
             19673.737,
             9252.851,
             8231.91
            ],
            "sizemode": "area",
            "sizeref": 14.935662809917355,
            "symbol": "circle"
           },
           "mode": "markers",
           "name": "",
           "orientation": "v",
           "showlegend": false,
           "type": "scatter",
           "x": [
            "Afghanistan",
            "Ghana",
            "Palestine",
            "Senegal",
            "Sudan (former)",
            "Syrian Arab Republic",
            "Yemen"
           ],
           "xaxis": "x",
           "y": [
            13171.673,
            11348.289,
            1554.182,
            5740.444,
            19673.737,
            9252.851,
            8231.91
           ],
           "yaxis": "y"
          }
         ],
         "name": "1981"
        },
        {
         "data": [
          {
           "hovertemplate": "<b>%{hovertext}</b><br><br>Year=1982<br>Under War Countries=%{x}<br>Population (1000 persons)=%{marker.size}<br>Area Code (FAO)=%{marker.color}<extra></extra>",
           "hovertext": [
            "Afghanistan",
            "Ghana",
            "Palestine",
            "Senegal",
            "Sudan (former)",
            "Syrian Arab Republic",
            "Yemen"
           ],
           "ids": [
            "Afghanistan",
            "Ghana",
            "Palestine",
            "Senegal",
            "Sudan (former)",
            "Syrian Arab Republic",
            "Yemen"
           ],
           "legendgroup": "",
           "marker": {
            "color": [
             2,
             81,
             299,
             195,
             206,
             212,
             249
            ],
            "coloraxis": "coloraxis",
            "size": [
             12882.528,
             11676.823,
             1600.947,
             5909.739,
             20361.559,
             9590.227,
             8541.605
            ],
            "sizemode": "area",
            "sizeref": 14.935662809917355,
            "symbol": "circle"
           },
           "mode": "markers",
           "name": "",
           "orientation": "v",
           "showlegend": false,
           "type": "scatter",
           "x": [
            "Afghanistan",
            "Ghana",
            "Palestine",
            "Senegal",
            "Sudan (former)",
            "Syrian Arab Republic",
            "Yemen"
           ],
           "xaxis": "x",
           "y": [
            12882.528,
            11676.823,
            1600.947,
            5909.739,
            20361.559,
            9590.227,
            8541.605
           ],
           "yaxis": "y"
          }
         ],
         "name": "1982"
        },
        {
         "data": [
          {
           "hovertemplate": "<b>%{hovertext}</b><br><br>Year=1983<br>Under War Countries=%{x}<br>Population (1000 persons)=%{marker.size}<br>Area Code (FAO)=%{marker.color}<extra></extra>",
           "hovertext": [
            "Afghanistan",
            "Ghana",
            "Palestine",
            "Senegal",
            "Sudan (former)",
            "Syrian Arab Republic",
            "Yemen"
           ],
           "ids": [
            "Afghanistan",
            "Ghana",
            "Palestine",
            "Senegal",
            "Sudan (former)",
            "Syrian Arab Republic",
            "Yemen"
           ],
           "legendgroup": "",
           "marker": {
            "color": [
             2,
             81,
             299,
             195,
             206,
             212,
             249
            ],
            "coloraxis": "coloraxis",
            "size": [
             12537.73,
             12033.575,
             1650.924,
             6089.572,
             21060.771,
             9938.847,
             8869.37
            ],
            "sizemode": "area",
            "sizeref": 14.935662809917355,
            "symbol": "circle"
           },
           "mode": "markers",
           "name": "",
           "orientation": "v",
           "showlegend": false,
           "type": "scatter",
           "x": [
            "Afghanistan",
            "Ghana",
            "Palestine",
            "Senegal",
            "Sudan (former)",
            "Syrian Arab Republic",
            "Yemen"
           ],
           "xaxis": "x",
           "y": [
            12537.73,
            12033.575,
            1650.924,
            6089.572,
            21060.771,
            9938.847,
            8869.37
           ],
           "yaxis": "y"
          }
         ],
         "name": "1983"
        },
        {
         "data": [
          {
           "hovertemplate": "<b>%{hovertext}</b><br><br>Year=1984<br>Under War Countries=%{x}<br>Population (1000 persons)=%{marker.size}<br>Area Code (FAO)=%{marker.color}<extra></extra>",
           "hovertext": [
            "Afghanistan",
            "Ghana",
            "Palestine",
            "Senegal",
            "Sudan (former)",
            "Syrian Arab Republic",
            "Yemen"
           ],
           "ids": [
            "Afghanistan",
            "Ghana",
            "Palestine",
            "Senegal",
            "Sudan (former)",
            "Syrian Arab Republic",
            "Yemen"
           ],
           "legendgroup": "",
           "marker": {
            "color": [
             2,
             81,
             299,
             195,
             206,
             212,
             249
            ],
            "coloraxis": "coloraxis",
            "size": [
             12204.292,
             12405.66,
             1703.805,
             6277.424,
             21754.441,
             10293.049,
             9213.084
            ],
            "sizemode": "area",
            "sizeref": 14.935662809917355,
            "symbol": "circle"
           },
           "mode": "markers",
           "name": "",
           "orientation": "v",
           "showlegend": false,
           "type": "scatter",
           "x": [
            "Afghanistan",
            "Ghana",
            "Palestine",
            "Senegal",
            "Sudan (former)",
            "Syrian Arab Republic",
            "Yemen"
           ],
           "xaxis": "x",
           "y": [
            12204.292,
            12405.66,
            1703.805,
            6277.424,
            21754.441,
            10293.049,
            9213.084
           ],
           "yaxis": "y"
          }
         ],
         "name": "1984"
        },
        {
         "data": [
          {
           "hovertemplate": "<b>%{hovertext}</b><br><br>Year=1985<br>Under War Countries=%{x}<br>Population (1000 persons)=%{marker.size}<br>Area Code (FAO)=%{marker.color}<extra></extra>",
           "hovertext": [
            "Afghanistan",
            "Ghana",
            "Palestine",
            "Senegal",
            "Sudan (former)",
            "Syrian Arab Republic",
            "Yemen"
           ],
           "ids": [
            "Afghanistan",
            "Ghana",
            "Palestine",
            "Senegal",
            "Sudan (former)",
            "Syrian Arab Republic",
            "Yemen"
           ],
           "legendgroup": "",
           "marker": {
            "color": [
             2,
             81,
             299,
             195,
             206,
             212,
             249
            ],
            "coloraxis": "coloraxis",
            "size": [
             11938.208,
             12783.613,
             1759.534,
             6471.327,
             22430.934,
             10648.632,
             9572.175
            ],
            "sizemode": "area",
            "sizeref": 14.935662809917355,
            "symbol": "circle"
           },
           "mode": "markers",
           "name": "",
           "orientation": "v",
           "showlegend": false,
           "type": "scatter",
           "x": [
            "Afghanistan",
            "Ghana",
            "Palestine",
            "Senegal",
            "Sudan (former)",
            "Syrian Arab Republic",
            "Yemen"
           ],
           "xaxis": "x",
           "y": [
            11938.208,
            12783.613,
            1759.534,
            6471.327,
            22430.934,
            10648.632,
            9572.175
           ],
           "yaxis": "y"
          }
         ],
         "name": "1985"
        },
        {
         "data": [
          {
           "hovertemplate": "<b>%{hovertext}</b><br><br>Year=1986<br>Under War Countries=%{x}<br>Population (1000 persons)=%{marker.size}<br>Area Code (FAO)=%{marker.color}<extra></extra>",
           "hovertext": [
            "Afghanistan",
            "Ghana",
            "Palestine",
            "Senegal",
            "Sudan (former)",
            "Syrian Arab Republic",
            "Yemen"
           ],
           "ids": [
            "Afghanistan",
            "Ghana",
            "Palestine",
            "Senegal",
            "Sudan (former)",
            "Syrian Arab Republic",
            "Yemen"
           ],
           "legendgroup": "",
           "marker": {
            "color": [
             2,
             81,
             299,
             195,
             206,
             212,
             249
            ],
            "coloraxis": "coloraxis",
            "size": [
             11736.179,
             13164.837,
             1817.979,
             6670.663,
             23085.655,
             11004.272,
             9941.109
            ],
            "sizemode": "area",
            "sizeref": 14.935662809917355,
            "symbol": "circle"
           },
           "mode": "markers",
           "name": "",
           "orientation": "v",
           "showlegend": false,
           "type": "scatter",
           "x": [
            "Afghanistan",
            "Ghana",
            "Palestine",
            "Senegal",
            "Sudan (former)",
            "Syrian Arab Republic",
            "Yemen"
           ],
           "xaxis": "x",
           "y": [
            11736.179,
            13164.837,
            1817.979,
            6670.663,
            23085.655,
            11004.272,
            9941.109
           ],
           "yaxis": "y"
          }
         ],
         "name": "1986"
        },
        {
         "data": [
          {
           "hovertemplate": "<b>%{hovertext}</b><br><br>Year=1987<br>Under War Countries=%{x}<br>Population (1000 persons)=%{marker.size}<br>Area Code (FAO)=%{marker.color}<extra></extra>",
           "hovertext": [
            "Afghanistan",
            "Ghana",
            "Palestine",
            "Senegal",
            "Sudan (former)",
            "Syrian Arab Republic",
            "Yemen"
           ],
           "ids": [
            "Afghanistan",
            "Ghana",
            "Palestine",
            "Senegal",
            "Sudan (former)",
            "Syrian Arab Republic",
            "Yemen"
           ],
           "legendgroup": "",
           "marker": {
            "color": [
             2,
             81,
             299,
             195,
             206,
             212,
             249
            ],
            "coloraxis": "coloraxis",
            "size": [
             11604.534,
             13552.021,
             1879.75,
             6875.754,
             23723.244,
             11360.852,
             10322.043
            ],
            "sizemode": "area",
            "sizeref": 14.935662809917355,
            "symbol": "circle"
           },
           "mode": "markers",
           "name": "",
           "orientation": "v",
           "showlegend": false,
           "type": "scatter",
           "x": [
            "Afghanistan",
            "Ghana",
            "Palestine",
            "Senegal",
            "Sudan (former)",
            "Syrian Arab Republic",
            "Yemen"
           ],
           "xaxis": "x",
           "y": [
            11604.534,
            13552.021,
            1879.75,
            6875.754,
            23723.244,
            11360.852,
            10322.043
           ],
           "yaxis": "y"
          }
         ],
         "name": "1987"
        },
        {
         "data": [
          {
           "hovertemplate": "<b>%{hovertext}</b><br><br>Year=1988<br>Under War Countries=%{x}<br>Population (1000 persons)=%{marker.size}<br>Area Code (FAO)=%{marker.color}<extra></extra>",
           "hovertext": [
            "Afghanistan",
            "Ghana",
            "Palestine",
            "Senegal",
            "Sudan (former)",
            "Syrian Arab Republic",
            "Yemen"
           ],
           "ids": [
            "Afghanistan",
            "Ghana",
            "Palestine",
            "Senegal",
            "Sudan (former)",
            "Syrian Arab Republic",
            "Yemen"
           ],
           "legendgroup": "",
           "marker": {
            "color": [
             2,
             81,
             299,
             195,
             206,
             212,
             249
            ],
            "coloraxis": "coloraxis",
            "size": [
             11618.005,
             13947.042,
             1946.376,
             7086.627,
             24352.842,
             11719.071,
             10730.862
            ],
            "sizemode": "area",
            "sizeref": 14.935662809917355,
            "symbol": "circle"
           },
           "mode": "markers",
           "name": "",
           "orientation": "v",
           "showlegend": false,
           "type": "scatter",
           "x": [
            "Afghanistan",
            "Ghana",
            "Palestine",
            "Senegal",
            "Sudan (former)",
            "Syrian Arab Republic",
            "Yemen"
           ],
           "xaxis": "x",
           "y": [
            11618.005,
            13947.042,
            1946.376,
            7086.627,
            24352.842,
            11719.071,
            10730.862
           ],
           "yaxis": "y"
          }
         ],
         "name": "1988"
        },
        {
         "data": [
          {
           "hovertemplate": "<b>%{hovertext}</b><br><br>Year=1989<br>Under War Countries=%{x}<br>Population (1000 persons)=%{marker.size}<br>Area Code (FAO)=%{marker.color}<extra></extra>",
           "hovertext": [
            "Afghanistan",
            "Ghana",
            "Palestine",
            "Senegal",
            "Sudan (former)",
            "Syrian Arab Republic",
            "Yemen"
           ],
           "ids": [
            "Afghanistan",
            "Ghana",
            "Palestine",
            "Senegal",
            "Sudan (former)",
            "Syrian Arab Republic",
            "Yemen"
           ],
           "legendgroup": "",
           "marker": {
            "color": [
             2,
             81,
             299,
             195,
             206,
             212,
             249
            ],
            "coloraxis": "coloraxis",
            "size": [
             11868.877,
             14353.41,
             2019.83,
             7303.517,
             24988.226,
             12080.444,
             11189.177
            ],
            "sizemode": "area",
            "sizeref": 14.935662809917355,
            "symbol": "circle"
           },
           "mode": "markers",
           "name": "",
           "orientation": "v",
           "showlegend": false,
           "type": "scatter",
           "x": [
            "Afghanistan",
            "Ghana",
            "Palestine",
            "Senegal",
            "Sudan (former)",
            "Syrian Arab Republic",
            "Yemen"
           ],
           "xaxis": "x",
           "y": [
            11868.877,
            14353.41,
            2019.83,
            7303.517,
            24988.226,
            12080.444,
            11189.177
           ],
           "yaxis": "y"
          }
         ],
         "name": "1989"
        },
        {
         "data": [
          {
           "hovertemplate": "<b>%{hovertext}</b><br><br>Year=1990<br>Under War Countries=%{x}<br>Population (1000 persons)=%{marker.size}<br>Area Code (FAO)=%{marker.color}<extra></extra>",
           "hovertext": [
            "Afghanistan",
            "Ghana",
            "Palestine",
            "Senegal",
            "Sudan (former)",
            "Syrian Arab Republic",
            "Yemen"
           ],
           "ids": [
            "Afghanistan",
            "Ghana",
            "Palestine",
            "Senegal",
            "Sudan (former)",
            "Syrian Arab Republic",
            "Yemen"
           ],
           "legendgroup": "",
           "marker": {
            "color": [
             2,
             81,
             299,
             195,
             206,
             212,
             249
            ],
            "coloraxis": "coloraxis",
            "size": [
             12412.308,
             14773.277,
             2101.446,
             7526.307,
             25640.213,
             12446.171,
             11709.993
            ],
            "sizemode": "area",
            "sizeref": 14.935662809917355,
            "symbol": "circle"
           },
           "mode": "markers",
           "name": "",
           "orientation": "v",
           "showlegend": false,
           "type": "scatter",
           "x": [
            "Afghanistan",
            "Ghana",
            "Palestine",
            "Senegal",
            "Sudan (former)",
            "Syrian Arab Republic",
            "Yemen"
           ],
           "xaxis": "x",
           "y": [
            12412.308,
            14773.277,
            2101.446,
            7526.307,
            25640.213,
            12446.171,
            11709.993
           ],
           "yaxis": "y"
          }
         ],
         "name": "1990"
        },
        {
         "data": [
          {
           "hovertemplate": "<b>%{hovertext}</b><br><br>Year=1991<br>Under War Countries=%{x}<br>Population (1000 persons)=%{marker.size}<br>Area Code (FAO)=%{marker.color}<extra></extra>",
           "hovertext": [
            "Afghanistan",
            "Ghana",
            "Palestine",
            "Senegal",
            "Sudan (former)",
            "Syrian Arab Republic",
            "Yemen"
           ],
           "ids": [
            "Afghanistan",
            "Ghana",
            "Palestine",
            "Senegal",
            "Sudan (former)",
            "Syrian Arab Republic",
            "Yemen"
           ],
           "legendgroup": "",
           "marker": {
            "color": [
             2,
             81,
             299,
             195,
             206,
             212,
             249
            ],
            "coloraxis": "coloraxis",
            "size": [
             13299.017,
             15207.367,
             2191.002,
             7755.496,
             26311.612,
             12815.401,
             12302.124
            ],
            "sizemode": "area",
            "sizeref": 14.935662809917355,
            "symbol": "circle"
           },
           "mode": "markers",
           "name": "",
           "orientation": "v",
           "showlegend": false,
           "type": "scatter",
           "x": [
            "Afghanistan",
            "Ghana",
            "Palestine",
            "Senegal",
            "Sudan (former)",
            "Syrian Arab Republic",
            "Yemen"
           ],
           "xaxis": "x",
           "y": [
            13299.017,
            15207.367,
            2191.002,
            7755.496,
            26311.612,
            12815.401,
            12302.124
           ],
           "yaxis": "y"
          }
         ],
         "name": "1991"
        },
        {
         "data": [
          {
           "hovertemplate": "<b>%{hovertext}</b><br><br>Year=1992<br>Under War Countries=%{x}<br>Population (1000 persons)=%{marker.size}<br>Area Code (FAO)=%{marker.color}<extra></extra>",
           "hovertext": [
            "Afghanistan",
            "Ghana",
            "Palestine",
            "Senegal",
            "Sudan (former)",
            "Syrian Arab Republic",
            "Yemen"
           ],
           "ids": [
            "Afghanistan",
            "Ghana",
            "Palestine",
            "Senegal",
            "Sudan (former)",
            "Syrian Arab Republic",
            "Yemen"
           ],
           "legendgroup": "",
           "marker": {
            "color": [
             2,
             81,
             299,
             195,
             206,
             212,
             249
            ],
            "coloraxis": "coloraxis",
            "size": [
             14485.546,
             15653.336,
             2287.662,
             7990.096,
             27001.701,
             13187.663,
             12954.155
            ],
            "sizemode": "area",
            "sizeref": 14.935662809917355,
            "symbol": "circle"
           },
           "mode": "markers",
           "name": "",
           "orientation": "v",
           "showlegend": false,
           "type": "scatter",
           "x": [
            "Afghanistan",
            "Ghana",
            "Palestine",
            "Senegal",
            "Sudan (former)",
            "Syrian Arab Republic",
            "Yemen"
           ],
           "xaxis": "x",
           "y": [
            14485.546,
            15653.336,
            2287.662,
            7990.096,
            27001.701,
            13187.663,
            12954.155
           ],
           "yaxis": "y"
          }
         ],
         "name": "1992"
        },
        {
         "data": [
          {
           "hovertemplate": "<b>%{hovertext}</b><br><br>Year=1993<br>Under War Countries=%{x}<br>Population (1000 persons)=%{marker.size}<br>Area Code (FAO)=%{marker.color}<extra></extra>",
           "hovertext": [
            "Afghanistan",
            "Ghana",
            "Palestine",
            "Senegal",
            "Sudan (former)",
            "Syrian Arab Republic",
            "Yemen"
           ],
           "ids": [
            "Afghanistan",
            "Ghana",
            "Palestine",
            "Senegal",
            "Sudan (former)",
            "Syrian Arab Republic",
            "Yemen"
           ],
           "legendgroup": "",
           "marker": {
            "color": [
             2,
             81,
             299,
             195,
             206,
             212,
             249
            ],
            "coloraxis": "coloraxis",
            "size": [
             15816.603,
             16106.765,
             2391.396,
             8226.76,
             27713.533,
             13565.072,
             13634.076
            ],
            "sizemode": "area",
            "sizeref": 14.935662809917355,
            "symbol": "circle"
           },
           "mode": "markers",
           "name": "",
           "orientation": "v",
           "showlegend": false,
           "type": "scatter",
           "x": [
            "Afghanistan",
            "Ghana",
            "Palestine",
            "Senegal",
            "Sudan (former)",
            "Syrian Arab Republic",
            "Yemen"
           ],
           "xaxis": "x",
           "y": [
            15816.603,
            16106.765,
            2391.396,
            8226.76,
            27713.533,
            13565.072,
            13634.076
           ],
           "yaxis": "y"
          }
         ],
         "name": "1993"
        },
        {
         "data": [
          {
           "hovertemplate": "<b>%{hovertext}</b><br><br>Year=1994<br>Under War Countries=%{x}<br>Population (1000 persons)=%{marker.size}<br>Area Code (FAO)=%{marker.color}<extra></extra>",
           "hovertext": [
            "Afghanistan",
            "Ghana",
            "Palestine",
            "Senegal",
            "Sudan (former)",
            "Syrian Arab Republic",
            "Yemen"
           ],
           "ids": [
            "Afghanistan",
            "Ghana",
            "Palestine",
            "Senegal",
            "Sudan (former)",
            "Syrian Arab Republic",
            "Yemen"
           ],
           "legendgroup": "",
           "marker": {
            "color": [
             2,
             81,
             299,
             195,
             206,
             212,
             249
            ],
            "coloraxis": "coloraxis",
            "size": [
             17075.727,
             16561.674,
             2501.979,
             8461.068,
             28449.829,
             13950.476,
             14297.613
            ],
            "sizemode": "area",
            "sizeref": 14.935662809917355,
            "symbol": "circle"
           },
           "mode": "markers",
           "name": "",
           "orientation": "v",
           "showlegend": false,
           "type": "scatter",
           "x": [
            "Afghanistan",
            "Ghana",
            "Palestine",
            "Senegal",
            "Sudan (former)",
            "Syrian Arab Republic",
            "Yemen"
           ],
           "xaxis": "x",
           "y": [
            17075.727,
            16561.674,
            2501.979,
            8461.068,
            28449.829,
            13950.476,
            14297.613
           ],
           "yaxis": "y"
          }
         ],
         "name": "1994"
        },
        {
         "data": [
          {
           "hovertemplate": "<b>%{hovertext}</b><br><br>Year=1995<br>Under War Countries=%{x}<br>Population (1000 persons)=%{marker.size}<br>Area Code (FAO)=%{marker.color}<extra></extra>",
           "hovertext": [
            "Afghanistan",
            "Ghana",
            "Palestine",
            "Senegal",
            "Sudan (former)",
            "Syrian Arab Republic",
            "Yemen"
           ],
           "ids": [
            "Afghanistan",
            "Ghana",
            "Palestine",
            "Senegal",
            "Sudan (former)",
            "Syrian Arab Republic",
            "Yemen"
           ],
           "legendgroup": "",
           "marker": {
            "color": [
             2,
             81,
             299,
             195,
             206,
             212,
             249
            ],
            "coloraxis": "coloraxis",
            "size": [
             18110.657,
             17014.057,
             2618.668,
             8690.164,
             29212.83,
             14345.492,
             14913.315
            ],
            "sizemode": "area",
            "sizeref": 14.935662809917355,
            "symbol": "circle"
           },
           "mode": "markers",
           "name": "",
           "orientation": "v",
           "showlegend": false,
           "type": "scatter",
           "x": [
            "Afghanistan",
            "Ghana",
            "Palestine",
            "Senegal",
            "Sudan (former)",
            "Syrian Arab Republic",
            "Yemen"
           ],
           "xaxis": "x",
           "y": [
            18110.657,
            17014.057,
            2618.668,
            8690.164,
            29212.83,
            14345.492,
            14913.315
           ],
           "yaxis": "y"
          }
         ],
         "name": "1995"
        },
        {
         "data": [
          {
           "hovertemplate": "<b>%{hovertext}</b><br><br>Year=1996<br>Under War Countries=%{x}<br>Population (1000 persons)=%{marker.size}<br>Area Code (FAO)=%{marker.color}<extra></extra>",
           "hovertext": [
            "Afghanistan",
            "Ghana",
            "Palestine",
            "Senegal",
            "Sudan (former)",
            "Syrian Arab Republic",
            "Yemen"
           ],
           "ids": [
            "Afghanistan",
            "Ghana",
            "Palestine",
            "Senegal",
            "Sudan (former)",
            "Syrian Arab Republic",
            "Yemen"
           ],
           "legendgroup": "",
           "marker": {
            "color": [
             2,
             81,
             299,
             195,
             206,
             212,
             249
            ],
            "coloraxis": "coloraxis",
            "size": [
             18853.437,
             17462.496,
             2742.532,
             8912.861,
             30004.309,
             14754.142,
             15469.274
            ],
            "sizemode": "area",
            "sizeref": 14.935662809917355,
            "symbol": "circle"
           },
           "mode": "markers",
           "name": "",
           "orientation": "v",
           "showlegend": false,
           "type": "scatter",
           "x": [
            "Afghanistan",
            "Ghana",
            "Palestine",
            "Senegal",
            "Sudan (former)",
            "Syrian Arab Republic",
            "Yemen"
           ],
           "xaxis": "x",
           "y": [
            18853.437,
            17462.496,
            2742.532,
            8912.861,
            30004.309,
            14754.142,
            15469.274
           ],
           "yaxis": "y"
          }
         ],
         "name": "1996"
        },
        {
         "data": [
          {
           "hovertemplate": "<b>%{hovertext}</b><br><br>Year=1997<br>Under War Countries=%{x}<br>Population (1000 persons)=%{marker.size}<br>Area Code (FAO)=%{marker.color}<extra></extra>",
           "hovertext": [
            "Afghanistan",
            "Ghana",
            "Palestine",
            "Senegal",
            "Sudan (former)",
            "Syrian Arab Republic",
            "Yemen"
           ],
           "ids": [
            "Afghanistan",
            "Ghana",
            "Palestine",
            "Senegal",
            "Sudan (former)",
            "Syrian Arab Republic",
            "Yemen"
           ],
           "legendgroup": "",
           "marker": {
            "color": [
             2,
             81,
             299,
             195,
             206,
             212,
             249
            ],
            "coloraxis": "coloraxis",
            "size": [
             19357.126,
             17908.985,
             2872.006,
             9130.877,
             30825.572,
             15175.316,
             15975.668
            ],
            "sizemode": "area",
            "sizeref": 14.935662809917355,
            "symbol": "circle"
           },
           "mode": "markers",
           "name": "",
           "orientation": "v",
           "showlegend": false,
           "type": "scatter",
           "x": [
            "Afghanistan",
            "Ghana",
            "Palestine",
            "Senegal",
            "Sudan (former)",
            "Syrian Arab Republic",
            "Yemen"
           ],
           "xaxis": "x",
           "y": [
            19357.126,
            17908.985,
            2872.006,
            9130.877,
            30825.572,
            15175.316,
            15975.668
           ],
           "yaxis": "y"
          }
         ],
         "name": "1997"
        },
        {
         "data": [
          {
           "hovertemplate": "<b>%{hovertext}</b><br><br>Year=1998<br>Under War Countries=%{x}<br>Population (1000 persons)=%{marker.size}<br>Area Code (FAO)=%{marker.color}<extra></extra>",
           "hovertext": [
            "Afghanistan",
            "Ghana",
            "Palestine",
            "Senegal",
            "Sudan (former)",
            "Syrian Arab Republic",
            "Yemen"
           ],
           "ids": [
            "Afghanistan",
            "Ghana",
            "Palestine",
            "Senegal",
            "Sudan (former)",
            "Syrian Arab Republic",
            "Yemen"
           ],
           "legendgroup": "",
           "marker": {
            "color": [
             2,
             81,
             299,
             195,
             206,
             212,
             249
            ],
            "coloraxis": "coloraxis",
            "size": [
             19737.765,
             18357.156,
             3000.62,
             9347.774,
             31677.463,
             15599.591,
             16450.31
            ],
            "sizemode": "area",
            "sizeref": 14.935662809917355,
            "symbol": "circle"
           },
           "mode": "markers",
           "name": "",
           "orientation": "v",
           "showlegend": false,
           "type": "scatter",
           "x": [
            "Afghanistan",
            "Ghana",
            "Palestine",
            "Senegal",
            "Sudan (former)",
            "Syrian Arab Republic",
            "Yemen"
           ],
           "xaxis": "x",
           "y": [
            19737.765,
            18357.156,
            3000.62,
            9347.774,
            31677.463,
            15599.591,
            16450.31
           ],
           "yaxis": "y"
          }
         ],
         "name": "1998"
        },
        {
         "data": [
          {
           "hovertemplate": "<b>%{hovertext}</b><br><br>Year=1999<br>Under War Countries=%{x}<br>Population (1000 persons)=%{marker.size}<br>Area Code (FAO)=%{marker.color}<extra></extra>",
           "hovertext": [
            "Afghanistan",
            "Ghana",
            "Palestine",
            "Senegal",
            "Sudan (former)",
            "Syrian Arab Republic",
            "Yemen"
           ],
           "ids": [
            "Afghanistan",
            "Ghana",
            "Palestine",
            "Senegal",
            "Sudan (former)",
            "Syrian Arab Republic",
            "Yemen"
           ],
           "legendgroup": "",
           "marker": {
            "color": [
             2,
             81,
             299,
             195,
             206,
             212,
             249
            ],
            "coloraxis": "coloraxis",
            "size": [
             20170.844,
             18812.359,
             3119.864,
             9568.722,
             32560.402,
             16013.985,
             16921.149
            ],
            "sizemode": "area",
            "sizeref": 14.935662809917355,
            "symbol": "circle"
           },
           "mode": "markers",
           "name": "",
           "orientation": "v",
           "showlegend": false,
           "type": "scatter",
           "x": [
            "Afghanistan",
            "Ghana",
            "Palestine",
            "Senegal",
            "Sudan (former)",
            "Syrian Arab Republic",
            "Yemen"
           ],
           "xaxis": "x",
           "y": [
            20170.844,
            18812.359,
            3119.864,
            9568.722,
            32560.402,
            16013.985,
            16921.149
           ],
           "yaxis": "y"
          }
         ],
         "name": "1999"
        },
        {
         "data": [
          {
           "hovertemplate": "<b>%{hovertext}</b><br><br>Year=2000<br>Under War Countries=%{x}<br>Population (1000 persons)=%{marker.size}<br>Area Code (FAO)=%{marker.color}<extra></extra>",
           "hovertext": [
            "Afghanistan",
            "Ghana",
            "Palestine",
            "Senegal",
            "Sudan (former)",
            "Syrian Arab Republic",
            "Yemen"
           ],
           "ids": [
            "Afghanistan",
            "Ghana",
            "Palestine",
            "Senegal",
            "Sudan (former)",
            "Syrian Arab Republic",
            "Yemen"
           ],
           "legendgroup": "",
           "marker": {
            "color": [
             2,
             81,
             299,
             195,
             206,
             212,
             249
            ],
            "coloraxis": "coloraxis",
            "size": [
             20779.953,
             19278.856,
             3224.003,
             9797.734,
             33474.409,
             16410.848,
             17409.072
            ],
            "sizemode": "area",
            "sizeref": 14.935662809917355,
            "symbol": "circle"
           },
           "mode": "markers",
           "name": "",
           "orientation": "v",
           "showlegend": false,
           "type": "scatter",
           "x": [
            "Afghanistan",
            "Ghana",
            "Palestine",
            "Senegal",
            "Sudan (former)",
            "Syrian Arab Republic",
            "Yemen"
           ],
           "xaxis": "x",
           "y": [
            20779.953,
            19278.856,
            3224.003,
            9797.734,
            33474.409,
            16410.848,
            17409.072
           ],
           "yaxis": "y"
          }
         ],
         "name": "2000"
        },
        {
         "data": [
          {
           "hovertemplate": "<b>%{hovertext}</b><br><br>Year=2001<br>Under War Countries=%{x}<br>Population (1000 persons)=%{marker.size}<br>Area Code (FAO)=%{marker.color}<extra></extra>",
           "hovertext": [
            "Afghanistan",
            "Ghana",
            "Palestine",
            "Senegal",
            "Sudan (former)",
            "Syrian Arab Republic",
            "Yemen"
           ],
           "ids": [
            "Afghanistan",
            "Ghana",
            "Palestine",
            "Senegal",
            "Sudan (former)",
            "Syrian Arab Republic",
            "Yemen"
           ],
           "legendgroup": "",
           "marker": {
            "color": [
             2,
             81,
             299,
             195,
             206,
             212,
             249
            ],
            "coloraxis": "coloraxis",
            "size": [
             21606.988,
             19756.928,
             3309.91,
             10036.104,
             34418.875,
             16766.561,
             17918.373
            ],
            "sizemode": "area",
            "sizeref": 14.935662809917355,
            "symbol": "circle"
           },
           "mode": "markers",
           "name": "",
           "orientation": "v",
           "showlegend": false,
           "type": "scatter",
           "x": [
            "Afghanistan",
            "Ghana",
            "Palestine",
            "Senegal",
            "Sudan (former)",
            "Syrian Arab Republic",
            "Yemen"
           ],
           "xaxis": "x",
           "y": [
            21606.988,
            19756.928,
            3309.91,
            10036.104,
            34418.875,
            16766.561,
            17918.373
           ],
           "yaxis": "y"
          }
         ],
         "name": "2001"
        },
        {
         "data": [
          {
           "hovertemplate": "<b>%{hovertext}</b><br><br>Year=2002<br>Under War Countries=%{x}<br>Population (1000 persons)=%{marker.size}<br>Area Code (FAO)=%{marker.color}<extra></extra>",
           "hovertext": [
            "Afghanistan",
            "Ghana",
            "Palestine",
            "Senegal",
            "Sudan (former)",
            "Syrian Arab Republic",
            "Yemen"
           ],
           "ids": [
            "Afghanistan",
            "Ghana",
            "Palestine",
            "Senegal",
            "Sudan (former)",
            "Syrian Arab Republic",
            "Yemen"
           ],
           "legendgroup": "",
           "marker": {
            "color": [
             2,
             81,
             299,
             195,
             206,
             212,
             249
            ],
            "coloraxis": "coloraxis",
            "size": [
             22600.77,
             20246.381,
             3380.164,
             10283.699,
             35393.004,
             17084.632,
             18443.691
            ],
            "sizemode": "area",
            "sizeref": 14.935662809917355,
            "symbol": "circle"
           },
           "mode": "markers",
           "name": "",
           "orientation": "v",
           "showlegend": false,
           "type": "scatter",
           "x": [
            "Afghanistan",
            "Ghana",
            "Palestine",
            "Senegal",
            "Sudan (former)",
            "Syrian Arab Republic",
            "Yemen"
           ],
           "xaxis": "x",
           "y": [
            22600.77,
            20246.381,
            3380.164,
            10283.699,
            35393.004,
            17084.632,
            18443.691
           ],
           "yaxis": "y"
          }
         ],
         "name": "2002"
        },
        {
         "data": [
          {
           "hovertemplate": "<b>%{hovertext}</b><br><br>Year=2003<br>Under War Countries=%{x}<br>Population (1000 persons)=%{marker.size}<br>Area Code (FAO)=%{marker.color}<extra></extra>",
           "hovertext": [
            "Afghanistan",
            "Ghana",
            "Palestine",
            "Senegal",
            "Sudan (former)",
            "Syrian Arab Republic",
            "Yemen"
           ],
           "ids": [
            "Afghanistan",
            "Ghana",
            "Palestine",
            "Senegal",
            "Sudan (former)",
            "Syrian Arab Republic",
            "Yemen"
           ],
           "legendgroup": "",
           "marker": {
            "color": [
             2,
             81,
             299,
             195,
             206,
             212,
             249
            ],
            "coloraxis": "coloraxis",
            "size": [
             23680.871,
             20750.299,
             3441.865,
             10541.467,
             36396.195,
             17415.214,
             18985
            ],
            "sizemode": "area",
            "sizeref": 14.935662809917355,
            "symbol": "circle"
           },
           "mode": "markers",
           "name": "",
           "orientation": "v",
           "showlegend": false,
           "type": "scatter",
           "x": [
            "Afghanistan",
            "Ghana",
            "Palestine",
            "Senegal",
            "Sudan (former)",
            "Syrian Arab Republic",
            "Yemen"
           ],
           "xaxis": "x",
           "y": [
            23680.871,
            20750.299,
            3441.865,
            10541.467,
            36396.195,
            17415.214,
            18985
           ],
           "yaxis": "y"
          }
         ],
         "name": "2003"
        },
        {
         "data": [
          {
           "hovertemplate": "<b>%{hovertext}</b><br><br>Year=2004<br>Under War Countries=%{x}<br>Population (1000 persons)=%{marker.size}<br>Area Code (FAO)=%{marker.color}<extra></extra>",
           "hovertext": [
            "Afghanistan",
            "Ghana",
            "Palestine",
            "Senegal",
            "Sudan (former)",
            "Syrian Arab Republic",
            "Yemen"
           ],
           "ids": [
            "Afghanistan",
            "Ghana",
            "Palestine",
            "Senegal",
            "Sudan (former)",
            "Syrian Arab Republic",
            "Yemen"
           ],
           "legendgroup": "",
           "marker": {
            "color": [
             2,
             81,
             299,
             195,
             206,
             212,
             249
            ],
            "coloraxis": "coloraxis",
            "size": [
             24726.684,
             21272.323,
             3505.323,
             10810.083,
             37427.544,
             17827.825,
             19540.098
            ],
            "sizemode": "area",
            "sizeref": 14.935662809917355,
            "symbol": "circle"
           },
           "mode": "markers",
           "name": "",
           "orientation": "v",
           "showlegend": false,
           "type": "scatter",
           "x": [
            "Afghanistan",
            "Ghana",
            "Palestine",
            "Senegal",
            "Sudan (former)",
            "Syrian Arab Republic",
            "Yemen"
           ],
           "xaxis": "x",
           "y": [
            24726.684,
            21272.323,
            3505.323,
            10810.083,
            37427.544,
            17827.825,
            19540.098
           ],
           "yaxis": "y"
          }
         ],
         "name": "2004"
        },
        {
         "data": [
          {
           "hovertemplate": "<b>%{hovertext}</b><br><br>Year=2005<br>Under War Countries=%{x}<br>Population (1000 persons)=%{marker.size}<br>Area Code (FAO)=%{marker.color}<extra></extra>",
           "hovertext": [
            "Afghanistan",
            "Ghana",
            "Palestine",
            "Senegal",
            "Sudan (former)",
            "Syrian Arab Republic",
            "Yemen"
           ],
           "ids": [
            "Afghanistan",
            "Ghana",
            "Palestine",
            "Senegal",
            "Sudan (former)",
            "Syrian Arab Republic",
            "Yemen"
           ],
           "legendgroup": "",
           "marker": {
            "color": [
             2,
             81,
             299,
             195,
             206,
             212,
             249
            ],
            "coloraxis": "coloraxis",
            "size": [
             25654.277,
             21814.642,
             3577.961,
             11090.116,
             38485.448,
             18361.176,
             20107.409
            ],
            "sizemode": "area",
            "sizeref": 14.935662809917355,
            "symbol": "circle"
           },
           "mode": "markers",
           "name": "",
           "orientation": "v",
           "showlegend": false,
           "type": "scatter",
           "x": [
            "Afghanistan",
            "Ghana",
            "Palestine",
            "Senegal",
            "Sudan (former)",
            "Syrian Arab Republic",
            "Yemen"
           ],
           "xaxis": "x",
           "y": [
            25654.277,
            21814.642,
            3577.961,
            11090.116,
            38485.448,
            18361.176,
            20107.409
           ],
           "yaxis": "y"
          }
         ],
         "name": "2005"
        },
        {
         "data": [
          {
           "hovertemplate": "<b>%{hovertext}</b><br><br>Year=2006<br>Under War Countries=%{x}<br>Population (1000 persons)=%{marker.size}<br>Area Code (FAO)=%{marker.color}<extra></extra>",
           "hovertext": [
            "Afghanistan",
            "Ghana",
            "Palestine",
            "Senegal",
            "Sudan (former)",
            "Syrian Arab Republic",
            "Yemen"
           ],
           "ids": [
            "Afghanistan",
            "Ghana",
            "Palestine",
            "Senegal",
            "Sudan (former)",
            "Syrian Arab Republic",
            "Yemen"
           ],
           "legendgroup": "",
           "marker": {
            "color": [
             2,
             81,
             299,
             195,
             206,
             212,
             249
            ],
            "coloraxis": "coloraxis",
            "size": [
             26433.049,
             22379.055,
             3662.422,
             11382.268,
             39569.229,
             19059.258,
             20687.646
            ],
            "sizemode": "area",
            "sizeref": 14.935662809917355,
            "symbol": "circle"
           },
           "mode": "markers",
           "name": "",
           "orientation": "v",
           "showlegend": false,
           "type": "scatter",
           "x": [
            "Afghanistan",
            "Ghana",
            "Palestine",
            "Senegal",
            "Sudan (former)",
            "Syrian Arab Republic",
            "Yemen"
           ],
           "xaxis": "x",
           "y": [
            26433.049,
            22379.055,
            3662.422,
            11382.268,
            39569.229,
            19059.258,
            20687.646
           ],
           "yaxis": "y"
          }
         ],
         "name": "2006"
        },
        {
         "data": [
          {
           "hovertemplate": "<b>%{hovertext}</b><br><br>Year=2007<br>Under War Countries=%{x}<br>Population (1000 persons)=%{marker.size}<br>Area Code (FAO)=%{marker.color}<extra></extra>",
           "hovertext": [
            "Afghanistan",
            "Ghana",
            "Palestine",
            "Senegal",
            "Sudan (former)",
            "Syrian Arab Republic",
            "Yemen"
           ],
           "ids": [
            "Afghanistan",
            "Ghana",
            "Palestine",
            "Senegal",
            "Sudan (former)",
            "Syrian Arab Republic",
            "Yemen"
           ],
           "legendgroup": "",
           "marker": {
            "color": [
             2,
             81,
             299,
             195,
             206,
             212,
             249
            ],
            "coloraxis": "coloraxis",
            "size": [
             27100.536,
             22963.946,
             3756.46,
             11687.08,
             40675.76,
             19878.254,
             21282.515
            ],
            "sizemode": "area",
            "sizeref": 14.935662809917355,
            "symbol": "circle"
           },
           "mode": "markers",
           "name": "",
           "orientation": "v",
           "showlegend": false,
           "type": "scatter",
           "x": [
            "Afghanistan",
            "Ghana",
            "Palestine",
            "Senegal",
            "Sudan (former)",
            "Syrian Arab Republic",
            "Yemen"
           ],
           "xaxis": "x",
           "y": [
            27100.536,
            22963.946,
            3756.46,
            11687.08,
            40675.76,
            19878.254,
            21282.515
           ],
           "yaxis": "y"
          }
         ],
         "name": "2007"
        },
        {
         "data": [
          {
           "hovertemplate": "<b>%{hovertext}</b><br><br>Year=2008<br>Under War Countries=%{x}<br>Population (1000 persons)=%{marker.size}<br>Area Code (FAO)=%{marker.color}<extra></extra>",
           "hovertext": [
            "Afghanistan",
            "Ghana",
            "Palestine",
            "Senegal",
            "Sudan (former)",
            "Syrian Arab Republic",
            "Yemen"
           ],
           "ids": [
            "Afghanistan",
            "Ghana",
            "Palestine",
            "Senegal",
            "Sudan (former)",
            "Syrian Arab Republic",
            "Yemen"
           ],
           "legendgroup": "",
           "marker": {
            "color": [
             2,
             81,
             299,
             195,
             206,
             212,
             249
            ],
            "coloraxis": "coloraxis",
            "size": [
             27722.276,
             23563.825,
             3856.679,
             12004.701,
             41797.776,
             20664.038,
             21892.146
            ],
            "sizemode": "area",
            "sizeref": 14.935662809917355,
            "symbol": "circle"
           },
           "mode": "markers",
           "name": "",
           "orientation": "v",
           "showlegend": false,
           "type": "scatter",
           "x": [
            "Afghanistan",
            "Ghana",
            "Palestine",
            "Senegal",
            "Sudan (former)",
            "Syrian Arab Republic",
            "Yemen"
           ],
           "xaxis": "x",
           "y": [
            27722.276,
            23563.825,
            3856.679,
            12004.701,
            41797.776,
            20664.038,
            21892.146
           ],
           "yaxis": "y"
          }
         ],
         "name": "2008"
        },
        {
         "data": [
          {
           "hovertemplate": "<b>%{hovertext}</b><br><br>Year=2009<br>Under War Countries=%{x}<br>Population (1000 persons)=%{marker.size}<br>Area Code (FAO)=%{marker.color}<extra></extra>",
           "hovertext": [
            "Afghanistan",
            "Ghana",
            "Palestine",
            "Senegal",
            "Sudan (former)",
            "Syrian Arab Republic",
            "Yemen"
           ],
           "ids": [
            "Afghanistan",
            "Ghana",
            "Palestine",
            "Senegal",
            "Sudan (former)",
            "Syrian Arab Republic",
            "Yemen"
           ],
           "legendgroup": "",
           "marker": {
            "color": [
             2,
             81,
             299,
             195,
             206,
             212,
             249
            ],
            "coloraxis": "coloraxis",
            "size": [
             28394.813,
             24170.94,
             3957.67,
             12335.084,
             42926.047,
             21205.873,
             22516.46
            ],
            "sizemode": "area",
            "sizeref": 14.935662809917355,
            "symbol": "circle"
           },
           "mode": "markers",
           "name": "",
           "orientation": "v",
           "showlegend": false,
           "type": "scatter",
           "x": [
            "Afghanistan",
            "Ghana",
            "Palestine",
            "Senegal",
            "Sudan (former)",
            "Syrian Arab Republic",
            "Yemen"
           ],
           "xaxis": "x",
           "y": [
            28394.813,
            24170.94,
            3957.67,
            12335.084,
            42926.047,
            21205.873,
            22516.46
           ],
           "yaxis": "y"
          }
         ],
         "name": "2009"
        },
        {
         "data": [
          {
           "hovertemplate": "<b>%{hovertext}</b><br><br>Year=2010<br>Under War Countries=%{x}<br>Population (1000 persons)=%{marker.size}<br>Area Code (FAO)=%{marker.color}<extra></extra>",
           "hovertext": [
            "Afghanistan",
            "Ghana",
            "Palestine",
            "Senegal",
            "Sudan (former)",
            "Syrian Arab Republic",
            "Yemen"
           ],
           "ids": [
            "Afghanistan",
            "Ghana",
            "Palestine",
            "Senegal",
            "Sudan (former)",
            "Syrian Arab Republic",
            "Yemen"
           ],
           "legendgroup": "",
           "marker": {
            "color": [
             2,
             81,
             299,
             195,
             206,
             212,
             249
            ],
            "coloraxis": "coloraxis",
            "size": [
             29185.507,
             24779.619,
             4055.631,
             12678.148,
             44053.377,
             21362.529,
             23154.855
            ],
            "sizemode": "area",
            "sizeref": 14.935662809917355,
            "symbol": "circle"
           },
           "mode": "markers",
           "name": "",
           "orientation": "v",
           "showlegend": false,
           "type": "scatter",
           "x": [
            "Afghanistan",
            "Ghana",
            "Palestine",
            "Senegal",
            "Sudan (former)",
            "Syrian Arab Republic",
            "Yemen"
           ],
           "xaxis": "x",
           "y": [
            29185.507,
            24779.619,
            4055.631,
            12678.148,
            44053.377,
            21362.529,
            23154.855
           ],
           "yaxis": "y"
          }
         ],
         "name": "2010"
        },
        {
         "data": [
          {
           "hovertemplate": "<b>%{hovertext}</b><br><br>Year=2011<br>Under War Countries=%{x}<br>Population (1000 persons)=%{marker.size}<br>Area Code (FAO)=%{marker.color}<extra></extra>",
           "hovertext": [
            "Afghanistan",
            "Ghana",
            "Palestine",
            "Senegal",
            "Sudan (former)",
            "Syrian Arab Republic",
            "Yemen"
           ],
           "ids": [
            "Afghanistan",
            "Ghana",
            "Palestine",
            "Senegal",
            "Sudan (former)",
            "Syrian Arab Republic",
            "Yemen"
           ],
           "legendgroup": "",
           "marker": {
            "color": [
             2,
             81,
             299,
             195,
             206,
             212,
             249
            ],
            "coloraxis": "coloraxis",
            "size": [
             30117.413,
             25387.712,
             4149.649,
             13033.809,
             45180.38,
             21081.815,
             23807.588
            ],
            "sizemode": "area",
            "sizeref": 14.935662809917355,
            "symbol": "circle"
           },
           "mode": "markers",
           "name": "",
           "orientation": "v",
           "showlegend": false,
           "type": "scatter",
           "x": [
            "Afghanistan",
            "Ghana",
            "Palestine",
            "Senegal",
            "Sudan (former)",
            "Syrian Arab Republic",
            "Yemen"
           ],
           "xaxis": "x",
           "y": [
            30117.413,
            25387.712,
            4149.649,
            13033.809,
            45180.38,
            21081.815,
            23807.588
           ],
           "yaxis": "y"
          }
         ],
         "name": "2011"
        },
        {
         "data": [
          {
           "hovertemplate": "<b>%{hovertext}</b><br><br>Year=2012<br>Under War Countries=%{x}<br>Population (1000 persons)=%{marker.size}<br>Area Code (FAO)=%{marker.color}<extra></extra>",
           "hovertext": [
            "Afghanistan",
            "Ghana",
            "Palestine",
            "Senegal",
            "Sudan",
            "Syrian Arab Republic",
            "Yemen"
           ],
           "ids": [
            "Afghanistan",
            "Ghana",
            "Palestine",
            "Senegal",
            "Sudan",
            "Syrian Arab Republic",
            "Yemen"
           ],
           "legendgroup": "",
           "marker": {
            "color": [
             2,
             81,
             299,
             195,
             276,
             212,
             249
            ],
            "coloraxis": "coloraxis",
            "size": [
             31161.376,
             25996.45,
             4241.573,
             13401.992,
             36193.783,
             20438.856,
             24473.178
            ],
            "sizemode": "area",
            "sizeref": 14.935662809917355,
            "symbol": "circle"
           },
           "mode": "markers",
           "name": "",
           "orientation": "v",
           "showlegend": false,
           "type": "scatter",
           "x": [
            "Afghanistan",
            "Ghana",
            "Palestine",
            "Senegal",
            "Sudan",
            "Syrian Arab Republic",
            "Yemen"
           ],
           "xaxis": "x",
           "y": [
            31161.376,
            25996.45,
            4241.573,
            13401.992,
            36193.783,
            20438.856,
            24473.178
           ],
           "yaxis": "y"
          }
         ],
         "name": "2012"
        },
        {
         "data": [
          {
           "hovertemplate": "<b>%{hovertext}</b><br><br>Year=2013<br>Under War Countries=%{x}<br>Population (1000 persons)=%{marker.size}<br>Area Code (FAO)=%{marker.color}<extra></extra>",
           "hovertext": [
            "Afghanistan",
            "Ghana",
            "Palestine",
            "Senegal",
            "Sudan",
            "Syrian Arab Republic",
            "Yemen"
           ],
           "ids": [
            "Afghanistan",
            "Ghana",
            "Palestine",
            "Senegal",
            "Sudan",
            "Syrian Arab Republic",
            "Yemen"
           ],
           "legendgroup": "",
           "marker": {
            "color": [
             2,
             81,
             299,
             195,
             276,
             212,
             249
            ],
            "coloraxis": "coloraxis",
            "size": [
             32269.589,
             26607.645,
             4333.523,
             13782.424,
             37072.55,
             19578.461,
             25147.109
            ],
            "sizemode": "area",
            "sizeref": 14.935662809917355,
            "symbol": "circle"
           },
           "mode": "markers",
           "name": "",
           "orientation": "v",
           "showlegend": false,
           "type": "scatter",
           "x": [
            "Afghanistan",
            "Ghana",
            "Palestine",
            "Senegal",
            "Sudan",
            "Syrian Arab Republic",
            "Yemen"
           ],
           "xaxis": "x",
           "y": [
            32269.589,
            26607.645,
            4333.523,
            13782.424,
            37072.55,
            19578.461,
            25147.109
           ],
           "yaxis": "y"
          }
         ],
         "name": "2013"
        },
        {
         "data": [
          {
           "hovertemplate": "<b>%{hovertext}</b><br><br>Year=2014<br>Under War Countries=%{x}<br>Population (1000 persons)=%{marker.size}<br>Area Code (FAO)=%{marker.color}<extra></extra>",
           "hovertext": [
            "Afghanistan",
            "Ghana",
            "Palestine",
            "Senegal",
            "Sudan",
            "Syrian Arab Republic",
            "Yemen"
           ],
           "ids": [
            "Afghanistan",
            "Ghana",
            "Palestine",
            "Senegal",
            "Sudan",
            "Syrian Arab Republic",
            "Yemen"
           ],
           "legendgroup": "",
           "marker": {
            "color": [
             2,
             81,
             299,
             195,
             276,
             212,
             249
            ],
            "coloraxis": "coloraxis",
            "size": [
             33370.794,
             27224.473,
             4428.639,
             14174.739,
             37977.655,
             18710.711,
             25823.485
            ],
            "sizemode": "area",
            "sizeref": 14.935662809917355,
            "symbol": "circle"
           },
           "mode": "markers",
           "name": "",
           "orientation": "v",
           "showlegend": false,
           "type": "scatter",
           "x": [
            "Afghanistan",
            "Ghana",
            "Palestine",
            "Senegal",
            "Sudan",
            "Syrian Arab Republic",
            "Yemen"
           ],
           "xaxis": "x",
           "y": [
            33370.794,
            27224.473,
            4428.639,
            14174.739,
            37977.655,
            18710.711,
            25823.485
           ],
           "yaxis": "y"
          }
         ],
         "name": "2014"
        },
        {
         "data": [
          {
           "hovertemplate": "<b>%{hovertext}</b><br><br>Year=2015<br>Under War Countries=%{x}<br>Population (1000 persons)=%{marker.size}<br>Area Code (FAO)=%{marker.color}<extra></extra>",
           "hovertext": [
            "Afghanistan",
            "Ghana",
            "Palestine",
            "Senegal",
            "Sudan",
            "Syrian Arab Republic",
            "Yemen"
           ],
           "ids": [
            "Afghanistan",
            "Ghana",
            "Palestine",
            "Senegal",
            "Sudan",
            "Syrian Arab Republic",
            "Yemen"
           ],
           "legendgroup": "",
           "marker": {
            "color": [
             2,
             81,
             299,
             195,
             276,
             212,
             249
            ],
            "coloraxis": "coloraxis",
            "size": [
             34413.603,
             27849.205,
             4529.166,
             14578.459,
             38902.95,
             17997.408,
             26497.889
            ],
            "sizemode": "area",
            "sizeref": 14.935662809917355,
            "symbol": "circle"
           },
           "mode": "markers",
           "name": "",
           "orientation": "v",
           "showlegend": false,
           "type": "scatter",
           "x": [
            "Afghanistan",
            "Ghana",
            "Palestine",
            "Senegal",
            "Sudan",
            "Syrian Arab Republic",
            "Yemen"
           ],
           "xaxis": "x",
           "y": [
            34413.603,
            27849.205,
            4529.166,
            14578.459,
            38902.95,
            17997.408,
            26497.889
           ],
           "yaxis": "y"
          }
         ],
         "name": "2015"
        },
        {
         "data": [
          {
           "hovertemplate": "<b>%{hovertext}</b><br><br>Year=2016<br>Under War Countries=%{x}<br>Population (1000 persons)=%{marker.size}<br>Area Code (FAO)=%{marker.color}<extra></extra>",
           "hovertext": [
            "Afghanistan",
            "Ghana",
            "Palestine",
            "Senegal",
            "Sudan",
            "Syrian Arab Republic",
            "Yemen"
           ],
           "ids": [
            "Afghanistan",
            "Ghana",
            "Palestine",
            "Senegal",
            "Sudan",
            "Syrian Arab Republic",
            "Yemen"
           ],
           "legendgroup": "",
           "marker": {
            "color": [
             2,
             81,
             299,
             195,
             276,
             212,
             249
            ],
            "coloraxis": "coloraxis",
            "size": [
             35383.032,
             28481.945,
             4635.654,
             14993.519,
             39847.439,
             17465.575,
             27168.208
            ],
            "sizemode": "area",
            "sizeref": 14.935662809917355,
            "symbol": "circle"
           },
           "mode": "markers",
           "name": "",
           "orientation": "v",
           "showlegend": false,
           "type": "scatter",
           "x": [
            "Afghanistan",
            "Ghana",
            "Palestine",
            "Senegal",
            "Sudan",
            "Syrian Arab Republic",
            "Yemen"
           ],
           "xaxis": "x",
           "y": [
            35383.032,
            28481.945,
            4635.654,
            14993.519,
            39847.439,
            17465.575,
            27168.208
           ],
           "yaxis": "y"
          }
         ],
         "name": "2016"
        },
        {
         "data": [
          {
           "hovertemplate": "<b>%{hovertext}</b><br><br>Year=2017<br>Under War Countries=%{x}<br>Population (1000 persons)=%{marker.size}<br>Area Code (FAO)=%{marker.color}<extra></extra>",
           "hovertext": [
            "Afghanistan",
            "Ghana",
            "Palestine",
            "Senegal",
            "Sudan",
            "Syrian Arab Republic",
            "Yemen"
           ],
           "ids": [
            "Afghanistan",
            "Ghana",
            "Palestine",
            "Senegal",
            "Sudan",
            "Syrian Arab Republic",
            "Yemen"
           ],
           "legendgroup": "",
           "marker": {
            "color": [
             2,
             81,
             299,
             195,
             276,
             212,
             249
            ],
            "coloraxis": "coloraxis",
            "size": [
             36296.113,
             29121.465,
             4747.227,
             15419.355,
             40813.397,
             17095.678,
             27834.819
            ],
            "sizemode": "area",
            "sizeref": 14.935662809917355,
            "symbol": "circle"
           },
           "mode": "markers",
           "name": "",
           "orientation": "v",
           "showlegend": false,
           "type": "scatter",
           "x": [
            "Afghanistan",
            "Ghana",
            "Palestine",
            "Senegal",
            "Sudan",
            "Syrian Arab Republic",
            "Yemen"
           ],
           "xaxis": "x",
           "y": [
            36296.113,
            29121.465,
            4747.227,
            15419.355,
            40813.397,
            17095.678,
            27834.819
           ],
           "yaxis": "y"
          }
         ],
         "name": "2017"
        },
        {
         "data": [
          {
           "hovertemplate": "<b>%{hovertext}</b><br><br>Year=2018<br>Under War Countries=%{x}<br>Population (1000 persons)=%{marker.size}<br>Area Code (FAO)=%{marker.color}<extra></extra>",
           "hovertext": [
            "Afghanistan",
            "Ghana",
            "Palestine",
            "Senegal",
            "Sudan",
            "Syrian Arab Republic",
            "Yemen"
           ],
           "ids": [
            "Afghanistan",
            "Ghana",
            "Palestine",
            "Senegal",
            "Sudan",
            "Syrian Arab Republic",
            "Yemen"
           ],
           "legendgroup": "",
           "marker": {
            "color": [
             2,
             81,
             299,
             195,
             276,
             212,
             249
            ],
            "coloraxis": "coloraxis",
            "size": [
             37171.921,
             29767.102,
             4862.979,
             15854.323,
             41801.533,
             16945.057,
             28498.683
            ],
            "sizemode": "area",
            "sizeref": 14.935662809917355,
            "symbol": "circle"
           },
           "mode": "markers",
           "name": "",
           "orientation": "v",
           "showlegend": false,
           "type": "scatter",
           "x": [
            "Afghanistan",
            "Ghana",
            "Palestine",
            "Senegal",
            "Sudan",
            "Syrian Arab Republic",
            "Yemen"
           ],
           "xaxis": "x",
           "y": [
            37171.921,
            29767.102,
            4862.979,
            15854.323,
            41801.533,
            16945.057,
            28498.683
           ],
           "yaxis": "y"
          }
         ],
         "name": "2018"
        }
       ],
       "layout": {
        "coloraxis": {
         "colorbar": {
          "title": {
           "text": "Area Code (FAO)"
          }
         },
         "colorscale": [
          [
           0,
           "#0d0887"
          ],
          [
           0.1111111111111111,
           "#46039f"
          ],
          [
           0.2222222222222222,
           "#7201a8"
          ],
          [
           0.3333333333333333,
           "#9c179e"
          ],
          [
           0.4444444444444444,
           "#bd3786"
          ],
          [
           0.5555555555555556,
           "#d8576b"
          ],
          [
           0.6666666666666666,
           "#ed7953"
          ],
          [
           0.7777777777777778,
           "#fb9f3a"
          ],
          [
           0.8888888888888888,
           "#fdca26"
          ],
          [
           1,
           "#f0f921"
          ]
         ]
        },
        "legend": {
         "itemsizing": "constant",
         "tracegroupgap": 0
        },
        "margin": {
         "t": 60
        },
        "sliders": [
         {
          "active": 0,
          "currentvalue": {
           "prefix": "Year="
          },
          "len": 0.9,
          "pad": {
           "b": 10,
           "t": 60
          },
          "steps": [
           {
            "args": [
             [
              "1950"
             ],
             {
              "frame": {
               "duration": 0,
               "redraw": false
              },
              "fromcurrent": true,
              "mode": "immediate",
              "transition": {
               "duration": 0,
               "easing": "linear"
              }
             }
            ],
            "label": "1950",
            "method": "animate"
           },
           {
            "args": [
             [
              "1951"
             ],
             {
              "frame": {
               "duration": 0,
               "redraw": false
              },
              "fromcurrent": true,
              "mode": "immediate",
              "transition": {
               "duration": 0,
               "easing": "linear"
              }
             }
            ],
            "label": "1951",
            "method": "animate"
           },
           {
            "args": [
             [
              "1952"
             ],
             {
              "frame": {
               "duration": 0,
               "redraw": false
              },
              "fromcurrent": true,
              "mode": "immediate",
              "transition": {
               "duration": 0,
               "easing": "linear"
              }
             }
            ],
            "label": "1952",
            "method": "animate"
           },
           {
            "args": [
             [
              "1953"
             ],
             {
              "frame": {
               "duration": 0,
               "redraw": false
              },
              "fromcurrent": true,
              "mode": "immediate",
              "transition": {
               "duration": 0,
               "easing": "linear"
              }
             }
            ],
            "label": "1953",
            "method": "animate"
           },
           {
            "args": [
             [
              "1954"
             ],
             {
              "frame": {
               "duration": 0,
               "redraw": false
              },
              "fromcurrent": true,
              "mode": "immediate",
              "transition": {
               "duration": 0,
               "easing": "linear"
              }
             }
            ],
            "label": "1954",
            "method": "animate"
           },
           {
            "args": [
             [
              "1955"
             ],
             {
              "frame": {
               "duration": 0,
               "redraw": false
              },
              "fromcurrent": true,
              "mode": "immediate",
              "transition": {
               "duration": 0,
               "easing": "linear"
              }
             }
            ],
            "label": "1955",
            "method": "animate"
           },
           {
            "args": [
             [
              "1956"
             ],
             {
              "frame": {
               "duration": 0,
               "redraw": false
              },
              "fromcurrent": true,
              "mode": "immediate",
              "transition": {
               "duration": 0,
               "easing": "linear"
              }
             }
            ],
            "label": "1956",
            "method": "animate"
           },
           {
            "args": [
             [
              "1957"
             ],
             {
              "frame": {
               "duration": 0,
               "redraw": false
              },
              "fromcurrent": true,
              "mode": "immediate",
              "transition": {
               "duration": 0,
               "easing": "linear"
              }
             }
            ],
            "label": "1957",
            "method": "animate"
           },
           {
            "args": [
             [
              "1958"
             ],
             {
              "frame": {
               "duration": 0,
               "redraw": false
              },
              "fromcurrent": true,
              "mode": "immediate",
              "transition": {
               "duration": 0,
               "easing": "linear"
              }
             }
            ],
            "label": "1958",
            "method": "animate"
           },
           {
            "args": [
             [
              "1959"
             ],
             {
              "frame": {
               "duration": 0,
               "redraw": false
              },
              "fromcurrent": true,
              "mode": "immediate",
              "transition": {
               "duration": 0,
               "easing": "linear"
              }
             }
            ],
            "label": "1959",
            "method": "animate"
           },
           {
            "args": [
             [
              "1960"
             ],
             {
              "frame": {
               "duration": 0,
               "redraw": false
              },
              "fromcurrent": true,
              "mode": "immediate",
              "transition": {
               "duration": 0,
               "easing": "linear"
              }
             }
            ],
            "label": "1960",
            "method": "animate"
           },
           {
            "args": [
             [
              "1961"
             ],
             {
              "frame": {
               "duration": 0,
               "redraw": false
              },
              "fromcurrent": true,
              "mode": "immediate",
              "transition": {
               "duration": 0,
               "easing": "linear"
              }
             }
            ],
            "label": "1961",
            "method": "animate"
           },
           {
            "args": [
             [
              "1962"
             ],
             {
              "frame": {
               "duration": 0,
               "redraw": false
              },
              "fromcurrent": true,
              "mode": "immediate",
              "transition": {
               "duration": 0,
               "easing": "linear"
              }
             }
            ],
            "label": "1962",
            "method": "animate"
           },
           {
            "args": [
             [
              "1963"
             ],
             {
              "frame": {
               "duration": 0,
               "redraw": false
              },
              "fromcurrent": true,
              "mode": "immediate",
              "transition": {
               "duration": 0,
               "easing": "linear"
              }
             }
            ],
            "label": "1963",
            "method": "animate"
           },
           {
            "args": [
             [
              "1964"
             ],
             {
              "frame": {
               "duration": 0,
               "redraw": false
              },
              "fromcurrent": true,
              "mode": "immediate",
              "transition": {
               "duration": 0,
               "easing": "linear"
              }
             }
            ],
            "label": "1964",
            "method": "animate"
           },
           {
            "args": [
             [
              "1965"
             ],
             {
              "frame": {
               "duration": 0,
               "redraw": false
              },
              "fromcurrent": true,
              "mode": "immediate",
              "transition": {
               "duration": 0,
               "easing": "linear"
              }
             }
            ],
            "label": "1965",
            "method": "animate"
           },
           {
            "args": [
             [
              "1966"
             ],
             {
              "frame": {
               "duration": 0,
               "redraw": false
              },
              "fromcurrent": true,
              "mode": "immediate",
              "transition": {
               "duration": 0,
               "easing": "linear"
              }
             }
            ],
            "label": "1966",
            "method": "animate"
           },
           {
            "args": [
             [
              "1967"
             ],
             {
              "frame": {
               "duration": 0,
               "redraw": false
              },
              "fromcurrent": true,
              "mode": "immediate",
              "transition": {
               "duration": 0,
               "easing": "linear"
              }
             }
            ],
            "label": "1967",
            "method": "animate"
           },
           {
            "args": [
             [
              "1968"
             ],
             {
              "frame": {
               "duration": 0,
               "redraw": false
              },
              "fromcurrent": true,
              "mode": "immediate",
              "transition": {
               "duration": 0,
               "easing": "linear"
              }
             }
            ],
            "label": "1968",
            "method": "animate"
           },
           {
            "args": [
             [
              "1969"
             ],
             {
              "frame": {
               "duration": 0,
               "redraw": false
              },
              "fromcurrent": true,
              "mode": "immediate",
              "transition": {
               "duration": 0,
               "easing": "linear"
              }
             }
            ],
            "label": "1969",
            "method": "animate"
           },
           {
            "args": [
             [
              "1970"
             ],
             {
              "frame": {
               "duration": 0,
               "redraw": false
              },
              "fromcurrent": true,
              "mode": "immediate",
              "transition": {
               "duration": 0,
               "easing": "linear"
              }
             }
            ],
            "label": "1970",
            "method": "animate"
           },
           {
            "args": [
             [
              "1971"
             ],
             {
              "frame": {
               "duration": 0,
               "redraw": false
              },
              "fromcurrent": true,
              "mode": "immediate",
              "transition": {
               "duration": 0,
               "easing": "linear"
              }
             }
            ],
            "label": "1971",
            "method": "animate"
           },
           {
            "args": [
             [
              "1972"
             ],
             {
              "frame": {
               "duration": 0,
               "redraw": false
              },
              "fromcurrent": true,
              "mode": "immediate",
              "transition": {
               "duration": 0,
               "easing": "linear"
              }
             }
            ],
            "label": "1972",
            "method": "animate"
           },
           {
            "args": [
             [
              "1973"
             ],
             {
              "frame": {
               "duration": 0,
               "redraw": false
              },
              "fromcurrent": true,
              "mode": "immediate",
              "transition": {
               "duration": 0,
               "easing": "linear"
              }
             }
            ],
            "label": "1973",
            "method": "animate"
           },
           {
            "args": [
             [
              "1974"
             ],
             {
              "frame": {
               "duration": 0,
               "redraw": false
              },
              "fromcurrent": true,
              "mode": "immediate",
              "transition": {
               "duration": 0,
               "easing": "linear"
              }
             }
            ],
            "label": "1974",
            "method": "animate"
           },
           {
            "args": [
             [
              "1975"
             ],
             {
              "frame": {
               "duration": 0,
               "redraw": false
              },
              "fromcurrent": true,
              "mode": "immediate",
              "transition": {
               "duration": 0,
               "easing": "linear"
              }
             }
            ],
            "label": "1975",
            "method": "animate"
           },
           {
            "args": [
             [
              "1976"
             ],
             {
              "frame": {
               "duration": 0,
               "redraw": false
              },
              "fromcurrent": true,
              "mode": "immediate",
              "transition": {
               "duration": 0,
               "easing": "linear"
              }
             }
            ],
            "label": "1976",
            "method": "animate"
           },
           {
            "args": [
             [
              "1977"
             ],
             {
              "frame": {
               "duration": 0,
               "redraw": false
              },
              "fromcurrent": true,
              "mode": "immediate",
              "transition": {
               "duration": 0,
               "easing": "linear"
              }
             }
            ],
            "label": "1977",
            "method": "animate"
           },
           {
            "args": [
             [
              "1978"
             ],
             {
              "frame": {
               "duration": 0,
               "redraw": false
              },
              "fromcurrent": true,
              "mode": "immediate",
              "transition": {
               "duration": 0,
               "easing": "linear"
              }
             }
            ],
            "label": "1978",
            "method": "animate"
           },
           {
            "args": [
             [
              "1979"
             ],
             {
              "frame": {
               "duration": 0,
               "redraw": false
              },
              "fromcurrent": true,
              "mode": "immediate",
              "transition": {
               "duration": 0,
               "easing": "linear"
              }
             }
            ],
            "label": "1979",
            "method": "animate"
           },
           {
            "args": [
             [
              "1980"
             ],
             {
              "frame": {
               "duration": 0,
               "redraw": false
              },
              "fromcurrent": true,
              "mode": "immediate",
              "transition": {
               "duration": 0,
               "easing": "linear"
              }
             }
            ],
            "label": "1980",
            "method": "animate"
           },
           {
            "args": [
             [
              "1981"
             ],
             {
              "frame": {
               "duration": 0,
               "redraw": false
              },
              "fromcurrent": true,
              "mode": "immediate",
              "transition": {
               "duration": 0,
               "easing": "linear"
              }
             }
            ],
            "label": "1981",
            "method": "animate"
           },
           {
            "args": [
             [
              "1982"
             ],
             {
              "frame": {
               "duration": 0,
               "redraw": false
              },
              "fromcurrent": true,
              "mode": "immediate",
              "transition": {
               "duration": 0,
               "easing": "linear"
              }
             }
            ],
            "label": "1982",
            "method": "animate"
           },
           {
            "args": [
             [
              "1983"
             ],
             {
              "frame": {
               "duration": 0,
               "redraw": false
              },
              "fromcurrent": true,
              "mode": "immediate",
              "transition": {
               "duration": 0,
               "easing": "linear"
              }
             }
            ],
            "label": "1983",
            "method": "animate"
           },
           {
            "args": [
             [
              "1984"
             ],
             {
              "frame": {
               "duration": 0,
               "redraw": false
              },
              "fromcurrent": true,
              "mode": "immediate",
              "transition": {
               "duration": 0,
               "easing": "linear"
              }
             }
            ],
            "label": "1984",
            "method": "animate"
           },
           {
            "args": [
             [
              "1985"
             ],
             {
              "frame": {
               "duration": 0,
               "redraw": false
              },
              "fromcurrent": true,
              "mode": "immediate",
              "transition": {
               "duration": 0,
               "easing": "linear"
              }
             }
            ],
            "label": "1985",
            "method": "animate"
           },
           {
            "args": [
             [
              "1986"
             ],
             {
              "frame": {
               "duration": 0,
               "redraw": false
              },
              "fromcurrent": true,
              "mode": "immediate",
              "transition": {
               "duration": 0,
               "easing": "linear"
              }
             }
            ],
            "label": "1986",
            "method": "animate"
           },
           {
            "args": [
             [
              "1987"
             ],
             {
              "frame": {
               "duration": 0,
               "redraw": false
              },
              "fromcurrent": true,
              "mode": "immediate",
              "transition": {
               "duration": 0,
               "easing": "linear"
              }
             }
            ],
            "label": "1987",
            "method": "animate"
           },
           {
            "args": [
             [
              "1988"
             ],
             {
              "frame": {
               "duration": 0,
               "redraw": false
              },
              "fromcurrent": true,
              "mode": "immediate",
              "transition": {
               "duration": 0,
               "easing": "linear"
              }
             }
            ],
            "label": "1988",
            "method": "animate"
           },
           {
            "args": [
             [
              "1989"
             ],
             {
              "frame": {
               "duration": 0,
               "redraw": false
              },
              "fromcurrent": true,
              "mode": "immediate",
              "transition": {
               "duration": 0,
               "easing": "linear"
              }
             }
            ],
            "label": "1989",
            "method": "animate"
           },
           {
            "args": [
             [
              "1990"
             ],
             {
              "frame": {
               "duration": 0,
               "redraw": false
              },
              "fromcurrent": true,
              "mode": "immediate",
              "transition": {
               "duration": 0,
               "easing": "linear"
              }
             }
            ],
            "label": "1990",
            "method": "animate"
           },
           {
            "args": [
             [
              "1991"
             ],
             {
              "frame": {
               "duration": 0,
               "redraw": false
              },
              "fromcurrent": true,
              "mode": "immediate",
              "transition": {
               "duration": 0,
               "easing": "linear"
              }
             }
            ],
            "label": "1991",
            "method": "animate"
           },
           {
            "args": [
             [
              "1992"
             ],
             {
              "frame": {
               "duration": 0,
               "redraw": false
              },
              "fromcurrent": true,
              "mode": "immediate",
              "transition": {
               "duration": 0,
               "easing": "linear"
              }
             }
            ],
            "label": "1992",
            "method": "animate"
           },
           {
            "args": [
             [
              "1993"
             ],
             {
              "frame": {
               "duration": 0,
               "redraw": false
              },
              "fromcurrent": true,
              "mode": "immediate",
              "transition": {
               "duration": 0,
               "easing": "linear"
              }
             }
            ],
            "label": "1993",
            "method": "animate"
           },
           {
            "args": [
             [
              "1994"
             ],
             {
              "frame": {
               "duration": 0,
               "redraw": false
              },
              "fromcurrent": true,
              "mode": "immediate",
              "transition": {
               "duration": 0,
               "easing": "linear"
              }
             }
            ],
            "label": "1994",
            "method": "animate"
           },
           {
            "args": [
             [
              "1995"
             ],
             {
              "frame": {
               "duration": 0,
               "redraw": false
              },
              "fromcurrent": true,
              "mode": "immediate",
              "transition": {
               "duration": 0,
               "easing": "linear"
              }
             }
            ],
            "label": "1995",
            "method": "animate"
           },
           {
            "args": [
             [
              "1996"
             ],
             {
              "frame": {
               "duration": 0,
               "redraw": false
              },
              "fromcurrent": true,
              "mode": "immediate",
              "transition": {
               "duration": 0,
               "easing": "linear"
              }
             }
            ],
            "label": "1996",
            "method": "animate"
           },
           {
            "args": [
             [
              "1997"
             ],
             {
              "frame": {
               "duration": 0,
               "redraw": false
              },
              "fromcurrent": true,
              "mode": "immediate",
              "transition": {
               "duration": 0,
               "easing": "linear"
              }
             }
            ],
            "label": "1997",
            "method": "animate"
           },
           {
            "args": [
             [
              "1998"
             ],
             {
              "frame": {
               "duration": 0,
               "redraw": false
              },
              "fromcurrent": true,
              "mode": "immediate",
              "transition": {
               "duration": 0,
               "easing": "linear"
              }
             }
            ],
            "label": "1998",
            "method": "animate"
           },
           {
            "args": [
             [
              "1999"
             ],
             {
              "frame": {
               "duration": 0,
               "redraw": false
              },
              "fromcurrent": true,
              "mode": "immediate",
              "transition": {
               "duration": 0,
               "easing": "linear"
              }
             }
            ],
            "label": "1999",
            "method": "animate"
           },
           {
            "args": [
             [
              "2000"
             ],
             {
              "frame": {
               "duration": 0,
               "redraw": false
              },
              "fromcurrent": true,
              "mode": "immediate",
              "transition": {
               "duration": 0,
               "easing": "linear"
              }
             }
            ],
            "label": "2000",
            "method": "animate"
           },
           {
            "args": [
             [
              "2001"
             ],
             {
              "frame": {
               "duration": 0,
               "redraw": false
              },
              "fromcurrent": true,
              "mode": "immediate",
              "transition": {
               "duration": 0,
               "easing": "linear"
              }
             }
            ],
            "label": "2001",
            "method": "animate"
           },
           {
            "args": [
             [
              "2002"
             ],
             {
              "frame": {
               "duration": 0,
               "redraw": false
              },
              "fromcurrent": true,
              "mode": "immediate",
              "transition": {
               "duration": 0,
               "easing": "linear"
              }
             }
            ],
            "label": "2002",
            "method": "animate"
           },
           {
            "args": [
             [
              "2003"
             ],
             {
              "frame": {
               "duration": 0,
               "redraw": false
              },
              "fromcurrent": true,
              "mode": "immediate",
              "transition": {
               "duration": 0,
               "easing": "linear"
              }
             }
            ],
            "label": "2003",
            "method": "animate"
           },
           {
            "args": [
             [
              "2004"
             ],
             {
              "frame": {
               "duration": 0,
               "redraw": false
              },
              "fromcurrent": true,
              "mode": "immediate",
              "transition": {
               "duration": 0,
               "easing": "linear"
              }
             }
            ],
            "label": "2004",
            "method": "animate"
           },
           {
            "args": [
             [
              "2005"
             ],
             {
              "frame": {
               "duration": 0,
               "redraw": false
              },
              "fromcurrent": true,
              "mode": "immediate",
              "transition": {
               "duration": 0,
               "easing": "linear"
              }
             }
            ],
            "label": "2005",
            "method": "animate"
           },
           {
            "args": [
             [
              "2006"
             ],
             {
              "frame": {
               "duration": 0,
               "redraw": false
              },
              "fromcurrent": true,
              "mode": "immediate",
              "transition": {
               "duration": 0,
               "easing": "linear"
              }
             }
            ],
            "label": "2006",
            "method": "animate"
           },
           {
            "args": [
             [
              "2007"
             ],
             {
              "frame": {
               "duration": 0,
               "redraw": false
              },
              "fromcurrent": true,
              "mode": "immediate",
              "transition": {
               "duration": 0,
               "easing": "linear"
              }
             }
            ],
            "label": "2007",
            "method": "animate"
           },
           {
            "args": [
             [
              "2008"
             ],
             {
              "frame": {
               "duration": 0,
               "redraw": false
              },
              "fromcurrent": true,
              "mode": "immediate",
              "transition": {
               "duration": 0,
               "easing": "linear"
              }
             }
            ],
            "label": "2008",
            "method": "animate"
           },
           {
            "args": [
             [
              "2009"
             ],
             {
              "frame": {
               "duration": 0,
               "redraw": false
              },
              "fromcurrent": true,
              "mode": "immediate",
              "transition": {
               "duration": 0,
               "easing": "linear"
              }
             }
            ],
            "label": "2009",
            "method": "animate"
           },
           {
            "args": [
             [
              "2010"
             ],
             {
              "frame": {
               "duration": 0,
               "redraw": false
              },
              "fromcurrent": true,
              "mode": "immediate",
              "transition": {
               "duration": 0,
               "easing": "linear"
              }
             }
            ],
            "label": "2010",
            "method": "animate"
           },
           {
            "args": [
             [
              "2011"
             ],
             {
              "frame": {
               "duration": 0,
               "redraw": false
              },
              "fromcurrent": true,
              "mode": "immediate",
              "transition": {
               "duration": 0,
               "easing": "linear"
              }
             }
            ],
            "label": "2011",
            "method": "animate"
           },
           {
            "args": [
             [
              "2012"
             ],
             {
              "frame": {
               "duration": 0,
               "redraw": false
              },
              "fromcurrent": true,
              "mode": "immediate",
              "transition": {
               "duration": 0,
               "easing": "linear"
              }
             }
            ],
            "label": "2012",
            "method": "animate"
           },
           {
            "args": [
             [
              "2013"
             ],
             {
              "frame": {
               "duration": 0,
               "redraw": false
              },
              "fromcurrent": true,
              "mode": "immediate",
              "transition": {
               "duration": 0,
               "easing": "linear"
              }
             }
            ],
            "label": "2013",
            "method": "animate"
           },
           {
            "args": [
             [
              "2014"
             ],
             {
              "frame": {
               "duration": 0,
               "redraw": false
              },
              "fromcurrent": true,
              "mode": "immediate",
              "transition": {
               "duration": 0,
               "easing": "linear"
              }
             }
            ],
            "label": "2014",
            "method": "animate"
           },
           {
            "args": [
             [
              "2015"
             ],
             {
              "frame": {
               "duration": 0,
               "redraw": false
              },
              "fromcurrent": true,
              "mode": "immediate",
              "transition": {
               "duration": 0,
               "easing": "linear"
              }
             }
            ],
            "label": "2015",
            "method": "animate"
           },
           {
            "args": [
             [
              "2016"
             ],
             {
              "frame": {
               "duration": 0,
               "redraw": false
              },
              "fromcurrent": true,
              "mode": "immediate",
              "transition": {
               "duration": 0,
               "easing": "linear"
              }
             }
            ],
            "label": "2016",
            "method": "animate"
           },
           {
            "args": [
             [
              "2017"
             ],
             {
              "frame": {
               "duration": 0,
               "redraw": false
              },
              "fromcurrent": true,
              "mode": "immediate",
              "transition": {
               "duration": 0,
               "easing": "linear"
              }
             }
            ],
            "label": "2017",
            "method": "animate"
           },
           {
            "args": [
             [
              "2018"
             ],
             {
              "frame": {
               "duration": 0,
               "redraw": false
              },
              "fromcurrent": true,
              "mode": "immediate",
              "transition": {
               "duration": 0,
               "easing": "linear"
              }
             }
            ],
            "label": "2018",
            "method": "animate"
           }
          ],
          "x": 0.1,
          "xanchor": "left",
          "y": 0,
          "yanchor": "top"
         }
        ],
        "template": {
         "data": {
          "bar": [
           {
            "error_x": {
             "color": "#2a3f5f"
            },
            "error_y": {
             "color": "#2a3f5f"
            },
            "marker": {
             "line": {
              "color": "#E5ECF6",
              "width": 0.5
             },
             "pattern": {
              "fillmode": "overlay",
              "size": 10,
              "solidity": 0.2
             }
            },
            "type": "bar"
           }
          ],
          "barpolar": [
           {
            "marker": {
             "line": {
              "color": "#E5ECF6",
              "width": 0.5
             },
             "pattern": {
              "fillmode": "overlay",
              "size": 10,
              "solidity": 0.2
             }
            },
            "type": "barpolar"
           }
          ],
          "carpet": [
           {
            "aaxis": {
             "endlinecolor": "#2a3f5f",
             "gridcolor": "white",
             "linecolor": "white",
             "minorgridcolor": "white",
             "startlinecolor": "#2a3f5f"
            },
            "baxis": {
             "endlinecolor": "#2a3f5f",
             "gridcolor": "white",
             "linecolor": "white",
             "minorgridcolor": "white",
             "startlinecolor": "#2a3f5f"
            },
            "type": "carpet"
           }
          ],
          "choropleth": [
           {
            "colorbar": {
             "outlinewidth": 0,
             "ticks": ""
            },
            "type": "choropleth"
           }
          ],
          "contour": [
           {
            "colorbar": {
             "outlinewidth": 0,
             "ticks": ""
            },
            "colorscale": [
             [
              0,
              "#0d0887"
             ],
             [
              0.1111111111111111,
              "#46039f"
             ],
             [
              0.2222222222222222,
              "#7201a8"
             ],
             [
              0.3333333333333333,
              "#9c179e"
             ],
             [
              0.4444444444444444,
              "#bd3786"
             ],
             [
              0.5555555555555556,
              "#d8576b"
             ],
             [
              0.6666666666666666,
              "#ed7953"
             ],
             [
              0.7777777777777778,
              "#fb9f3a"
             ],
             [
              0.8888888888888888,
              "#fdca26"
             ],
             [
              1,
              "#f0f921"
             ]
            ],
            "type": "contour"
           }
          ],
          "contourcarpet": [
           {
            "colorbar": {
             "outlinewidth": 0,
             "ticks": ""
            },
            "type": "contourcarpet"
           }
          ],
          "heatmap": [
           {
            "colorbar": {
             "outlinewidth": 0,
             "ticks": ""
            },
            "colorscale": [
             [
              0,
              "#0d0887"
             ],
             [
              0.1111111111111111,
              "#46039f"
             ],
             [
              0.2222222222222222,
              "#7201a8"
             ],
             [
              0.3333333333333333,
              "#9c179e"
             ],
             [
              0.4444444444444444,
              "#bd3786"
             ],
             [
              0.5555555555555556,
              "#d8576b"
             ],
             [
              0.6666666666666666,
              "#ed7953"
             ],
             [
              0.7777777777777778,
              "#fb9f3a"
             ],
             [
              0.8888888888888888,
              "#fdca26"
             ],
             [
              1,
              "#f0f921"
             ]
            ],
            "type": "heatmap"
           }
          ],
          "heatmapgl": [
           {
            "colorbar": {
             "outlinewidth": 0,
             "ticks": ""
            },
            "colorscale": [
             [
              0,
              "#0d0887"
             ],
             [
              0.1111111111111111,
              "#46039f"
             ],
             [
              0.2222222222222222,
              "#7201a8"
             ],
             [
              0.3333333333333333,
              "#9c179e"
             ],
             [
              0.4444444444444444,
              "#bd3786"
             ],
             [
              0.5555555555555556,
              "#d8576b"
             ],
             [
              0.6666666666666666,
              "#ed7953"
             ],
             [
              0.7777777777777778,
              "#fb9f3a"
             ],
             [
              0.8888888888888888,
              "#fdca26"
             ],
             [
              1,
              "#f0f921"
             ]
            ],
            "type": "heatmapgl"
           }
          ],
          "histogram": [
           {
            "marker": {
             "pattern": {
              "fillmode": "overlay",
              "size": 10,
              "solidity": 0.2
             }
            },
            "type": "histogram"
           }
          ],
          "histogram2d": [
           {
            "colorbar": {
             "outlinewidth": 0,
             "ticks": ""
            },
            "colorscale": [
             [
              0,
              "#0d0887"
             ],
             [
              0.1111111111111111,
              "#46039f"
             ],
             [
              0.2222222222222222,
              "#7201a8"
             ],
             [
              0.3333333333333333,
              "#9c179e"
             ],
             [
              0.4444444444444444,
              "#bd3786"
             ],
             [
              0.5555555555555556,
              "#d8576b"
             ],
             [
              0.6666666666666666,
              "#ed7953"
             ],
             [
              0.7777777777777778,
              "#fb9f3a"
             ],
             [
              0.8888888888888888,
              "#fdca26"
             ],
             [
              1,
              "#f0f921"
             ]
            ],
            "type": "histogram2d"
           }
          ],
          "histogram2dcontour": [
           {
            "colorbar": {
             "outlinewidth": 0,
             "ticks": ""
            },
            "colorscale": [
             [
              0,
              "#0d0887"
             ],
             [
              0.1111111111111111,
              "#46039f"
             ],
             [
              0.2222222222222222,
              "#7201a8"
             ],
             [
              0.3333333333333333,
              "#9c179e"
             ],
             [
              0.4444444444444444,
              "#bd3786"
             ],
             [
              0.5555555555555556,
              "#d8576b"
             ],
             [
              0.6666666666666666,
              "#ed7953"
             ],
             [
              0.7777777777777778,
              "#fb9f3a"
             ],
             [
              0.8888888888888888,
              "#fdca26"
             ],
             [
              1,
              "#f0f921"
             ]
            ],
            "type": "histogram2dcontour"
           }
          ],
          "mesh3d": [
           {
            "colorbar": {
             "outlinewidth": 0,
             "ticks": ""
            },
            "type": "mesh3d"
           }
          ],
          "parcoords": [
           {
            "line": {
             "colorbar": {
              "outlinewidth": 0,
              "ticks": ""
             }
            },
            "type": "parcoords"
           }
          ],
          "pie": [
           {
            "automargin": true,
            "type": "pie"
           }
          ],
          "scatter": [
           {
            "marker": {
             "colorbar": {
              "outlinewidth": 0,
              "ticks": ""
             }
            },
            "type": "scatter"
           }
          ],
          "scatter3d": [
           {
            "line": {
             "colorbar": {
              "outlinewidth": 0,
              "ticks": ""
             }
            },
            "marker": {
             "colorbar": {
              "outlinewidth": 0,
              "ticks": ""
             }
            },
            "type": "scatter3d"
           }
          ],
          "scattercarpet": [
           {
            "marker": {
             "colorbar": {
              "outlinewidth": 0,
              "ticks": ""
             }
            },
            "type": "scattercarpet"
           }
          ],
          "scattergeo": [
           {
            "marker": {
             "colorbar": {
              "outlinewidth": 0,
              "ticks": ""
             }
            },
            "type": "scattergeo"
           }
          ],
          "scattergl": [
           {
            "marker": {
             "colorbar": {
              "outlinewidth": 0,
              "ticks": ""
             }
            },
            "type": "scattergl"
           }
          ],
          "scattermapbox": [
           {
            "marker": {
             "colorbar": {
              "outlinewidth": 0,
              "ticks": ""
             }
            },
            "type": "scattermapbox"
           }
          ],
          "scatterpolar": [
           {
            "marker": {
             "colorbar": {
              "outlinewidth": 0,
              "ticks": ""
             }
            },
            "type": "scatterpolar"
           }
          ],
          "scatterpolargl": [
           {
            "marker": {
             "colorbar": {
              "outlinewidth": 0,
              "ticks": ""
             }
            },
            "type": "scatterpolargl"
           }
          ],
          "scatterternary": [
           {
            "marker": {
             "colorbar": {
              "outlinewidth": 0,
              "ticks": ""
             }
            },
            "type": "scatterternary"
           }
          ],
          "surface": [
           {
            "colorbar": {
             "outlinewidth": 0,
             "ticks": ""
            },
            "colorscale": [
             [
              0,
              "#0d0887"
             ],
             [
              0.1111111111111111,
              "#46039f"
             ],
             [
              0.2222222222222222,
              "#7201a8"
             ],
             [
              0.3333333333333333,
              "#9c179e"
             ],
             [
              0.4444444444444444,
              "#bd3786"
             ],
             [
              0.5555555555555556,
              "#d8576b"
             ],
             [
              0.6666666666666666,
              "#ed7953"
             ],
             [
              0.7777777777777778,
              "#fb9f3a"
             ],
             [
              0.8888888888888888,
              "#fdca26"
             ],
             [
              1,
              "#f0f921"
             ]
            ],
            "type": "surface"
           }
          ],
          "table": [
           {
            "cells": {
             "fill": {
              "color": "#EBF0F8"
             },
             "line": {
              "color": "white"
             }
            },
            "header": {
             "fill": {
              "color": "#C8D4E3"
             },
             "line": {
              "color": "white"
             }
            },
            "type": "table"
           }
          ]
         },
         "layout": {
          "annotationdefaults": {
           "arrowcolor": "#2a3f5f",
           "arrowhead": 0,
           "arrowwidth": 1
          },
          "autotypenumbers": "strict",
          "coloraxis": {
           "colorbar": {
            "outlinewidth": 0,
            "ticks": ""
           }
          },
          "colorscale": {
           "diverging": [
            [
             0,
             "#8e0152"
            ],
            [
             0.1,
             "#c51b7d"
            ],
            [
             0.2,
             "#de77ae"
            ],
            [
             0.3,
             "#f1b6da"
            ],
            [
             0.4,
             "#fde0ef"
            ],
            [
             0.5,
             "#f7f7f7"
            ],
            [
             0.6,
             "#e6f5d0"
            ],
            [
             0.7,
             "#b8e186"
            ],
            [
             0.8,
             "#7fbc41"
            ],
            [
             0.9,
             "#4d9221"
            ],
            [
             1,
             "#276419"
            ]
           ],
           "sequential": [
            [
             0,
             "#0d0887"
            ],
            [
             0.1111111111111111,
             "#46039f"
            ],
            [
             0.2222222222222222,
             "#7201a8"
            ],
            [
             0.3333333333333333,
             "#9c179e"
            ],
            [
             0.4444444444444444,
             "#bd3786"
            ],
            [
             0.5555555555555556,
             "#d8576b"
            ],
            [
             0.6666666666666666,
             "#ed7953"
            ],
            [
             0.7777777777777778,
             "#fb9f3a"
            ],
            [
             0.8888888888888888,
             "#fdca26"
            ],
            [
             1,
             "#f0f921"
            ]
           ],
           "sequentialminus": [
            [
             0,
             "#0d0887"
            ],
            [
             0.1111111111111111,
             "#46039f"
            ],
            [
             0.2222222222222222,
             "#7201a8"
            ],
            [
             0.3333333333333333,
             "#9c179e"
            ],
            [
             0.4444444444444444,
             "#bd3786"
            ],
            [
             0.5555555555555556,
             "#d8576b"
            ],
            [
             0.6666666666666666,
             "#ed7953"
            ],
            [
             0.7777777777777778,
             "#fb9f3a"
            ],
            [
             0.8888888888888888,
             "#fdca26"
            ],
            [
             1,
             "#f0f921"
            ]
           ]
          },
          "colorway": [
           "#636efa",
           "#EF553B",
           "#00cc96",
           "#ab63fa",
           "#FFA15A",
           "#19d3f3",
           "#FF6692",
           "#B6E880",
           "#FF97FF",
           "#FECB52"
          ],
          "font": {
           "color": "#2a3f5f"
          },
          "geo": {
           "bgcolor": "white",
           "lakecolor": "white",
           "landcolor": "#E5ECF6",
           "showlakes": true,
           "showland": true,
           "subunitcolor": "white"
          },
          "hoverlabel": {
           "align": "left"
          },
          "hovermode": "closest",
          "mapbox": {
           "style": "light"
          },
          "paper_bgcolor": "white",
          "plot_bgcolor": "#E5ECF6",
          "polar": {
           "angularaxis": {
            "gridcolor": "white",
            "linecolor": "white",
            "ticks": ""
           },
           "bgcolor": "#E5ECF6",
           "radialaxis": {
            "gridcolor": "white",
            "linecolor": "white",
            "ticks": ""
           }
          },
          "scene": {
           "xaxis": {
            "backgroundcolor": "#E5ECF6",
            "gridcolor": "white",
            "gridwidth": 2,
            "linecolor": "white",
            "showbackground": true,
            "ticks": "",
            "zerolinecolor": "white"
           },
           "yaxis": {
            "backgroundcolor": "#E5ECF6",
            "gridcolor": "white",
            "gridwidth": 2,
            "linecolor": "white",
            "showbackground": true,
            "ticks": "",
            "zerolinecolor": "white"
           },
           "zaxis": {
            "backgroundcolor": "#E5ECF6",
            "gridcolor": "white",
            "gridwidth": 2,
            "linecolor": "white",
            "showbackground": true,
            "ticks": "",
            "zerolinecolor": "white"
           }
          },
          "shapedefaults": {
           "line": {
            "color": "#2a3f5f"
           }
          },
          "ternary": {
           "aaxis": {
            "gridcolor": "white",
            "linecolor": "white",
            "ticks": ""
           },
           "baxis": {
            "gridcolor": "white",
            "linecolor": "white",
            "ticks": ""
           },
           "bgcolor": "#E5ECF6",
           "caxis": {
            "gridcolor": "white",
            "linecolor": "white",
            "ticks": ""
           }
          },
          "title": {
           "x": 0.05
          },
          "xaxis": {
           "automargin": true,
           "gridcolor": "white",
           "linecolor": "white",
           "ticks": "",
           "title": {
            "standoff": 15
           },
           "zerolinecolor": "white",
           "zerolinewidth": 2
          },
          "yaxis": {
           "automargin": true,
           "gridcolor": "white",
           "linecolor": "white",
           "ticks": "",
           "title": {
            "standoff": 15
           },
           "zerolinecolor": "white",
           "zerolinewidth": 2
          }
         }
        },
        "title": {
         "font": {
          "size": 20
         },
         "text": "<b> Population Growth Trend in Under War Countries of World </b>"
        },
        "updatemenus": [
         {
          "buttons": [
           {
            "args": [
             null,
             {
              "frame": {
               "duration": 500,
               "redraw": false
              },
              "fromcurrent": true,
              "mode": "immediate",
              "transition": {
               "duration": 500,
               "easing": "linear"
              }
             }
            ],
            "label": "&#9654;",
            "method": "animate"
           },
           {
            "args": [
             [
              null
             ],
             {
              "frame": {
               "duration": 0,
               "redraw": false
              },
              "fromcurrent": true,
              "mode": "immediate",
              "transition": {
               "duration": 0,
               "easing": "linear"
              }
             }
            ],
            "label": "&#9724;",
            "method": "animate"
           }
          ],
          "direction": "left",
          "pad": {
           "r": 10,
           "t": 70
          },
          "showactive": false,
          "type": "buttons",
          "x": 0.1,
          "xanchor": "right",
          "y": 0,
          "yanchor": "top"
         }
        ],
        "xaxis": {
         "anchor": "y",
         "domain": [
          0,
          1
         ],
         "title": {
          "text": "Under War Countries"
         }
        },
        "yaxis": {
         "anchor": "x",
         "domain": [
          0,
          1
         ],
         "range": [
          0,
          60000
         ],
         "title": {
          "text": "Population (1000 persons)"
         }
        }
       }
      }
     },
     "metadata": {},
     "output_type": "display_data"
    }
   ],
   "source": [
    "import pandas as pd\n",
    "import plotly.express as px\n",
    "UWC_data=pd.read_csv(\"FAOSTAT_data_1-12-2022.csv\")\n",
    "\n",
    "fig=px.scatter(UWC_data, x=\"Area\", y=\"Value\", animation_frame=\"Year\", animation_group=\"Area\",\n",
    "           size=\"Value\", color=\"Area Code (FAO)\", hover_name=\"Area\",\n",
    "           size_max=55, range_y=[0,60000],\n",
    "           labels={ \"Value\": \"Population (1000 persons)\",\n",
    "                 \"Area\": \"Under War Countries\"\n",
    "               })\n",
    "fig.update_layout(title={'font': {'size': 20}})\n",
    "fig.update_layout(title={'text': '<b> Population Growth Trend in Under War Countries of World </b>'})\n",
    "\n",
    "fig.show()"
   ]
  },
  {
   "cell_type": "code",
   "execution_count": 5,
   "id": "10650e83",
   "metadata": {},
   "outputs": [],
   "source": [
    "# import numpy as np\n",
    "# import pandas as pd\n",
    "# import seaborn as sns\n",
    "# import matplotlib.pyplot as plt\n",
    "# import plotly.express as px\n",
    "# sns.set_theme(style=\"whitegrid\")\n",
    "\n",
    "# wew_data=pd.read_csv(\"wew_percent_data_1-13-2022.csv\")\n",
    "# wew_data=wew_data.sort_values(by=\"Year\")\n",
    "# fig = px.scatter(wew_data, x=\"Year\",y=\"Value\",color=\"Area\",\n",
    "#                   hover_data=['Value'])\n",
    "# fig.show()"
   ]
  }
 ],
 "metadata": {
  "kernelspec": {
   "display_name": "Python 3 (ipykernel)",
   "language": "python",
   "name": "python3"
  },
  "language_info": {
   "codemirror_mode": {
    "name": "ipython",
    "version": 3
   },
   "file_extension": ".py",
   "mimetype": "text/x-python",
   "name": "python",
   "nbconvert_exporter": "python",
   "pygments_lexer": "ipython3",
   "version": "3.9.10"
  }
 },
 "nbformat": 4,
 "nbformat_minor": 5
}
